{
 "cells": [
  {
   "cell_type": "code",
   "execution_count": null,
   "metadata": {},
   "outputs": [],
   "source": [
    "import sys\n",
    "import time\n",
    "import tornado\n",
    "from transactions import *\n",
    "from blockchain_state import *\n",
    "from blocks import *\n",
    "from miner import Miner\n",
    "from node import Node\n",
    "from connections import run_server, remote_connection\n",
    "\n",
    "from cryptography.hazmat.backends import default_backend\n",
    "from cryptography.hazmat.primitives import serialization\n",
    "\n",
    "import nest_asyncio\n",
    "from cryptography.hazmat.primitives.serialization import load_pem_private_key"
   ]
  },
  {
   "cell_type": "code",
   "execution_count": null,
   "metadata": {},
   "outputs": [],
   "source": [
    "def calculate_sha1_hash(public_key):\n",
    "    digest = hashes.Hash(hashes.SHA1(),default_backend())\n",
    "    digest.update(public_key)\n",
    "    return digest.finalize()\n",
    "\n",
    "def load_key(filename):\n",
    "    with open(filename, 'rb') as pem_in:\n",
    "        pemlines = pem_in.read()\n",
    "    private_key = load_pem_private_key(pemlines, None, default_backend())\n",
    "    return private_key\n",
    "\n",
    "PR_key=load_key(\"/Users/foulds/code/dsm070-2022-apr/topic_07/miner_private_key.pem\")\n",
    "pub_key=PR_key.public_key()\n",
    "\n",
    "pub_key_der=pub_key.public_bytes(  \n",
    "        encoding=serialization.Encoding.DER,  \n",
    "        format=serialization.PublicFormat.SubjectPublicKeyInfo,  \n",
    "    )\n",
    "\n",
    "addr=calculate_sha1_hash(pub_key_der)\n",
    "trans = create_signed_transaction(PR_key, bytes.fromhex('bcf177e59d90d6c647918a0882c672be8b1fe289'), 100, 10, 0)\n",
    "trans.verify(\n",
    "    sender_balance=12660000,\n",
    "    sender_previous_nonce=-1)"
   ]
  },
  {
   "cell_type": "code",
   "execution_count": null,
   "metadata": {},
   "outputs": [],
   "source": [
    "REMOTE_NODES = [\"ws://node.zimcoin.org:46030/\"]\n",
    "node = Node.start(\"./blocks_trans.sqlite\").proxy()\n",
    "\n",
    "for remote in REMOTE_NODES:\n",
    "    remote_connection(node, remote)"
   ]
  },
  {
   "cell_type": "code",
   "execution_count": 9,
   "metadata": {},
   "outputs": [
    {
     "name": "stdout",
     "output_type": "stream",
     "text": [
      "Trying to send transaction...\n",
      "Transaction can be added to mempool\n",
      "Sending transactions [<transactions.Transaction object at 0x107620490>]\n",
      "Sending {\"type\": \"transactions\", \"transactions\": [{\"sender_hash\": \"735c7388347519116daded418c8fe5846b5e5d6d\", \"recipient_hash\": \"bcf177e59d90d6c647918a0882c672be8b1fe289\", \"sender_public_key\": \"3056301006072a8648ce3d020106052b8104000a03420004b12a1436344f23dfcd472e0f7aac026346620bf937bfde11bf5bd74d0e825815741e7401c507dc9d12e2024f90a9e7f250777a77391ee50c0c0acd8e306a171b\", \"amount\": 100, \"fee\": 10, \"nonce\": 0, \"signature\": \"30450221008371d18886a0bc5f8d03966f81f7011df460bfaf81eab8cff078fbb142b85d7502207dc246c7b3500b64c9f4beb04f466d04d07accfbd9f773b80e92705f2be882ab\", \"txid\": \"dc97d7d6e9efb6a7c9e03f9010c1dfe09ad896de41b5543eda8105b1d8b0acd1\"}]}\n"
     ]
    },
    {
     "name": "stdout",
     "output_type": "stream",
     "text": [
      "Got message {'type': 'transactions', 'transactions': [{'sender_hash': '735c7388347519116daded418c8fe5846b5e5d6d', 'recipient_hash': 'bcf177e59d90d6c647918a0882c672be8b1fe289', 'sender_public_key': '3056301006072a8648ce3d020106052b8104000a03420004b12a1436344f23dfcd472e0f7aac026346620bf937bfde11bf5bd74d0e825815741e7401c507dc9d12e2024f90a9e7f250777a77391ee50c0c0acd8e306a171b', 'amount': 100, 'fee': 10, 'nonce': 0, 'signature': '30450221008371d18886a0bc5f8d03966f81f7011df460bfaf81eab8cff078fbb142b85d7502207dc246c7b3500b64c9f4beb04f466d04d07accfbd9f773b80e92705f2be882ab', 'txid': 'dc97d7d6e9efb6a7c9e03f9010c1dfe09ad896de41b5543eda8105b1d8b0acd1'}]}\n",
      "Transaction can be added to mempool\n",
      "Got message {'type': 'blocks', 'blocks': [{'previous': '000000c423ef1fd66971c62f37e8c8bd8a046ea2aa1297a315bdb59ea43a41f0', 'height': 5266, 'miner': 'c9dfeed021097b0752f9bc18642152af5742bb4b', 'transactions': [], 'timestamp': 1660190355, 'difficulty': 8997480, 'block_id': '000000910f709d3cca43bfd21b77a97863631c2585397588cb894a5d850624c5', 'nonce': 315316937520}]}\n",
      "Sending {\"type\": \"blocks\", \"blocks\": [{\"previous\": \"000000c423ef1fd66971c62f37e8c8bd8a046ea2aa1297a315bdb59ea43a41f0\", \"height\": 5266, \"miner\": \"c9dfeed021097b0752f9bc18642152af5742bb4b\", \"transactions\": [], \"timestamp\": 1660190355, \"difficulty\": 8997480, \"block_id\": \"000000910f709d3cca43bfd21b77a97863631c2585397588cb894a5d850624c5\", \"nonce\": 315316937520}]}\n",
      "Sending {\"type\": \"update_state\", \"height\": 5267, \"block_id\": \"000000910f709d3cca43bfd21b77a97863631c2585397588cb894a5d850624c5\", \"total_difficulty\": 9368690817080}\n",
      "Got message {'type': 'update_state', 'height': 5267, 'block_id': '000000910f709d3cca43bfd21b77a97863631c2585397588cb894a5d850624c5', 'total_difficulty': 9368690817080}\n"
     ]
    }
   ],
   "source": [
    "print('Trying to send transaction...')\n",
    "node.received_transactions([trans]).get()\n",
    "\n",
    "# for connection in node.connections.get():\n",
    "#     print('connection')\n",
    "#     #connection.send_transactions([trans])\n",
    "\n",
    "# # print('Going into tornado loop')\n",
    "# #tornado.ioloop.IOLoop.current().start()"
   ]
  }
 ],
 "metadata": {
  "kernelspec": {
   "display_name": "Python 3.8.9 ('opencl_brute')",
   "language": "python",
   "name": "python3"
  },
  "language_info": {
   "codemirror_mode": {
    "name": "ipython",
    "version": 3
   },
   "file_extension": ".py",
   "mimetype": "text/x-python",
   "name": "python",
   "nbconvert_exporter": "python",
   "pygments_lexer": "ipython3",
   "version": "3.8.9"
  },
  "orig_nbformat": 4,
  "vscode": {
   "interpreter": {
    "hash": "af52e0220ee14da2c93d3fc900d8dec377d85b811dd8b2ff7872eb4b0c0fde13"
   }
  }
 },
 "nbformat": 4,
 "nbformat_minor": 2
}
