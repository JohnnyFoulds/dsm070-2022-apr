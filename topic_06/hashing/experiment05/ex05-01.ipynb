{
 "cells": [
  {
   "cell_type": "markdown",
   "metadata": {},
   "source": [
    "# Experiment 05-01"
   ]
  },
  {
   "cell_type": "code",
   "execution_count": 1,
   "metadata": {},
   "outputs": [],
   "source": [
    "import numpy as np\n",
    "import hashlib\n",
    "from binascii import hexlify\n",
    "import pyopencl as cl\n",
    "from Library.opencl_information import opencl_information"
   ]
  },
  {
   "cell_type": "markdown",
   "metadata": {},
   "source": [
    "## Show the available Platforms"
   ]
  },
  {
   "cell_type": "code",
   "execution_count": 2,
   "metadata": {},
   "outputs": [
    {
     "name": "stdout",
     "output_type": "stream",
     "text": [
      "\n",
      "============================================================\n",
      "OpenCL Platforms and Devices\n",
      "============================================================\n",
      "Platform 0 - Name: Apple\n",
      "Platform 0 - Vendor: Apple\n",
      "Platform 0 - Version: OpenCL 1.2 (Apr 19 2022 18:44:44)\n",
      "Platform 0 - Profile: FULL_PROFILE\n",
      " --------------------------------------------------------\n",
      " Device - Name: Apple M1\n",
      " Device - Type: ALL | GPU\n",
      " Device - Max Clock Speed: 1000 Mhz\n",
      " Device - Compute Units: 8\n",
      " Device - Local Memory: 32 KB\n",
      " Device - Constant Memory: 1048576 KB\n",
      " Device - Global Memory: 5 GB\n",
      " Device - Max Buffer/Image Size: 1024 MB\n",
      " Device - Max Work Group Size: 256\n",
      "\n",
      "\n"
     ]
    }
   ],
   "source": [
    "info = opencl_information()\n",
    "info.print_full_info()"
   ]
  },
  {
   "cell_type": "markdown",
   "metadata": {},
   "source": [
    "## Configure the OpenCL Context"
   ]
  },
  {
   "cell_type": "code",
   "execution_count": 3,
   "metadata": {},
   "outputs": [],
   "source": [
    "platform_number = 0\n",
    "device_number = 0\n",
    "\n",
    "cl_devices = cl.get_platforms()[platform_number].get_devices()\n",
    "cl_ctx = cl.Context(cl_devices)\n",
    "cl_queue = cl.CommandQueue(cl_ctx, cl_devices[device_number])"
   ]
  },
  {
   "cell_type": "markdown",
   "metadata": {},
   "source": [
    "## Compile the Program"
   ]
  },
  {
   "cell_type": "code",
   "execution_count": 4,
   "metadata": {},
   "outputs": [],
   "source": [
    "def build_program(program_files : list, cl_ctx : cl.Context,\n",
    "        build_options=[]) -> cl.Program:\n",
    "    \"\"\"\n",
    "    Build a program from an OpenCL source file.\n",
    "\n",
    "    Parameters\n",
    "    ----------\n",
    "    program_files : list\n",
    "        The path to the OpenCL source files.\n",
    "    cl_ctx : pyopencl.Context\n",
    "        The context to build the program with.\n",
    "    build_options : list of str\n",
    "        The build options to use.\n",
    "\n",
    "    Returns\n",
    "    -------\n",
    "    pyopencl.Program\n",
    "    \"\"\"\n",
    "    program_source = ''\n",
    "\n",
    "    for cl_file in program_files:\n",
    "        with open(cl_file, 'r') as cl_file:\n",
    "            file_source = cl_file.read()\n",
    "            program_source += '\\n' + file_source\n",
    "\n",
    "    program_source = cl.Program(cl_ctx, program_source)\n",
    "    program = program_source.build(options=build_options)\n",
    "            \n",
    "    return program"
   ]
  },
  {
   "cell_type": "code",
   "execution_count": 5,
   "metadata": {},
   "outputs": [
    {
     "name": "stdout",
     "output_type": "stream",
     "text": [
      "Kernel Names: hash_main;get_single_hash;get_random_numbers;get_random_string;get_single_hash_nonce;mine_nonce\n"
     ]
    }
   ],
   "source": [
    "cl_program_files = [\n",
    "    'Library/worker/sha256.cl',\n",
    "    'Library/worker/zimcoin.cl',\n",
    "]\n",
    "\n",
    "cl_program = build_program(cl_program_files, cl_ctx)\n",
    "\n",
    "# show the kernel names\n",
    "program_kernel_names = cl_program.get_info(cl.program_info.KERNEL_NAMES)\n",
    "print(f\"Kernel Names: {program_kernel_names}\")"
   ]
  },
  {
   "cell_type": "markdown",
   "metadata": {},
   "source": [
    "## Initial Tests"
   ]
  },
  {
   "cell_type": "markdown",
   "metadata": {},
   "source": [
    "### Single Hash"
   ]
  },
  {
   "cell_type": "code",
   "execution_count": 6,
   "metadata": {},
   "outputs": [
    {
     "name": "stdout",
     "output_type": "stream",
     "text": [
      "Plaintext: 665782\n",
      "Leading Zeros: 7\n",
      "CL result      : b'0000000399c6aea5ad0c709a9bc331a3ed6494702bd1d129d8c817a0257a1462'\n",
      "Correct result : b'0000000399c6aea5ad0c709a9bc331a3ed6494702bd1d129d8c817a0257a1462'\n",
      "CL output      : [  50331648 2779694745 2591034541 2737947547 1888773357  701616427\n",
      " 2685913304 1645509157]\n",
      "CL output      : [  0   0   0   3 153 198 174 165 173  12 112 154 155 195  49 163 237 100\n",
      " 148 112  43 209 209  41 216 200  23 160  37 122  20  98]\n",
      "CL output      : b'\\x00\\x00\\x00\\x03\\x99\\xc6\\xae\\xa5\\xad\\x0cp\\x9a\\x9b\\xc31\\xa3\\xedd\\x94p+\\xd1\\xd1)\\xd8\\xc8\\x17\\xa0%z\\x14b'\n"
     ]
    }
   ],
   "source": [
    "# the plaintext to hash\n",
    "#plaintext = 'bells hel the quick brown fox jumps over the lazy dog 12356'\n",
    "plaintext = '665782'\n",
    "#plaintext = 'this is a description of the latest block' + '395707976'\n",
    "#plaintext = '120Make America Great Again'\n",
    "#plaintext = '69817Make America Great Again'\n",
    "plaintext_bytes = np.frombuffer(plaintext.encode('utf-8'), dtype=np.uint8)\n",
    "plaintext_length = np.int32(len(plaintext_bytes))\n",
    "\n",
    "# the hash output\n",
    "hash_output = np.zeros(8, dtype=np.uint32)\n",
    "leading_zeros = np.zeros(1, dtype=np.uint8)\n",
    "\n",
    "# allocate the memory for the variables on the device\n",
    "cl_plaintext_bytes = cl.Buffer(\n",
    "    cl_ctx,\n",
    "    cl.mem_flags.READ_ONLY | cl.mem_flags.COPY_HOST_PTR,\n",
    "    hostbuf=plaintext_bytes)\n",
    "\n",
    "cl_plaintext_length = cl.Buffer(\n",
    "    cl_ctx,\n",
    "    cl.mem_flags.READ_ONLY | cl.mem_flags.COPY_HOST_PTR,\n",
    "    hostbuf=plaintext_length)\n",
    "\n",
    "cl_hash_output = cl.Buffer(\n",
    "    cl_ctx,\n",
    "    cl.mem_flags.WRITE_ONLY,\n",
    "    hash_output.nbytes)\n",
    "\n",
    "cl_leading_zeros = cl.Buffer(\n",
    "    cl_ctx,\n",
    "    cl.mem_flags.WRITE_ONLY,\n",
    "    leading_zeros.nbytes)\n",
    "\n",
    "# execute the program\n",
    "cl_program.get_single_hash(\n",
    "    cl_queue, (1,), None,\n",
    "    cl_plaintext_bytes,\n",
    "    cl_plaintext_length,\n",
    "    cl_hash_output,\n",
    "    cl_leading_zeros)\n",
    "\n",
    "# get the results\n",
    "cl.enqueue_copy(cl_queue, hash_output, cl_hash_output)\n",
    "cl.enqueue_copy(cl_queue, leading_zeros, cl_leading_zeros)\n",
    "\n",
    "# print the results\n",
    "print(\"Plaintext: %s\" % plaintext)\n",
    "print(\"Leading Zeros: %d\" % leading_zeros[0])\n",
    "print(\"CL result      : %s\" % hexlify(hash_output))\n",
    "print(\"Correct result : %s\" % hexlify(hashlib.sha256(plaintext.encode('utf-8')).digest()))\n",
    "print(\"CL output      : %s\" % hash_output)\n",
    "print(\"CL output      : %s\" % np.frombuffer(hash_output, dtype=np.uint8))\n",
    "print(\"CL output      : %s\" % hash_output.tobytes())\n",
    "\n",
    "assert hexlify(hash_output) == hexlify(hashlib.sha256(plaintext.encode('utf-8')).digest())\n"
   ]
  },
  {
   "cell_type": "markdown",
   "metadata": {},
   "source": [
    "### Random String Generation"
   ]
  },
  {
   "cell_type": "code",
   "execution_count": 7,
   "metadata": {},
   "outputs": [
    {
     "name": "stdout",
     "output_type": "stream",
     "text": [
      "Seed: 3984062511\n",
      "Result: [102  57  97  52]\n",
      "Result String: b'f9a4'\n"
     ]
    }
   ],
   "source": [
    "# set up the variables to generate the random numbers\n",
    "seed = np.random.randint(0, np.iinfo(np.uint32).max, dtype=np.uint32)\n",
    "start = np.uint8(32)\n",
    "end = np.uint8(126)\n",
    "length = np.uint32(4)\n",
    "result = np.zeros(length, dtype=np.uint8)\n",
    "\n",
    "# allocate the memory for the variables on the device\n",
    "cl_seed = cl.Buffer(cl_ctx, cl.mem_flags.READ_ONLY | cl.mem_flags.COPY_HOST_PTR, hostbuf=seed)\n",
    "cl_start = cl.Buffer(cl_ctx, cl.mem_flags.READ_ONLY | cl.mem_flags.COPY_HOST_PTR, hostbuf=start)\n",
    "cl_end = cl.Buffer(cl_ctx, cl.mem_flags.READ_ONLY | cl.mem_flags.COPY_HOST_PTR, hostbuf=end)\n",
    "cl_len = cl.Buffer(cl_ctx, cl.mem_flags.READ_ONLY | cl.mem_flags.COPY_HOST_PTR, hostbuf=length)\n",
    "cl_result = cl.Buffer(cl_ctx, cl.mem_flags.WRITE_ONLY, result.nbytes)\n",
    "\n",
    "# execute the program\n",
    "cl_program.get_random_numbers(\n",
    "    cl_queue, (1,), None,\n",
    "    cl_seed,\n",
    "    cl_start,\n",
    "    cl_end,\n",
    "    cl_len,\n",
    "    cl_result)\n",
    "\n",
    "# get the results\n",
    "cl.enqueue_copy(cl_queue, result, cl_result)\n",
    "\n",
    "# print the results\n",
    "print(f\"Seed: {seed}\")\n",
    "print(f\"Result: {result}\")\n",
    "print(f\"Result String: {result.tobytes()}\")"
   ]
  },
  {
   "cell_type": "code",
   "execution_count": 8,
   "metadata": {},
   "outputs": [
    {
     "name": "stdout",
     "output_type": "stream",
     "text": [
      "Length: [1]\n",
      "Result: [125   0   0   0   0   0   0   0   0   0   0   0   0   0   0   0]\n",
      "Result String: b'}\\x00\\x00\\x00\\x00\\x00\\x00\\x00\\x00\\x00\\x00\\x00\\x00\\x00\\x00\\x00'\n"
     ]
    }
   ],
   "source": [
    "# set up the variables to generate the random numbers\n",
    "seed = np.random.randint(0, np.iinfo(np.uint32).max, dtype=np.uint32)\n",
    "result = np.zeros(shape=16, dtype=np.uint8)\n",
    "length = np.zeros(shape=(1,), dtype=np.uint8)\n",
    "\n",
    "# allocate the memory for the variables on the device\n",
    "cl_seed = cl.Buffer(cl_ctx, cl.mem_flags.READ_ONLY | cl.mem_flags.COPY_HOST_PTR, hostbuf=seed)\n",
    "cl_result = cl.Buffer(cl_ctx, cl.mem_flags.WRITE_ONLY, result.nbytes)\n",
    "cl_len = cl.Buffer(cl_ctx, cl.mem_flags.WRITE_ONLY, length.nbytes)\n",
    "\n",
    "# execute the program\n",
    "cl_program.get_random_string(\n",
    "    cl_queue, (1,), None,\n",
    "    cl_seed,\n",
    "    cl_result,\n",
    "    cl_len)\n",
    "\n",
    "# get the results\n",
    "cl.enqueue_copy(cl_queue, length, cl_len)\n",
    "cl.enqueue_copy(cl_queue, result, cl_result)\n",
    "\n",
    "# print the results\n",
    "print(f\"Length: {length}\")\n",
    "print(f\"Result: {result}\")\n",
    "print(f\"Result String: {result.tobytes()}\")"
   ]
  },
  {
   "cell_type": "markdown",
   "metadata": {},
   "source": [
    "## Test get_single_hash_nonce"
   ]
  },
  {
   "cell_type": "code",
   "execution_count": 9,
   "metadata": {},
   "outputs": [
    {
     "name": "stdout",
     "output_type": "stream",
     "text": [
      "Seed: 4285531849\n",
      "Plaintext: this is a description of the latest block\n",
      "Nonce: [110  61  95  66 100  44  78  49  83   0   0   0   0   0   0   0]\n",
      "Nonce Length: 9\n",
      "Nonce String: n=_Bd,N1S\n",
      "Hash Output: [ 350462665 1862737242 3443178250 3690290013 1737274487 2638484953\n",
      " 1767871694 3392916186]\n",
      "Hash Output string: b'c9a2e3145a1d076f0abb3acd5d5bf5db77b48c67d915449dce945f69daca3bca'\n",
      "Correct result    : b'c9a2e3145a1d076f0abb3acd5d5bf5db77b48c67d915449dce945f69daca3bca'\n"
     ]
    }
   ],
   "source": [
    "# set up the variables to generate the random numbers\n",
    "plaintext = 'this is a description of the latest block'\n",
    "plaintext_bytes = np.frombuffer(plaintext.encode('utf-8'), dtype=np.uint8)\n",
    "plaintext_length = np.int32(len(plaintext_bytes))\n",
    "\n",
    "seed = np.random.randint(0, np.iinfo(np.uint32).max, dtype=np.uint32)\n",
    "nonce = np.zeros(shape=16, dtype=np.uint8)\n",
    "nonce_len = np.zeros(shape=1, dtype=np.uint8)\n",
    "hash = np.zeros(8, dtype=np.uint32)\n",
    "\n",
    "# allocate the memory for the variables on the device\n",
    "cl_seed = cl.Buffer(cl_ctx, cl.mem_flags.READ_ONLY | cl.mem_flags.COPY_HOST_PTR, hostbuf=seed)\n",
    "cl_plaintext_bytes = cl.Buffer(cl_ctx, cl.mem_flags.READ_ONLY | cl.mem_flags.COPY_HOST_PTR, hostbuf=plaintext_bytes)\n",
    "cl_plaintext_length = cl.Buffer(cl_ctx, cl.mem_flags.READ_ONLY | cl.mem_flags.COPY_HOST_PTR, hostbuf=plaintext_length)\n",
    "cl_nonce = cl.Buffer(cl_ctx, cl.mem_flags.WRITE_ONLY, nonce.nbytes)\n",
    "cl_nonce_len = cl.Buffer(cl_ctx, cl.mem_flags.WRITE_ONLY, nonce_len.nbytes)\n",
    "cl_hash_output = cl.Buffer(cl_ctx, cl.mem_flags.WRITE_ONLY, hash_output.nbytes)\n",
    "\n",
    "# execute the program\n",
    "cl_program.get_single_hash_nonce(\n",
    "    cl_queue, (1,), None,\n",
    "    cl_seed,\n",
    "    cl_plaintext_bytes,\n",
    "    cl_plaintext_length,\n",
    "    cl_nonce,\n",
    "    cl_nonce_len,\n",
    "    cl_hash_output)\n",
    "\n",
    "# get the results\n",
    "cl.enqueue_copy(cl_queue, nonce, cl_nonce)\n",
    "cl.enqueue_copy(cl_queue, nonce_len, cl_nonce_len)\n",
    "cl.enqueue_copy(cl_queue, hash_output, cl_hash_output)\n",
    "\n",
    "nonce_str = nonce[:nonce_len[0]].tobytes().decode('UTF-8')\n",
    "\n",
    "# print the results\n",
    "print(\"Seed: %s\" % seed)\n",
    "print(\"Plaintext: %s\" % plaintext)\n",
    "print(\"Nonce: %s\" % nonce)\n",
    "print(\"Nonce Length: %s\" % nonce_len[0])\n",
    "print(\"Nonce String: %s\" % nonce_str)\n",
    "print(\"Hash Output: %s\" % hash_output)\n",
    "print(\"Hash Output string: %s\" % hexlify(hash_output))\n",
    "#print(\"No Nonce          : %s\" % hexlify(hashlib.sha256((plaintext).encode('utf-8')).digest()))\n",
    "print(\"Correct result    : %s\" % hexlify(hashlib.sha256((plaintext+nonce_str).encode('utf-8')).digest()))\n",
    "\n",
    "assert hexlify(hash_output) == hexlify(hashlib.sha256((plaintext+nonce_str).encode('utf-8')).digest())\n"
   ]
  },
  {
   "cell_type": "markdown",
   "metadata": {},
   "source": [
    "## Mine Nonce"
   ]
  },
  {
   "cell_type": "code",
   "execution_count": 10,
   "metadata": {},
   "outputs": [
    {
     "name": "stdout",
     "output_type": "stream",
     "text": [
      "   0: [ 0]                                                                                  \n",
      "   1: [ 1]                u 06b19cf0345165d8dedb5de1a06883d2030fe94ca75fab2bdb2af025235149c8\n",
      "   2: [ 4]             fO\"j 006b675116c9d9962fb15a3eba4f24e07db5c869582ae18aa0548d640e04adb6\n",
      "   3: [ 4]             |?w: 00066ab5b34d689799818be343484fb0664fa9119f224c61210e7b1800e7dc56\n",
      "   4: [ 6]           N`3]0B 0000a7673402b06bb264d372e857b18100c7e5548c2f1947025299ee39fef915\n",
      "   5: [ 0]                                                                                  \n",
      "   6: [ 0]                                                                                  \n",
      "   7: [ 0]                                                                                  \n",
      "   8: [ 0]                                                                                  \n",
      "   9: [ 0]                                                                                  \n",
      "  10: [ 0]                                                                                  \n",
      "  11: [ 0]                                                                                  \n",
      "  12: [ 0]                                                                                  \n",
      "  13: [ 0]                                                                                  \n",
      "  14: [ 0]                                                                                  \n",
      "  15: [ 0]                                                                                  \n",
      "  16: [ 0]                                                                                  \n",
      "  17: [ 0]                                                                                  \n",
      "  18: [ 0]                                                                                  \n",
      "  19: [ 0]                                                                                  \n",
      "  20: [ 0]                                                                                  \n",
      "  21: [ 0]                                                                                  \n",
      "  22: [ 0]                                                                                  \n",
      "  23: [ 0]                                                                                  \n",
      "  24: [ 0]                                                                                  \n",
      "  25: [ 0]                                                                                  \n",
      "  26: [ 0]                                                                                  \n",
      "  27: [ 0]                                                                                  \n",
      "  28: [ 0]                                                                                  \n",
      "  29: [ 0]                                                                                  \n",
      "  30: [ 0]                                                                                  \n",
      "  31: [ 0]                                                                                  \n",
      "  32: [ 0]                                                                                  \n",
      "  33: [ 0]                                                                                  \n",
      "  34: [ 0]                                                                                  \n",
      "  35: [ 0]                                                                                  \n",
      "  36: [ 0]                                                                                  \n",
      "  37: [ 0]                                                                                  \n",
      "  38: [ 0]                                                                                  \n",
      "  39: [ 0]                                                                                  \n",
      "  40: [ 0]                                                                                  \n",
      "  41: [ 0]                                                                                  \n",
      "  42: [ 0]                                                                                  \n",
      "  43: [ 0]                                                                                  \n",
      "  44: [ 0]                                                                                  \n",
      "  45: [ 0]                                                                                  \n",
      "  46: [ 0]                                                                                  \n",
      "  47: [ 0]                                                                                  \n",
      "  48: [ 0]                                                                                  \n",
      "  49: [ 0]                                                                                  \n",
      "  50: [ 0]                                                                                  \n",
      "  51: [ 0]                                                                                  \n",
      "  52: [ 0]                                                                                  \n",
      "  53: [ 0]                                                                                  \n",
      "  54: [ 0]                                                                                  \n",
      "  55: [ 0]                                                                                  \n",
      "  56: [ 0]                                                                                  \n",
      "  57: [ 0]                                                                                  \n",
      "  58: [ 0]                                                                                  \n",
      "  59: [ 0]                                                                                  \n",
      "  60: [ 0]                                                                                  \n",
      "  61: [ 0]                                                                                  \n",
      "  62: [ 0]                                                                                  \n",
      "  63: [ 0]                                                                                  \n"
     ]
    }
   ],
   "source": [
    "# set up the variables to generate the random numbers\n",
    "plaintext = 'this is a description of the latest block'\n",
    "plaintext_bytes = np.frombuffer(plaintext.encode('utf-8'), dtype=np.uint8)\n",
    "plaintext_length = np.int32(len(plaintext_bytes))\n",
    "\n",
    "seed = np.random.randint(0, np.iinfo(np.uint32).max, dtype=np.uint32)\n",
    "window_size = np.uint32(10000000)\n",
    "nonce = np.zeros(shape=16 * 64, dtype=np.uint8)\n",
    "nonce_len = np.zeros(shape=64, dtype=np.uint8)\n",
    "\n",
    "# allocate the memory for the variables on the device\n",
    "cl_seed = cl.Buffer(cl_ctx, cl.mem_flags.READ_ONLY | cl.mem_flags.COPY_HOST_PTR, hostbuf=seed)\n",
    "cl_window_size = cl.Buffer(cl_ctx, cl.mem_flags.READ_ONLY | cl.mem_flags.COPY_HOST_PTR, hostbuf=window_size)\n",
    "cl_plaintext_bytes = cl.Buffer(cl_ctx, cl.mem_flags.READ_ONLY | cl.mem_flags.COPY_HOST_PTR, hostbuf=plaintext_bytes)\n",
    "cl_plaintext_length = cl.Buffer(cl_ctx, cl.mem_flags.READ_ONLY | cl.mem_flags.COPY_HOST_PTR, hostbuf=plaintext_length)\n",
    "cl_nonce = cl.Buffer(cl_ctx, cl.mem_flags.WRITE_ONLY, nonce.nbytes)\n",
    "cl_nonce_len = cl.Buffer(cl_ctx, cl.mem_flags.WRITE_ONLY, nonce_len.nbytes)\n",
    "\n",
    "# execute the program\n",
    "cl_program.mine_nonce(\n",
    "    cl_queue, (1,), None,\n",
    "    cl_seed,\n",
    "    cl_window_size,\n",
    "    cl_plaintext_bytes,\n",
    "    cl_plaintext_length,\n",
    "    cl_nonce,\n",
    "    cl_nonce_len)\n",
    "\n",
    "# get the results\n",
    "cl.enqueue_copy(cl_queue, nonce, cl_nonce)\n",
    "cl.enqueue_copy(cl_queue, nonce_len, cl_nonce_len)\n",
    "\n",
    "# interpret the results\n",
    "for i in range(64):\n",
    "    nonce_str = nonce[i * 16:i * 16 + nonce_len[i]].tobytes().decode('UTF-8')\n",
    "    hash = hashlib.sha256((plaintext + nonce_str).encode('utf-8'))\n",
    "    #hash = hashlib.sha256('665782'.encode('utf-8'))\n",
    "\n",
    "    print(\"%4d: [%2d] %16s %64s\" % (i, nonce_len[i], nonce_str, hash.hexdigest() if nonce_len[i] > 0 else ''))"
   ]
  }
 ],
 "metadata": {
  "kernelspec": {
   "display_name": "Python 3.8.9 ('topic_06': venv)",
   "language": "python",
   "name": "python3"
  },
  "language_info": {
   "codemirror_mode": {
    "name": "ipython",
    "version": 3
   },
   "file_extension": ".py",
   "mimetype": "text/x-python",
   "name": "python",
   "nbconvert_exporter": "python",
   "pygments_lexer": "ipython3",
   "version": "3.8.9"
  },
  "orig_nbformat": 4,
  "vscode": {
   "interpreter": {
    "hash": "d6e7d1cfb9682a6b3f36fcffd3bf2a22732d0bef5e29adf39b0e08d4365f17de"
   }
  }
 },
 "nbformat": 4,
 "nbformat_minor": 2
}
