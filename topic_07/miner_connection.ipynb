{
 "cells": [
  {
   "cell_type": "markdown",
   "metadata": {},
   "source": [
    "# Miner Connection Test\n",
    "\n",
    "Test if the service is up that is provided in the `node_code.zip` files."
   ]
  },
  {
   "cell_type": "code",
   "execution_count": 29,
   "metadata": {},
   "outputs": [],
   "source": [
    "from cryptography.hazmat.primitives import hashes\n",
    "from cryptography.hazmat.primitives.asymmetric import ec\n",
    "from cryptography.hazmat.primitives import serialization\n",
    "from cryptography.hazmat.backends import default_backend\n",
    "from cryptography.hazmat.primitives.serialization import load_der_public_key, load_pem_private_key, load_der_private_key, Encoding, PublicFormat, PrivateFormat\n",
    "from node import Node"
   ]
  },
  {
   "cell_type": "markdown",
   "metadata": {},
   "source": [
    "## Create Miner Address"
   ]
  },
  {
   "cell_type": "markdown",
   "metadata": {},
   "source": [
    "### Generate the Private Key (once)"
   ]
  },
  {
   "cell_type": "code",
   "execution_count": 20,
   "metadata": {},
   "outputs": [],
   "source": [
    "# miner_private_key = ec.generate_private_key(ec.SECP256K1)\n",
    "\n",
    "# miner_pem = miner_private_key.private_bytes(\n",
    "#     encoding=Encoding.PEM,\n",
    "#     format=PrivateFormat.TraditionalOpenSSL,\n",
    "#     encryption_algorithm=serialization.NoEncryption())\n",
    "\n",
    "# with open('miner_private_key.pem', 'wb') as pem_out:\n",
    "#     pem_out.write(miner_pem)\n"
   ]
  },
  {
   "cell_type": "markdown",
   "metadata": {},
   "source": [
    "### Get the public key"
   ]
  },
  {
   "cell_type": "code",
   "execution_count": 30,
   "metadata": {},
   "outputs": [],
   "source": [
    "def calculate_sha1_hash(public_key):\n",
    "    digest = hashes.Hash(hashes.SHA1())\n",
    "    digest.update(public_key)\n",
    "    return digest.finalize()\n",
    "\n",
    "\n",
    "def private_key_to_public_key(private_key):\n",
    "    return private_key.public_key().public_bytes(encoding=Encoding.DER, format=PublicFormat.SubjectPublicKeyInfo)"
   ]
  },
  {
   "cell_type": "code",
   "execution_count": 31,
   "metadata": {},
   "outputs": [],
   "source": [
    "with open('miner_private_key.pem', 'rb') as pem_in:\n",
    "    pemlines = pem_in.read()\n",
    "\n",
    "miner_private_key = load_pem_private_key(pemlines, None, default_backend())"
   ]
  },
  {
   "cell_type": "code",
   "execution_count": 34,
   "metadata": {},
   "outputs": [
    {
     "name": "stdout",
     "output_type": "stream",
     "text": [
      "b's\\\\s\\x884u\\x19\\x11m\\xad\\xedA\\x8c\\x8f\\xe5\\x84k^]m'\n"
     ]
    }
   ],
   "source": [
    "\n",
    "MINER_KEY = calculate_sha1_hash(private_key_to_public_key(miner_private_key))\n",
    "print(MINER_KEY)\n"
   ]
  },
  {
   "cell_type": "markdown",
   "metadata": {},
   "source": [
    "```\n",
    "Mined block 00083fa3d54c776d4e8333e936d5187624219bab6e226ad3b5d38cc0182efac8\n",
    "About to mine block\n",
    "Attempting mining with difficulty 1000\n",
    "Mined block 000fdcbd5a95f1e5bccd963cb9212788db13ea094c8c480f7b7bfef361a6216a\n",
    "About to mine block\n",
    "Attempting mining with difficulty 1000\n",
    "Mined block 0018536da16d5cce58b4158f002df88690a061db0d8871529d01263468edd339\n",
    "About to mine block\n",
    "```"
   ]
  }
 ],
 "metadata": {
  "kernelspec": {
   "display_name": "Python 3.10.4 64-bit",
   "language": "python",
   "name": "python3"
  },
  "language_info": {
   "codemirror_mode": {
    "name": "ipython",
    "version": 3
   },
   "file_extension": ".py",
   "mimetype": "text/x-python",
   "name": "python",
   "nbconvert_exporter": "python",
   "pygments_lexer": "ipython3",
   "version": "3.10.4"
  },
  "orig_nbformat": 4,
  "vscode": {
   "interpreter": {
    "hash": "949777d72b0d2535278d3dc13498b2535136f6dfe0678499012e853ee9abcab1"
   }
  }
 },
 "nbformat": 4,
 "nbformat_minor": 2
}
