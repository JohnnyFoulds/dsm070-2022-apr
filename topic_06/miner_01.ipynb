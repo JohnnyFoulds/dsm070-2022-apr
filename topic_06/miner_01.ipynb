{
 "cells": [
  {
   "cell_type": "markdown",
   "metadata": {},
   "source": [
    "# Miner Notebook : 01\n",
    "\n",
    "This notebook is used for experimentation during the implementation of the Zimcoin miner component.\n",
    "\n",
    "## Web References\n",
    "\n",
    "- [OpenCL Scalar Data Types](https://registry.khronos.org/OpenCL/sdk/1.0/docs/man/xhtml/scalarDataTypes.html)"
   ]
  },
  {
   "cell_type": "code",
   "execution_count": 1,
   "metadata": {},
   "outputs": [],
   "source": [
    "import sys\n",
    "import logging\n",
    "import numpy as np\n",
    "import binascii\n",
    "import pyopencl as cl\n",
    "import miner\n",
    "import hashlib\n",
    "from miner import ZimcoinMiner\n",
    "from Library.opencl_information import opencl_information\n",
    "from blocks import Block\n",
    "from transactions import Transaction\n",
    "\n",
    "from importlib import reload"
   ]
  },
  {
   "cell_type": "markdown",
   "metadata": {},
   "source": [
    "## Configure Logging"
   ]
  },
  {
   "cell_type": "code",
   "execution_count": 2,
   "metadata": {},
   "outputs": [],
   "source": [
    "logging.basicConfig(\n",
    "    format='%(asctime)s %(levelname)-8s %(message)s',\n",
    "    level=logging.INFO,\n",
    "    datefmt='%Y-%m-%d %H:%M:%S',\n",
    "        handlers=[\n",
    "        logging.FileHandler(\"miner_notebook.log\"),\n",
    "        logging.StreamHandler(sys.stdout)\n",
    "    ])"
   ]
  },
  {
   "cell_type": "markdown",
   "metadata": {},
   "source": [
    "## Show the available OpenCL Platforms"
   ]
  },
  {
   "cell_type": "code",
   "execution_count": 3,
   "metadata": {},
   "outputs": [
    {
     "name": "stdout",
     "output_type": "stream",
     "text": [
      "\n",
      "============================================================\n",
      "OpenCL Platforms and Devices\n",
      "============================================================\n",
      "Platform 0 - Name: NVIDIA CUDA\n",
      "Platform 0 - Vendor: NVIDIA Corporation\n",
      "Platform 0 - Version: OpenCL 3.0 CUDA 11.7.89\n",
      "Platform 0 - Profile: FULL_PROFILE\n",
      " --------------------------------------------------------\n",
      " Device - Name: NVIDIA GeForce RTX 3060\n",
      " Device - Type: ALL | GPU\n",
      " Device - Max Clock Speed: 1867 Mhz\n",
      " Device - Compute Units: 28\n",
      " Device - Local Memory: 48 KB\n",
      " Device - Constant Memory: 64 KB\n",
      " Device - Global Memory: 12 GB\n",
      " Device - Max Buffer/Image Size: 3011 MB\n",
      " Device - Max Work Group Size: 1024\n",
      "\n",
      "\n",
      "============================================================\n",
      "Platform 1 - Name: Portable Computing Language\n",
      "Platform 1 - Vendor: The pocl project\n",
      "Platform 1 - Version: OpenCL 1.2 pocl 1.6, None+Asserts, LLVM 9.0.1, RELOC, SLEEF, DISTRO, POCL_DEBUG\n",
      "Platform 1 - Profile: FULL_PROFILE\n",
      " --------------------------------------------------------\n",
      " Device - Name: pthread-AMD Ryzen 5 3600 6-Core Processor\n",
      " Device - Type: ALL | CPU\n",
      " Device - Max Clock Speed: 4208 Mhz\n",
      " Device - Compute Units: 12\n",
      " Device - Local Memory: 512 KB\n",
      " Device - Constant Memory: 512 KB\n",
      " Device - Global Memory: 14 GB\n",
      " Device - Max Buffer/Image Size: 4096 MB\n",
      " Device - Max Work Group Size: 4096\n",
      "\n",
      "\n"
     ]
    }
   ],
   "source": [
    "info = opencl_information()\n",
    "info.print_full_info()"
   ]
  },
  {
   "cell_type": "markdown",
   "metadata": {},
   "source": [
    "## Create the Miner"
   ]
  },
  {
   "cell_type": "code",
   "execution_count": 19,
   "metadata": {},
   "outputs": [
    {
     "name": "stdout",
     "output_type": "stream",
     "text": [
      "Threads: 28672\n"
     ]
    }
   ],
   "source": [
    "reload(miner)\n",
    "\n",
    "zimcoin_miner = ZimcoinMiner(0, 0)\n",
    "print('Threads:', zimcoin_miner.thread_count)"
   ]
  },
  {
   "cell_type": "markdown",
   "metadata": {},
   "source": [
    "## Calculate Hash Test\n",
    "\n",
    "The input data does not fit neatly into 32 byte blocks so some padding and un-padding will be needed."
   ]
  },
  {
   "cell_type": "markdown",
   "metadata": {},
   "source": [
    "### Bit Shifting Tests"
   ]
  },
  {
   "cell_type": "code",
   "execution_count": 20,
   "metadata": {},
   "outputs": [
    {
     "name": "stdout",
     "output_type": "stream",
     "text": [
      "n32: 4\n",
      "n32: 1\n"
     ]
    }
   ],
   "source": [
    "n32 = np.uint32(0)\n",
    "n8 = np.uint8(0)\n",
    "\n",
    "print('n32:', n32.nbytes)\n",
    "print('n32:', n8.nbytes)"
   ]
  },
  {
   "cell_type": "code",
   "execution_count": 21,
   "metadata": {},
   "outputs": [
    {
     "name": "stdout",
     "output_type": "stream",
     "text": [
      "nonce: 9223372036854775807\n",
      "Nonce Bytes: 8\n",
      "Nonce to Bytes : b'\\xff\\xff\\xff\\xff\\xff\\xff\\xff\\x7f'\n",
      "64 bit integers : [9223372036854775807]\n",
      "32 bit integers : [4294967295 2147483647]\n",
      "Integer Nonce: 9223372036854775807\n",
      "4294967295\n",
      "2147483647\n"
     ]
    }
   ],
   "source": [
    "nonce = np.ulonglong(np.iinfo(np.ulonglong).max  // 2)\n",
    "#nonce = np.ulonglong(5)\n",
    "\n",
    "print('nonce:', nonce)\n",
    "print('Nonce Bytes:', nonce.nbytes)\n",
    "print('Nonce to Bytes :', nonce.tobytes())\n",
    "\n",
    "print('64 bit integers :', np.frombuffer(nonce.tobytes(), dtype=np.uint64))\n",
    "print('32 bit integers :', np.frombuffer(nonce.tobytes(), dtype=np.uint32))\n",
    "\n",
    "\n",
    "int_nonce = int(nonce)\n",
    "print('Integer Nonce:', int_nonce)\n",
    "print(int_nonce & 0xFFFFFFFF)\n",
    "print(int_nonce >> 32)"
   ]
  },
  {
   "cell_type": "code",
   "execution_count": 22,
   "metadata": {},
   "outputs": [
    {
     "name": "stdout",
     "output_type": "stream",
     "text": [
      "Target       : 12912720851596685312\n",
      "Target Bytes : 8\n",
      "Hash 1       : 11068046444225730560\n",
      "Hash 2       : 14757395258967642112\n",
      "Hash 3       : 12912720851596675072\n",
      "Target 16-bit integers : [12288 13107 13107 45875]\n",
      "Hash 1 16-bit (less)   : [38912 39321 39321 39321]\n",
      "Hash 2 16-bit (more)   : [53248 52428 52428 52428]\n",
      "Hash 3 16-bit (less)   : [ 2048 13107 13107 45875]\n"
     ]
    }
   ],
   "source": [
    "seed = np.iinfo(np.uint64).max\n",
    "\n",
    "target = np.uint64(seed * 0.7)\n",
    "hash_1 = np.uint64(seed * 0.6)\n",
    "hash_2 = np.uint64(seed * 0.8)\n",
    "hash_3 = np.uint64(target - 10000)\n",
    "\n",
    "print('Target       :', target)\n",
    "print('Target Bytes :', target.nbytes)\n",
    "print('Hash 1       :', hash_1)\n",
    "print('Hash 2       :', hash_2)\n",
    "print('Hash 3       :', hash_3)\n",
    "print('Target 16-bit integers :', np.frombuffer(target.tobytes(), dtype=np.uint16))\n",
    "print('Hash 1 16-bit (less)   :', np.frombuffer(hash_1.tobytes(), dtype=np.uint16))\n",
    "print('Hash 2 16-bit (more)   :', np.frombuffer(hash_2.tobytes(), dtype=np.uint16))\n",
    "print('Hash 3 16-bit (less)   :', np.frombuffer(hash_3.tobytes(), dtype=np.uint16))\n",
    "\n"
   ]
  },
  {
   "cell_type": "markdown",
   "metadata": {},
   "source": [
    "### Helper Functions to create test blocks "
   ]
  },
  {
   "cell_type": "code",
   "execution_count": 23,
   "metadata": {},
   "outputs": [],
   "source": [
    "def get_test_first_block() -> Block:\n",
    "    \"\"\"\n",
    "    Get a block representing the first in a chain for testing.\n",
    "    \"\"\"\n",
    "    return Block(\n",
    "            bytes.fromhex('0000000000000000000000000000000000000000000000000000000000000000'),\n",
    "            0,\n",
    "            bytes.fromhex('4f3ea27a7af06cbe53911d4fb9326730d435255a'),\n",
    "            [],\n",
    "            1626626569,\n",
    "            100000,\n",
    "            bytes.fromhex('0000193f7397d8ed1a4991d91f8b8d2e55eb56915e884d435de7bbf0b183f335'),\n",
    "            55419)\n",
    "\n",
    "def get_transactions_block() -> Block:\n",
    "    \"\"\"\n",
    "    Get a block with transactions for testing.\n",
    "    \"\"\"\n",
    "    return Block(\n",
    "            bytes.fromhex('0000193f7397d8ed1a4991d91f8b8d2e55eb56915e884d435de7bbf0b183f335'),\n",
    "            1,\n",
    "            bytes.fromhex('4f3ea27a7af06cbe53911d4fb9326730d435255a'),\n",
    "            [\n",
    "                Transaction(\n",
    "                    bytes.fromhex(\"9e09208d54c012c0844cf17cfbb175157516dc90\"),\n",
    "                    bytes.fromhex(\"4f3ea27a7af06cbe53911d4fb9326730d435255a\"),\n",
    "                    bytes.fromhex(\"3056301006072a8648ce3d020106052b8104000a034200041a719dc420fdbdeef447e90a6368b9486d4afbacd900f6d9d5f62692dfa9ecb695999af4fcf61bdc523021b3aef2b84344b7c4ba7d3a36efe2e5f3eff50e8c54\"),\n",
    "                    390,\n",
    "                    5,\n",
    "                    1,\n",
    "                    bytes.fromhex(\"3045022100fae9ab97090f2f0fb5715497e12a06438cbccc610bae2f9c019dfa5bdb40f0090220283f5498f22e17ac9ecf4c239d864811dd47cb0ccb8c3584794791fd171e6b90\"),\n",
    "                    bytes.fromhex(\"0cfd04ed0b2b279c12412687c770b1224c8bfed453292652694339ddade4d63a\")),\n",
    "            ],\n",
    "            1626626571,\n",
    "            100000,\n",
    "            bytes.fromhex('000071f1c701e06e5b91adb4289d6c5227b614bd4441748923826e5d0e8828da'),\n",
    "            83651)"
   ]
  },
  {
   "cell_type": "markdown",
   "metadata": {},
   "source": [
    "### Test First Block Manual Hashing"
   ]
  },
  {
   "cell_type": "code",
   "execution_count": 24,
   "metadata": {},
   "outputs": [
    {
     "name": "stdout",
     "output_type": "stream",
     "text": [
      "Input in 32-bit blocks: 19\n",
      "[         0          0          0          0          0          0\n",
      "          0          0 2057453135 3194810490 1327337811  812069561\n",
      " 1512388052 1626626569          0     100000          0          0\n",
      "          0]\n"
     ]
    }
   ],
   "source": [
    "# get the byte array to use for computing the hash\n",
    "first_block = get_test_first_block()\n",
    "first_block_bytes = first_block.to_bytes()\n",
    "\n",
    "# create a numpy array from the bytes\n",
    "first_block_data = np.frombuffer(first_block_bytes, dtype=np.uint32)\n",
    "print('Input in 32-bit blocks:', first_block_data.size)\n",
    "print(first_block_data)"
   ]
  },
  {
   "cell_type": "markdown",
   "metadata": {},
   "source": [
    "#### Test with uchar and no nonce"
   ]
  },
  {
   "cell_type": "code",
   "execution_count": 25,
   "metadata": {},
   "outputs": [
    {
     "name": "stdout",
     "output_type": "stream",
     "text": [
      "Leading Zeros: 0\n",
      "CL result      : b'1e76c28ddacdd9e94dfdcc155cc1359aa797762bc2a0c5eaec41e5a24bbb1300'\n",
      "Correct result : b'1e76c28ddacdd9e94dfdcc155cc1359aa797762bc2a0c5eaec41e5a24bbb1300'\n"
     ]
    }
   ],
   "source": [
    "cl_ctx = zimcoin_miner.cl_context\n",
    "cl_program = zimcoin_miner.build_program()\n",
    "cl_queue = zimcoin_miner.cl_queue\n",
    "\n",
    "# the plaintext to hash\n",
    "first_block_bytes = first_block.to_bytes()\n",
    "plaintext_bytes = np.frombuffer(first_block_bytes, dtype=np.uint8)\n",
    "plaintext_length = np.int32(len(plaintext_bytes))\n",
    "\n",
    "\n",
    "# the hash output\n",
    "hash_output = np.zeros(8, dtype=np.uint32)\n",
    "leading_zeros = np.zeros(1, dtype=np.uint8)\n",
    "\n",
    "# allocate the memory for the variables on the device\n",
    "cl_plaintext_bytes = cl.Buffer(\n",
    "    cl_ctx,\n",
    "    cl.mem_flags.READ_ONLY | cl.mem_flags.COPY_HOST_PTR,\n",
    "    hostbuf=plaintext_bytes)\n",
    "\n",
    "cl_plaintext_length = cl.Buffer(\n",
    "    cl_ctx,\n",
    "    cl.mem_flags.READ_ONLY | cl.mem_flags.COPY_HOST_PTR,\n",
    "    hostbuf=plaintext_length)\n",
    "\n",
    "cl_hash_output = cl.Buffer(\n",
    "    cl_ctx,\n",
    "    cl.mem_flags.WRITE_ONLY,\n",
    "    hash_output.nbytes)\n",
    "\n",
    "cl_leading_zeros = cl.Buffer(\n",
    "    cl_ctx,\n",
    "    cl.mem_flags.WRITE_ONLY,\n",
    "    leading_zeros.nbytes)\n",
    "\n",
    "# execute the program\n",
    "cl_program.get_single_hash(\n",
    "    cl_queue, (1,), None,\n",
    "    cl_plaintext_bytes,\n",
    "    cl_plaintext_length,\n",
    "    cl_hash_output,\n",
    "    cl_leading_zeros)\n",
    "\n",
    "# get the results\n",
    "cl.enqueue_copy(cl_queue, hash_output, cl_hash_output)\n",
    "cl.enqueue_copy(cl_queue, leading_zeros, cl_leading_zeros)\n",
    "\n",
    "# print the results\n",
    "print(\"Leading Zeros: %d\" % leading_zeros[0])\n",
    "print(\"CL result      : %s\" % binascii.hexlify(hash_output))\n",
    "print(\"Correct result : %s\" % binascii.hexlify(hashlib.sha256(first_block_bytes).digest()))\n",
    "\n",
    "assert binascii.hexlify(hash_output) == binascii.hexlify(hashlib.sha256(first_block_bytes).digest())\n"
   ]
  },
  {
   "cell_type": "code",
   "execution_count": 26,
   "metadata": {},
   "outputs": [
    {
     "name": "stdout",
     "output_type": "stream",
     "text": [
      "[1058603008 3990394739 3650177306  781028127 2438392661 1129154654\n",
      " 4038846301  905151409 2057453135 3194810490 1327337811  812069561\n",
      " 1512388052 3976527116 2619812619 2267431186  582054087 3573451596\n",
      " 1378232659 3711517545  987161773 1626626571          0     100000\n",
      "          0          0          0]\n"
     ]
    }
   ],
   "source": [
    "# get the byte array to use for computing the hash for the second block\n",
    "second_block = get_transactions_block()\n",
    "second_block_bytes = second_block.to_bytes()\n",
    "\n",
    "# create a numpy array from the bytes\n",
    "second_block_data = np.frombuffer(second_block_bytes, dtype=np.uint32)\n",
    "print(second_block_data)"
   ]
  },
  {
   "cell_type": "code",
   "execution_count": 27,
   "metadata": {},
   "outputs": [
    {
     "name": "stdout",
     "output_type": "stream",
     "text": [
      "108\n",
      "b'\\xff\\xff\\xff\\xff\\xff\\xff\\xff\\x7f'\n",
      "Output Nonce: 9223372036854775807\n",
      "Output Hash     : b'0302cdab8a819ed8ee0216223b4ab026614bde91b207ae27d05a6717d4c179d0'\n",
      "Calculated Hash : b'0302cdab8a819ed8ee0216223b4ab026614bde91b207ae27d05a6717d4c179d0'\n",
      "\n",
      "-- Now do it the other way around\n",
      "So the nonce is: 9223372036854775807\n",
      "And the hash is: b'0302cdab8a819ed8ee0216223b4ab026614bde91b207ae27d05a6717d4c179d0'\n"
     ]
    }
   ],
   "source": [
    "zimcoin_miner.build_program()\n",
    "\n",
    "block_bytes = second_block.to_bytes()\n",
    "block_data = np.frombuffer(block_bytes, dtype=np.uint32)\n",
    "\n",
    "# set the other variables to send to the kernel\n",
    "nonce = np.zeros(shape=1, dtype=np.ulonglong)\n",
    "input_len = np.int32(block_data.size) * 4 # length in bytes\n",
    "print(input_len)\n",
    "hash = np.zeros(8, dtype=np.uint32)\n",
    "\n",
    "# allocate the memory for the variables on the device\n",
    "cl_block_data = cl.Buffer(zimcoin_miner.cl_context, cl.mem_flags.READ_ONLY | cl.mem_flags.COPY_HOST_PTR, hostbuf=block_data)\n",
    "cl_input_len = cl.Buffer(zimcoin_miner.cl_context, cl.mem_flags.READ_ONLY | cl.mem_flags.COPY_HOST_PTR, hostbuf=input_len)\n",
    "cl_nonce = cl.Buffer(zimcoin_miner.cl_context, cl.mem_flags.WRITE_ONLY, nonce.nbytes)\n",
    "cl_hash = cl.Buffer(zimcoin_miner.cl_context, cl.mem_flags.WRITE_ONLY, hash.nbytes)\n",
    "\n",
    "zimcoin_miner.cl_program.get_hashed_nonce(\n",
    "    zimcoin_miner.cl_queue, (zimcoin_miner.cl_threads,), None,\n",
    "    cl_block_data,\n",
    "    cl_input_len,\n",
    "    cl_nonce,\n",
    "    cl_hash)\n",
    "\n",
    "# get the results\n",
    "cl.enqueue_copy(zimcoin_miner.cl_queue, nonce, cl_nonce)\n",
    "cl.enqueue_copy(zimcoin_miner.cl_queue, hash, cl_hash)\n",
    "\n",
    "\n",
    "# show the results\n",
    "calculated_hash = hashlib.sha256()\n",
    "calculated_hash.update(block_bytes)\n",
    "print(nonce[0].tobytes())\n",
    "calculated_hash.update(nonce[0].tobytes())    \n",
    "#calculated_hash.update(int(nonce[0]).to_bytes(8, byteorder='little', signed=False))    \n",
    "\n",
    "output_hash = hash.tobytes()\n",
    "\n",
    "print('Output Nonce:', nonce[0])\n",
    "print('Output Hash     :', binascii.hexlify(output_hash))\n",
    "print('Calculated Hash :', binascii.hexlify(calculated_hash.digest()))\n",
    "print()\n",
    "\n",
    "print('-- Now do it the other way around')\n",
    "little_nonce = int.from_bytes(nonce[0].tobytes(), byteorder='little')\n",
    "little_bytes = little_nonce.to_bytes(8, byteorder='little', signed=False)\n",
    "little_hash = hashlib.sha256()\n",
    "little_hash.update(block_bytes)\n",
    "little_hash.update(little_bytes)\n",
    "\n",
    "print('So the nonce is:', little_nonce)\n",
    "print('And the hash is:', binascii.hexlify(little_hash.digest()))\n"
   ]
  },
  {
   "cell_type": "markdown",
   "metadata": {},
   "source": [
    "## Comparing against the target"
   ]
  },
  {
   "cell_type": "code",
   "execution_count": 28,
   "metadata": {},
   "outputs": [
    {
     "name": "stdout",
     "output_type": "stream",
     "text": [
      "Target (hex) : b'0000a7c5ac471b4784230fcf80dc33721d53cddd6e04c059210385c67dfe32a0'\n",
      "Hash (hex)   : b'f9c27560fc94a697da11d177d8c949fca1d2f3a13d8ea234518e95b98bd45a6f'\n",
      "\n",
      "Target       : [3316056064 1192970156 3473875844 1916001408 3721220893 1505756270\n",
      " 3330605857 2687696509]\n",
      "Hash         : [1618330361 2544276732 2010190298 4232694232 2717110945  883068477\n",
      " 3113586257 1868223627]\n",
      "True, False, True, False, True, True, True, True, \n",
      "\n",
      "b'f9c27560' b'0000a7c5'\n",
      "b'fc94a697' b'ac471b47'\n",
      "b'da11d177' b'84230fcf'\n",
      "b'd8c949fc' b'80dc3372'\n",
      "b'a1d2f3a1' b'1d53cddd'\n",
      "b'3d8ea234' b'6e04c059'\n",
      "b'518e95b9' b'210385c6'\n",
      "b'8bd45a6f' b'7dfe32a0'\n",
      "\n",
      "\n",
      "[249 194 117  96]  -  [  0   0 167 197]\n",
      "[252 148 166 151]  -  [172  71  27  71]\n",
      "[218  17 209 119]  -  [132  35  15 207]\n",
      "[216 201  73 252]  -  [128 220  51 114]\n",
      "[161 210 243 161]  -  [ 29  83 205 221]\n",
      "[ 61 142 162  52]  -  [110   4 192  89]\n",
      "[ 81 142 149 185]  -  [ 33   3 133 198]\n",
      "[139 212  90 111]  -  [125 254  50 160]\n"
     ]
    }
   ],
   "source": [
    "from attr import has\n",
    "\n",
    "\n",
    "block = get_transactions_block()\n",
    "target = np.frombuffer(\n",
    "    (2 ** 256 // block.difficulty).to_bytes(32, byteorder='big', signed=False),\n",
    "    np.uint32)\n",
    "\n",
    "#hash_bytes = binascii.unhexlify('db2b6dcdeea9a1074ca5157844a853d7993a516a7108b253a3a89418b8043443')\n",
    "#hash_bytes = binascii.unhexlify('000000ffffffffffffffffffffffffffffffffffffffffffffffffffffffffff')\n",
    "hash_bytes = binascii.unhexlify('f9c27560fc94a697da11d177d8c949fca1d2f3a13d8ea234518e95b98bd45a6f')\n",
    "\n",
    "hash = np.frombuffer(\n",
    "    hash_bytes,\n",
    "    np.uint32)\n",
    "\n",
    "print('Target (hex) :', binascii.hexlify(target))\n",
    "print('Hash (hex)   :', binascii.hexlify(hash))\n",
    "print()\n",
    "print('Target       :', target)\n",
    "print('Hash         :', hash)\n",
    "\n",
    "for i in range(0, 8):\n",
    "    print(f'{hash[i] < target[i]}', end=', ')\n",
    "\n",
    "print('\\n')\n",
    "for i in range(0, 8):\n",
    "    print(binascii.hexlify(hash[i]), binascii.hexlify(target[i]))\n",
    "\n",
    "print('\\n')\n",
    "for i in range(0, 8):\n",
    "    print(np.frombuffer(hash[i], np.uint8), ' - ', np.frombuffer(target[i], np.uint8))"
   ]
  },
  {
   "cell_type": "markdown",
   "metadata": {},
   "source": [
    "## Mine Block"
   ]
  },
  {
   "cell_type": "code",
   "execution_count": 29,
   "metadata": {},
   "outputs": [
    {
     "name": "stdout",
     "output_type": "stream",
     "text": [
      "Threads: 28672\n"
     ]
    }
   ],
   "source": [
    "reload(miner)\n",
    "\n",
    "zimcoin_miner = ZimcoinMiner(0, 0)\n",
    "print('Threads:', zimcoin_miner.thread_count)"
   ]
  },
  {
   "cell_type": "markdown",
   "metadata": {},
   "source": [
    "### Test Kernel Function"
   ]
  },
  {
   "cell_type": "code",
   "execution_count": 30,
   "metadata": {},
   "outputs": [
    {
     "name": "stdout",
     "output_type": "stream",
     "text": [
      "Threads: 28672\n",
      "Target (hex) : b'0000002af31dc4611873bf3f70834acdae9f0f4f534f5d60585a5f1c1a3ced1b'\n",
      "Target       : [ 704643072 1640242675 1069511448 3444212592 1326423982 1616727891\n",
      "  476011096  468532250]\n",
      "Out Hash     : [ 184549376 1862567351  535652379 2274727596  363921549 3056832580\n",
      " 1017252847  881494100]\n",
      "Nonce   : 751417039\n",
      "Hash    : b'0000000bb785046f1b68ed1fac9695878d00b115449033b6ef0ba23c54888a34'\n",
      "Out Hash: b'0000000bb785046f1b68ed1fac9695878d00b115449033b6ef0ba23c54888a34'\n"
     ]
    }
   ],
   "source": [
    "zimcoin_miner = ZimcoinMiner(0, 0)\n",
    "print('Threads:', zimcoin_miner.thread_count)\n",
    "\n",
    "cl_ctx = zimcoin_miner.cl_context\n",
    "cl_program = zimcoin_miner.build_program()\n",
    "cl_queue = zimcoin_miner.cl_queue\n",
    "\n",
    "# set the variables to test the kernel function\n",
    "block = get_transactions_block()\n",
    "seed = np.ulonglong(500_000_000)\n",
    "window_size = np.uint32(10000)\n",
    "block_data = np.frombuffer(block.to_bytes(), dtype=np.uint32)\n",
    "block_data_len = np.int32(block_data.size) * 4 # length in bytes\n",
    "nonce = np.zeros(shape=1, dtype=np.ulonglong)\n",
    "\n",
    "# target = np.frombuffer(\n",
    "#     0x0000ffffffffffffffffffffffffffffffffffffffffffffffffffffffffffff \\\n",
    "#     .to_bytes(32, byteorder='big', signed=False),\n",
    "#     np.uint32)\n",
    "\n",
    "# NOTE: the difficulty is multiplied by 1000 for testing purposes\n",
    "target = np.frombuffer(\n",
    "    (2 ** 256 // (block.difficulty * 1000) ).to_bytes(32, byteorder='big', signed=False),\n",
    "    np.uint32)\n",
    "\n",
    "hash = np.zeros(8, dtype=np.uint32)\n",
    "\n",
    "print('Target (hex) :', binascii.hexlify(target))\n",
    "print('Target       :', target)\n",
    "\n",
    "# allocate the memory for the variables on the device\n",
    "cl_seed = cl.Buffer(cl_ctx, cl.mem_flags.READ_ONLY | cl.mem_flags.COPY_HOST_PTR, hostbuf=seed)\n",
    "cl_window_size = cl.Buffer(cl_ctx, cl.mem_flags.READ_ONLY | cl.mem_flags.COPY_HOST_PTR, hostbuf=window_size)\n",
    "cl_block_data = cl.Buffer(zimcoin_miner.cl_context, cl.mem_flags.READ_ONLY | cl.mem_flags.COPY_HOST_PTR, hostbuf=block_data)\n",
    "cl_block_data_len = cl.Buffer(zimcoin_miner.cl_context, cl.mem_flags.READ_ONLY | cl.mem_flags.COPY_HOST_PTR, hostbuf=block_data_len)\n",
    "cl_nonce = cl.Buffer(zimcoin_miner.cl_context, cl.mem_flags.WRITE_ONLY, nonce.nbytes)\n",
    "cl_target = cl.Buffer(zimcoin_miner.cl_context, cl.mem_flags.READ_ONLY | cl.mem_flags.COPY_HOST_PTR, hostbuf=target)\n",
    "cl_hash = cl.Buffer(zimcoin_miner.cl_context, cl.mem_flags.WRITE_ONLY, hash.nbytes)\n",
    "\n",
    "# execute the kernel\n",
    "cl_program.mine_sequential(\n",
    "    cl_queue, (zimcoin_miner.thread_count,), None,\n",
    "    cl_seed,\n",
    "    cl_window_size,\n",
    "    cl_block_data,\n",
    "    cl_block_data_len,\n",
    "    cl_nonce,\n",
    "    cl_target,\n",
    "    cl_hash)\n",
    "\n",
    "# get the results\n",
    "cl.enqueue_copy(zimcoin_miner.cl_queue, nonce, cl_nonce)\n",
    "cl.enqueue_copy(zimcoin_miner.cl_queue, hash, cl_hash)\n",
    "\n",
    "\n",
    "# show the results\n",
    "print('Out Hash     :', hash)\n",
    "\n",
    "final_nonce = int.from_bytes(nonce[0].tobytes(), byteorder='little')\n",
    "\n",
    "calculated_hash = hashlib.sha256()\n",
    "calculated_hash.update(block.to_bytes())\n",
    "calculated_hash.update(final_nonce.to_bytes(8, byteorder='little', signed=False))    \n",
    "\n",
    "print('Nonce   :', final_nonce)\n",
    "print('Hash    :', binascii.hexlify(calculated_hash.digest()))\n",
    "print('Out Hash:', binascii.hexlify(hash))"
   ]
  }
 ],
 "metadata": {
  "kernelspec": {
   "display_name": "Python 3.10.4 64-bit",
   "language": "python",
   "name": "python3"
  },
  "language_info": {
   "codemirror_mode": {
    "name": "ipython",
    "version": 3
   },
   "file_extension": ".py",
   "mimetype": "text/x-python",
   "name": "python",
   "nbconvert_exporter": "python",
   "pygments_lexer": "ipython3",
   "version": "3.8.13"
  },
  "orig_nbformat": 4,
  "vscode": {
   "interpreter": {
    "hash": "949777d72b0d2535278d3dc13498b2535136f6dfe0678499012e853ee9abcab1"
   }
  }
 },
 "nbformat": 4,
 "nbformat_minor": 2
}
