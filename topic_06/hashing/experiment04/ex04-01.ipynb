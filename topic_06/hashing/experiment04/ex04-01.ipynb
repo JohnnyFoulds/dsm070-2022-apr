{
 "cells": [
  {
   "cell_type": "markdown",
   "metadata": {},
   "source": [
    "# Experiment 04-01"
   ]
  },
  {
   "cell_type": "code",
   "execution_count": 1,
   "metadata": {},
   "outputs": [],
   "source": [
    "import sys\n",
    "from glob import glob\n",
    "import numpy as np\n",
    "import pyopencl\n",
    "import hashlib\n",
    "import binascii"
   ]
  },
  {
   "cell_type": "markdown",
   "metadata": {},
   "source": [
    "## Helper Functions"
   ]
  },
  {
   "cell_type": "code",
   "execution_count": 2,
   "metadata": {},
   "outputs": [],
   "source": [
    "def get_first_platform_by_name(name : str) -> pyopencl.Platform:\n",
    "    \"\"\"\n",
    "    Get the first platform with the given name.\n",
    "\n",
    "    Parameters\n",
    "    ----------\n",
    "    name : str\n",
    "        The name of the platform to get.\n",
    "    \"\"\"\n",
    "    for platform in pyopencl.get_platforms():\n",
    "        if platform.name == name:\n",
    "            return platform\n",
    "\n",
    "    raise ValueError(f\"No platform named '{name}'\")"
   ]
  },
  {
   "cell_type": "code",
   "execution_count": 3,
   "metadata": {},
   "outputs": [],
   "source": [
    "def build_program(program_files : list, context : pyopencl.Context,\n",
    "        build_options=[]) -> pyopencl.Program:\n",
    "    \"\"\"\n",
    "    Build a program from an OpenCL source file.\n",
    "\n",
    "    Parameters\n",
    "    ----------\n",
    "    program_files : list\n",
    "        The path to the OpenCL source files.\n",
    "    context : pyopencl.Context\n",
    "        The context to build the program with.\n",
    "    build_options : list of str\n",
    "        The build options to use.\n",
    "\n",
    "    Returns\n",
    "    -------\n",
    "    pyopencl.Program\n",
    "    \"\"\"\n",
    "    program_source_code = ''\n",
    "\n",
    "    for ocl_file in program_files:\n",
    "        with open(ocl_file, 'r') as opencl_file:\n",
    "            file_source_code = opencl_file.read()\n",
    "            program_source_code += '\\n' + file_source_code\n",
    "\n",
    "    program_source = pyopencl.Program(context, program_source_code)\n",
    "    program = program_source.build(options=build_options)\n",
    "            \n",
    "    return program"
   ]
  },
  {
   "cell_type": "code",
   "execution_count": 4,
   "metadata": {},
   "outputs": [],
   "source": [
    "def run_ocl_kernel(queue, kernel, global_size,\n",
    "                   input_tuples, output_tuples,\n",
    "                   local_size = (32,)):\n",
    "    \n",
    "    # copying data onto the device\n",
    "    for (value, buffer) in input_tuples:\n",
    "        pyopencl.enqueue_copy(queue, src=value, dest=buffer)\n",
    "    \n",
    "    # running program on the device\n",
    "    kernel_arguments  = [buffer for (_,buffer) in input_tuples] \n",
    "    kernel_arguments += [buffer for (_,buffer) in output_tuples]\n",
    "        \n",
    "    kernel(queue, global_size, local_size, *kernel_arguments)\n",
    "\n",
    "    # copying data off the device\n",
    "    for (value, buffer) in output_tuples:\n",
    "        pyopencl.enqueue_copy(queue, src=buffer, dest=value)\n",
    "        \n",
    "    # waiting for everything to finish\n",
    "    queue.finish()"
   ]
  },
  {
   "cell_type": "markdown",
   "metadata": {},
   "source": [
    "## Setup the device and context"
   ]
  },
  {
   "cell_type": "code",
   "execution_count": 5,
   "metadata": {},
   "outputs": [
    {
     "name": "stdout",
     "output_type": "stream",
     "text": [
      "Apple\n"
     ]
    }
   ],
   "source": [
    "ocl_platforms = (platform.name \n",
    "                 for platform in pyopencl.get_platforms())\n",
    "print(\"\\n\".join(ocl_platforms))"
   ]
  },
  {
   "cell_type": "code",
   "execution_count": 6,
   "metadata": {},
   "outputs": [
    {
     "name": "stdout",
     "output_type": "stream",
     "text": [
      "[<pyopencl.Device 'Apple M1' on 'Apple' at 0x1027f00>]\n",
      "<pyopencl.Context at 0x600002dd44d0 on <pyopencl.Device 'Apple M1' on 'Apple' at 0x1027f00>>\n"
     ]
    }
   ],
   "source": [
    "gpu_platform = get_first_platform_by_name(\"Apple\")\n",
    "gpu_devices = gpu_platform.get_devices(device_type=pyopencl.device_type.GPU)\n",
    "gpu_context = pyopencl.Context(devices=gpu_devices)\n",
    "gpu_queue = pyopencl.CommandQueue(gpu_context)\n",
    "\n",
    "print(gpu_devices)\n",
    "print(gpu_context)"
   ]
  },
  {
   "cell_type": "markdown",
   "metadata": {},
   "source": [
    "## Load the Program"
   ]
  },
  {
   "cell_type": "code",
   "execution_count": 7,
   "metadata": {},
   "outputs": [
    {
     "name": "stdout",
     "output_type": "stream",
     "text": [
      "Kernel Names: sha256_test;increment_int;hello;itoa\n"
     ]
    }
   ],
   "source": [
    "build_options = [\n",
    "    '-I', '.',    \n",
    "]\n",
    "\n",
    "program_files = [\n",
    "    'inc_hash_sha256.cl',\n",
    "    'inc_common.cl',\n",
    "    'inc_platform.cl',\n",
    "    'solver.cl'\n",
    "]\n",
    "\n",
    "gpu_program = build_program(program_files, gpu_context, build_options)\n",
    "\n",
    "# show the kernel names\n",
    "program_kernel_names = gpu_program.get_info(pyopencl.program_info.KERNEL_NAMES)\n",
    "print(f\"Kernel Names: {program_kernel_names}\")"
   ]
  },
  {
   "cell_type": "markdown",
   "metadata": {},
   "source": [
    "## Run Program"
   ]
  },
  {
   "cell_type": "markdown",
   "metadata": {},
   "source": [
    "### Test Int Conversion"
   ]
  },
  {
   "cell_type": "code",
   "execution_count": 8,
   "metadata": {},
   "outputs": [
    {
     "name": "stdout",
     "output_type": "stream",
     "text": [
      "<class 'numpy.uint8'> 116\n",
      "<class 'numpy.uint32'> 118\n"
     ]
    }
   ],
   "source": [
    "# set the input values\n",
    "x = np.uint8(116)\n",
    "y = np.zeros(shape=(1,), dtype=np.uint32)\n",
    "\n",
    "# create the input and output tuples\n",
    "input_tuples = (\n",
    "    (x, pyopencl.Buffer(gpu_context, pyopencl.mem_flags.READ_ONLY, x.nbytes)),\n",
    ")\n",
    "\n",
    "output_tuples = (\n",
    "    (y, pyopencl.Buffer(gpu_context, pyopencl.mem_flags.WRITE_ONLY, y.itemsize)),\n",
    ")\n",
    "\n",
    "# build the program\n",
    "gpu_program = build_program(program_files, gpu_context, build_options)\n",
    "\n",
    "# set the global and local sizes\n",
    "global_size = (1,)\n",
    "local_size = None\n",
    "\n",
    "# run the program\n",
    "run_ocl_kernel(gpu_queue, gpu_program.increment_int, global_size, input_tuples,\n",
    "    output_tuples, local_size)\n",
    "\n",
    "print(type(x), x)\n",
    "print(type(y[0]), y[0])"
   ]
  },
  {
   "cell_type": "markdown",
   "metadata": {},
   "source": [
    "### Test Number to Char Array Conversion"
   ]
  },
  {
   "cell_type": "code",
   "execution_count": 9,
   "metadata": {},
   "outputs": [
    {
     "name": "stdout",
     "output_type": "stream",
     "text": [
      "18446744073709551615 8\n"
     ]
    }
   ],
   "source": [
    "number = np.uint64(123456)\n",
    "print(np.iinfo(number.dtype).max, number.itemsize)"
   ]
  },
  {
   "cell_type": "code",
   "execution_count": 10,
   "metadata": {},
   "outputs": [
    {
     "name": "stdout",
     "output_type": "stream",
     "text": [
      "<class 'numpy.uint64'> 321234562\n",
      "<class 'numpy.ndarray'> [51 50 49 50 51 52 53 54 50  0  0  0  0  0  0  0  0  0  0  0]\n",
      "\"321234562\u0000\u0000\u0000\u0000\u0000\u0000\u0000\u0000\u0000\u0000\u0000\"\n"
     ]
    }
   ],
   "source": [
    "number = np.uint64(321234562)\n",
    "output = np.zeros(20, dtype=np.uint8)\n",
    "\n",
    "# create the input and output tuples\n",
    "input_tuples = (\n",
    "    (number, pyopencl.Buffer(gpu_context, pyopencl.mem_flags.READ_ONLY, number.nbytes)),\n",
    ")\n",
    "\n",
    "output_tuples = (\n",
    "    (output, pyopencl.Buffer(gpu_context, pyopencl.mem_flags.WRITE_ONLY, output.nbytes)),\n",
    ")\n",
    "\n",
    "# build the program\n",
    "gpu_program = build_program(program_files, gpu_context, build_options)\n",
    "\n",
    "# set the global and local sizes\n",
    "global_size = (1,)\n",
    "local_size = None\n",
    "\n",
    "# run the program\n",
    "run_ocl_kernel(gpu_queue, gpu_program.itoa, global_size, input_tuples,\n",
    "    output_tuples, local_size)\n",
    "\n",
    "print(type(number), number)\n",
    "print(type(output), output)\n",
    "print(f'\"%s\"' % ''.join([chr(item) for item in output]))"
   ]
  },
  {
   "cell_type": "markdown",
   "metadata": {},
   "source": [
    "## SHA256 Testing"
   ]
  },
  {
   "cell_type": "code",
   "execution_count": 56,
   "metadata": {},
   "outputs": [
    {
     "name": "stdout",
     "output_type": "stream",
     "text": [
      "Plaintext: \"hels\"\n",
      "8a80fc46f6287ab92c13294e0e6e06f18e391d11f051ced0d51b270d993ad9f1\n",
      "[104 101 108 115]\n"
     ]
    }
   ],
   "source": [
    "#plaintext = 'this is a description of the latest block'\n",
    "\n",
    "# test four characters which can easily be converted to a 32-bit integer\n",
    "plaintext = 'hell'\n",
    "\n",
    "# compute the hash for comparison\n",
    "print(f'Plaintext: \"{plaintext}\"')\n",
    "print(hashlib.sha256(plaintext.encode('utf-8')).hexdigest())\n",
    "\n",
    "# get the bytes to encode and compute the hash for testing\n",
    "plaintext_bytes = np.frombuffer(plaintext.encode('utf-8'), dtype=np.uint8)\n",
    "plaintext_length = np.int32(len(plaintext_bytes))\n",
    "print(plaintext_bytes)"
   ]
  },
  {
   "cell_type": "code",
   "execution_count": 69,
   "metadata": {},
   "outputs": [
    {
     "name": "stdout",
     "output_type": "stream",
     "text": [
      "[3820012610 2566659092 2600203464 2574235940  665731556 1687917388\n",
      " 2761267483 2018687061]\n",
      "b\"B\\xc4\\xb0\\xe3\\x14\\x1c\\xfc\\x98\\xc8\\xf4\\xfb\\x9a$\\xb9o\\x99\\xe4A\\xae'L\\x93\\x9bd\\x1b\\x99\\x95\\xa4U\\xb8Rx\"\n",
      "b'42c4b0e3141cfc98c8f4fb9a24b96f99e441ae274c939b641b9995a455b85278'\n",
      "\n",
      "b\"\\x8a\\x80\\xfcF\\xf6(z\\xb9,\\x13)N\\x0en\\x06\\xf1\\x8e9\\x1d\\x11\\xf0Q\\xce\\xd0\\xd5\\x1b'\\r\\x99:\\xd9\\xf1\"\n",
      "8a80fc46f6287ab92c13294e0e6e06f18e391d11f051ced0d51b270d993ad9f1\n"
     ]
    }
   ],
   "source": [
    "hash = np.zeros(8, dtype=np.uint32)\n",
    "\n",
    "# create the input tuples\n",
    "input_tuples = (\n",
    "    (plaintext_bytes, pyopencl.Buffer(gpu_context, pyopencl.mem_flags.READ_ONLY, plaintext_bytes.nbytes)),\n",
    "    (plaintext_length, pyopencl.Buffer(gpu_context, pyopencl.mem_flags.READ_ONLY, sys.getsizeof(plaintext_length))),\n",
    ")\n",
    "                \n",
    "output_tuples = (\n",
    "    (hash, pyopencl.Buffer(gpu_context, pyopencl.mem_flags.WRITE_ONLY, hash.nbytes)),\n",
    ")\n",
    "\n",
    "# execute the program\n",
    "global_size = (1,)\n",
    "local_size = None\n",
    "\n",
    "# build the program\n",
    "gpu_program = build_program(program_files, gpu_context, build_options)\n",
    "\n",
    "# run the program\n",
    "run_ocl_kernel(gpu_queue, gpu_program.sha256_test, global_size, input_tuples, output_tuples, local_size)\n",
    "print(hash)\n",
    "print(hash.tobytes())\n",
    "print(binascii.hexlify(hash.tobytes()))\n",
    "\n",
    "print('')\n",
    "print(hashlib.sha256(plaintext.encode('utf-8')).digest())\n",
    "print(hashlib.sha256(plaintext.encode('utf-8')).hexdigest())"
   ]
  }
 ],
 "metadata": {
  "kernelspec": {
   "display_name": "Python 3.8.9 ('topic_06': venv)",
   "language": "python",
   "name": "python3"
  },
  "language_info": {
   "codemirror_mode": {
    "name": "ipython",
    "version": 3
   },
   "file_extension": ".py",
   "mimetype": "text/x-python",
   "name": "python",
   "nbconvert_exporter": "python",
   "pygments_lexer": "ipython3",
   "version": "3.8.9"
  },
  "orig_nbformat": 4,
  "vscode": {
   "interpreter": {
    "hash": "d6e7d1cfb9682a6b3f36fcffd3bf2a22732d0bef5e29adf39b0e08d4365f17de"
   }
  }
 },
 "nbformat": 4,
 "nbformat_minor": 2
}
