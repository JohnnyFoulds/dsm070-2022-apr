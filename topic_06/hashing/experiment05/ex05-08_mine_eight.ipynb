{
 "cells": [
  {
   "cell_type": "markdown",
   "metadata": {},
   "source": [
    "# Experiment 05-08"
   ]
  },
  {
   "cell_type": "code",
   "execution_count": 1,
   "metadata": {},
   "outputs": [],
   "source": [
    "import sys\n",
    "import numpy as np\n",
    "import hashlib\n",
    "from binascii import hexlify\n",
    "import pyopencl as cl\n",
    "from Library.opencl_information import opencl_information\n",
    "import logging\n",
    "from pqdm.threads import pqdm\n",
    "from tqdm.notebook import tqdm"
   ]
  },
  {
   "cell_type": "markdown",
   "metadata": {},
   "source": [
    "## Configure Logging"
   ]
  },
  {
   "cell_type": "code",
   "execution_count": 2,
   "metadata": {},
   "outputs": [
    {
     "name": "stdout",
     "output_type": "stream",
     "text": [
      "2022-07-13 19:10:17 INFO     Started\n"
     ]
    }
   ],
   "source": [
    "logging.basicConfig(\n",
    "    format='%(asctime)s %(levelname)-8s %(message)s',\n",
    "    level=logging.INFO,\n",
    "    datefmt='%Y-%m-%d %H:%M:%S',\n",
    "        handlers=[\n",
    "        logging.FileHandler(\"ex05_08.log\"),\n",
    "        logging.StreamHandler(sys.stdout)\n",
    "    ])\n",
    "\n",
    "logging.info(\"Started\")"
   ]
  },
  {
   "cell_type": "markdown",
   "metadata": {},
   "source": [
    "## Show the available Platforms"
   ]
  },
  {
   "cell_type": "code",
   "execution_count": 3,
   "metadata": {},
   "outputs": [
    {
     "name": "stdout",
     "output_type": "stream",
     "text": [
      "\n",
      "============================================================\n",
      "OpenCL Platforms and Devices\n",
      "============================================================\n",
      "Platform 0 - Name: AMD Accelerated Parallel Processing\n",
      "Platform 0 - Vendor: Advanced Micro Devices, Inc.\n",
      "Platform 0 - Version: OpenCL 2.1 AMD-APP (3354.13)\n",
      "Platform 0 - Profile: FULL_PROFILE\n",
      " --------------------------------------------------------\n",
      " Device - Name: gfx1010:xnack-\n",
      " Device - Type: ALL | GPU\n",
      " Device - Max Clock Speed: 1675 Mhz\n",
      " Device - Compute Units: 18\n",
      " Device - Local Memory: 64 KB\n",
      " Device - Constant Memory: 6893568 KB\n",
      " Device - Global Memory: 8 GB\n",
      " Device - Max Buffer/Image Size: 6732 MB\n",
      " Device - Max Work Group Size: 256\n",
      "\n",
      "\n",
      " --------------------------------------------------------\n",
      " Device - Name: gfx1010:xnack-\n",
      " Device - Type: ALL | GPU\n",
      " Device - Max Clock Speed: 1815 Mhz\n",
      " Device - Compute Units: 20\n",
      " Device - Local Memory: 64 KB\n",
      " Device - Constant Memory: 6893568 KB\n",
      " Device - Global Memory: 8 GB\n",
      " Device - Max Buffer/Image Size: 6732 MB\n",
      " Device - Max Work Group Size: 256\n",
      "\n",
      "\n"
     ]
    }
   ],
   "source": [
    "info = opencl_information()\n",
    "info.print_full_info()"
   ]
  },
  {
   "cell_type": "markdown",
   "metadata": {},
   "source": [
    "## Configure the OpenCL Context"
   ]
  },
  {
   "cell_type": "code",
   "execution_count": 4,
   "metadata": {},
   "outputs": [],
   "source": [
    "platform_number = 0\n",
    "device_number = 1\n",
    "\n",
    "cl_devices = cl.get_platforms()[platform_number].get_devices()\n",
    "cl_ctx = cl.Context(cl_devices)\n",
    "cl_queue = cl.CommandQueue(cl_ctx, cl_devices[device_number])"
   ]
  },
  {
   "cell_type": "code",
   "execution_count": 5,
   "metadata": {},
   "outputs": [
    {
     "name": "stdout",
     "output_type": "stream",
     "text": [
      "Max Compute Units: 20\n",
      "Max Compute Units: 256\n",
      "Threads: 5120\n"
     ]
    }
   ],
   "source": [
    "cl_device = cl_devices[device_number]\n",
    "\n",
    "cl_threads = cl_device.max_compute_units * cl_device.max_work_group_size\n",
    "if cl_device.type & 4 == 0:\n",
    "    cl_threads = cl_devices.max_work_group_size\n",
    "\n",
    "print('Max Compute Units:', cl_device.max_compute_units)\n",
    "print('Max Compute Units:', cl_device.max_work_group_size)\n",
    "print('Threads:', cl_threads)"
   ]
  },
  {
   "cell_type": "markdown",
   "metadata": {},
   "source": [
    "## Compile the Program"
   ]
  },
  {
   "cell_type": "code",
   "execution_count": 6,
   "metadata": {},
   "outputs": [],
   "source": [
    "def build_program(program_files : list, cl_ctx : cl.Context,\n",
    "        build_options=[]) -> cl.Program:\n",
    "    \"\"\"\n",
    "    Build a program from an OpenCL source file.\n",
    "\n",
    "    Parameters\n",
    "    ----------\n",
    "    program_files : list\n",
    "        The path to the OpenCL source files.\n",
    "    cl_ctx : pyopencl.Context\n",
    "        The context to build the program with.\n",
    "    build_options : list of str\n",
    "        The build options to use.\n",
    "\n",
    "    Returns\n",
    "    -------\n",
    "    pyopencl.Program\n",
    "    \"\"\"\n",
    "    program_source = ''\n",
    "\n",
    "    for cl_file in program_files:\n",
    "        with open(cl_file, 'r') as cl_file:\n",
    "            file_source = cl_file.read()\n",
    "            program_source += '\\n' + file_source\n",
    "\n",
    "    program_source = cl.Program(cl_ctx, program_source)\n",
    "    program = program_source.build(options=build_options)\n",
    "            \n",
    "    return program"
   ]
  },
  {
   "cell_type": "code",
   "execution_count": 7,
   "metadata": {},
   "outputs": [
    {
     "name": "stderr",
     "output_type": "stream",
     "text": [
      "c:\\Users\\johnny\\env\\dsm070\\lib\\site-packages\\pyopencl\\__init__.py:274: CompilerWarning: Non-empty compiler output encountered. Set the environment variable PYOPENCL_COMPILER_OUTPUT=1 to see more.\n",
      "  warn(\"Non-empty compiler output encountered. Set the \"\n"
     ]
    },
    {
     "name": "stdout",
     "output_type": "stream",
     "text": [
      "Kernel Names: get_random_numbers;mine_eight;get_random_string;get_single_hash_nonce;get_single_hash;hash_main;mine_eight_sequential;mine_nonce\n"
     ]
    }
   ],
   "source": [
    "cl_program_files = [\n",
    "    'Library/worker/sha256.cl',\n",
    "    'Library/worker/zimcoin.cl',\n",
    "]\n",
    "\n",
    "cl_program = build_program(cl_program_files, cl_ctx)\n",
    "\n",
    "# show the kernel names\n",
    "program_kernel_names = cl_program.get_info(cl.program_info.KERNEL_NAMES)\n",
    "print(f\"Kernel Names: {program_kernel_names}\")"
   ]
  },
  {
   "cell_type": "markdown",
   "metadata": {},
   "source": [
    "## Mine Nonce"
   ]
  },
  {
   "cell_type": "code",
   "execution_count": 8,
   "metadata": {},
   "outputs": [],
   "source": [
    "max_nonce = 20\n",
    "max_output_size = 256"
   ]
  },
  {
   "cell_type": "code",
   "execution_count": 9,
   "metadata": {},
   "outputs": [],
   "source": [
    "a = '0000000093e0dbb2e58e64502569a8e47c46da1e15608bcb78812ab6376b9634'"
   ]
  },
  {
   "cell_type": "code",
   "execution_count": 10,
   "metadata": {},
   "outputs": [],
   "source": [
    "def display_output(zeros_found : dict, nonce : np.ndarray,\n",
    "                   nonce_len : np.ndarray, plaintext : str, prefix : str) -> None:\n",
    "    \"\"\"\n",
    "    Display the output generated by the OpenCL Kernel.\n",
    "    \"\"\"\n",
    "    for i in range(0, max_output_size):\n",
    "        if nonce_len[i] > 0:\n",
    "            nonce_str = prefix + nonce[i * max_nonce:i * max_nonce + nonce_len[i]].tobytes().decode('UTF-8')\n",
    "            zeros_found[i] = nonce_str\n",
    "            hash = hashlib.sha256((plaintext + nonce_str).encode('utf-8'))\n",
    "            zeros = len(hash.hexdigest()) - len(hash.hexdigest().lstrip('0'))\n",
    "\n",
    "            logging.info(\"%4d: [%2d] %20s %64s\" % (i, zeros, nonce_str, hash.hexdigest() if nonce_len[i] > 0 else ''))"
   ]
  },
  {
   "cell_type": "code",
   "execution_count": 11,
   "metadata": {},
   "outputs": [
    {
     "name": "stdout",
     "output_type": "stream",
     "text": [
      "4294967295\n",
      "18446744073709551615\n",
      "20\n"
     ]
    }
   ],
   "source": [
    "print(np.iinfo(np.unsignedinteger).max)\n",
    "print(np.iinfo(np.ulonglong).max)\n",
    "print(len(str(np.iinfo(np.ulonglong).max)))"
   ]
  },
  {
   "cell_type": "code",
   "execution_count": 12,
   "metadata": {},
   "outputs": [],
   "source": [
    "#cl_threads = (cl_threads // 2)\n",
    "#cl_threads = 1"
   ]
  },
  {
   "cell_type": "code",
   "execution_count": 13,
   "metadata": {},
   "outputs": [
    {
     "name": "stdout",
     "output_type": "stream",
     "text": [
      "2022-07-13 19:10:19 INFO     build program: kernel 'mine_eight_sequential' was part of a lengthy cache retrieval (0.47 s)\n",
      "2022-07-13 19:10:35 INFO        0: [ 8]            395707976 0000000053d18bbf3e8293e6a3bacda6e35ee7715e6353bf55a86cb9c3b4167b\n",
      "2022-07-13 19:10:52 INFO        0: [ 8]           5524391969 0000000093e0dbb2e58e64502569a8e47c46da1e15608bcb78812ab6376b9634\n",
      "2022-07-13 19:11:27 INFO        0: [ 8]          17329064093 00000000de7de6badd2d7b08f71c1de29067837b61dfd46cb2092569201fdec6\n",
      "2022-07-13 19:11:27 INFO        1: [ 8]          17947267177 00000000bb58ddbd9f8a6c1c7e57f57b49e2a6dcb0c9cb1c7a5a0a4ffe985072\n",
      "2022-07-13 19:11:27 INFO        2: [ 8]          16201912725 000000009b7e960911e53f8e48b9b311220dc76521ed68f1532a6298bc04b6ce\n",
      "2022-07-13 19:11:44 INFO        0: [ 8]          25217367676 00000000fec67d87fa16a224b06b23e0a8d14f8e6cf012104fe2bc7aed688e6e\n",
      "2022-07-13 19:12:01 INFO        0: [ 8]          28128919330 000000006a143ff7920c82c62f6f1f502b0b4b55e054a3479fa02a8040a5d13d\n",
      "2022-07-13 19:12:18 INFO        0: [ 8]          31333355519 0000000023c581b9b51ed3ad54f4c6f13c90098d80c42ff2ab9e8e04b21c02fa\n",
      "2022-07-13 19:12:35 INFO        0: [ 8]          36070700197 00000000b9253558c1bbc3043221f8cf57f3436f496408d500cf3bc78af48a8a\n",
      "2022-07-13 19:13:10 INFO        0: [ 8]          48888555654 00000000dbf0c89a79a0319232bbb839ec72eeb9f3d88ec2e9863e066af9d2bd\n",
      "2022-07-13 19:13:27 INFO        0: [ 8]          56120813456 00000000e6e665fa370a6ff00da584915ee83be0a00306eab440abc5611f83ad\n",
      "2022-07-13 19:14:01 INFO        0: [ 8]          63494345854 00000000a54005f7a5ec85d842f01d6164cc2411f7df55d9a2adf94e6dafd52d\n",
      "2022-07-13 19:14:36 INFO        0: [ 8]          73028017059 00000000cc7e13ac8ac8ac4e3cb4b1160fc91ffbc1da422004633ec03ae24a90\n",
      "2022-07-13 19:14:36 INFO        1: [ 8]          76360173941 0000000073594071d543fc9e8d3ed2972c2a8a81d69f9c1aae504facdeabb619\n",
      "2022-07-13 19:14:53 INFO        0: [ 8]          80797040346 00000000a4b798d3ef2b24685e8ee5894d6a30ba599d4d25f05b412c296b2d1f\n",
      "2022-07-13 19:14:53 INFO        1: [ 8]          76815693805 00000000c5a30f70b3c6d050081e7a8c4b921c0b31a02f696a1c433e9a8237a6\n",
      "2022-07-13 19:14:53 INFO        2: [ 8]          77201834367 00000000ffd81e7fff06b0524d67a044a4cf88a4a05979e643d03aeb9e2e31cc\n",
      "2022-07-13 19:15:10 INFO        0: [ 8]          84261661722 0000000061f103f2f797dd80f561c00703613bcf234106cace24e57883be2507\n",
      "2022-07-13 19:15:27 INFO        0: [ 8]          89298555007 00000000ff40cb6df72ef6e86bc00940e16e01c2d67e7905ef9ab9d1722ed392\n",
      "2022-07-13 19:15:27 INFO        1: [ 8]          91520612819 00000000a3170a2867cf15fa860162f05a8e987206426fdf2fbca31409c2d78e\n",
      "2022-07-13 19:16:02 INFO        0: [ 8]          98141064880 00000000142167d66b53517ce0d24d5ff6131dfda58f7e6da9eaf4ea338c8fbb\n",
      "2022-07-13 19:16:02 INFO        1: [ 8]          99701215729 00000000aed4d271700d06fc567335e361886a12a080759af80c99a545c8b902\n",
      "2022-07-13 19:16:20 INFO        0: [ 8]         106328169784 000000009c275cf594a2d2aa840ba9b7895168918d952a3e81652af611b5f113\n",
      "2022-07-13 19:16:20 INFO        1: [ 8]         107101266990 0000000052fae67d17c95410507cc3fd5817d39eb6016829d53626dd7f2aefa4\n",
      "2022-07-13 19:16:20 INFO        2: [ 8]         106028973665 000000007db9df01f554dcc3bb85fd6f84b464b581c46be3a64d14675a7c6bb8\n",
      "2022-07-13 19:16:38 INFO        0: [ 8]         111037147953 0000000055f33b72cf08cb79180fcd744c0e1951b252cad1f981b21854ad5c0e\n",
      "2022-07-13 19:16:38 INFO        1: [ 8]         109167233388 00000000d69d9521d832b907c9c624b39c99f58b67bf892844640e589beb3ddc\n",
      "2022-07-13 19:16:56 INFO        0: [ 8]         114681730693 00000000bb1e7ee63db73b0f21a0362ebce50ffa4400f94d6407c02b58a2c6f6\n",
      "2022-07-13 19:16:56 INFO        1: [ 8]         113131883243 00000000b814d0dd3d6c375222f543e86f1f64833a6d86e24efdd0b7a76664fe\n",
      "2022-07-13 19:17:13 INFO        0: [ 8]         120331014734 00000000b3c8c601a731c886cdc9963d2f2d1665c8ac8f990ac1ae5db5d0f4b0\n",
      "2022-07-13 19:17:49 INFO        0: [ 8]         132915284468 00000000260b6a5e88ad36c1a2af724044ab6dcdbe39fcf60758fbbae0f2e905\n",
      "2022-07-13 19:17:49 INFO        1: [ 8]         129596489549 00000000d461b5cb7461addae4558733af55440b1b10b836f519dead3d395c98\n",
      "2022-07-13 19:17:49 INFO        2: [ 9]         128421639420 0000000004d745e11f4dc9c0055cf4d879803d809d19ccad6bb91ceeee2d57c4\n",
      "2022-07-13 19:18:07 INFO        0: [ 8]         135368730517 00000000150033493a8c35ab820c1c4112b6e8301ec610edf72e5d12acfd6189\n",
      "2022-07-13 19:18:25 INFO        0: [ 9]         138845690882 000000000f2758117eae55f0ed8c5434c8a5afa924f281356e705ad0e49619ec\n",
      "2022-07-13 19:18:43 INFO        0: [ 8]         146743965787 0000000031beda839f192dc010020e7a2ab354411a65d78ccacf66733801b5c5\n",
      "2022-07-13 19:19:00 INFO        0: [ 8]         153035914860 0000000088479f5cf1523bc85257c9648d3abe619fca3d97e414ef3103ab0818\n",
      "2022-07-13 19:19:18 INFO        0: [ 8]         157580377617 00000000c34e72e44d4a7063e34774745e84fc969fa16e60ac26d09f22f7fa99\n",
      "2022-07-13 19:19:18 INFO        1: [ 8]         155169605429 00000000c088b83cf14758be96701a7cd331545f8fbed41640342d13e084daf6\n",
      "2022-07-13 19:19:36 INFO        0: [ 8]         159456339203 0000000062f4916c7d6dec2240b99849643a84e6bf41207aeb33a75c704a9426\n",
      "2022-07-13 19:19:54 INFO        0: [ 9]         164770311661 000000000b43196358a90aa14d3616ed9398957c36a4bab4b93ebf6e738c4a8e\n",
      "2022-07-13 19:19:54 INFO        1: [ 9]         168574908147 000000000f59dd082d460297f3d3082b6faf61eccb5800413386e325276317a3\n",
      "2022-07-13 19:20:30 INFO        0: [ 9]         178396837590 000000000f8044c0d9aab510945e19ea9c0e470e316036d3aa1ec72ac63dea6d\n",
      "2022-07-13 19:21:05 INFO        0: [ 8]         186835019260 00000000979d69c33b8cc3daeac52a1040be0e4a54f2c479d79e689b9fa0855a\n",
      "2022-07-13 19:21:05 INFO        1: [ 8]         185426977190 00000000171c4a038ff2dc97bbee000a659be3f50dc7735c4a018e2d2b7c8583\n",
      "2022-07-13 19:21:23 INFO        0: [ 8]         189815796509 00000000bbd1c0fc869eaf234452f8773c8923fb02cfd18d3a54383bbd30dc1d\n",
      "2022-07-13 19:21:23 INFO        1: [ 8]         190201841033 00000000c32b736e819d2f6ab140543b1e92fb5fd8054337db20ed0d79afd8ec\n",
      "2022-07-13 19:21:41 INFO        0: [ 8]         194636168162 000000003de56b36e56cf7527cff3830dbc94bcc20e6a42157240f89b67cdbff\n",
      "2022-07-13 19:21:59 INFO        0: [ 8]         201894683670 00000000ba3eb7c0c89424d5f0dfd5c03c3e8897d169ffd5598d5e0715e83fe3\n",
      "2022-07-13 19:22:34 INFO        0: [ 8]         211380705622 00000000b7c1f9b3ab8fee4c1a7a8d5997c08547539e1b098e5dff37d29741a7\n",
      "2022-07-13 19:22:52 INFO        0: [ 8]         218372154215 00000000d367617afdb77e7ec47581e87afe1a8d1902ad7e67e113ee5bae95a1\n",
      "2022-07-13 19:23:46 INFO        0: [ 8]         232030340188 000000001269f4dd1bce9231c74b42e1a001c584fa1db1645f89f3eb5da2e8e9\n",
      "2022-07-13 19:23:46 INFO        1: [ 8]         233281625955 0000000017e4da45010b4056ea2a09fe1fb60be73b1d69cafa3ceea857fcf3b6\n",
      "2022-07-13 19:24:39 INFO        0: [ 8]         248378273130 000000004f9322764d2d008fad3e5433f3ce9fa6873e74279e7de87b5a4b793f\n",
      "2022-07-13 19:24:39 INFO        1: [ 8]         249186826960 00000000d9326f0d8cc2b1a69ebb5acac4580167fcb758f3118a2d05722e9af8\n",
      "2022-07-13 19:25:50 INFO        0: [ 8]         268619900274 000000001ec54dfde1b3638f9386cf25b3aaebcef68fe73d10e986acd18f3e13\n",
      "2022-07-13 19:25:50 INFO        1: [ 8]         268013990378 00000000345e297c18ff4adecaf4e66cd6ac474e197b2af7dc31cdb16e90f74d\n",
      "2022-07-13 19:26:44 INFO        0: [ 8]         281827073347 000000001647cef38a9d4f46c53fec0a79b94a567a4c33e02538b22636a8f03f\n",
      "2022-07-13 19:26:44 INFO        1: [ 8]         282348226350 000000002c1fa2d337de7d19cdac467cf12b9e34c5af1caf3ea963acaf584198\n",
      "2022-07-13 19:27:20 INFO        0: [ 8]         295676066946 00000000318e6d8d2eba057908036f8a0d3f8488792de7d652a6430f78620aa7\n",
      "2022-07-13 19:27:20 INFO        1: [ 8]         292874254524 000000001d7ea2d207d591136d618cc0a10761f05806705e5de27f9d53914da3\n",
      "2022-07-13 19:27:20 INFO        2: [ 8]         293018412170 00000000377c7147c3b3497a22bfcd35ee83b037db9ef6b6565582b62b6bdadf\n",
      "2022-07-13 19:27:20 INFO        3: [ 8]         294647879153 00000000fc23187545ea0921ea085d265511cb05e4d7f886b3213ce06b2ce87c\n",
      "2022-07-13 19:27:20 INFO        4: [ 8]         296450954076 00000000449314746c0e0b0490ca15c0809f4cc6068726d6af6e7229ceecee80\n",
      "2022-07-13 19:27:37 INFO        0: [ 8]         300485007765 00000000f609be65971a61377811b634445cdd09df8b449a9a6b830543ccce47\n",
      "2022-07-13 19:27:37 INFO        1: [ 8]         300861705604 000000003c3e66bf84cd0acb6a187e2ef8e905fc944c263a4b83669a4cf37611\n",
      "2022-07-13 19:27:55 INFO        0: [ 8]         302642286669 0000000034370c9d082f7cfe71a44c59c817ab6ba64b658ce57f805697621d6d\n",
      "2022-07-13 19:29:07 INFO        0: [ 8]         326045123264 00000000cf49da0b02f76586f81ee18fc1d35b04d24c935fa4d0fe510fedb660\n",
      "2022-07-13 19:29:07 INFO        1: [ 8]         324185741284 00000000576b5df151a57f52ee0a42dfe296f3e59305c5dc96498870875101f8\n",
      "2022-07-13 19:30:00 INFO        0: [ 8]         338657124995 000000003de158c8b76fc87411181412f30d3e3c46b93b72ba6e4f1f57657451\n",
      "2022-07-13 19:30:18 INFO        0: [ 8]         345648940807 0000000091f13f40b66d6a407e0a2ad96c6775c1adcd16342fca5338b1f1b11c\n",
      "2022-07-13 19:31:29 INFO        0: [ 8]         368601321359 000000003c7e2d405a162454d2ab5108dbdeb0ba1758bd061b35ab656b6deac7\n",
      "2022-07-13 19:31:29 INFO        1: [ 8]         363716468030 000000009fa48204c5bf781699883d7a4ad1091ee15b1c7b863b101244f735a5\n",
      "2022-07-13 19:31:47 INFO        0: [ 8]         371931323745 00000000d59e66d1c1f68f55a3df0b75d7e6ec5f48cd02962c220456bdf2da70\n",
      "2022-07-13 19:31:47 INFO        1: [ 8]         370908735242 0000000038d86890433de3abfefcb3bca8f2b9dc65f902d5bb43c45ab2214ed1\n",
      "2022-07-13 19:31:47 INFO        2: [ 8]         370335820090 00000000e068bdd60b4a4770408c554ef116b7393b9672ee49b392540f88c13d\n",
      "2022-07-13 19:32:05 INFO        0: [ 8]         374680652256 00000000b87be942303e49ff313d456fc5f0177bd0c4da15a3312d984955577c\n",
      "2022-07-13 19:32:23 INFO        0: [ 9]         383619962189 000000000516704f738ad260105961e913622e9eaa939ee20b8a9b8b7c43cae6\n",
      "2022-07-13 19:33:16 INFO        0: [ 8]         396763615922 0000000022e2933e344a28884e8ef36c9731f5f3ca5935860b859ae98eaea471\n",
      "2022-07-13 19:33:34 INFO        0: [ 8]         400176533450 0000000076e91cbc4cde06a97a8595575148fc55c797beb7fc25fde06234495a\n",
      "2022-07-13 19:33:52 INFO        0: [ 8]         404969253952 0000000084eaec4d8c9bf24b2ead32cb53e272b348798cf6dbb9cc97430be59f\n",
      "2022-07-13 19:33:52 INFO        1: [ 8]         407507417346 00000000a0337fb75150e243ccce9c2f6a844d2615317d5b1ab4e423a2391567\n",
      "2022-07-13 19:33:52 INFO        2: [ 8]         407265522826 00000000982e38fc8e90b99adf4207ede04091d32ccc2dfedd47f05f3fcc1993\n",
      "2022-07-13 19:34:10 INFO        0: [ 8]         411687343469 0000000043d2fc3cedd339f07e934a0a55c830eb3b7ecee973f0e11b64975632\n",
      "2022-07-13 19:34:45 INFO        0: [ 8]         421700285798 000000006ac4c82def4eaa056c22af3000cf97058079300027554c23e6d1d0d3\n",
      "2022-07-13 19:35:03 INFO        0: [ 8]         425145333729 00000000b51599875789f329d29ddeffaa19f43e772a3608f5c1566a857cbe9e\n",
      "2022-07-13 19:35:39 INFO        0: [ 8]         439360090301 000000008ab1b0f2a4d8a6b46027501e4c2bb49d04a9d6966f729e4099b094fa\n",
      "2022-07-13 19:35:57 INFO        0: [ 8]         442751819928 0000000058b1d6c0b9a0ee4bbace58a112143711e1e99843a49201b0d9635a22\n",
      "2022-07-13 19:35:57 INFO        1: [ 8]         444227977428 0000000013567fcd4c8d4661c4e6a083d87651fb543141e7c0857ecc26da7791\n",
      "2022-07-13 19:36:15 INFO        0: [ 8]         446289466710 00000000bf39a6768987dee9adda225317f8501583d807f2c6ee63a8e3252b4e\n",
      "2022-07-13 19:36:50 INFO        0: [ 8]         458255287278 0000000094c0cda8eb4a6ad2a1ac2f411d2fd3b83febf72ed8c7bb37a07fc91f\n",
      "2022-07-13 19:37:26 INFO        0: [ 8]         470369432057 0000000060dd2420602826335dbea14f4f6041fd743d8519e60beee98a57f640\n",
      "2022-07-13 19:37:44 INFO        0: [ 8]         475071065989 0000000096fe0cf3943e02d3523c73b50d05816fc447bfb5c1300073cbce7460\n",
      "2022-07-13 19:38:19 INFO        0: [ 8]         485984539498 000000004ca7e3dc5dbcc47e6780107cf6aa25c1113337d7d30e4473563b1aab\n",
      "2022-07-13 19:39:31 INFO        0: [ 8]         502948413303 000000001e0d5426e14e86b6a8f66df47d46248458f7ccec3f71a38410d4ce81\n",
      "2022-07-13 19:39:48 INFO        0: [ 8]         508816857273 00000000a7038b1e9e08c0df2d7f9d19d2e186e71604303ba7662b4ef089c940\n",
      "2022-07-13 19:40:06 INFO        0: [ 9]         512836368843 000000000d1af7f0b778844c9668a241eb9363f74eb3957cb929f1af4fd14d17\n",
      "2022-07-13 19:40:06 INFO        1: [ 8]         514458458628 00000000240efee7b3c43cbe96106dc5e198283922ba1f16642f7609bbe50771\n",
      "2022-07-13 19:40:06 INFO        2: [ 8]         513242526354 000000004eebe93f2bef9e61ca52d3590ab39f3317692857ba574c17fa2e9695\n",
      "2022-07-13 19:40:06 INFO        3: [ 8]         514446741945 0000000026dcb24dfb77455009bff0eccf73b5d9b64d05e2b91d1f8f69d79f61\n",
      "2022-07-13 19:40:24 INFO        0: [ 8]         519720507995 00000000c5ed4eb4aa01c120d7f377377f43adc3c06dcbfdf50cd7d8dab58b85\n",
      "2022-07-13 19:40:24 INFO        1: [ 8]         521784876613 00000000c6ec173dfaac455fd9dbed39d92aed371333fef86cfe765c7bd53a27\n",
      "2022-07-13 19:41:18 INFO        0: [ 8]         533508570870 00000000dbf7da8594477eecfd403510cc722c5b0a12335694fa3d5e8529401c\n",
      "2022-07-13 19:41:18 INFO        1: [ 8]         532961940687 000000004dbe269fce24f1d029d15bb5789826c067284bb4a53f8f49bf4b4749\n",
      "2022-07-13 19:41:35 INFO        0: [ 8]         542600628152 000000002c2303fdcfde75e301a8d37917c59ee1db93337d9f20803de092eb3d\n",
      "2022-07-13 19:41:35 INFO        1: [ 8]         542381649311 000000006d1fcff956df4ac52189f91a571c3f4caf8f6b1c1a98efb30a6f0811\n",
      "2022-07-13 19:41:53 INFO        0: [ 8]         545660068870 00000000d7370ba90764c490adf94d84aba3a5aa64c10532922e7e2b820a2916\n",
      "2022-07-13 19:41:53 INFO        1: [ 8]         546674448218 000000006cd35900f0b4232f0f67b7647b2bbdc089fe801e0f8942c94f5e17ec\n",
      "2022-07-13 19:41:53 INFO        2: [ 8]         547282607473 0000000096cfa7501d45502b6bcf2f1c6d49436f0e5881569b1185de18e50929\n",
      "2022-07-13 19:42:29 INFO        0: [ 8]         556718504358 00000000618ad29a041505ace9d0fe75d81a70713d7d1bb76beaad39e7e22f58\n",
      "2022-07-13 19:42:47 INFO        0: [ 9]         559339095604 000000000b0ddd057a6b6522130df4280dfb1abe3f3f89c91fe979602467cff2\n",
      "2022-07-13 19:42:47 INFO        1: [ 8]         561898348034 00000000248687819faec476ef90eebebdd9d7f7517c2882f8c8fca77d6cf3be\n",
      "2022-07-13 19:42:47 INFO        2: [ 8]         561542407074 00000000a94ceb8284f9276465fbb998a21b32973f588b915a494f81fc63e248\n",
      "2022-07-13 19:43:05 INFO        0: [ 9]         566866447889 000000000fa8932a28e5a2a35916b836fe1d4bfc861bf9403c70df0dd304a90b\n",
      "2022-07-13 19:43:05 INFO        1: [ 8]         563468638146 00000000e5c6585887829b39f9b677a5ea0f364f4df29088117102f3d5b8f866\n",
      "2022-07-13 19:43:22 INFO        0: [ 8]         569411607730 00000000ebdcb9bf83a2c771d9a44e7acc67a646d36e41ad0755655199a86bfc\n",
      "2022-07-13 19:43:22 INFO        1: [ 8]         572419785783 00000000ab498b372e5b2a61650f477f15fc99b2c62c3da6a1727f148f3688a7\n",
      "2022-07-13 19:43:22 INFO        2: [ 9]         572457906502 0000000004679412f864b887332744b5571a85756bce6071011b9e9dd9f70e74\n",
      "2022-07-13 19:43:40 INFO        0: [ 8]         574019248930 00000000d7772ad6eb48f3faa0c6ccf572f7a5ed6abbe2a0ae6b856e929f277c\n",
      "2022-07-13 19:43:40 INFO        1: [ 8]         574765542455 00000000619ef331ee5b459386b9aedd9bf2098d2e5e73e45a8101866023b122\n",
      "2022-07-13 19:43:58 INFO        0: [ 8]         582989010661 000000008bb4f9d3951ac97f430d69ab385204f7ca69f835743b4a284dd18ecc\n",
      "2022-07-13 19:43:58 INFO        1: [ 8]         581742108657 0000000083f840b3160477801b6a6afebb3bead8705f505e6d0a6d60f09ceb13\n",
      "2022-07-13 19:43:58 INFO        2: [ 8]         578797140804 000000007a8229d5cf9f8030ac06b548d55b43dc7a50c7d116f7427863f73ff3\n",
      "2022-07-13 19:43:58 INFO        3: [ 8]         580294965133 000000003ab0ebf16e62502b0ef38ffcf996a26564b14c9c02d5ca37bd915883\n",
      "2022-07-13 19:44:16 INFO        0: [ 8]         585826091584 000000003b1e97816641a2bd8fe66c1d82cc1ce21a743c4a1fe52b5cc505daa3\n",
      "2022-07-13 19:44:16 INFO        1: [ 8]         588001468479 0000000065c8e5d4e7ae762b75791d330300d86115bfa7c0c9a0025e6d816c2e\n",
      "2022-07-13 19:44:16 INFO        2: [ 9]         584623518953 000000000b29cd6eaf8e418a9ed3df6791c16ef54261eecbf076a2728f4c7b17\n",
      "2022-07-13 19:44:16 INFO        3: [ 8]         586306851504 000000005c0ad892c33d2db106b95f01d59fa8fa9dee624105bdd9dd306bc465\n",
      "2022-07-13 19:45:09 INFO        0: [ 8]         599136717172 00000000d6eca30f1f90bfb37f0c11fc65428eaf74c0251d6927878257bb201a\n",
      "2022-07-13 19:45:09 INFO        1: [ 8]         604082833798 00000000c8016225cf2f6c0a06d92ce97f08f1e2f37eb14388fef77b25244f75\n",
      "2022-07-13 19:45:45 INFO        0: [ 8]         614189505721 000000002036ace38a484271900f81bbcd1c5832d47f0274c2869d6ea08b6c4f\n",
      "2022-07-13 19:46:03 INFO        0: [ 8]         618144551936 00000000817c47944606ed4b99ab4c6a0f15aabccf4e13f9c2a7550226a241d9\n",
      "2022-07-13 19:46:03 INFO        1: [ 8]         618735847815 0000000053fc814d70124bfd05adc0225c6eb37739109eea99f2184b0cb317bb\n",
      "2022-07-13 19:46:03 INFO        2: [ 9]         618125986872 0000000004fe8882336fd84b5f040538504b2c1310a33e3edcb89d2e7811d4e5\n",
      "2022-07-13 19:46:38 INFO        0: [ 8]         628929605364 00000000e4b4bc0ae1c0e84916ad28fc7b6ff63351aec7a4284586b8a99e7746\n",
      "2022-07-13 19:46:38 INFO        1: [ 8]         627997839980 000000001bd505ad90d7417edc80be39df377a0f35f0db82a468c8a1608929da\n",
      "2022-07-13 19:47:32 INFO        0: [ 8]         641478275499 00000000472d58ae6af29cb446dd8817e7c8bd500a2969ae3dad5ee612fbcf93\n",
      "2022-07-13 19:47:32 INFO        1: [ 8]         643767903114 00000000f89ec48376f6d5904279d68685023f0776f2ea5261f9d3b4157a987e\n",
      "2022-07-13 19:47:50 INFO        0: [ 8]         648260956605 00000000c82bf5a009a1523495eca300baebec87d684e73d5b53117d9fa7dd01\n",
      "2022-07-13 19:48:25 INFO        0: [ 8]         655455934140 00000000b90ee2c1d37aaf82d9bdceb26ed70078801dd2621a6938a37c3c79a6\n",
      "2022-07-13 19:48:43 INFO        0: [ 8]         663417913646 00000000df914cc69e35ea36e02ab1db8d3df285b6820a056224b72bb799b61a\n",
      "2022-07-13 19:49:01 INFO        0: [ 8]         667852338180 00000000c58e487e296d4054b89783ec9ad699cf00efa6504a07947ee73bc81e\n",
      "2022-07-13 19:49:01 INFO        1: [ 8]         665639525237 000000004d11f1c57b8b2872989b750cef0f5b29acd4e12ef2a586290fcf1143\n",
      "2022-07-13 19:49:37 INFO        0: [ 8]         676876399842 000000008df272b41c52b9123c879d11550cae53ae27d294d71f072766f0e4ae\n",
      "2022-07-13 19:50:30 INFO        0: [ 8]         693220225324 00000000f5a49054ea012c4cc3085b907e092e10b3dbf7b3e1c0681e677dcfb6\n",
      "2022-07-13 19:50:30 INFO        1: [ 8]         693571965854 0000000020c9ecb178ea61bbfdaba352695a9c679c926b78e5b3a46600cdf699\n",
      "2022-07-13 19:50:48 INFO        0: [ 8]         697660608817 000000002f8eaca5cf3bd7d0c38c360b8d9328aa32a2548cefa8741eddb27bd9\n",
      "2022-07-13 19:51:06 INFO        0: [ 8]         702180458861 00000000b37c5a6e05fceae9672d210aba026a03f4351debc7b1cac410da2811\n",
      "2022-07-13 19:51:06 INFO        1: [ 8]         706455594840 00000000245154906ab0164c4259445f8028d8f289d4c84173f43f461b67984d\n",
      "2022-07-13 19:51:24 INFO        0: [ 8]         711213904280 000000007dd580a1f3b74d34ba6620adea5cfee464f4a3f85ef35c38d686ec8a\n",
      "2022-07-13 19:51:59 INFO        0: [ 8]         717113666724 0000000037800a2151a61c4e0def199381d8d4f0af52d38bdf0484fc9a4e5801\n",
      "2022-07-13 19:51:59 INFO        1: [ 8]         720278704233 00000000125ed2611143062e6dea7bc0a804439b7efe4ad9c588c2dfa3454d54\n",
      "2022-07-13 19:52:35 INFO        0: [ 8]         731353965636 000000007149fcb1c8f79bf0cc26ad4084aa7350be0a81bedc4438407d07850f\n",
      "2022-07-13 19:53:29 INFO        0: [ 8]         744553879466 0000000071b6cb20eab4ecbb0a48e825ff5f73db7001c4f1e2a24fc901fc5855\n",
      "2022-07-13 19:54:04 INFO        0: [ 8]         753294720062 0000000089c5518d1ebab26396e08125ec1d4bbc1849f2dcb56513f723935c9c\n",
      "2022-07-13 19:54:04 INFO        1: [ 8]         752714926239 00000000b6ef38687b0921f6eec626e88244227790362ff9736de4169a694a15\n",
      "2022-07-13 19:55:33 INFO        0: [ 8]         781761103385 000000006e9229ca3e0f3b324d2681fb962cc51cb7b3b9c52b21c3b8cd826602\n",
      "2022-07-13 19:55:33 INFO        1: [ 8]         779908563032 000000007e82be071d5f7503719e1461a7a4f7c3c624180c1496336cb2615818\n",
      "2022-07-13 19:55:51 INFO        0: [ 8]         784615442949 00000000a4de18dfe73f9b6b2978f7b66f006cdfb3deea822d944b500c150e00\n",
      "2022-07-13 19:55:51 INFO        1: [ 8]         784553619723 0000000071b4c41cda66d6cfd1eb14b73eb174595d89a08a19e3683a11241102\n",
      "2022-07-13 19:56:09 INFO        0: [ 8]         791402315899 00000000a9990ca410254a9418a4d27716ba11c10ffba4444147523438d74aa2\n",
      "2022-07-13 19:56:09 INFO        1: [ 8]         793096780587 00000000254b165e1e58db6ab5a09997743d1d7a961cbf1f966b36e70c55b6b5\n",
      "2022-07-13 19:56:27 INFO        0: [ 8]         797822159716 00000000b3a49845224f4f4aec7cfb9fafa5853d4ba4154a9437bf42a73afc1a\n",
      "2022-07-13 19:56:27 INFO        1: [ 8]         796541630508 00000000d3d02281d1e8416bfac67308298fc196ad3a1ecd0bd5aaaa56263be1\n",
      "2022-07-13 19:56:45 INFO        0: [ 8]         802398100018 000000003524b162b92a615bf5f0c55d980a45452213370a15fdf3feff51649e\n",
      "2022-07-13 19:56:45 INFO        1: [ 8]         800128937968 00000000f83b5edd30419efd8ecc5c1178254f7f4e1bb679845b8c8a5175d9f9\n",
      "2022-07-13 19:57:02 INFO        0: [ 8]         807338165626 000000009cd7ae065fbdf938150a1184972b8125fba1e673c9fc4c615881cefe\n",
      "2022-07-13 19:57:02 INFO        1: [ 8]         807610341413 000000003a70f1638d7089a946e130782599f5dc41e92e891dd18dabd9526f32\n",
      "2022-07-13 19:57:02 INFO        2: [ 8]         808398473014 000000002673172fddb30048b403bf1929e01d12f349e3d553ab122649ed671c\n",
      "2022-07-13 19:57:38 INFO        0: [ 8]         814451341329 0000000088db58a8292a949481d94d1e65296779dc976b454a6832a6262b8665\n",
      "2022-07-13 19:57:38 INFO        1: [ 8]         817923365031 00000000b686edaae7b104de54f3e0f2980c191681d1e7f9fda4b59e3028d497\n",
      "2022-07-13 19:57:38 INFO        2: [ 8]         815415394755 00000000a23f3a1cfb07ba2ea4a5fa0bb01f0f60a3e278ad03011131dee4d7f5\n",
      "2022-07-13 19:57:56 INFO        0: [ 8]         823762300427 000000002a35fbaafee84472e80c17634b64b52719cca3786a45a895f1ad5313\n",
      "2022-07-13 19:58:14 INFO        0: [ 8]         828505439303 00000000bc28d48cb0531f4aa81deb0fd30bcba8dab70356087edaa280343724\n",
      "2022-07-13 19:58:14 INFO        1: [ 8]         825415799908 00000000e4bcf77a2678347bd1bfbac3fb81993fb9f1aa1a40f2bcc3996233b7\n",
      "2022-07-13 19:58:49 INFO        0: [ 8]         839034196088 00000000a9402e744edb35b13d443b75300dfe68815e5a423a56bc2a71736f54\n",
      "2022-07-13 19:59:07 INFO        0: [ 9]         842009150451 000000000795cb93da3529755a34d1511232c1cbc7e4aa96063248ddaef98033\n",
      "2022-07-13 19:59:25 INFO        0: [ 8]         846535604186 0000000027d074de54190322e3df5c9aee3b22224d7ee3fdaf6ba2b14f9e16a8\n",
      "2022-07-13 19:59:43 INFO        0: [ 8]         853959070153 00000000a2d3c33943e0876f52b8ce5372aac52487715e65bcfa79a81d17004f\n",
      "2022-07-13 19:59:43 INFO        1: [ 8]         852827321134 0000000097e865e1b9881bd69f63dc0c485c46132c3407e19ebbf9bccf6d1f4b\n",
      "2022-07-13 19:59:43 INFO        2: [ 8]         851833348511 000000008876fb5b7265cb4043cd9d4f3a8349bf95df379e8868c49b5763555f\n",
      "2022-07-13 20:00:01 INFO        0: [ 8]         860112751897 000000004f57a4671b42e2fc2e8ad416f41811b315f5311efbd2b5ac6c88dd2d\n",
      "2022-07-13 20:00:19 INFO        0: [ 8]         865186115891 00000000f2777f8916542da0e32065cbbacc5e46c994e8696b8929185eea53ba\n",
      "2022-07-13 20:00:19 INFO        1: [ 8]         862226331511 000000005b6996e75225c3d5b8d72d08211f22ce015ad2e0ef6d736eb299a9a7\n",
      "2022-07-13 20:00:36 INFO        0: [ 8]         868100646255 00000000d6f22e045af7de5a24fb4eeb9eefab8ca0d7febe50749049d98fc9af\n",
      "2022-07-13 20:00:54 INFO        0: [ 8]         873248817954 000000002e0d38b7d67a0d6c8715a5b41067c61a417f154004f174f3b32578a6\n",
      "2022-07-13 20:00:54 INFO        1: [ 8]         872137942612 000000009240a8940af1839312d809ba82adddceaef39f1e18b5b7700c93ff99\n",
      "2022-07-13 20:01:12 INFO        0: [ 8]         877896533716 00000000e672ec6757aef5f85b0317c72003c663dc7a74674a16d083b7f8fab8\n",
      "2022-07-13 20:01:48 INFO        0: [ 8]         887995039291 000000004ae79ced7054a36328d6194555355736299dde6bf318a8a76bdfb802\n",
      "2022-07-13 20:01:48 INFO        1: [ 8]         886281176433 000000005143ee52c1533002336ae5d4a0d3a7855e8ab80825131bd981c09cb0\n",
      "2022-07-13 20:01:48 INFO        2: [ 8]         888139512018 0000000017bf1dda651c6058997452f5650c63a401b79e4b6c98a3f9d1448196\n",
      "2022-07-13 20:01:48 INFO        3: [ 8]         890249565730 000000004ccfb2428696dd1b1d96ecdfd878350cc26ae513a19dfdde0ca9766c\n",
      "2022-07-13 20:02:59 INFO        0: [ 8]         910274210089 00000000f47879ff845f7e128cca5bf1520c1903a487c065cf757e189df473e8\n",
      "2022-07-13 20:02:59 INFO        1: [ 8]         909548799808 00000000baa9367a2bbc53db8859de0b767433fa6e88c0cef67ec0b1a9e76e31\n",
      "2022-07-13 20:02:59 INFO        2: [ 8]         907299806473 00000000ac79e100f32dc3149e4a1a96f8bd2e77770d0047bfdddacde33a492b\n",
      "2022-07-13 20:03:17 INFO        0: [ 8]         913562604834 00000000c7b79a27918063cd914636276f406b748e2a54bb2a76fe82936e2e10\n",
      "2022-07-13 20:03:35 INFO        0: [ 8]         920827597125 000000004aff088197058d3e6e2f617802fa8f84bed906e4b32976a3b8bf61f7\n",
      "2022-07-13 20:03:52 INFO        0: [ 8]         925877111283 00000000311273dc410322d8218b3bab1f748778a5d563e610db77a39faf5282\n",
      "2022-07-13 20:04:28 INFO        0: [ 8]         933662810855 00000000bf196fd949cee5f03d93c601fc6d83b865f7583b85a27a33848341d2\n",
      "2022-07-13 20:04:46 INFO        0: [ 8]         937548051596 0000000086e37dfb3b0f496d63d6c58e53b5284386e104964cfa09406919497f\n",
      "2022-07-13 20:05:22 INFO        0: [ 8]         950618575089 00000000aad16bdfc2c06615d80b1cebb81bc0bb037abcaff64b71e54832868f\n",
      "2022-07-13 20:05:22 INFO        1: [ 8]         951519794059 000000005add92beeb393ffae2919191fcf6f7e0834bd496183af87e2fe5ac64\n",
      "2022-07-13 20:05:39 INFO        0: [ 8]         953095908729 00000000646b04aa5d2ca307bbf2433f279a62eaaa0a91545e1a45f5d00386ed\n",
      "2022-07-13 20:06:15 INFO        0: [ 8]         965658038119 00000000d5e5318dd52dfa812948c5263effa7fefaca4b0e21422a9246a4ee4a\n",
      "2022-07-13 20:06:15 INFO        1: [ 8]         964738568340 000000002b2a8eb7b1c1ef4ac8d1dad92603286eac4537886209bf8f0120778d\n",
      "2022-07-13 20:06:51 INFO        0: [ 8]         974257130358 000000008dc143ca9fee0884b27767eb1c167bfd0266da0194fab056b62a8360\n",
      "2022-07-13 20:06:51 INFO        1: [ 8]         977259179238 00000000b4fe9388016902dd3fb0d8107092929f910d5f6bb90c7f3b1f35fa7d\n",
      "2022-07-13 20:07:09 INFO        0: [ 8]         979929360493 000000007512cc3ad17e28e45839637932687b929214d7f3bb11897ae0c04256\n",
      "2022-07-13 20:07:09 INFO        1: [ 8]         979551713837 00000000bb879f33d823933fa7d0cddf7c54728101ff5025ee7f65da7975c4b2\n",
      "2022-07-13 20:07:09 INFO        2: [ 8]         982583896151 00000000a61cb88fe7427e0309e544b1b3c94f4999cfd4ba9154ef04441583ec\n",
      "2022-07-13 20:07:09 INFO        3: [ 8]         980261892166 00000000f8587f08ab948e5ebf2930c9eff9835293cab02b728c2b60d91df3d4\n",
      "2022-07-13 20:07:26 INFO        0: [ 8]         987536767502 000000003944e6a5b3d8a7fcd0546bcd856ec96be4fb48d8187247ef798a0d29\n",
      "2022-07-13 20:07:26 INFO        1: [ 8]         983167785617 00000000385b1e7767e07716feb8648b5caba6271049ded16b0ff9532de3ea89\n",
      "2022-07-13 20:07:44 INFO        0: [ 8]         989166420033 00000000718ae74142482093386aa4e6449d08cfbf381f4fd2c3ccca8f68b1b6\n",
      "2022-07-13 20:07:44 INFO        1: [ 8]         989890989137 00000000fc44c2d67bc4e7ee6d4fc526365b9dd745129223f22ba0d3d16a0f2e\n"
     ]
    }
   ],
   "source": [
    "postfix = \"\"\n",
    "base_text = 'this is a description of the latest block'\n",
    "plaintext = base_text + postfix\n",
    "plaintext_bytes = np.frombuffer(plaintext.encode('utf-8'), dtype=np.uint8)\n",
    "plaintext_length = np.int32(len(plaintext_bytes))\n",
    "cl_plaintext_bytes = cl.Buffer(cl_ctx, cl.mem_flags.READ_ONLY | cl.mem_flags.COPY_HOST_PTR, hostbuf=plaintext_bytes)\n",
    "cl_plaintext_length = cl.Buffer(cl_ctx, cl.mem_flags.READ_ONLY | cl.mem_flags.COPY_HOST_PTR, hostbuf=plaintext_length)\n",
    "\n",
    "# set up the variables to generate the random numbers\n",
    "seed = np.ulonglong(1)\n",
    "window_size = np.uint32(1000000)\n",
    "nonce = np.zeros(shape=max_nonce * max_output_size, dtype=np.uint8)\n",
    "nonce_len = np.zeros(shape=max_output_size, dtype=np.uint8)\n",
    "\n",
    "# allocate the memory for the variables on the device\n",
    "cl_window_size = cl.Buffer(cl_ctx, cl.mem_flags.READ_ONLY | cl.mem_flags.COPY_HOST_PTR, hostbuf=window_size)\n",
    "cl_nonce = cl.Buffer(cl_ctx, cl.mem_flags.WRITE_ONLY, nonce.nbytes)\n",
    "cl_nonce_len = cl.Buffer(cl_ctx, cl.mem_flags.WRITE_ONLY, nonce_len.nbytes)\n",
    "\n",
    "zeros_found = {}\n",
    "\n",
    "keep_running = True\n",
    "while (keep_running):\n",
    "    cl_seed = cl.Buffer(cl_ctx, cl.mem_flags.READ_ONLY | cl.mem_flags.COPY_HOST_PTR, hostbuf=seed)\n",
    "\n",
    "    # execute the program\n",
    "    cl_program.mine_eight_sequential(\n",
    "        cl_queue, (cl_threads,), None,\n",
    "        cl_seed,\n",
    "        cl_window_size,\n",
    "        cl_plaintext_bytes,\n",
    "        cl_plaintext_length,\n",
    "        cl_nonce,\n",
    "        cl_nonce_len\n",
    "    )\n",
    "\n",
    "    # get the results\n",
    "    cl.enqueue_copy(cl_queue, nonce, cl_nonce)\n",
    "    cl.enqueue_copy(cl_queue, nonce_len, cl_nonce_len)\n",
    "\n",
    "    # display the last nonce tried for each thread\n",
    "    # for i in range(0, cl_threads):\n",
    "    #     logging.info(\"Thread %d: %d\" % (i, last_nonce[i]))\n",
    "\n",
    "    # for i in range(0, nonce.size):\n",
    "    #     print(nonce[i], end=' ')\n",
    "\n",
    "    # display the results\n",
    "    display_output(zeros_found, nonce, nonce_len, base_text, postfix)\n",
    "    #logging.info('Iteration Complete.')\n",
    "\n",
    "    seed = np.ulonglong(seed + cl_threads * window_size)\n",
    "    keep_running = True"
   ]
  },
  {
   "cell_type": "code",
   "execution_count": null,
   "metadata": {},
   "outputs": [],
   "source": [
    "input_buffer = {}\n",
    "nonce = {}\n",
    "nonce_len = 0\n",
    "seed = 123456\n",
    "\n",
    "while (seed > 0):\n",
    "    nonce_len += 1\n",
    "    input_buffer[nonce_len - 1] = (seed % 10)\n",
    "    seed = seed // 10\n",
    "\n",
    "print(input_buffer)\n",
    "\n",
    "for i in range(0, nonce_len):\n",
    "    nonce[nonce_len-1 - i] = input_buffer[i]\n",
    "\n",
    "for i in range(0, nonce_len):\n",
    "    print(nonce[i])\n",
    "    "
   ]
  }
 ],
 "metadata": {
  "kernelspec": {
   "display_name": "Python 3.8.10 ('dsm070')",
   "language": "python",
   "name": "python3"
  },
  "language_info": {
   "codemirror_mode": {
    "name": "ipython",
    "version": 3
   },
   "file_extension": ".py",
   "mimetype": "text/x-python",
   "name": "python",
   "nbconvert_exporter": "python",
   "pygments_lexer": "ipython3",
   "version": "3.8.10"
  },
  "orig_nbformat": 4,
  "vscode": {
   "interpreter": {
    "hash": "e25eda4915c6c09f3ef64934ec380f7ec3b1f46c3bb61f6f1ca0b69bf49eada9"
   }
  }
 },
 "nbformat": 4,
 "nbformat_minor": 2
}
