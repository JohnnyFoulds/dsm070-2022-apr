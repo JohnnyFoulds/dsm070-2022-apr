{
 "cells": [
  {
   "cell_type": "markdown",
   "metadata": {},
   "source": [
    "# Experiment 05-04"
   ]
  },
  {
   "cell_type": "code",
   "execution_count": 1,
   "metadata": {},
   "outputs": [],
   "source": [
    "import sys\n",
    "import numpy as np\n",
    "import hashlib\n",
    "from binascii import hexlify\n",
    "import pyopencl as cl\n",
    "from Library.opencl_information import opencl_information\n",
    "import logging"
   ]
  },
  {
   "cell_type": "markdown",
   "metadata": {},
   "source": [
    "## Configure Logging"
   ]
  },
  {
   "cell_type": "code",
   "execution_count": 2,
   "metadata": {},
   "outputs": [
    {
     "name": "stdout",
     "output_type": "stream",
     "text": [
      "2022-07-12 02:22:11 INFO     Started\n"
     ]
    }
   ],
   "source": [
    "logging.basicConfig(\n",
    "    format='%(asctime)s %(levelname)-8s %(message)s',\n",
    "    level=logging.INFO,\n",
    "    datefmt='%Y-%m-%d %H:%M:%S',\n",
    "        handlers=[\n",
    "        logging.FileHandler(\"ex05_04.log\"),\n",
    "        logging.StreamHandler(sys.stdout)\n",
    "    ])\n",
    "\n",
    "logging.info(\"Started\")"
   ]
  },
  {
   "cell_type": "markdown",
   "metadata": {},
   "source": [
    "## Show the available Platforms"
   ]
  },
  {
   "cell_type": "code",
   "execution_count": 3,
   "metadata": {},
   "outputs": [
    {
     "name": "stdout",
     "output_type": "stream",
     "text": [
      "\n",
      "============================================================\n",
      "OpenCL Platforms and Devices\n",
      "============================================================\n",
      "Platform 0 - Name: AMD Accelerated Parallel Processing\n",
      "Platform 0 - Vendor: Advanced Micro Devices, Inc.\n",
      "Platform 0 - Version: OpenCL 2.1 AMD-APP (3354.13)\n",
      "Platform 0 - Profile: FULL_PROFILE\n",
      " --------------------------------------------------------\n",
      " Device - Name: gfx1010:xnack-\n",
      " Device - Type: ALL | GPU\n",
      " Device - Max Clock Speed: 1675 Mhz\n",
      " Device - Compute Units: 18\n",
      " Device - Local Memory: 64 KB\n",
      " Device - Constant Memory: 6893568 KB\n",
      " Device - Global Memory: 8 GB\n",
      " Device - Max Buffer/Image Size: 6732 MB\n",
      " Device - Max Work Group Size: 256\n",
      "\n",
      "\n",
      " --------------------------------------------------------\n",
      " Device - Name: gfx1010:xnack-\n",
      " Device - Type: ALL | GPU\n",
      " Device - Max Clock Speed: 1815 Mhz\n",
      " Device - Compute Units: 20\n",
      " Device - Local Memory: 64 KB\n",
      " Device - Constant Memory: 6893568 KB\n",
      " Device - Global Memory: 8 GB\n",
      " Device - Max Buffer/Image Size: 6732 MB\n",
      " Device - Max Work Group Size: 256\n",
      "\n",
      "\n"
     ]
    }
   ],
   "source": [
    "info = opencl_information()\n",
    "info.print_full_info()"
   ]
  },
  {
   "cell_type": "markdown",
   "metadata": {},
   "source": [
    "## Configure the OpenCL Context"
   ]
  },
  {
   "cell_type": "code",
   "execution_count": 4,
   "metadata": {},
   "outputs": [],
   "source": [
    "platform_number = 0\n",
    "device_number = 1\n",
    "\n",
    "cl_devices = cl.get_platforms()[platform_number].get_devices()\n",
    "cl_ctx = cl.Context(cl_devices)\n",
    "cl_queue = cl.CommandQueue(cl_ctx, cl_devices[device_number])"
   ]
  },
  {
   "cell_type": "markdown",
   "metadata": {},
   "source": [
    "## Compile the Program"
   ]
  },
  {
   "cell_type": "code",
   "execution_count": 5,
   "metadata": {},
   "outputs": [],
   "source": [
    "def build_program(program_files : list, cl_ctx : cl.Context,\n",
    "        build_options=[]) -> cl.Program:\n",
    "    \"\"\"\n",
    "    Build a program from an OpenCL source file.\n",
    "\n",
    "    Parameters\n",
    "    ----------\n",
    "    program_files : list\n",
    "        The path to the OpenCL source files.\n",
    "    cl_ctx : pyopencl.Context\n",
    "        The context to build the program with.\n",
    "    build_options : list of str\n",
    "        The build options to use.\n",
    "\n",
    "    Returns\n",
    "    -------\n",
    "    pyopencl.Program\n",
    "    \"\"\"\n",
    "    program_source = ''\n",
    "\n",
    "    for cl_file in program_files:\n",
    "        with open(cl_file, 'r') as cl_file:\n",
    "            file_source = cl_file.read()\n",
    "            program_source += '\\n' + file_source\n",
    "\n",
    "    program_source = cl.Program(cl_ctx, program_source)\n",
    "    program = program_source.build(options=build_options)\n",
    "            \n",
    "    return program"
   ]
  },
  {
   "cell_type": "code",
   "execution_count": 6,
   "metadata": {},
   "outputs": [
    {
     "name": "stdout",
     "output_type": "stream",
     "text": [
      "Kernel Names: get_random_numbers;get_random_string;get_single_hash_nonce;get_single_hash;hash_main;mine_nonce\n"
     ]
    },
    {
     "name": "stderr",
     "output_type": "stream",
     "text": [
      "C:\\Users\\johnny\\AppData\\Local\\Packages\\PythonSoftwareFoundation.Python.3.8_qbz5n2kfra8p0\\LocalCache\\local-packages\\Python38\\site-packages\\pyopencl\\__init__.py:274: CompilerWarning: Non-empty compiler output encountered. Set the environment variable PYOPENCL_COMPILER_OUTPUT=1 to see more.\n",
      "  warn(\"Non-empty compiler output encountered. Set the \"\n"
     ]
    }
   ],
   "source": [
    "cl_program_files = [\n",
    "    'Library/worker/sha256.cl',\n",
    "    'Library/worker/zimcoin.cl',\n",
    "]\n",
    "\n",
    "cl_program = build_program(cl_program_files, cl_ctx)\n",
    "\n",
    "# show the kernel names\n",
    "program_kernel_names = cl_program.get_info(cl.program_info.KERNEL_NAMES)\n",
    "print(f\"Kernel Names: {program_kernel_names}\")"
   ]
  },
  {
   "cell_type": "markdown",
   "metadata": {},
   "source": [
    "## Mine Nonce"
   ]
  },
  {
   "cell_type": "code",
   "execution_count": 7,
   "metadata": {},
   "outputs": [],
   "source": [
    "max_nonce = 32"
   ]
  },
  {
   "cell_type": "code",
   "execution_count": 8,
   "metadata": {},
   "outputs": [],
   "source": [
    "def display_output(zeros_found : dict, nonce : np.ndarray,\n",
    "                   nonce_len : np.ndarray) -> None:\n",
    "    \"\"\"\n",
    "    Display the output generated by the OpenCL Kernel.\n",
    "    \"\"\"\n",
    "    for i in range(0, 64):\n",
    "        if nonce_len[i] > 0:\n",
    "            if (i not in zeros_found):\n",
    "                nonce_str = nonce[i * max_nonce:i * max_nonce + nonce_len[i]].tobytes().decode('UTF-8')\n",
    "                zeros_found[i] = nonce_str\n",
    "                hash = hashlib.sha256((plaintext + nonce_str).encode('utf-8'))\n",
    "\n",
    "                logging.info(\"%4d: [%2d] %32s %64s\" % (i, nonce_len[i], nonce_str, hash.hexdigest() if nonce_len[i] > 0 else ''))"
   ]
  },
  {
   "cell_type": "code",
   "execution_count": 9,
   "metadata": {},
   "outputs": [
    {
     "name": "stdout",
     "output_type": "stream",
     "text": [
      "2022-07-12 02:22:19 INFO     build program: kernel 'mine_nonce' was part of a lengthy source build resulting from a binary cache miss (6.76 s)\n",
      "2022-07-12 02:24:18 INFO        1: [27]      {y+3$v8 &mjDwPV.V #IV<u>Zlg 08c1970f5de0d80404f4804ffeba0c6a53cbdfb553ed0aef0757dc8510d0dca5\n",
      "2022-07-12 02:24:18 INFO        2: [29]    MMMMMMMMMMMMMMMMMMMMMMMMMMMMM 0011d8caf17bcbd55a1f50bb185738b4af81c5ec67531fce49359e518e40c100\n",
      "2022-07-12 02:24:18 INFO        3: [ 5]                            &:^Kh 00036b3455998deec4dc33fd2a10d492c72fe4fb9385df616b8567a9f83760fc\n",
      "2022-07-12 02:24:18 INFO        4: [ 3]                              =ko 00007c8fcca8b81322aa0f282065e235427d528b7c0e4dca29c2dc84cd1dee5d\n",
      "2022-07-12 02:24:18 INFO        5: [22]           M,-g)kLTw+9\\^B}GnC)c\"> 000004a523c06c9497611a9df2213bab8deeea646d0982c6e420ac828ea4cb19\n",
      "2022-07-12 02:24:18 INFO        6: [23]          ~Yh)G~\"Bs-nbPI}y$VY3XQG 000000d451ab093c0a2e0b1098b3ba4fd19867b4daaa347fd8687e3cea025774\n",
      "2022-07-12 02:24:18 INFO        7: [20]             [_BnVwTa[ml 7uHv&CE6 00000003f67099e5b6411f49c5fba2be4799917e3325d838fd33f6479048f0b8\n"
     ]
    }
   ],
   "source": [
    "# set up the variables to generate the random numbers\n",
    "plaintext = 'this is a description of the latest block'\n",
    "plaintext_bytes = np.frombuffer(plaintext.encode('utf-8'), dtype=np.uint8)\n",
    "plaintext_length = np.int32(len(plaintext_bytes))\n",
    "\n",
    "seed = np.random.randint(0, np.iinfo(np.uint32).max, dtype=np.uint32)\n",
    "window_size = np.uint32(5000000)\n",
    "nonce = np.zeros(shape=max_nonce * 64, dtype=np.uint8)\n",
    "nonce_len = np.zeros(shape=64, dtype=np.uint8)\n",
    "\n",
    "# allocate the memory for the variables on the device\n",
    "cl_window_size = cl.Buffer(cl_ctx, cl.mem_flags.READ_ONLY | cl.mem_flags.COPY_HOST_PTR, hostbuf=window_size)\n",
    "cl_plaintext_bytes = cl.Buffer(cl_ctx, cl.mem_flags.READ_ONLY | cl.mem_flags.COPY_HOST_PTR, hostbuf=plaintext_bytes)\n",
    "cl_plaintext_length = cl.Buffer(cl_ctx, cl.mem_flags.READ_ONLY | cl.mem_flags.COPY_HOST_PTR, hostbuf=plaintext_length)\n",
    "cl_nonce = cl.Buffer(cl_ctx, cl.mem_flags.WRITE_ONLY, nonce.nbytes)\n",
    "cl_nonce_len = cl.Buffer(cl_ctx, cl.mem_flags.WRITE_ONLY, nonce_len.nbytes)\n",
    "\n",
    "zeros_found = {}\n",
    "\n",
    "keep_running = True\n",
    "while (keep_running):\n",
    "    seed = np.random.randint(0, np.iinfo(np.uint32).max, dtype=np.uint32)\n",
    "    cl_seed = cl.Buffer(cl_ctx, cl.mem_flags.READ_ONLY | cl.mem_flags.COPY_HOST_PTR, hostbuf=seed)\n",
    "\n",
    "    # execute the program\n",
    "    cl_program.mine_nonce(\n",
    "        cl_queue, (256,), None,\n",
    "        cl_seed,\n",
    "        cl_window_size,\n",
    "        cl_plaintext_bytes,\n",
    "        cl_plaintext_length,\n",
    "        cl_nonce,\n",
    "        cl_nonce_len)\n",
    "\n",
    "    # get the results\n",
    "    cl.enqueue_copy(cl_queue, nonce, cl_nonce)\n",
    "    cl.enqueue_copy(cl_queue, nonce_len, cl_nonce_len)\n",
    "\n",
    "    # display the results\n",
    "    display_output(zeros_found, nonce, nonce_len)\n",
    "\n",
    "    keep_running = True"
   ]
  }
 ],
 "metadata": {
  "kernelspec": {
   "display_name": "Python 3.8.10 64-bit (windows store)",
   "language": "python",
   "name": "python3"
  },
  "language_info": {
   "codemirror_mode": {
    "name": "ipython",
    "version": 3
   },
   "file_extension": ".py",
   "mimetype": "text/x-python",
   "name": "python",
   "nbconvert_exporter": "python",
   "pygments_lexer": "ipython3",
   "version": "3.8.10"
  },
  "orig_nbformat": 4,
  "vscode": {
   "interpreter": {
    "hash": "4aeca0bd6f778914bb6735100bd97f620cf71e27ace0664367678d37ab7677e3"
   }
  }
 },
 "nbformat": 4,
 "nbformat_minor": 2
}
