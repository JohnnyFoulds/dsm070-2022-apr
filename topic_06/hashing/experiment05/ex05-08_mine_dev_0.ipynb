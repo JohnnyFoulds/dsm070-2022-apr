{
 "cells": [
  {
   "cell_type": "markdown",
   "metadata": {},
   "source": [
    "# Experiment 05-08"
   ]
  },
  {
   "cell_type": "code",
   "execution_count": 1,
   "metadata": {},
   "outputs": [],
   "source": [
    "import sys\n",
    "import numpy as np\n",
    "import hashlib\n",
    "from binascii import hexlify\n",
    "import pyopencl as cl\n",
    "from Library.opencl_information import opencl_information\n",
    "import logging\n",
    "from pqdm.threads import pqdm\n",
    "from tqdm.notebook import tqdm"
   ]
  },
  {
   "cell_type": "markdown",
   "metadata": {},
   "source": [
    "## Configure Logging"
   ]
  },
  {
   "cell_type": "code",
   "execution_count": 2,
   "metadata": {},
   "outputs": [
    {
     "name": "stdout",
     "output_type": "stream",
     "text": [
      "2022-07-15 03:41:05 INFO     Started\n"
     ]
    }
   ],
   "source": [
    "logging.basicConfig(\n",
    "    format='%(asctime)s %(levelname)-8s %(message)s',\n",
    "    level=logging.INFO,\n",
    "    datefmt='%Y-%m-%d %H:%M:%S',\n",
    "        handlers=[\n",
    "        logging.FileHandler(\"ex05_08_dev_0.log\"),\n",
    "        logging.StreamHandler(sys.stdout)\n",
    "    ])\n",
    "\n",
    "logging.info(\"Started\")"
   ]
  },
  {
   "cell_type": "markdown",
   "metadata": {},
   "source": [
    "## Show the available Platforms"
   ]
  },
  {
   "cell_type": "code",
   "execution_count": 3,
   "metadata": {},
   "outputs": [
    {
     "name": "stdout",
     "output_type": "stream",
     "text": [
      "\n",
      "============================================================\n",
      "OpenCL Platforms and Devices\n",
      "============================================================\n",
      "Platform 0 - Name: AMD Accelerated Parallel Processing\n",
      "Platform 0 - Vendor: Advanced Micro Devices, Inc.\n",
      "Platform 0 - Version: OpenCL 2.1 AMD-APP (3354.13)\n",
      "Platform 0 - Profile: FULL_PROFILE\n",
      " --------------------------------------------------------\n",
      " Device - Name: gfx1010:xnack-\n",
      " Device - Type: ALL | GPU\n",
      " Device - Max Clock Speed: 1675 Mhz\n",
      " Device - Compute Units: 18\n",
      " Device - Local Memory: 64 KB\n",
      " Device - Constant Memory: 6893568 KB\n",
      " Device - Global Memory: 8 GB\n",
      " Device - Max Buffer/Image Size: 6732 MB\n",
      " Device - Max Work Group Size: 256\n",
      "\n",
      "\n",
      " --------------------------------------------------------\n",
      " Device - Name: gfx1010:xnack-\n",
      " Device - Type: ALL | GPU\n",
      " Device - Max Clock Speed: 1815 Mhz\n",
      " Device - Compute Units: 20\n",
      " Device - Local Memory: 64 KB\n",
      " Device - Constant Memory: 6893568 KB\n",
      " Device - Global Memory: 8 GB\n",
      " Device - Max Buffer/Image Size: 6732 MB\n",
      " Device - Max Work Group Size: 256\n",
      "\n",
      "\n"
     ]
    }
   ],
   "source": [
    "info = opencl_information()\n",
    "info.print_full_info()"
   ]
  },
  {
   "cell_type": "markdown",
   "metadata": {},
   "source": [
    "## Configure the OpenCL Context"
   ]
  },
  {
   "cell_type": "code",
   "execution_count": 4,
   "metadata": {},
   "outputs": [],
   "source": [
    "platform_number = 0\n",
    "device_number = 0\n",
    "\n",
    "cl_devices = cl.get_platforms()[platform_number].get_devices()\n",
    "cl_ctx = cl.Context(cl_devices)\n",
    "cl_queue = cl.CommandQueue(cl_ctx, cl_devices[device_number])"
   ]
  },
  {
   "cell_type": "code",
   "execution_count": 5,
   "metadata": {},
   "outputs": [
    {
     "name": "stdout",
     "output_type": "stream",
     "text": [
      "Max Compute Units: 18\n",
      "Max Compute Units: 256\n",
      "Threads: 4608\n"
     ]
    }
   ],
   "source": [
    "cl_device = cl_devices[device_number]\n",
    "\n",
    "cl_threads = cl_device.max_compute_units * cl_device.max_work_group_size\n",
    "if cl_device.type & 4 == 0:\n",
    "    cl_threads = cl_devices.max_work_group_size\n",
    "\n",
    "print('Max Compute Units:', cl_device.max_compute_units)\n",
    "print('Max Compute Units:', cl_device.max_work_group_size)\n",
    "print('Threads:', cl_threads)"
   ]
  },
  {
   "cell_type": "markdown",
   "metadata": {},
   "source": [
    "## Compile the Program"
   ]
  },
  {
   "cell_type": "code",
   "execution_count": 6,
   "metadata": {},
   "outputs": [],
   "source": [
    "def build_program(program_files : list, cl_ctx : cl.Context,\n",
    "        build_options=[]) -> cl.Program:\n",
    "    \"\"\"\n",
    "    Build a program from an OpenCL source file.\n",
    "\n",
    "    Parameters\n",
    "    ----------\n",
    "    program_files : list\n",
    "        The path to the OpenCL source files.\n",
    "    cl_ctx : pyopencl.Context\n",
    "        The context to build the program with.\n",
    "    build_options : list of str\n",
    "        The build options to use.\n",
    "\n",
    "    Returns\n",
    "    -------\n",
    "    pyopencl.Program\n",
    "    \"\"\"\n",
    "    program_source = ''\n",
    "\n",
    "    for cl_file in program_files:\n",
    "        with open(cl_file, 'r') as cl_file:\n",
    "            file_source = cl_file.read()\n",
    "            program_source += '\\n' + file_source\n",
    "\n",
    "    program_source = cl.Program(cl_ctx, program_source)\n",
    "    program = program_source.build(options=build_options)\n",
    "            \n",
    "    return program"
   ]
  },
  {
   "cell_type": "code",
   "execution_count": 7,
   "metadata": {},
   "outputs": [
    {
     "name": "stderr",
     "output_type": "stream",
     "text": [
      "c:\\Users\\johnny\\env\\dsm070\\lib\\site-packages\\pyopencl\\__init__.py:274: CompilerWarning: Non-empty compiler output encountered. Set the environment variable PYOPENCL_COMPILER_OUTPUT=1 to see more.\n",
      "  warn(\"Non-empty compiler output encountered. Set the \"\n"
     ]
    },
    {
     "name": "stdout",
     "output_type": "stream",
     "text": [
      "Kernel Names: get_random_numbers;mine_eight;get_random_string;get_single_hash_nonce;get_single_hash;hash_main;mine_eight_sequential;mine_nonce\n"
     ]
    }
   ],
   "source": [
    "cl_program_files = [\n",
    "    'Library/worker/sha256.cl',\n",
    "    'Library/worker/zimcoin.cl',\n",
    "]\n",
    "\n",
    "cl_program = build_program(cl_program_files, cl_ctx)\n",
    "\n",
    "# show the kernel names\n",
    "program_kernel_names = cl_program.get_info(cl.program_info.KERNEL_NAMES)\n",
    "print(f\"Kernel Names: {program_kernel_names}\")"
   ]
  },
  {
   "cell_type": "markdown",
   "metadata": {},
   "source": [
    "## Mine Nonce"
   ]
  },
  {
   "cell_type": "code",
   "execution_count": 8,
   "metadata": {},
   "outputs": [],
   "source": [
    "max_nonce = 20\n",
    "max_output_size = 256"
   ]
  },
  {
   "cell_type": "code",
   "execution_count": 9,
   "metadata": {},
   "outputs": [],
   "source": [
    "a = '0000000093e0dbb2e58e64502569a8e47c46da1e15608bcb78812ab6376b9634'"
   ]
  },
  {
   "cell_type": "code",
   "execution_count": 10,
   "metadata": {},
   "outputs": [],
   "source": [
    "def display_output(zeros_found : dict, nonce : np.ndarray,\n",
    "                   nonce_len : np.ndarray, plaintext : str, prefix : str) -> None:\n",
    "    \"\"\"\n",
    "    Display the output generated by the OpenCL Kernel.\n",
    "    \"\"\"\n",
    "    for i in range(0, max_output_size):\n",
    "        if nonce_len[i] > 0:\n",
    "            nonce_str = prefix + nonce[i * max_nonce:i * max_nonce + nonce_len[i]].tobytes().decode('UTF-8')\n",
    "            zeros_found[i] = nonce_str\n",
    "            hash = hashlib.sha256((plaintext + nonce_str).encode('utf-8'))\n",
    "            zeros = len(hash.hexdigest()) - len(hash.hexdigest().lstrip('0'))\n",
    "\n",
    "            logging.info(\"%4d: [%2d] %20s %64s\" % (i, zeros, nonce_str, hash.hexdigest() if nonce_len[i] > 0 else ''))"
   ]
  },
  {
   "cell_type": "code",
   "execution_count": 11,
   "metadata": {},
   "outputs": [
    {
     "name": "stdout",
     "output_type": "stream",
     "text": [
      "4294967295\n",
      "18446744073709551615\n",
      "20\n"
     ]
    }
   ],
   "source": [
    "print(np.iinfo(np.unsignedinteger).max)\n",
    "print(np.iinfo(np.ulonglong).max)\n",
    "print(len(str(np.iinfo(np.ulonglong).max)))"
   ]
  },
  {
   "cell_type": "code",
   "execution_count": 12,
   "metadata": {},
   "outputs": [],
   "source": [
    "#cl_threads = (cl_threads // 2)\n",
    "#cl_threads = 1"
   ]
  },
  {
   "cell_type": "code",
   "execution_count": 13,
   "metadata": {},
   "outputs": [
    {
     "name": "stdout",
     "output_type": "stream",
     "text": [
      "2022-07-15 03:41:22 INFO     build program: kernel 'mine_eight_sequential' was part of a lengthy cache retrieval (16.24 s)\n",
      "2022-07-15 03:41:51 INFO        0: [ 8]       53035675771714 00000000563f796f4de1fa5f69619f8905a2945508fb1c364d8dde8d6ef618a4\n",
      "2022-07-15 03:41:58 INFO        0: [ 8]       53036907650745 000000004254396bbdfd23e3fce4329c462acc05027235c846057fad59d7dba7\n",
      "2022-07-15 03:42:21 INFO        0: [ 8]       53041771162701 00000000122050190c5a8a3ce588aa09d364fa0e89dac0e35b9f3ae0b9c74bc6\n",
      "2022-07-15 03:42:21 INFO        1: [ 8]       53041454035397 00000000172127725023fbf082cbfd9d359f600c9feb80555187b6ab6d426b13\n",
      "2022-07-15 03:42:23 INFO        0: [ 8]       53041973111985 000000002ca3f552c62577be6550cd78459c471d8383bb0a2ff45f46cc8318c8\n",
      "2022-07-15 03:42:33 INFO        0: [ 8]       53044099057500 0000000092d4a1cbe0ae07b71669d813479001be0d792df15e6f3aba10265e3e\n",
      "2022-07-15 03:42:54 INFO        0: [ 8]       53048197966248 00000000ee5076267b35d3d6b76f676ccd38ebf497f41e6a3ded12a64792e1b2\n",
      "2022-07-15 03:42:58 INFO        0: [ 9]       53049177690902 000000000d777a2417d6aef101fc9919c3e5f2a8834f06472a760fb051cd7c39\n",
      "2022-07-15 03:43:01 INFO        0: [ 8]       53049492211438 00000000d9fc17c3bd83667cedbd013f6b48130798917f2adaaa125c97ad2056\n",
      "2022-07-15 03:43:05 INFO        0: [ 8]       53050576052483 000000003e4855df53b48c6c69a23fcceed8e5d4632d7a61d3236c15df1d0076\n",
      "2022-07-15 03:44:15 INFO        0: [ 8]       53064266138076 00000000e0c62b658b73067ecb2cb6c8301a14ecc6b0e8d734a49e08de85aa24\n",
      "2022-07-15 03:44:24 INFO        0: [ 8]       53066223873268 00000000aefebd0e546c0602b03346c3d0b1909bccc6e3f087cbc8b9ae022606\n",
      "2022-07-15 03:44:27 INFO        0: [ 8]       53066615121966 00000000ff97a096d7002efda1a7a9576f351fac381f7d64f5d1072b155c7a24\n",
      "2022-07-15 03:44:31 INFO        0: [ 8]       53067460184291 00000000aa7b05366b5762ab8bc21913c3b4f91a34da5bad6d9abf0815c97d60\n",
      "2022-07-15 03:44:31 INFO        1: [ 8]       53067405684007 000000005276f4e183e9de7d4737806e0e3f62a470841737e318a0c43005d3d8\n",
      "2022-07-15 03:44:40 INFO        0: [ 8]       53069194005268 000000003f50ecc9af93de39aacf7201e0b2dfe3aee058de822255ce28599e9f\n",
      "2022-07-15 03:45:18 INFO        0: [ 8]       53076997477751 0000000043bcbf79e5d7042e46693d8d1637017e3d31e3ba8ec0f59158b33408\n",
      "2022-07-15 03:45:23 INFO        0: [ 8]       53078029042263 00000000e9aa05281ca43bc3abab86baa162399c5939e03b7b835a824a03a342\n",
      "2022-07-15 03:45:23 INFO        1: [ 8]       53077958020911 00000000b63a73780407010b8a994d022fcfd1605936da4c5ec33b01d3c60692\n",
      "2022-07-15 03:45:43 INFO        0: [ 8]       53082278720698 0000000051f196c441053abe5833b5f7238c16af5e291af055acb4ead22f8e8d\n",
      "2022-07-15 03:45:59 INFO        0: [ 8]       53085374995984 00000000e735729c55c4dbd171e412bec455390c7020be199ea34f5901d7a455\n",
      "2022-07-15 03:46:08 INFO        0: [ 8]       53087216690748 00000000f89cc3f5cfbc24c4b8fa823a358387b74224ec6e3865389484bb048d\n",
      "2022-07-15 03:46:13 INFO        0: [ 8]       53088043154956 000000001a6fef181eb4e0e6c1f46e481697de07097357a51c7e27192250f699\n",
      "2022-07-15 03:46:58 INFO        0: [ 8]       53097582388189 000000004b2f2486592dcf2fc271a248bafffdf1b8ed2a8bf1a61b637785a20b\n",
      "2022-07-15 03:47:01 INFO        0: [ 8]       53097683008026 00000000b20a2847e8120b6c91b65a992a2b2dc1f95553d96a801d390d383db4\n",
      "2022-07-15 03:47:03 INFO        0: [ 8]       53098150318777 00000000228757adfd6fb9685c42e23b08e18835bd366c49c26980cb695f0c38\n",
      "2022-07-15 03:47:36 INFO        0: [ 8]       53104737548418 0000000085787e1bad60d34d43d413f6ec2902897766f752a6ada7a19f13116b\n",
      "2022-07-15 03:47:43 INFO        0: [ 8]       53106118749663 000000007bee9d79c68baa5419e2986014d1b63d2052a7ebcc962aa896d79cee\n",
      "2022-07-15 03:48:41 INFO        0: [ 8]       53117535416050 000000003748f2b580cfac4d827607d6a51b194b2a74cbad45ce36ddfb32bdda\n",
      "2022-07-15 03:48:43 INFO        0: [ 8]       53118320143689 0000000065bc5e57103560c740f83c5d84f5dfca7e82244b35f53ca3f622d6fc\n",
      "2022-07-15 03:48:46 INFO        0: [ 8]       53118546227859 000000007d996e57567f756c8c6cb71be9580527ce907e3a7a4fc2eb777261f9\n",
      "2022-07-15 03:48:55 INFO        0: [ 8]       53120580517219 000000002545eca28f8f981f1f1fc37be90f6d0ccf5e55698da6cc7e159fc889\n",
      "2022-07-15 03:48:55 INFO        1: [ 9]       53120210922910 0000000003f55fac04ea3670d51e657e6d2ffe77a6a4b5790873625cc843a345\n",
      "2022-07-15 03:49:25 INFO        0: [ 8]       53126298856542 000000003727db4870b5ab9f0623f677ab110508c8844287f815c88131ca8eda\n",
      "2022-07-15 03:49:46 INFO        0: [ 8]       53130344892496 000000004424ca671db8ff77ca6df0ef7f082c2a20d7135a9ede27637a429902\n",
      "2022-07-15 03:50:50 INFO        0: [ 8]       53142934209619 0000000046c1cce737fecbaad417ca9c241b17dfb481a311cf9941cf437a584a\n"
     ]
    }
   ],
   "source": [
    "postfix = \"\"\n",
    "base_text = 'this is a description of the latest block'\n",
    "plaintext = base_text + postfix\n",
    "plaintext_bytes = np.frombuffer(plaintext.encode('utf-8'), dtype=np.uint8)\n",
    "plaintext_length = np.int32(len(plaintext_bytes))\n",
    "cl_plaintext_bytes = cl.Buffer(cl_ctx, cl.mem_flags.READ_ONLY | cl.mem_flags.COPY_HOST_PTR, hostbuf=plaintext_bytes)\n",
    "cl_plaintext_length = cl.Buffer(cl_ctx, cl.mem_flags.READ_ONLY | cl.mem_flags.COPY_HOST_PTR, hostbuf=plaintext_length)\n",
    "\n",
    "# set up the variables to generate the random numbers\n",
    "seed = np.ulonglong(15000000000000)\n",
    "window_size = np.uint32(100000)\n",
    "nonce = np.zeros(shape=max_nonce * max_output_size, dtype=np.uint8)\n",
    "nonce_len = np.zeros(shape=max_output_size, dtype=np.uint8)\n",
    "\n",
    "# allocate the memory for the variables on the device\n",
    "cl_window_size = cl.Buffer(cl_ctx, cl.mem_flags.READ_ONLY | cl.mem_flags.COPY_HOST_PTR, hostbuf=window_size)\n",
    "cl_nonce = cl.Buffer(cl_ctx, cl.mem_flags.WRITE_ONLY, nonce.nbytes)\n",
    "cl_nonce_len = cl.Buffer(cl_ctx, cl.mem_flags.WRITE_ONLY, nonce_len.nbytes)\n",
    "\n",
    "zeros_found = {}\n",
    "\n",
    "keep_running = True\n",
    "while (keep_running):\n",
    "    cl_seed = cl.Buffer(cl_ctx, cl.mem_flags.READ_ONLY | cl.mem_flags.COPY_HOST_PTR, hostbuf=seed)\n",
    "\n",
    "    # execute the program\n",
    "    cl_program.mine_eight_sequential(\n",
    "        cl_queue, (cl_threads,), None,\n",
    "        cl_seed,\n",
    "        cl_window_size,\n",
    "        cl_plaintext_bytes,\n",
    "        cl_plaintext_length,\n",
    "        cl_nonce,\n",
    "        cl_nonce_len\n",
    "    )\n",
    "\n",
    "    # get the results\n",
    "    cl.enqueue_copy(cl_queue, nonce, cl_nonce)\n",
    "    cl.enqueue_copy(cl_queue, nonce_len, cl_nonce_len)\n",
    "\n",
    "    # display the last nonce tried for each thread\n",
    "    # for i in range(0, cl_threads):\n",
    "    #     logging.info(\"Thread %d: %d\" % (i, last_nonce[i]))\n",
    "\n",
    "    # for i in range(0, nonce.size):\n",
    "    #     print(nonce[i], end=' ')\n",
    "\n",
    "    # display the results\n",
    "    display_output(zeros_found, nonce, nonce_len, base_text, postfix)\n",
    "    #logging.info('Iteration Complete.')\n",
    "\n",
    "    seed = np.ulonglong(seed + cl_threads * window_size)\n",
    "    keep_running = True"
   ]
  },
  {
   "cell_type": "code",
   "execution_count": null,
   "metadata": {},
   "outputs": [],
   "source": [
    "input_buffer = {}\n",
    "nonce = {}\n",
    "nonce_len = 0\n",
    "seed = 123456\n",
    "\n",
    "while (seed > 0):\n",
    "    nonce_len += 1\n",
    "    input_buffer[nonce_len - 1] = (seed % 10)\n",
    "    seed = seed // 10\n",
    "\n",
    "print(input_buffer)\n",
    "\n",
    "for i in range(0, nonce_len):\n",
    "    nonce[nonce_len-1 - i] = input_buffer[i]\n",
    "\n",
    "for i in range(0, nonce_len):\n",
    "    print(nonce[i])\n",
    "    "
   ]
  }
 ],
 "metadata": {
  "kernelspec": {
   "display_name": "Python 3.8.10 ('dsm070')",
   "language": "python",
   "name": "python3"
  },
  "language_info": {
   "codemirror_mode": {
    "name": "ipython",
    "version": 3
   },
   "file_extension": ".py",
   "mimetype": "text/x-python",
   "name": "python",
   "nbconvert_exporter": "python",
   "pygments_lexer": "ipython3",
   "version": "3.8.10"
  },
  "orig_nbformat": 4,
  "vscode": {
   "interpreter": {
    "hash": "e25eda4915c6c09f3ef64934ec380f7ec3b1f46c3bb61f6f1ca0b69bf49eada9"
   }
  }
 },
 "nbformat": 4,
 "nbformat_minor": 2
}
