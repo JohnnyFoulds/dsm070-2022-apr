{
 "cells": [
  {
   "cell_type": "markdown",
   "metadata": {},
   "source": [
    "# 02-01 : Initial Test Suite\n",
    "\n",
    "Use the the course work [MD2 test suite](https://learn.london.ac.uk/pluginfile.php/254834/mod_resource/content/1/test%20suite.pdf) a pre-made library to build the unit tests.\n",
    "\n",
    "## MD2 test suite\n",
    "\n",
    "```\n",
    "MD2 (\"\") = 8350e5a3e24c153df2275c9f80692773\n",
    "MD2 (\"a\") = 32ec01ec4a6dac72c0ab96fb34c0b5d1\n",
    "MD2 (\"abc\") = da853b0d3f88d99b30283a69e6ded6bb\n",
    "MD2 (\"message digest\") = ab4f496bfb2a530b219ff33031fe06b0\n",
    "MD2 (\"abcdefghijklmnopqrstuvwxyz\") = 4e8ddff3650292ab5a4108c3aa47940b\n",
    "MD2 (\"ABCDEFGHIJKLMNOPQRSTUVWXYZabcdefghijklmnopqrstuvwxyz0123456789\") =\n",
    "da33def2a42df13975352846c30338cd\n",
    "MD2 (\"123456789012345678901234567890123456789012345678901234567890123456\n",
    "78901234567890\") = d5976f79d83d3a0dc9806c3c66f3efd8\n",
    "```"
   ]
  },
  {
   "cell_type": "code",
   "execution_count": 1,
   "metadata": {},
   "outputs": [],
   "source": [
    "import unittest"
   ]
  },
  {
   "cell_type": "markdown",
   "metadata": {},
   "source": [
    "## PyCryptodome\n",
    "\n",
    "This library is simply used as a reference for the MD2 hash function verification."
   ]
  },
  {
   "cell_type": "code",
   "execution_count": 2,
   "metadata": {},
   "outputs": [],
   "source": [
    "import Crypto.Hash.MD2"
   ]
  },
  {
   "cell_type": "code",
   "execution_count": 3,
   "metadata": {},
   "outputs": [],
   "source": [
    "def library_md2(text):\n",
    "    \"\"\"\n",
    "    Generate a MD2 hash of the text using the PyCryptodome library.\n",
    "\n",
    "    Parameters\n",
    "    ----------\n",
    "    text : str\n",
    "        The text to be hashed.\n",
    "    \"\"\"\n",
    "    hashObject = Crypto.Hash.MD2.new()\n",
    "    hashObject.update(text.encode('utf-8'))\n",
    "    digest = hashObject.hexdigest()\n",
    "    return digest\n",
    "\n",
    "# test the function\n",
    "MD2 = library_md2\n",
    "assert MD2 (\"\") == '8350e5a3e24c153df2275c9f80692773'"
   ]
  },
  {
   "cell_type": "markdown",
   "metadata": {},
   "source": [
    "## Implement Unit Tests"
   ]
  },
  {
   "cell_type": "code",
   "execution_count": 4,
   "metadata": {},
   "outputs": [
    {
     "name": "stderr",
     "output_type": "stream",
     "text": [
      "test_empty (__main__.TestMD2)\n",
      "Test the MD2 hash of an empty string. ... ok\n",
      "test_md2 (__main__.TestMD2) ... ok\n",
      "\n",
      "----------------------------------------------------------------------\n",
      "Ran 2 tests in 0.003s\n",
      "\n",
      "OK\n"
     ]
    },
    {
     "data": {
      "text/plain": [
       "<unittest.main.TestProgram at 0x7f5d5701afb0>"
      ]
     },
     "execution_count": 4,
     "metadata": {},
     "output_type": "execute_result"
    }
   ],
   "source": [
    "class TestMD2(unittest.TestCase):\n",
    "    def test_empty(self):\n",
    "        \"\"\"\n",
    "        Test the MD2 hash of an empty string.\n",
    "        \"\"\"\n",
    "        self.assertEqual(MD2(\"\"), '8350e5a3e24c153df2275c9f80692773')\n",
    "\n",
    "    def test_md2(self):\n",
    "        self.assertEqual(MD2(\"\"), '8350e5a3e24c153df2275c9f80692773')\n",
    "        self.assertEqual(MD2(\"a\"), '32ec01ec4a6dac72c0ab96fb34c0b5d1')\n",
    "        self.assertEqual(MD2(\"abc\"), 'da853b0d3f88d99b30283a69e6ded6bb')\n",
    "        self.assertEqual(MD2(\"message digest\"), 'ab4f496bfb2a530b219ff33031fe06b0')\n",
    "        self.assertEqual(MD2(\"abcdefghijklmnopqrstuvwxyz\"), '4e8ddff3650292ab5a4108c3aa47940b')\n",
    "        self.assertEqual(MD2(\"ABCDEFGHIJKLMNOPQRSTUVWXYZabcdefghijklmnopqrstuvwxyz0123456789\"), 'da33def2a42df13975352846c30338cd')\n",
    "        self.assertEqual(MD2(\"12345678901234567890123456789012345678901234567890123456789012345678901234567890\"), 'd5976f79d83d3a0dc9806c3c66f3efd8')\n",
    "\n",
    "# execute the unit tests\n",
    "MD2 = library_md2\n",
    "unittest.main(argv=['ignored', '-v'], exit=False)"
   ]
  },
  {
   "cell_type": "markdown",
   "metadata": {},
   "source": [
    "## MD2 Implementation"
   ]
  },
  {
   "cell_type": "code",
   "execution_count": 106,
   "metadata": {},
   "outputs": [
    {
     "name": "stderr",
     "output_type": "stream",
     "text": [
      "test_empty (__main__.TestMD2)\n",
      "Test the MD2 hash of an empty string. ... ok\n",
      "test_md2 (__main__.TestMD2) ... ok\n",
      "test_checksum (__main__.TestMD2Hash)\n",
      "test the checksum function. ... ok\n",
      "test_md2 (__main__.TestMD2Hash) ... ok\n",
      "test_padding (__main__.TestMD2Hash)\n",
      "test the padding function. ... ok\n",
      "test_process_message (__main__.TestMD2Hash)\n",
      "Test computing the message digest. ... ok\n",
      "test_s (__main__.TestMD2Hash)\n",
      "Ensure that the value for S was loaded correctly. ... ok\n",
      "\n",
      "----------------------------------------------------------------------\n",
      "Ran 7 tests in 0.022s\n",
      "\n",
      "OK\n"
     ]
    },
    {
     "data": {
      "text/plain": [
       "<unittest.main.TestProgram at 0x7f5d574e03a0>"
      ]
     },
     "execution_count": 106,
     "metadata": {},
     "output_type": "execute_result"
    }
   ],
   "source": [
    "import binascii\n",
    "\n",
    "class MD2Hash(object):\n",
    "    # the substitution values used to compute the checksum\n",
    "    S = [\n",
    "        41, 46, 67, 201, 162, 216, 124, 1, 61, 54, 84, 161, 236, 240, 6, 19,\n",
    "        98, 167, 5, 243, 192, 199, 115, 140, 152, 147, 43, 217, 188, 76, 130, 202,\n",
    "        30, 155, 87, 60, 253, 212, 224, 22, 103, 66, 111, 24, 138, 23, 229, 18,\n",
    "        190, 78, 196, 214, 218, 158, 222, 73, 160, 251, 245, 142, 187, 47, 238, 122,\n",
    "        169, 104, 121, 145, 21, 178, 7, 63, 148, 194, 16, 137, 11, 34, 95, 33,\n",
    "        128, 127, 93, 154, 90, 144, 50, 39, 53, 62, 204, 231, 191, 247, 151, 3,\n",
    "        255, 25, 48, 179, 72, 165, 181, 209, 215, 94, 146, 42, 172, 86, 170, 198,\n",
    "        79, 184, 56, 210, 150, 164, 125, 182, 118, 252, 107, 226, 156, 116, 4, 241,\n",
    "        69, 157, 112, 89, 100, 113, 135, 32, 134, 91, 207, 101, 230, 45, 168, 2,\n",
    "        27, 96, 37, 173, 174, 176, 185, 246, 28, 70, 97, 105, 52, 64, 126, 15,\n",
    "        85, 71, 163, 35, 221, 81, 175, 58, 195, 92, 249, 206, 186, 197, 234, 38,\n",
    "        44, 83, 13, 110, 133, 40, 132, 9, 211, 223, 205, 244, 65, 129, 77, 82,\n",
    "        106, 220, 55, 200, 108, 193, 171, 250, 36, 225, 123, 8, 12, 189, 177, 74,\n",
    "        120, 136, 149, 139, 227, 99, 232, 109, 233, 203, 213, 254, 59, 0, 29, 57,\n",
    "        242, 239, 183, 14, 102, 88, 208, 228, 166, 119, 114, 248, 235, 117, 75, 10,\n",
    "        49, 68, 80, 180, 143, 237, 31, 26, 219, 153, 141, 51, 159, 17, 131, 20]\n",
    "\n",
    "    def __init__(self):\n",
    "        \"\"\"\n",
    "        Initialize the hash object.\n",
    "        \"\"\"\n",
    "\n",
    "    def append_padding(self, message_bytes:bytearray) -> bytearray:\n",
    "        \"\"\"\n",
    "        The message is \"padded\" (extended) so that its length (in bytes) is\n",
    "        congruent to 0, modulo 16. That is, the message is extended so that\n",
    "        it is a multiple of 16 bytes long. Padding is always performed, even\n",
    "        if the length of the message is already congruent to 0, modulo 16.\n",
    "\n",
    "        Padding is performed as follows: \"i\" bytes of value \"i\" are appended Expand\n",
    "        to the message so that the length in bytes of the padded message\n",
    "        becomes congruent to 0, modulo 16. At least one byte and at most \n",
    "        16 bytes are appended.\n",
    "\n",
    "        At this point the resulting message (after padding with bytes) has a\n",
    "        length that is an exact multiple of 16 bytes. Let M[0 ... N-1] denote\n",
    "        the bytes of the resulting message, where N is a multiple of 16.\n",
    "        \"\"\"\n",
    "        padding_length = 16 - (len(message_bytes) % 16)\n",
    "        return message_bytes + bytearray([padding_length] * padding_length)\n",
    "\n",
    "    def append_checksum(self, M:bytearray) -> bytearray:\n",
    "        \"\"\"\n",
    "        A 16-byte checksum of the message is appended to the result of the\n",
    "        previous step.\n",
    "\n",
    "        This step uses a 256-byte \"random\" permutation constructed from the\n",
    "        digits of pi. Let S[i] denote the i-th element of this table.        \n",
    "        \"\"\"\n",
    "        # create an empty checksum\n",
    "        C = bytearray([0] * 16)\n",
    "\n",
    "        L = 0\n",
    "\n",
    "        # process each 16-byte block\n",
    "        for i in range(0, len(M) // 16):\n",
    "            # compute the checksum for block i\n",
    "            for j in range(0, 16):\n",
    "                c = M[i * 16 + j]\n",
    "                C[j] = C[j] ^ self.S[c ^ L]\n",
    "                L = C[j]\n",
    "\n",
    "        return M + C\n",
    "\n",
    "    def process_message(self, message_bytes:bytearray) -> bytearray:\n",
    "        \"\"\"\n",
    "        The message is processed as follows:\n",
    "\n",
    "        1. The message is padded to a length that is an exact multiple of\n",
    "           16 bytes.\n",
    "        2. The message is extended with a 16-byte checksum.\n",
    "        3. The message digest is computed.\n",
    "        \"\"\"\n",
    "        # initialize the md buffer\n",
    "        X = bytearray([0] * 48)\n",
    "\n",
    "        # get the message with padding and the checksum appended\n",
    "        M = self.append_checksum(\n",
    "            self.append_padding(message_bytes)\n",
    "        )\n",
    "\n",
    "        # process each 16-byte block\n",
    "        for i in range(0, len(M) // 16):\n",
    "            # copy block i into X\n",
    "            for j in range(0, 16):\n",
    "                X[16 + j] = M[i * 16 + j]\n",
    "                X[32 + j] = X[16 + j] ^ X[j]\n",
    "\n",
    "            t = 0\n",
    "\n",
    "            # do 18 rounds\n",
    "            for j in range(0, 18):\n",
    "                # round j\n",
    "                for k in range(0, 48):\n",
    "                    t = X[k] ^ self.S[t]\n",
    "                    X[k] = t\n",
    "\n",
    "                t = (t + j) % 256\n",
    "\n",
    "        return X\n",
    "\n",
    "    def MD2(self, message:str) -> str:\n",
    "        \"\"\"\n",
    "        Compute the message digest for a given message.\n",
    "        \"\"\"\n",
    "        md_buffer = self.process_message(\n",
    "            bytearray(message.encode('utf-8'))\n",
    "        )\n",
    "\n",
    "        return binascii.hexlify(md_buffer[:16]).decode('utf-8')\n",
    "\n",
    "\n",
    "class TestMD2Hash(unittest.TestCase):\n",
    "    _test_messages = [\n",
    "        '',\n",
    "        'a',\n",
    "        'abc',\n",
    "        'message digest',\n",
    "        '1234567890abcdef',\n",
    "        'abcdefghijklmnopqrstuvwxyz',\n",
    "        'ABCDEFGHIJKLMNOPQRSTUVWXYZabcdefghijklmnopqrstuvwxyz0123456789',\n",
    "        '12345678901234567890123456789012345678901234567890123456789012345678901234567890'\n",
    "    ]\n",
    "\n",
    "    def test_s(self):\n",
    "        \"\"\"\n",
    "        Ensure that the value for S was loaded correctly.\n",
    "        \"\"\"\n",
    "        self.assertEqual(MD2Hash.S[0], 41)\n",
    "        self.assertEqual(MD2Hash.S[255], 20)\n",
    "\n",
    "    def test_padding(self):\n",
    "        \"\"\"\n",
    "        test the padding function.\n",
    "        \"\"\"\n",
    "        hashObject = MD2Hash()\n",
    "\n",
    "        for message in self._test_messages:\n",
    "            message_bytes = bytearray(message, 'utf-8')\n",
    "            padded_bytes = hashObject.append_padding(message_bytes)\n",
    "        \n",
    "            # padding must always be performed\n",
    "            self.assertGreater(len(padded_bytes), len(message_bytes))\n",
    "            \n",
    "            # the padded message must be a multiple of 16 bytes\n",
    "            self.assertEqual(len(padded_bytes) % 16, 0)\n",
    "\n",
    "            # the padding character must be the length of the padding\n",
    "            padding_length = 16 - (len(message_bytes) % 16)\n",
    "            self.assertEqual(padded_bytes[-1], padding_length)\n",
    "\n",
    "    def test_checksum(self):\n",
    "        \"\"\"\n",
    "        test the checksum function.\n",
    "        \"\"\"\n",
    "        hashObject = MD2Hash()\n",
    "\n",
    "        for message in self._test_messages:\n",
    "            message_bytes = bytearray(message, 'utf-8')\n",
    "            padded_bytes = hashObject.append_padding(message_bytes)\n",
    "            checksum_bytes =hashObject.append_checksum(padded_bytes)\n",
    "\n",
    "            # the checksum must be 16 bytes long\n",
    "            self.assertEqual(len(checksum_bytes) - len(padded_bytes), 16)\n",
    "\n",
    "    def test_process_message(self):\n",
    "        \"\"\"\n",
    "        Test computing the message digest.\n",
    "        \"\"\"\n",
    "        hashObject = MD2Hash()\n",
    "\n",
    "        for message in self._test_messages:\n",
    "            message_bytes = bytearray(message, 'utf-8')\n",
    "            message_buffer_bytes = hashObject.process_message(message_bytes)\n",
    "\n",
    "            # the message digest must be 48 bytes long\n",
    "            self.assertEqual(len(message_buffer_bytes), 48)\n",
    "\n",
    "    def test_md2(self):\n",
    "        hashObject = MD2Hash()\n",
    "\n",
    "        self.assertEqual(hashObject.MD2(\"\"), '8350e5a3e24c153df2275c9f80692773')\n",
    "        self.assertEqual(hashObject.MD2(\"a\"), '32ec01ec4a6dac72c0ab96fb34c0b5d1')\n",
    "        self.assertEqual(hashObject.MD2(\"abc\"), 'da853b0d3f88d99b30283a69e6ded6bb')\n",
    "        self.assertEqual(hashObject.MD2(\"message digest\"), 'ab4f496bfb2a530b219ff33031fe06b0')\n",
    "        self.assertEqual(hashObject.MD2(\"abcdefghijklmnopqrstuvwxyz\"), '4e8ddff3650292ab5a4108c3aa47940b')\n",
    "        self.assertEqual(hashObject.MD2(\"ABCDEFGHIJKLMNOPQRSTUVWXYZabcdefghijklmnopqrstuvwxyz0123456789\"), 'da33def2a42df13975352846c30338cd')\n",
    "        self.assertEqual(hashObject.MD2(\"12345678901234567890123456789012345678901234567890123456789012345678901234567890\"), 'd5976f79d83d3a0dc9806c3c66f3efd8')\n",
    "\n",
    "unittest.main(argv=['ignored', '-v'], exit=False)"
   ]
  },
  {
   "cell_type": "code",
   "execution_count": 107,
   "metadata": {},
   "outputs": [
    {
     "name": "stderr",
     "output_type": "stream",
     "text": [
      "test_empty (__main__.TestMD2)\n",
      "Test the MD2 hash of an empty string. ... ok\n",
      "test_md2 (__main__.TestMD2) ... ok\n",
      "test_checksum (__main__.TestMD2Hash)\n",
      "test the checksum function. ... ok\n",
      "test_md2 (__main__.TestMD2Hash) ... ok\n",
      "test_padding (__main__.TestMD2Hash)\n",
      "test the padding function. ... ok\n",
      "test_process_message (__main__.TestMD2Hash)\n",
      "Test computing the message digest. ... ok\n",
      "test_s (__main__.TestMD2Hash)\n",
      "Ensure that the value for S was loaded correctly. ... ok\n",
      "\n",
      "----------------------------------------------------------------------\n",
      "Ran 7 tests in 0.021s\n",
      "\n",
      "OK\n"
     ]
    },
    {
     "data": {
      "text/plain": [
       "<unittest.main.TestProgram at 0x7f5d570a3940>"
      ]
     },
     "execution_count": 107,
     "metadata": {},
     "output_type": "execute_result"
    }
   ],
   "source": [
    "def custom_md2(message:str) -> str:\n",
    "    hashObject = MD2Hash()\n",
    "    return hashObject.MD2(message)\n",
    "\n",
    "MD2 = custom_md2\n",
    "unittest.main(argv=['ignored', '-v'], exit=False)"
   ]
  }
 ],
 "metadata": {
  "interpreter": {
   "hash": "949777d72b0d2535278d3dc13498b2535136f6dfe0678499012e853ee9abcab1"
  },
  "kernelspec": {
   "display_name": "Python 3.10.4 64-bit",
   "language": "python",
   "name": "python3"
  },
  "language_info": {
   "codemirror_mode": {
    "name": "ipython",
    "version": 3
   },
   "file_extension": ".py",
   "mimetype": "text/x-python",
   "name": "python",
   "nbconvert_exporter": "python",
   "pygments_lexer": "ipython3",
   "version": "3.10.4"
  },
  "orig_nbformat": 4
 },
 "nbformat": 4,
 "nbformat_minor": 2
}
