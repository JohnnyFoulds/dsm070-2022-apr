{
 "cells": [
  {
   "cell_type": "markdown",
   "metadata": {},
   "source": [
    "# Initial Experimentation\n",
    "\n",
    "## Web References\n",
    "\n",
    "### Bitcoin Address\n",
    "\n",
    "- [Bitcoin Address](https://learnmeabitcoin.com/technical/address)\n",
    "- [Bitcoin Checksum](https://learnmeabitcoin.com/technical/checksum)\n",
    "- [How do I check the checksum of a Bitcoin address?](https://bitcoin.stackexchange.com/questions/32353/how-do-i-check-the-checksum-of-a-bitcoin-address)\n",
    "- [Base58Check encoding](https://en.bitcoin.it/wiki/Base58Check_encoding#Creating_a_Base58Check_string)"
   ]
  },
  {
   "cell_type": "code",
   "execution_count": null,
   "metadata": {},
   "outputs": [],
   "source": []
  }
 ],
 "metadata": {
  "language_info": {
   "name": "python"
  },
  "orig_nbformat": 4
 },
 "nbformat": 4,
 "nbformat_minor": 2
}
