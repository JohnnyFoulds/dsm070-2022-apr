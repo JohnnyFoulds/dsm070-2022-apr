{
 "cells": [
  {
   "cell_type": "markdown",
   "metadata": {},
   "source": [
    "# Coursework 2 : Transactions and Verification\n",
    "\n",
    "|Program |Essay | Tick one Box below |\n",
    "|--------|------|--------------------|\n",
    "|70      |30    | X                  |\n",
    "|50      |50    |                    |\n",
    "|30      |70    |                    |"
   ]
  }
 ],
 "metadata": {
  "language_info": {
   "name": "python"
  },
  "orig_nbformat": 4
 },
 "nbformat": 4,
 "nbformat_minor": 2
}
