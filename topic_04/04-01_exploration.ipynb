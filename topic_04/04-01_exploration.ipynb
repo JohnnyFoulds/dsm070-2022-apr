{
 "cells": [
  {
   "cell_type": "markdown",
   "metadata": {},
   "source": [
    "# Initial Experimentation\n",
    "\n",
    "## Web References\n",
    "\n",
    "### Bitcoin Address\n",
    "\n",
    "- [Bitcoin Address](https://learnmeabitcoin.com/technical/address)\n",
    "- [Bitcoin Checksum](https://learnmeabitcoin.com/technical/checksum)\n",
    "- [How do I check the checksum of a Bitcoin address?](https://bitcoin.stackexchange.com/questions/32353/how-do-i-check-the-checksum-of-a-bitcoin-address)\n",
    "- [Base58Check encoding](https://en.bitcoin.it/wiki/Base58Check_encoding#Creating_a_Base58Check_string)"
   ]
  },
  {
   "cell_type": "code",
   "execution_count": 1,
   "metadata": {},
   "outputs": [],
   "source": [
    "from cryptography.hazmat.primitives import hashes"
   ]
  },
  {
   "cell_type": "markdown",
   "metadata": {},
   "source": [
    "## Transaction Class"
   ]
  },
  {
   "cell_type": "code",
   "execution_count": 2,
   "metadata": {},
   "outputs": [],
   "source": [
    "class Transaction:\n",
    "    def __init__(self, sender_hash:bytes, recipient_hash:bytes, sender_public_key:bytes, amount:int, fee:int, nonce:int, signature, txid):\n",
    "        self.sender_hash = sender_hash\n",
    "        self.recipient_hash = recipient_hash\n",
    "        self.sender_public_key = sender_public_key\n",
    "        self.amount = amount\n",
    "        self.fee = fee\n",
    "        self.nonce = nonce\n",
    "        self.signature = signature\n",
    "        self.txid = txid\n",
    "        self.hash = self.calculate_hash()\n",
    "\n",
    "    def verify(self, sender_balance:int, sender_previous_nonce:int):\n",
    "        if len(sender_hash) != 20:\n",
    "            raise ValueError('Invalid sender hash')"
   ]
  },
  {
   "cell_type": "code",
   "execution_count": 3,
   "metadata": {},
   "outputs": [
    {
     "data": {
      "text/plain": [
       "bytes"
      ]
     },
     "execution_count": 3,
     "metadata": {},
     "output_type": "execute_result"
    }
   ],
   "source": [
    "a_bytes = bytes('a', 'utf-8')\n",
    "type(a_bytes)"
   ]
  }
 ],
 "metadata": {
  "kernelspec": {
   "display_name": "Python 3.10.4 64-bit",
   "language": "python",
   "name": "python3"
  },
  "language_info": {
   "codemirror_mode": {
    "name": "ipython",
    "version": 3
   },
   "file_extension": ".py",
   "mimetype": "text/x-python",
   "name": "python",
   "nbconvert_exporter": "python",
   "pygments_lexer": "ipython3",
   "version": "3.10.4"
  },
  "orig_nbformat": 4,
  "vscode": {
   "interpreter": {
    "hash": "949777d72b0d2535278d3dc13498b2535136f6dfe0678499012e853ee9abcab1"
   }
  }
 },
 "nbformat": 4,
 "nbformat_minor": 2
}
