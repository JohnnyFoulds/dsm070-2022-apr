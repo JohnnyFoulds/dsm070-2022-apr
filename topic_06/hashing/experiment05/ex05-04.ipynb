{
 "cells": [
  {
   "cell_type": "markdown",
   "metadata": {},
   "source": [
    "# Experiment 05-04"
   ]
  },
  {
   "cell_type": "code",
   "execution_count": 1,
   "metadata": {},
   "outputs": [],
   "source": [
    "import sys\n",
    "import numpy as np\n",
    "import hashlib\n",
    "from binascii import hexlify\n",
    "import pyopencl as cl\n",
    "from Library.opencl_information import opencl_information\n",
    "import logging"
   ]
  },
  {
   "cell_type": "markdown",
   "metadata": {},
   "source": [
    "## Configure Logging"
   ]
  },
  {
   "cell_type": "code",
   "execution_count": 2,
   "metadata": {},
   "outputs": [
    {
     "name": "stdout",
     "output_type": "stream",
     "text": [
      "2022-07-11 16:16:54 INFO     Started\n"
     ]
    }
   ],
   "source": [
    "logging.basicConfig(\n",
    "    format='%(asctime)s %(levelname)-8s %(message)s',\n",
    "    level=logging.INFO,\n",
    "    datefmt='%Y-%m-%d %H:%M:%S',\n",
    "        handlers=[\n",
    "        logging.FileHandler(\"ex05_04.log\"),\n",
    "        logging.StreamHandler(sys.stdout)\n",
    "    ])\n",
    "\n",
    "logging.info(\"Started\")"
   ]
  },
  {
   "cell_type": "markdown",
   "metadata": {},
   "source": [
    "## Show the available Platforms"
   ]
  },
  {
   "cell_type": "code",
   "execution_count": 3,
   "metadata": {},
   "outputs": [
    {
     "name": "stdout",
     "output_type": "stream",
     "text": [
      "\n",
      "============================================================\n",
      "OpenCL Platforms and Devices\n",
      "============================================================\n",
      "Platform 0 - Name: Apple\n",
      "Platform 0 - Vendor: Apple\n",
      "Platform 0 - Version: OpenCL 1.2 (Apr 19 2022 18:44:44)\n",
      "Platform 0 - Profile: FULL_PROFILE\n",
      " --------------------------------------------------------\n",
      " Device - Name: Apple M1\n",
      " Device - Type: ALL | GPU\n",
      " Device - Max Clock Speed: 1000 Mhz\n",
      " Device - Compute Units: 8\n",
      " Device - Local Memory: 32 KB\n",
      " Device - Constant Memory: 1048576 KB\n",
      " Device - Global Memory: 5 GB\n",
      " Device - Max Buffer/Image Size: 1024 MB\n",
      " Device - Max Work Group Size: 256\n",
      "\n",
      "\n"
     ]
    }
   ],
   "source": [
    "info = opencl_information()\n",
    "info.print_full_info()"
   ]
  },
  {
   "cell_type": "markdown",
   "metadata": {},
   "source": [
    "## Configure the OpenCL Context"
   ]
  },
  {
   "cell_type": "code",
   "execution_count": 4,
   "metadata": {},
   "outputs": [],
   "source": [
    "platform_number = 0\n",
    "device_number = 0\n",
    "\n",
    "cl_devices = cl.get_platforms()[platform_number].get_devices()\n",
    "cl_ctx = cl.Context(cl_devices)\n",
    "cl_queue = cl.CommandQueue(cl_ctx, cl_devices[device_number])"
   ]
  },
  {
   "cell_type": "markdown",
   "metadata": {},
   "source": [
    "## Compile the Program"
   ]
  },
  {
   "cell_type": "code",
   "execution_count": 5,
   "metadata": {},
   "outputs": [],
   "source": [
    "def build_program(program_files : list, cl_ctx : cl.Context,\n",
    "        build_options=[]) -> cl.Program:\n",
    "    \"\"\"\n",
    "    Build a program from an OpenCL source file.\n",
    "\n",
    "    Parameters\n",
    "    ----------\n",
    "    program_files : list\n",
    "        The path to the OpenCL source files.\n",
    "    cl_ctx : pyopencl.Context\n",
    "        The context to build the program with.\n",
    "    build_options : list of str\n",
    "        The build options to use.\n",
    "\n",
    "    Returns\n",
    "    -------\n",
    "    pyopencl.Program\n",
    "    \"\"\"\n",
    "    program_source = ''\n",
    "\n",
    "    for cl_file in program_files:\n",
    "        with open(cl_file, 'r') as cl_file:\n",
    "            file_source = cl_file.read()\n",
    "            program_source += '\\n' + file_source\n",
    "\n",
    "    program_source = cl.Program(cl_ctx, program_source)\n",
    "    program = program_source.build(options=build_options)\n",
    "            \n",
    "    return program"
   ]
  },
  {
   "cell_type": "code",
   "execution_count": 6,
   "metadata": {},
   "outputs": [
    {
     "name": "stdout",
     "output_type": "stream",
     "text": [
      "Kernel Names: hash_main;get_single_hash;get_random_numbers;get_random_string;get_single_hash_nonce;mine_nonce\n"
     ]
    }
   ],
   "source": [
    "cl_program_files = [\n",
    "    'Library/worker/sha256.cl',\n",
    "    'Library/worker/zimcoin.cl',\n",
    "]\n",
    "\n",
    "cl_program = build_program(cl_program_files, cl_ctx)\n",
    "\n",
    "# show the kernel names\n",
    "program_kernel_names = cl_program.get_info(cl.program_info.KERNEL_NAMES)\n",
    "print(f\"Kernel Names: {program_kernel_names}\")"
   ]
  },
  {
   "cell_type": "markdown",
   "metadata": {},
   "source": [
    "## Mine Nonce"
   ]
  },
  {
   "cell_type": "code",
   "execution_count": 7,
   "metadata": {},
   "outputs": [],
   "source": [
    "def display_output(zeros_found : dict, nonce : np.ndarray,\n",
    "                   nonce_len : np.ndarray) -> None:\n",
    "    \"\"\"\n",
    "    Display the output generated by the OpenCL Kernel.\n",
    "    \"\"\"\n",
    "    for i in range(0, 64):\n",
    "        if nonce_len[i] > 0:\n",
    "            if (i not in zeros_found):\n",
    "                nonce_str = nonce[i * 16:i * 16 + nonce_len[i]].tobytes().decode('UTF-8')\n",
    "                zeros_found[i] = nonce_str\n",
    "                hash = hashlib.sha256((plaintext + nonce_str).encode('utf-8'))\n",
    "\n",
    "                logging.info(\"%4d: [%2d] %16s %64s\" % (i, nonce_len[i], nonce_str, hash.hexdigest() if nonce_len[i] > 0 else ''))"
   ]
  },
  {
   "cell_type": "code",
   "execution_count": 8,
   "metadata": {},
   "outputs": [
    {
     "name": "stdout",
     "output_type": "stream",
     "text": [
      "2022-07-11 16:16:54 INFO        1: [ 1]                S 0486fe740a12e3b54c778665ddcc98a056b0f16570558f9dcf218de51b984d20\n",
      "2022-07-11 16:16:54 INFO        2: [12]     ePkwj}p6=Ng< 00aa28239599ae0e37662d8226a9af14e538c1793f7457f191d3bfb0e615c1a8\n",
      "2022-07-11 16:16:54 INFO        3: [ 8]         OsL\"|7FO 0006b65b1e0d43b5b0f426f9c69e7f615011d5175c2452a8e20208108f21c820\n",
      "2022-07-11 16:16:54 INFO        4: [13]    C-ugwEbP2=sxi 0000b85ace7835b821db4271acef2b94250baf4e88b701b0814a2701c010ecb7\n",
      "2022-07-11 16:17:09 INFO        5: [15]  2=%wjjC.=w4=RC\" 000003a88ad16081c0a666563a2fd47973ef84e9d2f18e80239db49f135887d0\n"
     ]
    }
   ],
   "source": [
    "# set up the variables to generate the random numbers\n",
    "plaintext = 'this is a description of the latest block'\n",
    "plaintext_bytes = np.frombuffer(plaintext.encode('utf-8'), dtype=np.uint8)\n",
    "plaintext_length = np.int32(len(plaintext_bytes))\n",
    "\n",
    "seed = np.random.randint(0, np.iinfo(np.uint32).max, dtype=np.uint32)\n",
    "window_size = np.uint32(1000000)\n",
    "nonce = np.zeros(shape=16 * 64, dtype=np.uint8)\n",
    "nonce_len = np.zeros(shape=64, dtype=np.uint8)\n",
    "\n",
    "# allocate the memory for the variables on the device\n",
    "cl_window_size = cl.Buffer(cl_ctx, cl.mem_flags.READ_ONLY | cl.mem_flags.COPY_HOST_PTR, hostbuf=window_size)\n",
    "cl_plaintext_bytes = cl.Buffer(cl_ctx, cl.mem_flags.READ_ONLY | cl.mem_flags.COPY_HOST_PTR, hostbuf=plaintext_bytes)\n",
    "cl_plaintext_length = cl.Buffer(cl_ctx, cl.mem_flags.READ_ONLY | cl.mem_flags.COPY_HOST_PTR, hostbuf=plaintext_length)\n",
    "cl_nonce = cl.Buffer(cl_ctx, cl.mem_flags.WRITE_ONLY, nonce.nbytes)\n",
    "cl_nonce_len = cl.Buffer(cl_ctx, cl.mem_flags.WRITE_ONLY, nonce_len.nbytes)\n",
    "\n",
    "zeros_found = {}\n",
    "\n",
    "keep_running = True\n",
    "while (keep_running):\n",
    "    seed = np.random.randint(0, np.iinfo(np.uint32).max, dtype=np.uint32)\n",
    "    cl_seed = cl.Buffer(cl_ctx, cl.mem_flags.READ_ONLY | cl.mem_flags.COPY_HOST_PTR, hostbuf=seed)\n",
    "\n",
    "    # execute the program\n",
    "    cl_program.mine_nonce(\n",
    "        cl_queue, (256,), None,\n",
    "        cl_seed,\n",
    "        cl_window_size,\n",
    "        cl_plaintext_bytes,\n",
    "        cl_plaintext_length,\n",
    "        cl_nonce,\n",
    "        cl_nonce_len)\n",
    "\n",
    "    # get the results\n",
    "    cl.enqueue_copy(cl_queue, nonce, cl_nonce)\n",
    "    cl.enqueue_copy(cl_queue, nonce_len, cl_nonce_len)\n",
    "\n",
    "    # display the results\n",
    "    display_output(zeros_found, nonce, nonce_len)\n",
    "\n",
    "    keep_running = True"
   ]
  }
 ],
 "metadata": {
  "kernelspec": {
   "display_name": "Python 3.8.9 ('dsm070')",
   "language": "python",
   "name": "python3"
  },
  "language_info": {
   "codemirror_mode": {
    "name": "ipython",
    "version": 3
   },
   "file_extension": ".py",
   "mimetype": "text/x-python",
   "name": "python",
   "nbconvert_exporter": "python",
   "pygments_lexer": "ipython3",
   "version": "3.8.9"
  },
  "orig_nbformat": 4,
  "vscode": {
   "interpreter": {
    "hash": "7df413eebee551bb3fe92333337bcdc429cbfbbe1c6a605cf7db6555d9b28943"
   }
  }
 },
 "nbformat": 4,
 "nbformat_minor": 2
}
