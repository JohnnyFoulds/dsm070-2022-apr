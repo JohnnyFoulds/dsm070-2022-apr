{
 "cells": [
  {
   "cell_type": "markdown",
   "metadata": {},
   "source": [
    "# Experiment 05-01"
   ]
  },
  {
   "cell_type": "code",
   "execution_count": 1,
   "metadata": {},
   "outputs": [],
   "source": [
    "import numpy as np\n",
    "import hashlib\n",
    "from binascii import hexlify\n",
    "import pyopencl as cl\n",
    "from Library.opencl_information import opencl_information"
   ]
  },
  {
   "cell_type": "markdown",
   "metadata": {},
   "source": [
    "## Show the available Platforms"
   ]
  },
  {
   "cell_type": "code",
   "execution_count": 2,
   "metadata": {},
   "outputs": [
    {
     "name": "stdout",
     "output_type": "stream",
     "text": [
      "\n",
      "============================================================\n",
      "OpenCL Platforms and Devices\n",
      "============================================================\n",
      "Platform 0 - Name: Apple\n",
      "Platform 0 - Vendor: Apple\n",
      "Platform 0 - Version: OpenCL 1.2 (Apr 19 2022 18:44:44)\n",
      "Platform 0 - Profile: FULL_PROFILE\n",
      " --------------------------------------------------------\n",
      " Device - Name: Apple M1\n",
      " Device - Type: ALL | GPU\n",
      " Device - Max Clock Speed: 1000 Mhz\n",
      " Device - Compute Units: 8\n",
      " Device - Local Memory: 32 KB\n",
      " Device - Constant Memory: 1048576 KB\n",
      " Device - Global Memory: 5 GB\n",
      " Device - Max Buffer/Image Size: 1024 MB\n",
      " Device - Max Work Group Size: 256\n",
      "\n",
      "\n"
     ]
    }
   ],
   "source": [
    "info = opencl_information()\n",
    "info.print_full_info()"
   ]
  },
  {
   "cell_type": "markdown",
   "metadata": {},
   "source": [
    "## Configure the OpenCL Context"
   ]
  },
  {
   "cell_type": "code",
   "execution_count": 3,
   "metadata": {},
   "outputs": [],
   "source": [
    "platform_number = 0\n",
    "device_number = 0\n",
    "\n",
    "cl_devices = cl.get_platforms()[platform_number].get_devices()\n",
    "cl_ctx = cl.Context(cl_devices)\n",
    "cl_queue = cl.CommandQueue(cl_ctx, cl_devices[device_number])"
   ]
  },
  {
   "cell_type": "markdown",
   "metadata": {},
   "source": [
    "## Compile the Program"
   ]
  },
  {
   "cell_type": "code",
   "execution_count": 4,
   "metadata": {},
   "outputs": [],
   "source": [
    "def build_program(program_files : list, cl_ctx : cl.Context,\n",
    "        build_options=[]) -> cl.Program:\n",
    "    \"\"\"\n",
    "    Build a program from an OpenCL source file.\n",
    "\n",
    "    Parameters\n",
    "    ----------\n",
    "    program_files : list\n",
    "        The path to the OpenCL source files.\n",
    "    cl_ctx : pyopencl.Context\n",
    "        The context to build the program with.\n",
    "    build_options : list of str\n",
    "        The build options to use.\n",
    "\n",
    "    Returns\n",
    "    -------\n",
    "    pyopencl.Program\n",
    "    \"\"\"\n",
    "    program_source = ''\n",
    "\n",
    "    for cl_file in program_files:\n",
    "        with open(cl_file, 'r') as cl_file:\n",
    "            file_source = cl_file.read()\n",
    "            program_source += '\\n' + file_source\n",
    "\n",
    "    program_source = cl.Program(cl_ctx, program_source)\n",
    "    program = program_source.build(options=build_options)\n",
    "            \n",
    "    return program"
   ]
  },
  {
   "cell_type": "code",
   "execution_count": 5,
   "metadata": {},
   "outputs": [
    {
     "name": "stdout",
     "output_type": "stream",
     "text": [
      "Kernel Names: hash_main;get_single_hash;get_random_numbers;get_random_string;get_single_hash_nonce;mine_nonce\n"
     ]
    }
   ],
   "source": [
    "cl_program_files = [\n",
    "    'Library/worker/sha256.cl',\n",
    "    'Library/worker/zimcoin.cl',\n",
    "]\n",
    "\n",
    "cl_program = build_program(cl_program_files, cl_ctx)\n",
    "\n",
    "# show the kernel names\n",
    "program_kernel_names = cl_program.get_info(cl.program_info.KERNEL_NAMES)\n",
    "print(f\"Kernel Names: {program_kernel_names}\")"
   ]
  },
  {
   "cell_type": "markdown",
   "metadata": {},
   "source": [
    "## Initial Tests"
   ]
  },
  {
   "cell_type": "markdown",
   "metadata": {},
   "source": [
    "### Single Hash"
   ]
  },
  {
   "cell_type": "code",
   "execution_count": 6,
   "metadata": {},
   "outputs": [
    {
     "name": "stdout",
     "output_type": "stream",
     "text": [
      "Plaintext: 665782\n",
      "Leading Zeros: 7\n",
      "CL result      : b'0000000399c6aea5ad0c709a9bc331a3ed6494702bd1d129d8c817a0257a1462'\n",
      "Correct result : b'0000000399c6aea5ad0c709a9bc331a3ed6494702bd1d129d8c817a0257a1462'\n",
      "CL output      : [  50331648 2779694745 2591034541 2737947547 1888773357  701616427\n",
      " 2685913304 1645509157]\n",
      "CL output      : [  0   0   0   3 153 198 174 165 173  12 112 154 155 195  49 163 237 100\n",
      " 148 112  43 209 209  41 216 200  23 160  37 122  20  98]\n",
      "CL output      : b'\\x00\\x00\\x00\\x03\\x99\\xc6\\xae\\xa5\\xad\\x0cp\\x9a\\x9b\\xc31\\xa3\\xedd\\x94p+\\xd1\\xd1)\\xd8\\xc8\\x17\\xa0%z\\x14b'\n"
     ]
    }
   ],
   "source": [
    "# the plaintext to hash\n",
    "#plaintext = 'bells hel the quick brown fox jumps over the lazy dog 12356'\n",
    "plaintext = '665782'\n",
    "#plaintext = 'this is a description of the latest block' + '395707976'\n",
    "#plaintext = '120Make America Great Again'\n",
    "#plaintext = '69817Make America Great Again'\n",
    "plaintext_bytes = np.frombuffer(plaintext.encode('utf-8'), dtype=np.uint8)\n",
    "plaintext_length = np.int32(len(plaintext_bytes))\n",
    "\n",
    "# the hash output\n",
    "hash_output = np.zeros(8, dtype=np.uint32)\n",
    "leading_zeros = np.zeros(1, dtype=np.uint8)\n",
    "\n",
    "# allocate the memory for the variables on the device\n",
    "cl_plaintext_bytes = cl.Buffer(\n",
    "    cl_ctx,\n",
    "    cl.mem_flags.READ_ONLY | cl.mem_flags.COPY_HOST_PTR,\n",
    "    hostbuf=plaintext_bytes)\n",
    "\n",
    "cl_plaintext_length = cl.Buffer(\n",
    "    cl_ctx,\n",
    "    cl.mem_flags.READ_ONLY | cl.mem_flags.COPY_HOST_PTR,\n",
    "    hostbuf=plaintext_length)\n",
    "\n",
    "cl_hash_output = cl.Buffer(\n",
    "    cl_ctx,\n",
    "    cl.mem_flags.WRITE_ONLY,\n",
    "    hash_output.nbytes)\n",
    "\n",
    "cl_leading_zeros = cl.Buffer(\n",
    "    cl_ctx,\n",
    "    cl.mem_flags.WRITE_ONLY,\n",
    "    leading_zeros.nbytes)\n",
    "\n",
    "# execute the program\n",
    "cl_program.get_single_hash(\n",
    "    cl_queue, (1,), None,\n",
    "    cl_plaintext_bytes,\n",
    "    cl_plaintext_length,\n",
    "    cl_hash_output,\n",
    "    cl_leading_zeros)\n",
    "\n",
    "# get the results\n",
    "cl.enqueue_copy(cl_queue, hash_output, cl_hash_output)\n",
    "cl.enqueue_copy(cl_queue, leading_zeros, cl_leading_zeros)\n",
    "\n",
    "# print the results\n",
    "print(\"Plaintext: %s\" % plaintext)\n",
    "print(\"Leading Zeros: %d\" % leading_zeros[0])\n",
    "print(\"CL result      : %s\" % hexlify(hash_output))\n",
    "print(\"Correct result : %s\" % hexlify(hashlib.sha256(plaintext.encode('utf-8')).digest()))\n",
    "print(\"CL output      : %s\" % hash_output)\n",
    "print(\"CL output      : %s\" % np.frombuffer(hash_output, dtype=np.uint8))\n",
    "print(\"CL output      : %s\" % hash_output.tobytes())\n",
    "\n",
    "assert hexlify(hash_output) == hexlify(hashlib.sha256(plaintext.encode('utf-8')).digest())\n"
   ]
  },
  {
   "cell_type": "markdown",
   "metadata": {},
   "source": [
    "### Random String Generation"
   ]
  },
  {
   "cell_type": "code",
   "execution_count": 7,
   "metadata": {},
   "outputs": [
    {
     "name": "stdout",
     "output_type": "stream",
     "text": [
      "Seed: 2527992673\n",
      "Result: [ 96  46  79 124]\n",
      "Result String: b'`.O|'\n"
     ]
    }
   ],
   "source": [
    "# set up the variables to generate the random numbers\n",
    "seed = np.random.randint(0, np.iinfo(np.uint32).max, dtype=np.uint32)\n",
    "start = np.uint8(32)\n",
    "end = np.uint8(126)\n",
    "length = np.uint32(4)\n",
    "result = np.zeros(length, dtype=np.uint8)\n",
    "\n",
    "# allocate the memory for the variables on the device\n",
    "cl_seed = cl.Buffer(cl_ctx, cl.mem_flags.READ_ONLY | cl.mem_flags.COPY_HOST_PTR, hostbuf=seed)\n",
    "cl_start = cl.Buffer(cl_ctx, cl.mem_flags.READ_ONLY | cl.mem_flags.COPY_HOST_PTR, hostbuf=start)\n",
    "cl_end = cl.Buffer(cl_ctx, cl.mem_flags.READ_ONLY | cl.mem_flags.COPY_HOST_PTR, hostbuf=end)\n",
    "cl_len = cl.Buffer(cl_ctx, cl.mem_flags.READ_ONLY | cl.mem_flags.COPY_HOST_PTR, hostbuf=length)\n",
    "cl_result = cl.Buffer(cl_ctx, cl.mem_flags.WRITE_ONLY, result.nbytes)\n",
    "\n",
    "# execute the program\n",
    "cl_program.get_random_numbers(\n",
    "    cl_queue, (1,), None,\n",
    "    cl_seed,\n",
    "    cl_start,\n",
    "    cl_end,\n",
    "    cl_len,\n",
    "    cl_result)\n",
    "\n",
    "# get the results\n",
    "cl.enqueue_copy(cl_queue, result, cl_result)\n",
    "\n",
    "# print the results\n",
    "print(f\"Seed: {seed}\")\n",
    "print(f\"Result: {result}\")\n",
    "print(f\"Result String: {result.tobytes()}\")"
   ]
  },
  {
   "cell_type": "code",
   "execution_count": 8,
   "metadata": {},
   "outputs": [
    {
     "name": "stdout",
     "output_type": "stream",
     "text": [
      "Length: [2]\n",
      "Result: [ 71 116   0   0   0   0   0   0   0   0   0   0   0   0   0   0]\n",
      "Result String: b'Gt\\x00\\x00\\x00\\x00\\x00\\x00\\x00\\x00\\x00\\x00\\x00\\x00\\x00\\x00'\n"
     ]
    }
   ],
   "source": [
    "# set up the variables to generate the random numbers\n",
    "seed = np.random.randint(0, np.iinfo(np.uint32).max, dtype=np.uint32)\n",
    "result = np.zeros(shape=16, dtype=np.uint8)\n",
    "length = np.zeros(shape=(1,), dtype=np.uint8)\n",
    "\n",
    "# allocate the memory for the variables on the device\n",
    "cl_seed = cl.Buffer(cl_ctx, cl.mem_flags.READ_ONLY | cl.mem_flags.COPY_HOST_PTR, hostbuf=seed)\n",
    "cl_result = cl.Buffer(cl_ctx, cl.mem_flags.WRITE_ONLY, result.nbytes)\n",
    "cl_len = cl.Buffer(cl_ctx, cl.mem_flags.WRITE_ONLY, length.nbytes)\n",
    "\n",
    "# execute the program\n",
    "cl_program.get_random_string(\n",
    "    cl_queue, (1,), None,\n",
    "    cl_seed,\n",
    "    cl_result,\n",
    "    cl_len)\n",
    "\n",
    "# get the results\n",
    "cl.enqueue_copy(cl_queue, length, cl_len)\n",
    "cl.enqueue_copy(cl_queue, result, cl_result)\n",
    "\n",
    "# print the results\n",
    "print(f\"Length: {length}\")\n",
    "print(f\"Result: {result}\")\n",
    "print(f\"Result String: {result.tobytes()}\")"
   ]
  },
  {
   "cell_type": "markdown",
   "metadata": {},
   "source": [
    "## Test get_single_hash_nonce"
   ]
  },
  {
   "cell_type": "code",
   "execution_count": 9,
   "metadata": {},
   "outputs": [
    {
     "name": "stdout",
     "output_type": "stream",
     "text": [
      "Seed: 846241450\n",
      "Plaintext: this is a description of the latest block\n",
      "Nonce: [109  75 104  70  49 110  44 105 103   0   0   0   0   0   0   0]\n",
      "Nonce Length: 9\n",
      "Nonce String: mKhF1n,ig\n",
      "Hash Output: [3206680410 3601421358  202520815 2791167733 4007845088 1509820796\n",
      " 3711869409  436599918]\n",
      "Hash Output string: b'5a0f22bf2e54a9d6ef38120cf5d65da6e0dce2ee7c09fe59e1a13edd6efc051a'\n",
      "Correct result    : b'5a0f22bf2e54a9d6ef38120cf5d65da6e0dce2ee7c09fe59e1a13edd6efc051a'\n"
     ]
    }
   ],
   "source": [
    "# set up the variables to generate the random numbers\n",
    "plaintext = 'this is a description of the latest block'\n",
    "plaintext_bytes = np.frombuffer(plaintext.encode('utf-8'), dtype=np.uint8)\n",
    "plaintext_length = np.int32(len(plaintext_bytes))\n",
    "\n",
    "seed = np.random.randint(0, np.iinfo(np.uint32).max, dtype=np.uint32)\n",
    "nonce = np.zeros(shape=16, dtype=np.uint8)\n",
    "nonce_len = np.zeros(shape=1, dtype=np.uint8)\n",
    "hash = np.zeros(8, dtype=np.uint32)\n",
    "\n",
    "# allocate the memory for the variables on the device\n",
    "cl_seed = cl.Buffer(cl_ctx, cl.mem_flags.READ_ONLY | cl.mem_flags.COPY_HOST_PTR, hostbuf=seed)\n",
    "cl_plaintext_bytes = cl.Buffer(cl_ctx, cl.mem_flags.READ_ONLY | cl.mem_flags.COPY_HOST_PTR, hostbuf=plaintext_bytes)\n",
    "cl_plaintext_length = cl.Buffer(cl_ctx, cl.mem_flags.READ_ONLY | cl.mem_flags.COPY_HOST_PTR, hostbuf=plaintext_length)\n",
    "cl_nonce = cl.Buffer(cl_ctx, cl.mem_flags.WRITE_ONLY, nonce.nbytes)\n",
    "cl_nonce_len = cl.Buffer(cl_ctx, cl.mem_flags.WRITE_ONLY, nonce_len.nbytes)\n",
    "cl_hash_output = cl.Buffer(cl_ctx, cl.mem_flags.WRITE_ONLY, hash_output.nbytes)\n",
    "\n",
    "# execute the program\n",
    "cl_program.get_single_hash_nonce(\n",
    "    cl_queue, (1,), None,\n",
    "    cl_seed,\n",
    "    cl_plaintext_bytes,\n",
    "    cl_plaintext_length,\n",
    "    cl_nonce,\n",
    "    cl_nonce_len,\n",
    "    cl_hash_output)\n",
    "\n",
    "# get the results\n",
    "cl.enqueue_copy(cl_queue, nonce, cl_nonce)\n",
    "cl.enqueue_copy(cl_queue, nonce_len, cl_nonce_len)\n",
    "cl.enqueue_copy(cl_queue, hash_output, cl_hash_output)\n",
    "\n",
    "nonce_str = nonce[:nonce_len[0]].tobytes().decode('UTF-8')\n",
    "\n",
    "# print the results\n",
    "print(\"Seed: %s\" % seed)\n",
    "print(\"Plaintext: %s\" % plaintext)\n",
    "print(\"Nonce: %s\" % nonce)\n",
    "print(\"Nonce Length: %s\" % nonce_len[0])\n",
    "print(\"Nonce String: %s\" % nonce_str)\n",
    "print(\"Hash Output: %s\" % hash_output)\n",
    "print(\"Hash Output string: %s\" % hexlify(hash_output))\n",
    "#print(\"No Nonce          : %s\" % hexlify(hashlib.sha256((plaintext).encode('utf-8')).digest()))\n",
    "print(\"Correct result    : %s\" % hexlify(hashlib.sha256((plaintext+nonce_str).encode('utf-8')).digest()))\n",
    "\n",
    "assert hexlify(hash_output) == hexlify(hashlib.sha256((plaintext+nonce_str).encode('utf-8')).digest())\n"
   ]
  },
  {
   "cell_type": "markdown",
   "metadata": {},
   "source": [
    "## Mine Nonce"
   ]
  },
  {
   "cell_type": "code",
   "execution_count": 10,
   "metadata": {},
   "outputs": [
    {
     "name": "stdout",
     "output_type": "stream",
     "text": [
      "   1: [16] mErsAxF=jBo(U-ZQ 07f5827bbee42a98bb7dbf0101b49be04ffb29c404f66e3993362c210ad8b860\n",
      "   2: [ 7]          !C&H+M0 004a3506f081ae813e46db9883b7337d7cbd1c542ad7113cea2b0f543c06db8c\n",
      "   3: [ 3]              =_8 0004ffb37c632ea7952fa96800f7d625c63865ebc6f8f4942815af173d2dfa39\n",
      "   4: [ 5]            )I'N, 0000da800a88258b9a237049c34becb818098d6c231a1d5465061ecb5b490378\n"
     ]
    }
   ],
   "source": [
    "# set up the variables to generate the random numbers\n",
    "plaintext = 'this is a description of the latest block'\n",
    "plaintext_bytes = np.frombuffer(plaintext.encode('utf-8'), dtype=np.uint8)\n",
    "plaintext_length = np.int32(len(plaintext_bytes))\n",
    "\n",
    "seed = np.random.randint(0, np.iinfo(np.uint32).max, dtype=np.uint32)\n",
    "window_size = np.uint32(1000000)\n",
    "nonce = np.zeros(shape=16 * 64, dtype=np.uint8)\n",
    "nonce_len = np.zeros(shape=64, dtype=np.uint8)\n",
    "\n",
    "# allocate the memory for the variables on the device\n",
    "cl_window_size = cl.Buffer(cl_ctx, cl.mem_flags.READ_ONLY | cl.mem_flags.COPY_HOST_PTR, hostbuf=window_size)\n",
    "cl_plaintext_bytes = cl.Buffer(cl_ctx, cl.mem_flags.READ_ONLY | cl.mem_flags.COPY_HOST_PTR, hostbuf=plaintext_bytes)\n",
    "cl_plaintext_length = cl.Buffer(cl_ctx, cl.mem_flags.READ_ONLY | cl.mem_flags.COPY_HOST_PTR, hostbuf=plaintext_length)\n",
    "cl_nonce = cl.Buffer(cl_ctx, cl.mem_flags.WRITE_ONLY, nonce.nbytes)\n",
    "cl_nonce_len = cl.Buffer(cl_ctx, cl.mem_flags.WRITE_ONLY, nonce_len.nbytes)\n",
    "\n",
    "max_zeros = 0\n",
    "\n",
    "while (True):\n",
    "    seed = np.random.randint(0, np.iinfo(np.uint32).max, dtype=np.uint32)\n",
    "    cl_seed = cl.Buffer(cl_ctx, cl.mem_flags.READ_ONLY | cl.mem_flags.COPY_HOST_PTR, hostbuf=seed)\n",
    "\n",
    "    # execute the program\n",
    "    cl_program.mine_nonce(\n",
    "        cl_queue, (1,), None,\n",
    "        cl_seed,\n",
    "        cl_window_size,\n",
    "        cl_plaintext_bytes,\n",
    "        cl_plaintext_length,\n",
    "        cl_nonce,\n",
    "        cl_nonce_len)\n",
    "\n",
    "    # get the results\n",
    "    cl.enqueue_copy(cl_queue, nonce, cl_nonce)\n",
    "    cl.enqueue_copy(cl_queue, nonce_len, cl_nonce_len)\n",
    "\n",
    "    # interpret the results\n",
    "    for i in range(max_zeros + 1, 64):\n",
    "        if nonce_len[i] > 0:\n",
    "            nonce_str = nonce[i * 16:i * 16 + nonce_len[i]].tobytes().decode('UTF-8')\n",
    "            hash = hashlib.sha256((plaintext + nonce_str).encode('utf-8'))\n",
    "\n",
    "            print(\"%4d: [%2d] %16s %64s\" % (i, nonce_len[i], nonce_str, hash.hexdigest() if nonce_len[i] > 0 else ''))\n",
    "\n",
    "            if i > max_zeros:\n",
    "                max_zeros = i"
   ]
  }
 ],
 "metadata": {
  "kernelspec": {
   "display_name": "Python 3.8.9 ('topic_06': venv)",
   "language": "python",
   "name": "python3"
  },
  "language_info": {
   "codemirror_mode": {
    "name": "ipython",
    "version": 3
   },
   "file_extension": ".py",
   "mimetype": "text/x-python",
   "name": "python",
   "nbconvert_exporter": "python",
   "pygments_lexer": "ipython3",
   "version": "3.8.9"
  },
  "orig_nbformat": 4,
  "vscode": {
   "interpreter": {
    "hash": "d6e7d1cfb9682a6b3f36fcffd3bf2a22732d0bef5e29adf39b0e08d4365f17de"
   }
  }
 },
 "nbformat": 4,
 "nbformat_minor": 2
}
