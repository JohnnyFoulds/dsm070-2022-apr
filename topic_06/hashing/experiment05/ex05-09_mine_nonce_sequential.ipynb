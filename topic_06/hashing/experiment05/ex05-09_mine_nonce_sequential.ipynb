{
 "cells": [
  {
   "cell_type": "markdown",
   "metadata": {},
   "source": [
    "# Experiment 05-09"
   ]
  },
  {
   "cell_type": "code",
   "execution_count": 1,
   "metadata": {},
   "outputs": [],
   "source": [
    "import sys\n",
    "import numpy as np\n",
    "import hashlib\n",
    "from binascii import hexlify\n",
    "import pyopencl as cl\n",
    "from Library.opencl_information import opencl_information\n",
    "import logging\n",
    "from pqdm.threads import pqdm\n",
    "from tqdm.notebook import tqdm"
   ]
  },
  {
   "cell_type": "markdown",
   "metadata": {},
   "source": [
    "## Configure Logging"
   ]
  },
  {
   "cell_type": "code",
   "execution_count": 2,
   "metadata": {},
   "outputs": [
    {
     "name": "stdout",
     "output_type": "stream",
     "text": [
      "2022-07-15 13:01:52 INFO     Started\n"
     ]
    }
   ],
   "source": [
    "logging.basicConfig(\n",
    "    format='%(asctime)s %(levelname)-8s %(message)s',\n",
    "    level=logging.INFO,\n",
    "    datefmt='%Y-%m-%d %H:%M:%S',\n",
    "        handlers=[\n",
    "        logging.FileHandler(\"ex05_09.log\"),\n",
    "        logging.StreamHandler(sys.stdout)\n",
    "    ])\n",
    "\n",
    "logging.info(\"Started\")"
   ]
  },
  {
   "cell_type": "markdown",
   "metadata": {},
   "source": [
    "## Show the available Platforms"
   ]
  },
  {
   "cell_type": "code",
   "execution_count": 3,
   "metadata": {},
   "outputs": [
    {
     "name": "stdout",
     "output_type": "stream",
     "text": [
      "\n",
      "============================================================\n",
      "OpenCL Platforms and Devices\n",
      "============================================================\n",
      "Platform 0 - Name: Apple\n",
      "Platform 0 - Vendor: Apple\n",
      "Platform 0 - Version: OpenCL 1.2 (Apr 19 2022 18:44:44)\n",
      "Platform 0 - Profile: FULL_PROFILE\n",
      " --------------------------------------------------------\n",
      " Device - Name: Apple M1\n",
      " Device - Type: ALL | GPU\n",
      " Device - Max Clock Speed: 1000 Mhz\n",
      " Device - Compute Units: 8\n",
      " Device - Local Memory: 32 KB\n",
      " Device - Constant Memory: 1048576 KB\n",
      " Device - Global Memory: 5 GB\n",
      " Device - Max Buffer/Image Size: 1024 MB\n",
      " Device - Max Work Group Size: 256\n",
      "\n",
      "\n"
     ]
    }
   ],
   "source": [
    "info = opencl_information()\n",
    "info.print_full_info()"
   ]
  },
  {
   "cell_type": "markdown",
   "metadata": {},
   "source": [
    "## Configure the OpenCL Context"
   ]
  },
  {
   "cell_type": "code",
   "execution_count": 4,
   "metadata": {},
   "outputs": [],
   "source": [
    "platform_number = 0\n",
    "device_number = 0\n",
    "\n",
    "cl_devices = cl.get_platforms()[platform_number].get_devices()\n",
    "cl_ctx = cl.Context(cl_devices)\n",
    "cl_queue = cl.CommandQueue(cl_ctx, cl_devices[device_number])"
   ]
  },
  {
   "cell_type": "code",
   "execution_count": 5,
   "metadata": {},
   "outputs": [
    {
     "name": "stdout",
     "output_type": "stream",
     "text": [
      "Max Compute Units: 8\n",
      "Max Compute Units: 256\n",
      "Threads: 2048\n"
     ]
    }
   ],
   "source": [
    "cl_device = cl_devices[device_number]\n",
    "\n",
    "cl_threads = cl_device.max_compute_units * cl_device.max_work_group_size\n",
    "if cl_device.type & 4 == 0:\n",
    "    cl_threads = cl_devices.max_work_group_size\n",
    "\n",
    "print('Max Compute Units:', cl_device.max_compute_units)\n",
    "print('Max Compute Units:', cl_device.max_work_group_size)\n",
    "print('Threads:', cl_threads)"
   ]
  },
  {
   "cell_type": "markdown",
   "metadata": {},
   "source": [
    "## Compile the Program"
   ]
  },
  {
   "cell_type": "code",
   "execution_count": 6,
   "metadata": {},
   "outputs": [],
   "source": [
    "def build_program(program_files : list, cl_ctx : cl.Context,\n",
    "        build_options=[]) -> cl.Program:\n",
    "    \"\"\"\n",
    "    Build a program from an OpenCL source file.\n",
    "\n",
    "    Parameters\n",
    "    ----------\n",
    "    program_files : list\n",
    "        The path to the OpenCL source files.\n",
    "    cl_ctx : pyopencl.Context\n",
    "        The context to build the program with.\n",
    "    build_options : list of str\n",
    "        The build options to use.\n",
    "\n",
    "    Returns\n",
    "    -------\n",
    "    pyopencl.Program\n",
    "    \"\"\"\n",
    "    program_source = ''\n",
    "\n",
    "    for cl_file in program_files:\n",
    "        with open(cl_file, 'r') as cl_file:\n",
    "            file_source = cl_file.read()\n",
    "            program_source += '\\n' + file_source\n",
    "\n",
    "    program_source = cl.Program(cl_ctx, program_source)\n",
    "    program = program_source.build(options=build_options)\n",
    "            \n",
    "    return program"
   ]
  },
  {
   "cell_type": "code",
   "execution_count": 7,
   "metadata": {},
   "outputs": [
    {
     "name": "stdout",
     "output_type": "stream",
     "text": [
      "Kernel Names: hash_main;get_single_hash;get_random_numbers;get_random_string;get_single_hash_nonce;mine_eight;mine_nonce;mine_eight_sequential;mine_nonce_sequential\n"
     ]
    }
   ],
   "source": [
    "cl_program_files = [\n",
    "    'Library/worker/sha256.cl',\n",
    "    'Library/worker/zimcoin.cl',\n",
    "]\n",
    "\n",
    "cl_program = build_program(cl_program_files, cl_ctx)\n",
    "\n",
    "# show the kernel names\n",
    "program_kernel_names = cl_program.get_info(cl.program_info.KERNEL_NAMES)\n",
    "print(f\"Kernel Names: {program_kernel_names}\")"
   ]
  },
  {
   "cell_type": "markdown",
   "metadata": {},
   "source": [
    "## Mine Nonce"
   ]
  },
  {
   "cell_type": "code",
   "execution_count": 8,
   "metadata": {},
   "outputs": [],
   "source": [
    "max_nonce = 20\n",
    "max_output_size = 64"
   ]
  },
  {
   "cell_type": "code",
   "execution_count": 9,
   "metadata": {},
   "outputs": [],
   "source": [
    "def display_output(zeros_found : dict, nonce : np.ndarray,\n",
    "                   nonce_len : np.ndarray) -> None:\n",
    "    \"\"\"\n",
    "    Display the output generated by the OpenCL Kernel.\n",
    "    \"\"\"\n",
    "    for i in range(0, 64):\n",
    "        if nonce_len[i] > 0:\n",
    "            if (i not in zeros_found):\n",
    "                nonce_str = nonce[i * max_nonce:i * max_nonce + nonce_len[i]].tobytes().decode('UTF-8')\n",
    "                zeros_found[i] = nonce_str\n",
    "                hash = hashlib.sha256((plaintext + nonce_str).encode('utf-8'))\n",
    "\n",
    "                logging.info(\"%4d: [%2d] %16s %64s\" % (i, nonce_len[i], nonce_str, hash.hexdigest() if nonce_len[i] > 0 else ''))"
   ]
  },
  {
   "cell_type": "code",
   "execution_count": 10,
   "metadata": {},
   "outputs": [
    {
     "name": "stdout",
     "output_type": "stream",
     "text": [
      "18446744073709551615\n",
      "18446744073709551615\n",
      "20\n"
     ]
    }
   ],
   "source": [
    "print(np.iinfo(np.unsignedinteger).max)\n",
    "print(np.iinfo(np.ulonglong).max)\n",
    "print(len(str(np.iinfo(np.ulonglong).max)))"
   ]
  },
  {
   "cell_type": "code",
   "execution_count": 11,
   "metadata": {},
   "outputs": [],
   "source": [
    "#cl_threads = 1"
   ]
  },
  {
   "cell_type": "code",
   "execution_count": 12,
   "metadata": {},
   "outputs": [
    {
     "name": "stdout",
     "output_type": "stream",
     "text": [
      "2022-07-15 13:01:56 INFO        1: [ 8]         19500000 e3a63c89b4580d11310bf9b4291fc2a6069d535b247805bfd499abc5bd94886c\n",
      "2022-07-15 13:01:56 INFO        2: [ 7]          1568000 5c689ad91aaa07bff18c99f90df27e31ec6982fe68487abf5e3149b434d03936\n",
      "2022-07-15 13:01:56 INFO        3: [ 7]          9370001 000c8b299811fb42a75c9593bf7daa6a71f672c38353d0621b95a9b96d436561\n",
      "2022-07-15 13:01:56 INFO        4: [ 8]         19110027 00005aeab97ce13b54bbb762b8654099a496cc98877eefff10760576a45fbb98\n",
      "2022-07-15 13:01:56 INFO        5: [ 7]          1140060 000004fcb1a7306741474bc477709f877ff9d014d10be9b40c0ede692fc8cacd\n",
      "2022-07-15 13:01:56 INFO        6: [ 8]         11852736 00000012658436c4c2e6be5ec0960b6d9170ed284a46aa7f5a48ddd4aa1a5bc6\n"
     ]
    }
   ],
   "source": [
    "postfix = \"\"\n",
    "base_text = 'this is a description of the latest block'\n",
    "plaintext = base_text + postfix\n",
    "plaintext_bytes = np.frombuffer(plaintext.encode('utf-8'), dtype=np.uint8)\n",
    "plaintext_length = np.int32(len(plaintext_bytes))\n",
    "cl_plaintext_bytes = cl.Buffer(cl_ctx, cl.mem_flags.READ_ONLY | cl.mem_flags.COPY_HOST_PTR, hostbuf=plaintext_bytes)\n",
    "cl_plaintext_length = cl.Buffer(cl_ctx, cl.mem_flags.READ_ONLY | cl.mem_flags.COPY_HOST_PTR, hostbuf=plaintext_length)\n",
    "\n",
    "# set up the variables to generate the random numbers\n",
    "seed = np.ulonglong(0)\n",
    "window_size = np.uint32(10000)\n",
    "nonce = np.zeros(shape=max_nonce * max_output_size, dtype=np.uint8)\n",
    "nonce_len = np.zeros(shape=max_output_size, dtype=np.uint8)\n",
    "\n",
    "# allocate the memory for the variables on the device\n",
    "cl_window_size = cl.Buffer(cl_ctx, cl.mem_flags.READ_ONLY | cl.mem_flags.COPY_HOST_PTR, hostbuf=window_size)\n",
    "cl_nonce = cl.Buffer(cl_ctx, cl.mem_flags.WRITE_ONLY, nonce.nbytes)\n",
    "cl_nonce_len = cl.Buffer(cl_ctx, cl.mem_flags.WRITE_ONLY, nonce_len.nbytes)\n",
    "\n",
    "zeros_found = {}\n",
    "\n",
    "keep_running = True\n",
    "while (keep_running):\n",
    "    cl_seed = cl.Buffer(cl_ctx, cl.mem_flags.READ_ONLY | cl.mem_flags.COPY_HOST_PTR, hostbuf=seed)\n",
    "\n",
    "    # execute the program\n",
    "    cl_program.mine_nonce_sequential(\n",
    "        cl_queue, (cl_threads,), None,\n",
    "        cl_seed,\n",
    "        cl_window_size,\n",
    "        cl_plaintext_bytes,\n",
    "        cl_plaintext_length,\n",
    "        cl_nonce,\n",
    "        cl_nonce_len\n",
    "    )\n",
    "\n",
    "    # get the results\n",
    "    cl.enqueue_copy(cl_queue, nonce, cl_nonce)\n",
    "    cl.enqueue_copy(cl_queue, nonce_len, cl_nonce_len)\n",
    "\n",
    "    # display the last nonce tried for each thread\n",
    "    # for i in range(0, cl_threads):\n",
    "    #     logging.info(\"Thread %d: %d\" % (i, last_nonce[i]))\n",
    "\n",
    "    # for i in range(0, nonce.size):\n",
    "    #     print(nonce[i], end=' ')\n",
    "\n",
    "    # display the results\n",
    "    display_output(zeros_found, nonce, nonce_len)\n",
    "    #logging.info('Iteration Complete.')\n",
    "\n",
    "    seed = np.ulonglong(seed + cl_threads * window_size)\n",
    "    keep_running = True"
   ]
  },
  {
   "cell_type": "code",
   "execution_count": null,
   "metadata": {},
   "outputs": [],
   "source": [
    "input_buffer = {}\n",
    "nonce = {}\n",
    "nonce_len = 0\n",
    "seed = 123456\n",
    "\n",
    "while (seed > 0):\n",
    "    nonce_len += 1\n",
    "    input_buffer[nonce_len - 1] = (seed % 10)\n",
    "    seed = seed // 10\n",
    "\n",
    "print(input_buffer)\n",
    "\n",
    "for i in range(0, nonce_len):\n",
    "    nonce[nonce_len-1 - i] = input_buffer[i]\n",
    "\n",
    "for i in range(0, nonce_len):\n",
    "    print(nonce[i])\n",
    "    "
   ]
  }
 ],
 "metadata": {
  "kernelspec": {
   "display_name": "Python 3.8.9 ('dsm070')",
   "language": "python",
   "name": "python3"
  },
  "language_info": {
   "codemirror_mode": {
    "name": "ipython",
    "version": 3
   },
   "file_extension": ".py",
   "mimetype": "text/x-python",
   "name": "python",
   "nbconvert_exporter": "python",
   "pygments_lexer": "ipython3",
   "version": "3.8.9"
  },
  "orig_nbformat": 4,
  "vscode": {
   "interpreter": {
    "hash": "7df413eebee551bb3fe92333337bcdc429cbfbbe1c6a605cf7db6555d9b28943"
   }
  }
 },
 "nbformat": 4,
 "nbformat_minor": 2
}
