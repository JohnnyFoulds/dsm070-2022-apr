{
 "cells": [
  {
   "cell_type": "markdown",
   "metadata": {},
   "source": [
    "# Generate a second miner key"
   ]
  },
  {
   "cell_type": "code",
   "execution_count": 1,
   "metadata": {},
   "outputs": [],
   "source": [
    "from cryptography.hazmat.primitives import hashes\n",
    "from cryptography.hazmat.primitives.asymmetric import ec\n",
    "from cryptography.hazmat.primitives import serialization\n",
    "from cryptography.hazmat.backends import default_backend\n",
    "from cryptography.hazmat.primitives.serialization import load_der_public_key, load_pem_private_key, load_der_private_key, Encoding, PublicFormat, PrivateFormat\n",
    "from node import Node"
   ]
  },
  {
   "cell_type": "markdown",
   "metadata": {},
   "source": [
    "## Create Miner Address"
   ]
  },
  {
   "cell_type": "markdown",
   "metadata": {},
   "source": [
    "### Generate the Private Key (once)"
   ]
  },
  {
   "cell_type": "code",
   "execution_count": 2,
   "metadata": {},
   "outputs": [],
   "source": [
    "key_path = 'miner_key_03.pem'"
   ]
  },
  {
   "cell_type": "code",
   "execution_count": 3,
   "metadata": {},
   "outputs": [],
   "source": [
    "miner_private_key = ec.generate_private_key(ec.SECP256K1)\n",
    "\n",
    "miner_pem = miner_private_key.private_bytes(\n",
    "    encoding=Encoding.PEM,\n",
    "    format=PrivateFormat.TraditionalOpenSSL,\n",
    "    encryption_algorithm=serialization.NoEncryption())\n",
    "\n",
    "with open(key_path, 'wb') as pem_out:\n",
    "    pem_out.write(miner_pem)"
   ]
  },
  {
   "cell_type": "markdown",
   "metadata": {},
   "source": [
    "### Get the public key"
   ]
  },
  {
   "cell_type": "code",
   "execution_count": 4,
   "metadata": {},
   "outputs": [],
   "source": [
    "def calculate_sha1_hash(public_key):\n",
    "    digest = hashes.Hash(hashes.SHA1())\n",
    "    digest.update(public_key)\n",
    "    return digest.finalize()\n",
    "\n",
    "\n",
    "def private_key_to_public_key(private_key):\n",
    "    return private_key.public_key().public_bytes(encoding=Encoding.DER, format=PublicFormat.SubjectPublicKeyInfo)"
   ]
  },
  {
   "cell_type": "code",
   "execution_count": 5,
   "metadata": {},
   "outputs": [],
   "source": [
    "with open(key_path, 'rb') as pem_in:\n",
    "    pemlines = pem_in.read()\n",
    "\n",
    "miner_private_key = load_pem_private_key(pemlines, None, default_backend())"
   ]
  },
  {
   "cell_type": "code",
   "execution_count": 6,
   "metadata": {},
   "outputs": [
    {
     "name": "stdout",
     "output_type": "stream",
     "text": [
      "f5307d768a4c8365ae09cb9b91eb99b9577b8541\n"
     ]
    }
   ],
   "source": [
    "\n",
    "MINER_KEY = calculate_sha1_hash(private_key_to_public_key(miner_private_key))\n",
    "print(MINER_KEY.hex())\n"
   ]
  },
  {
   "cell_type": "code",
   "execution_count": 7,
   "metadata": {},
   "outputs": [
    {
     "data": {
      "text/plain": [
       "16083486117236442789"
      ]
     },
     "execution_count": 7,
     "metadata": {},
     "output_type": "execute_result"
    }
   ],
   "source": [
    "import numpy as np\n",
    "np.random.randint(0, np.iinfo(np.ulonglong).max, dtype=np.ulonglong)"
   ]
  },
  {
   "cell_type": "markdown",
   "metadata": {},
   "source": [
    "```\n",
    "Mined block 00083fa3d54c776d4e8333e936d5187624219bab6e226ad3b5d38cc0182efac8\n",
    "About to mine block\n",
    "Attempting mining with difficulty 1000\n",
    "Mined block 000fdcbd5a95f1e5bccd963cb9212788db13ea094c8c480f7b7bfef361a6216a\n",
    "About to mine block\n",
    "Attempting mining with difficulty 1000\n",
    "Mined block 0018536da16d5cce58b4158f002df88690a061db0d8871529d01263468edd339\n",
    "About to mine block\n",
    "```"
   ]
  }
 ],
 "metadata": {
  "kernelspec": {
   "display_name": "Python 3.8.9 ('opencl_brute')",
   "language": "python",
   "name": "python3"
  },
  "language_info": {
   "codemirror_mode": {
    "name": "ipython",
    "version": 3
   },
   "file_extension": ".py",
   "mimetype": "text/x-python",
   "name": "python",
   "nbconvert_exporter": "python",
   "pygments_lexer": "ipython3",
   "version": "3.8.9"
  },
  "orig_nbformat": 4,
  "vscode": {
   "interpreter": {
    "hash": "af52e0220ee14da2c93d3fc900d8dec377d85b811dd8b2ff7872eb4b0c0fde13"
   }
  }
 },
 "nbformat": 4,
 "nbformat_minor": 2
}
