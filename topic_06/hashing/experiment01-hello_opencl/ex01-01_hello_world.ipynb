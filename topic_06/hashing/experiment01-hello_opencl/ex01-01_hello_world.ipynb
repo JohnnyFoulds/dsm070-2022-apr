{
 "cells": [
  {
   "cell_type": "markdown",
   "metadata": {},
   "source": [
    "# Experiment 01-01: Hello World\n",
    "\n",
    "Test basic OpenCL functionality to ensure the environment is up and running.\n",
    "\n",
    "## Web References\n",
    "\n",
    "- [Parallel Programming with (Py)OpenCL for Fun and Profit](https://github.com/Gordonei/pyconza-october-2018/blob/master/code/PyConZA_OpenCL_Talk.ipynb)\n",
    "- [pyopencl-in-action](https://github.com/oysstu/pyopencl-in-action/blob/master/ch4/double_test.py)"
   ]
  },
  {
   "cell_type": "code",
   "execution_count": 1,
   "metadata": {},
   "outputs": [],
   "source": [
    "import sys\n",
    "import numpy as np\n",
    "import pyopencl"
   ]
  },
  {
   "cell_type": "markdown",
   "metadata": {},
   "source": [
    "## List Available Devices"
   ]
  },
  {
   "cell_type": "code",
   "execution_count": 2,
   "metadata": {},
   "outputs": [
    {
     "name": "stdout",
     "output_type": "stream",
     "text": [
      "Apple\n"
     ]
    }
   ],
   "source": [
    "ocl_platforms = (platform.name \n",
    "                 for platform in pyopencl.get_platforms())\n",
    "print(\"\\n\".join(ocl_platforms))"
   ]
  },
  {
   "cell_type": "markdown",
   "metadata": {},
   "source": [
    "## Get the testing platform"
   ]
  },
  {
   "cell_type": "code",
   "execution_count": 3,
   "metadata": {},
   "outputs": [],
   "source": [
    "def get_first_platform_by_name(name : str) -> pyopencl.Platform:\n",
    "    \"\"\"\n",
    "    Get the first platform with the given name.\n",
    "\n",
    "    Parameters\n",
    "    ----------\n",
    "    name : str\n",
    "        The name of the platform to get.\n",
    "    \"\"\"\n",
    "    for platform in pyopencl.get_platforms():\n",
    "        if platform.name == name:\n",
    "            return platform\n",
    "\n",
    "    raise ValueError(f\"No platform named '{name}'\")"
   ]
  },
  {
   "cell_type": "code",
   "execution_count": 4,
   "metadata": {},
   "outputs": [
    {
     "name": "stdout",
     "output_type": "stream",
     "text": [
      "[<pyopencl.Device 'Apple M1' on 'Apple' at 0x1027f00>]\n",
      "<pyopencl.Context at 0x600002034630 on <pyopencl.Device 'Apple M1' on 'Apple' at 0x1027f00>>\n"
     ]
    }
   ],
   "source": [
    "gpu_platform = get_first_platform_by_name(\"Apple\")\n",
    "gpu_devices = gpu_platform.get_devices(device_type=pyopencl.device_type.GPU)\n",
    "gpu_context = pyopencl.Context(devices=gpu_devices)\n",
    "\n",
    "print(gpu_devices)\n",
    "print(gpu_context)"
   ]
  },
  {
   "cell_type": "markdown",
   "metadata": {},
   "source": [
    "## Build The Program"
   ]
  },
  {
   "cell_type": "code",
   "execution_count": 5,
   "metadata": {},
   "outputs": [],
   "source": [
    "def build_program(program_files : list, context : pyopencl.Context,\n",
    "        build_options=[]) -> pyopencl.Program:\n",
    "    \"\"\"\n",
    "    Build a program from an OpenCL source file.\n",
    "\n",
    "    Parameters\n",
    "    ----------\n",
    "    program_files : list\n",
    "        The path to the OpenCL source files.\n",
    "    context : pyopencl.Context\n",
    "        The context to build the program with.\n",
    "    build_options : list of str\n",
    "        The build options to use.\n",
    "\n",
    "    Returns\n",
    "    -------\n",
    "    pyopencl.Program\n",
    "    \"\"\"\n",
    "    program_source_code = ''\n",
    "\n",
    "    for ocl_file in program_files:\n",
    "        with open(ocl_file, 'r') as opencl_file:\n",
    "            file_source_code = opencl_file.read()\n",
    "            program_source_code += '\\n' + file_source_code\n",
    "\n",
    "    program_source = pyopencl.Program(context, program_source_code)\n",
    "    program = program_source.build(options=build_options)\n",
    "            \n",
    "    return program"
   ]
  },
  {
   "cell_type": "code",
   "execution_count": 6,
   "metadata": {},
   "outputs": [
    {
     "name": "stdout",
     "output_type": "stream",
     "text": [
      "<pyopencl.Program object at 0x105f3a430>\n"
     ]
    }
   ],
   "source": [
    "gpu_program = build_program(['ex01-01_hello_world.cl'], gpu_context)\n",
    "\n",
    "print(gpu_program)"
   ]
  },
  {
   "cell_type": "code",
   "execution_count": 7,
   "metadata": {},
   "outputs": [
    {
     "name": "stdout",
     "output_type": "stream",
     "text": [
      "Kernel Names: summy\n"
     ]
    }
   ],
   "source": [
    "# show the kernel names\n",
    "program_kernel_names = gpu_program.get_info(pyopencl.program_info.KERNEL_NAMES)\n",
    "print(f\"Kernel Names: {program_kernel_names}\")"
   ]
  },
  {
   "cell_type": "markdown",
   "metadata": {},
   "source": [
    "## Run Program"
   ]
  },
  {
   "cell_type": "code",
   "execution_count": 8,
   "metadata": {},
   "outputs": [],
   "source": [
    "def run_ocl_kernel(queue, kernel, global_size,\n",
    "                   input_tuples, output_tuples,\n",
    "                   local_size = (32,)):\n",
    "    \n",
    "    # copying data onto the device\n",
    "    for (value, buffer) in input_tuples:\n",
    "        pyopencl.enqueue_copy(queue, src=value, dest=buffer)\n",
    "    \n",
    "    # running program on the device\n",
    "    kernel_arguments  = [buffer for (_,buffer) in input_tuples] \n",
    "    kernel_arguments += [buffer for (_,buffer) in output_tuples]\n",
    "        \n",
    "    kernel(queue, global_size, local_size, *kernel_arguments)\n",
    "\n",
    "    # copying data off the device\n",
    "    for (value, buffer) in output_tuples:\n",
    "        pyopencl.enqueue_copy(queue, src=buffer, dest=value)\n",
    "        \n",
    "    # waiting for everything to finish\n",
    "    queue.finish()"
   ]
  },
  {
   "cell_type": "markdown",
   "metadata": {},
   "source": [
    "### Device Memory Setup"
   ]
  },
  {
   "cell_type": "code",
   "execution_count": 9,
   "metadata": {},
   "outputs": [],
   "source": [
    "# input values\n",
    "a = np.float32(256.2)\n",
    "b = np.float32(25.6)\n",
    "c = np.zeros(shape=(1,), dtype=np.float32)\n",
    "\n",
    "# create the input tuples\n",
    "input_tuples = (\n",
    "    (a, pyopencl.Buffer(gpu_context, pyopencl.mem_flags.READ_ONLY, sys.getsizeof(a))),\n",
    "    (b, pyopencl.Buffer(gpu_context, pyopencl.mem_flags.READ_ONLY, sys.getsizeof(b))),\n",
    ")\n",
    "\n",
    "# create the output tuples\n",
    "output_tuples = (\n",
    "    (c, pyopencl.Buffer(gpu_context, pyopencl.mem_flags.WRITE_ONLY, c.itemsize)),\n",
    ")"
   ]
  },
  {
   "cell_type": "markdown",
   "metadata": {},
   "source": [
    "### Execute Program"
   ]
  },
  {
   "cell_type": "code",
   "execution_count": 10,
   "metadata": {},
   "outputs": [
    {
     "name": "stdout",
     "output_type": "stream",
     "text": [
      "<pyopencl._cl.Kernel object at 0x1062d6bd0>\n"
     ]
    }
   ],
   "source": [
    "print(gpu_program.summy)"
   ]
  },
  {
   "cell_type": "code",
   "execution_count": 11,
   "metadata": {},
   "outputs": [
    {
     "name": "stdout",
     "output_type": "stream",
     "text": [
      "281.800018\n",
      "c = 281.8000183105469\n"
     ]
    }
   ],
   "source": [
    "global_size = (1,)\n",
    "local_size = None\n",
    "\n",
    "gpu_queue = pyopencl.CommandQueue(gpu_context)\n",
    "\n",
    "run_ocl_kernel(gpu_queue, gpu_program.summy, global_size, input_tuples, output_tuples, local_size)\n",
    "print(f\"c = {c[0]}\")"
   ]
  }
 ],
 "metadata": {
  "kernelspec": {
   "display_name": "Python 3.8.9 ('topic_06': venv)",
   "language": "python",
   "name": "python3"
  },
  "language_info": {
   "codemirror_mode": {
    "name": "ipython",
    "version": 3
   },
   "file_extension": ".py",
   "mimetype": "text/x-python",
   "name": "python",
   "nbconvert_exporter": "python",
   "pygments_lexer": "ipython3",
   "version": "3.8.9"
  },
  "orig_nbformat": 4,
  "vscode": {
   "interpreter": {
    "hash": "d6e7d1cfb9682a6b3f36fcffd3bf2a22732d0bef5e29adf39b0e08d4365f17de"
   }
  }
 },
 "nbformat": 4,
 "nbformat_minor": 2
}
