{
 "cells": [
  {
   "cell_type": "markdown",
   "metadata": {},
   "source": [
    "# Experiment 05-07"
   ]
  },
  {
   "cell_type": "code",
   "execution_count": 6,
   "metadata": {},
   "outputs": [],
   "source": [
    "import sys\n",
    "import numpy as np\n",
    "import hashlib\n",
    "from binascii import hexlify\n",
    "import pyopencl as cl\n",
    "from Library.opencl_information import opencl_information\n",
    "import logging\n",
    "from pqdm.threads import pqdm\n",
    "from tqdm.notebook import tqdm"
   ]
  },
  {
   "cell_type": "markdown",
   "metadata": {},
   "source": [
    "## Configure Logging"
   ]
  },
  {
   "cell_type": "code",
   "execution_count": 7,
   "metadata": {},
   "outputs": [
    {
     "name": "stdout",
     "output_type": "stream",
     "text": [
      "2022-07-13 04:12:36 INFO     Started\n"
     ]
    }
   ],
   "source": [
    "logging.basicConfig(\n",
    "    format='%(asctime)s %(levelname)-8s %(message)s',\n",
    "    level=logging.INFO,\n",
    "    datefmt='%Y-%m-%d %H:%M:%S',\n",
    "        handlers=[\n",
    "        logging.FileHandler(\"ex05_07_mini.log\"),\n",
    "        logging.StreamHandler(sys.stdout)\n",
    "    ])\n",
    "\n",
    "logging.info(\"Started\")"
   ]
  },
  {
   "cell_type": "markdown",
   "metadata": {},
   "source": [
    "## Show the available Platforms"
   ]
  },
  {
   "cell_type": "code",
   "execution_count": 8,
   "metadata": {},
   "outputs": [
    {
     "name": "stdout",
     "output_type": "stream",
     "text": [
      "\n",
      "============================================================\n",
      "OpenCL Platforms and Devices\n",
      "============================================================\n",
      "Platform 0 - Name: Apple\n",
      "Platform 0 - Vendor: Apple\n",
      "Platform 0 - Version: OpenCL 1.2 (Apr 19 2022 18:44:44)\n",
      "Platform 0 - Profile: FULL_PROFILE\n",
      " --------------------------------------------------------\n",
      " Device - Name: Apple M1\n",
      " Device - Type: ALL | GPU\n",
      " Device - Max Clock Speed: 1000 Mhz\n",
      " Device - Compute Units: 8\n",
      " Device - Local Memory: 32 KB\n",
      " Device - Constant Memory: 1048576 KB\n",
      " Device - Global Memory: 5 GB\n",
      " Device - Max Buffer/Image Size: 1024 MB\n",
      " Device - Max Work Group Size: 256\n",
      "\n",
      "\n"
     ]
    }
   ],
   "source": [
    "info = opencl_information()\n",
    "info.print_full_info()"
   ]
  },
  {
   "cell_type": "markdown",
   "metadata": {},
   "source": [
    "## Configure the OpenCL Context"
   ]
  },
  {
   "cell_type": "code",
   "execution_count": 9,
   "metadata": {},
   "outputs": [],
   "source": [
    "platform_number = 0\n",
    "device_number = 0\n",
    "\n",
    "cl_devices = cl.get_platforms()[platform_number].get_devices()\n",
    "cl_ctx = cl.Context(cl_devices)\n",
    "cl_queue = cl.CommandQueue(cl_ctx, cl_devices[device_number])"
   ]
  },
  {
   "cell_type": "markdown",
   "metadata": {},
   "source": [
    "## Compile the Program"
   ]
  },
  {
   "cell_type": "code",
   "execution_count": 10,
   "metadata": {},
   "outputs": [],
   "source": [
    "def build_program(program_files : list, cl_ctx : cl.Context,\n",
    "        build_options=[]) -> cl.Program:\n",
    "    \"\"\"\n",
    "    Build a program from an OpenCL source file.\n",
    "\n",
    "    Parameters\n",
    "    ----------\n",
    "    program_files : list\n",
    "        The path to the OpenCL source files.\n",
    "    cl_ctx : pyopencl.Context\n",
    "        The context to build the program with.\n",
    "    build_options : list of str\n",
    "        The build options to use.\n",
    "\n",
    "    Returns\n",
    "    -------\n",
    "    pyopencl.Program\n",
    "    \"\"\"\n",
    "    program_source = ''\n",
    "\n",
    "    for cl_file in program_files:\n",
    "        with open(cl_file, 'r') as cl_file:\n",
    "            file_source = cl_file.read()\n",
    "            program_source += '\\n' + file_source\n",
    "\n",
    "    program_source = cl.Program(cl_ctx, program_source)\n",
    "    program = program_source.build(options=build_options)\n",
    "            \n",
    "    return program"
   ]
  },
  {
   "cell_type": "code",
   "execution_count": 11,
   "metadata": {},
   "outputs": [
    {
     "name": "stdout",
     "output_type": "stream",
     "text": [
      "Kernel Names: hash_main;get_single_hash;get_random_numbers;get_random_string;get_single_hash_nonce;mine_eight;mine_nonce\n"
     ]
    }
   ],
   "source": [
    "cl_program_files = [\n",
    "    'Library/worker/sha256.cl',\n",
    "    'Library/worker/zimcoin.cl',\n",
    "]\n",
    "\n",
    "cl_program = build_program(cl_program_files, cl_ctx)\n",
    "\n",
    "# show the kernel names\n",
    "program_kernel_names = cl_program.get_info(cl.program_info.KERNEL_NAMES)\n",
    "print(f\"Kernel Names: {program_kernel_names}\")"
   ]
  },
  {
   "cell_type": "markdown",
   "metadata": {},
   "source": [
    "## Mine Nonce"
   ]
  },
  {
   "cell_type": "code",
   "execution_count": 12,
   "metadata": {},
   "outputs": [],
   "source": [
    "max_nonce = 16"
   ]
  },
  {
   "cell_type": "code",
   "execution_count": 13,
   "metadata": {},
   "outputs": [],
   "source": [
    "def display_output(zeros_found : dict, nonce : np.ndarray,\n",
    "                   nonce_len : np.ndarray) -> None:\n",
    "    \"\"\"\n",
    "    Display the output generated by the OpenCL Kernel.\n",
    "    \"\"\"\n",
    "    for i in range(0, 64):\n",
    "        if nonce_len[i] > 0:\n",
    "            nonce_str = nonce[i * max_nonce:i * max_nonce + nonce_len[i]].tobytes().decode('UTF-8')\n",
    "            zeros_found[i] = nonce_str\n",
    "            hash = hashlib.sha256((plaintext + nonce_str).encode('utf-8'))\n",
    "\n",
    "            logging.info(\"%4d: [%2d] %16s %64s\" % (i, nonce_len[i], nonce_str, hash.hexdigest() if nonce_len[i] > 0 else ''))"
   ]
  },
  {
   "cell_type": "code",
   "execution_count": 14,
   "metadata": {},
   "outputs": [
    {
     "name": "stdout",
     "output_type": "stream",
     "text": [
      "2022-07-13 04:12:39 INFO     build program: kernel 'mine_eight' was part of a lengthy source build resulting from a binary cache miss (0.64 s)\n",
      "2022-07-13 04:13:57 INFO     Iteration complete.\n"
     ]
    }
   ],
   "source": [
    "# set up the variables to generate the random numbers\n",
    "plaintext = 'this is a description of the latest block'\n",
    "plaintext_bytes = np.frombuffer(plaintext.encode('utf-8'), dtype=np.uint8)\n",
    "plaintext_length = np.int32(len(plaintext_bytes))\n",
    "\n",
    "seed = np.random.randint(0, np.iinfo(np.uint32).max, dtype=np.uint32)\n",
    "window_size = np.uint32(10000000)\n",
    "nonce = np.zeros(shape=max_nonce * 64, dtype=np.uint8)\n",
    "nonce_len = np.zeros(shape=64, dtype=np.uint8)\n",
    "#hash_count = np.zeros(shape=1, dtype=np.uint32)\n",
    "\n",
    "# allocate the memory for the variables on the device\n",
    "cl_window_size = cl.Buffer(cl_ctx, cl.mem_flags.READ_ONLY | cl.mem_flags.COPY_HOST_PTR, hostbuf=window_size)\n",
    "cl_plaintext_bytes = cl.Buffer(cl_ctx, cl.mem_flags.READ_ONLY | cl.mem_flags.COPY_HOST_PTR, hostbuf=plaintext_bytes)\n",
    "cl_plaintext_length = cl.Buffer(cl_ctx, cl.mem_flags.READ_ONLY | cl.mem_flags.COPY_HOST_PTR, hostbuf=plaintext_length)\n",
    "cl_nonce = cl.Buffer(cl_ctx, cl.mem_flags.WRITE_ONLY, nonce.nbytes)\n",
    "cl_nonce_len = cl.Buffer(cl_ctx, cl.mem_flags.WRITE_ONLY, nonce_len.nbytes)\n",
    "#cl_hash_count = cl.Buffer(cl_ctx, cl.mem_flags.WRITE_ONLY, hash_count.nbytes)\n",
    "\n",
    "zeros_found = {}\n",
    "\n",
    "keep_running = True\n",
    "while (keep_running):\n",
    "    seed = np.random.randint(0, np.iinfo(np.uint32).max, dtype=np.uint32)\n",
    "    cl_seed = cl.Buffer(cl_ctx, cl.mem_flags.READ_ONLY | cl.mem_flags.COPY_HOST_PTR, hostbuf=seed)\n",
    "\n",
    "    # execute the program\n",
    "    cl_program.mine_eight(\n",
    "        cl_queue, (256,), (1,),\n",
    "        cl_seed,\n",
    "        cl_window_size,\n",
    "        cl_plaintext_bytes,\n",
    "        cl_plaintext_length,\n",
    "        cl_nonce,\n",
    "        cl_nonce_len,\n",
    "    #    cl_hash_count\n",
    "    )\n",
    "\n",
    "    # get the results\n",
    "    cl.enqueue_copy(cl_queue, nonce, cl_nonce)\n",
    "    cl.enqueue_copy(cl_queue, nonce_len, cl_nonce_len)\n",
    "    #cl.enqueue_copy(cl_queue, hash_count, cl_hash_count)\n",
    "\n",
    "    # display the results\n",
    "    #print('Hash Count:', hash_count[0])\n",
    "    display_output(zeros_found, nonce, nonce_len)\n",
    "\n",
    "    keep_running = True\n",
    "    logging.info('Iteration complete.')"
   ]
  },
  {
   "cell_type": "code",
   "execution_count": null,
   "metadata": {},
   "outputs": [],
   "source": [
    "# def find_zeros(i : int) -> list:\n",
    "#     \"\"\"\n",
    "#     Find the zeros in the zeros_found dictionary.\n",
    "#     \"\"\"\n",
    "#     output = []\n",
    "\n",
    "#     iterations = 1000000\n",
    "#     min_len = 6\n",
    "#     nonce = i * iterations\n",
    "\n",
    "#     for k in range(1, iterations):\n",
    "#         hash = hashlib.sha256((plaintext+str(nonce)).encode('utf-8')).hexdigest()\n",
    "#         zeros = len(hash) - len(hash.lstrip('0'))\n",
    "#         if zeros > min_len:\n",
    "#             output.append('%16d %s\\n' % (nonce, hash))\n",
    "\n",
    "#         nonce += 1\n",
    "\n",
    "#     return output   \n",
    "\n",
    "# plaintext = 'this is a description of the latest block'\n",
    "# n_jobs=256\n",
    "# results = pqdm(range(n_jobs), function=find_zeros, n_jobs=n_jobs, argument_type='iterator')\n",
    "# for result in results:\n",
    "#     if len(result) > 0:\n",
    "#         print(result)\n"
   ]
  }
 ],
 "metadata": {
  "interpreter": {
   "hash": "7df413eebee551bb3fe92333337bcdc429cbfbbe1c6a605cf7db6555d9b28943"
  },
  "kernelspec": {
   "display_name": "Python 3.8.9 ('dsm070')",
   "language": "python",
   "name": "python3"
  },
  "language_info": {
   "codemirror_mode": {
    "name": "ipython",
    "version": 3
   },
   "file_extension": ".py",
   "mimetype": "text/x-python",
   "name": "python",
   "nbconvert_exporter": "python",
   "pygments_lexer": "ipython3",
   "version": "3.8.9"
  },
  "orig_nbformat": 4,
  "vscode": {
   "interpreter": {
    "hash": "7df413eebee551bb3fe92333337bcdc429cbfbbe1c6a605cf7db6555d9b28943"
   }
  }
 },
 "nbformat": 4,
 "nbformat_minor": 2
}
