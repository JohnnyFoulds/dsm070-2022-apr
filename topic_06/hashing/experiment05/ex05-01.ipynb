{
 "cells": [
  {
   "cell_type": "markdown",
   "metadata": {},
   "source": [
    "# Experiment 05-01"
   ]
  },
  {
   "cell_type": "code",
   "execution_count": 224,
   "metadata": {},
   "outputs": [],
   "source": [
    "import numpy as np\n",
    "import hashlib\n",
    "from binascii import hexlify\n",
    "import pyopencl as cl\n",
    "from Library.opencl_information import opencl_information"
   ]
  },
  {
   "cell_type": "markdown",
   "metadata": {},
   "source": [
    "## Show the available Platforms"
   ]
  },
  {
   "cell_type": "code",
   "execution_count": 225,
   "metadata": {},
   "outputs": [
    {
     "name": "stdout",
     "output_type": "stream",
     "text": [
      "\n",
      "============================================================\n",
      "OpenCL Platforms and Devices\n",
      "============================================================\n",
      "Platform 0 - Name: Apple\n",
      "Platform 0 - Vendor: Apple\n",
      "Platform 0 - Version: OpenCL 1.2 (Apr 19 2022 18:44:44)\n",
      "Platform 0 - Profile: FULL_PROFILE\n",
      " --------------------------------------------------------\n",
      " Device - Name: Apple M1\n",
      " Device - Type: ALL | GPU\n",
      " Device - Max Clock Speed: 1000 Mhz\n",
      " Device - Compute Units: 8\n",
      " Device - Local Memory: 32 KB\n",
      " Device - Constant Memory: 1048576 KB\n",
      " Device - Global Memory: 5 GB\n",
      " Device - Max Buffer/Image Size: 1024 MB\n",
      " Device - Max Work Group Size: 256\n",
      "\n",
      "\n"
     ]
    }
   ],
   "source": [
    "info = opencl_information()\n",
    "info.print_full_info()"
   ]
  },
  {
   "cell_type": "markdown",
   "metadata": {},
   "source": [
    "## Configure the OpenCL Context"
   ]
  },
  {
   "cell_type": "code",
   "execution_count": 226,
   "metadata": {},
   "outputs": [],
   "source": [
    "platform_number = 0\n",
    "device_number = 0\n",
    "\n",
    "cl_devices = cl.get_platforms()[platform_number].get_devices()\n",
    "cl_ctx = cl.Context(cl_devices)\n",
    "cl_queue = cl.CommandQueue(cl_ctx, cl_devices[device_number])"
   ]
  },
  {
   "cell_type": "markdown",
   "metadata": {},
   "source": [
    "## Compile the Program"
   ]
  },
  {
   "cell_type": "code",
   "execution_count": 227,
   "metadata": {},
   "outputs": [],
   "source": [
    "def build_program(program_files : list, cl_ctx : cl.Context,\n",
    "        build_options=[]) -> cl.Program:\n",
    "    \"\"\"\n",
    "    Build a program from an OpenCL source file.\n",
    "\n",
    "    Parameters\n",
    "    ----------\n",
    "    program_files : list\n",
    "        The path to the OpenCL source files.\n",
    "    cl_ctx : pyopencl.Context\n",
    "        The context to build the program with.\n",
    "    build_options : list of str\n",
    "        The build options to use.\n",
    "\n",
    "    Returns\n",
    "    -------\n",
    "    pyopencl.Program\n",
    "    \"\"\"\n",
    "    program_source = ''\n",
    "\n",
    "    for cl_file in program_files:\n",
    "        with open(cl_file, 'r') as cl_file:\n",
    "            file_source = cl_file.read()\n",
    "            program_source += '\\n' + file_source\n",
    "\n",
    "    program_source = cl.Program(cl_ctx, program_source)\n",
    "    program = program_source.build(options=build_options)\n",
    "            \n",
    "    return program"
   ]
  },
  {
   "cell_type": "code",
   "execution_count": 228,
   "metadata": {},
   "outputs": [
    {
     "name": "stdout",
     "output_type": "stream",
     "text": [
      "Kernel Names: hash_main;get_single_hash;get_random_numbers;get_random_string;get_single_hash_nonce;mine_nonce\n"
     ]
    }
   ],
   "source": [
    "cl_program_files = [\n",
    "    'Library/worker/sha256.cl',\n",
    "    'Library/worker/zimcoin.cl',\n",
    "]\n",
    "\n",
    "cl_program = build_program(cl_program_files, cl_ctx)\n",
    "\n",
    "# show the kernel names\n",
    "program_kernel_names = cl_program.get_info(cl.program_info.KERNEL_NAMES)\n",
    "print(f\"Kernel Names: {program_kernel_names}\")"
   ]
  },
  {
   "cell_type": "markdown",
   "metadata": {},
   "source": [
    "## Initial Tests"
   ]
  },
  {
   "cell_type": "markdown",
   "metadata": {},
   "source": [
    "### Single Hash"
   ]
  },
  {
   "cell_type": "code",
   "execution_count": 229,
   "metadata": {},
   "outputs": [
    {
     "name": "stdout",
     "output_type": "stream",
     "text": [
      "Plaintext: this is a description of the latest block395707976\n",
      "CL result      : b'0000000053d18bbf3e8293e6a3bacda6e35ee7715e6353bf55a86cb9c3b4167b'\n",
      "Correct result : b'0000000053d18bbf3e8293e6a3bacda6e35ee7715e6353bf55a86cb9c3b4167b'\n",
      "CL output      : [         0 3213611347 3868426814 2798500515 1910988515 3209913182\n",
      " 3110905941 2065085635]\n"
     ]
    }
   ],
   "source": [
    "# the plaintext to hash\n",
    "#plaintext = 'bells hel the quick brown fox jumps over the lazy dog 12356'\n",
    "plaintext = 'this is a description of the latest block' + '395707976'\n",
    "plaintext_bytes = np.frombuffer(plaintext.encode('utf-8'), dtype=np.uint8)\n",
    "plaintext_length = np.int32(len(plaintext_bytes))\n",
    "\n",
    "# the hash output\n",
    "hash_output = np.zeros(8, dtype=np.uint32)\n",
    "\n",
    "# allocate the memory for the variables on the device\n",
    "cl_plaintext_bytes = cl.Buffer(\n",
    "    cl_ctx,\n",
    "    cl.mem_flags.READ_ONLY | cl.mem_flags.COPY_HOST_PTR,\n",
    "    hostbuf=plaintext_bytes)\n",
    "\n",
    "cl_plaintext_length = cl.Buffer(\n",
    "    cl_ctx,\n",
    "    cl.mem_flags.READ_ONLY | cl.mem_flags.COPY_HOST_PTR,\n",
    "    hostbuf=plaintext_length)\n",
    "\n",
    "cl_hash_output = cl.Buffer(\n",
    "    cl_ctx,\n",
    "    cl.mem_flags.WRITE_ONLY,\n",
    "    hash_output.nbytes)\n",
    "\n",
    "# execute the program\n",
    "cl_program.get_single_hash(\n",
    "    cl_queue, (1,), None,\n",
    "    cl_plaintext_bytes,\n",
    "    cl_plaintext_length,\n",
    "    cl_hash_output)\n",
    "\n",
    "# get the results\n",
    "cl.enqueue_copy(cl_queue, hash_output, cl_hash_output)\n",
    "\n",
    "# print the results\n",
    "print(\"Plaintext: %s\" % plaintext)\n",
    "print(\"CL result      : %s\" % hexlify(hash_output))\n",
    "print(\"Correct result : %s\" % hexlify(hashlib.sha256(plaintext.encode('utf-8')).digest()))\n",
    "print(\"CL output      : %s\" % hash_output)\n",
    "\n",
    "assert hexlify(hash_output) == hexlify(hashlib.sha256(plaintext.encode('utf-8')).digest())\n"
   ]
  },
  {
   "cell_type": "markdown",
   "metadata": {},
   "source": [
    "### Random String Generation"
   ]
  },
  {
   "cell_type": "code",
   "execution_count": 230,
   "metadata": {},
   "outputs": [
    {
     "name": "stdout",
     "output_type": "stream",
     "text": [
      "Seed: 2353436862\n",
      "Result: [84 65 58 82]\n",
      "Result String: b'TA:R'\n"
     ]
    }
   ],
   "source": [
    "# set up the variables to generate the random numbers\n",
    "seed = np.random.randint(0, np.iinfo(np.uint32).max, dtype=np.uint32)\n",
    "start = np.uint8(32)\n",
    "end = np.uint8(126)\n",
    "length = np.uint32(4)\n",
    "result = np.zeros(length, dtype=np.uint8)\n",
    "\n",
    "# allocate the memory for the variables on the device\n",
    "cl_seed = cl.Buffer(cl_ctx, cl.mem_flags.READ_ONLY | cl.mem_flags.COPY_HOST_PTR, hostbuf=seed)\n",
    "cl_start = cl.Buffer(cl_ctx, cl.mem_flags.READ_ONLY | cl.mem_flags.COPY_HOST_PTR, hostbuf=start)\n",
    "cl_end = cl.Buffer(cl_ctx, cl.mem_flags.READ_ONLY | cl.mem_flags.COPY_HOST_PTR, hostbuf=end)\n",
    "cl_len = cl.Buffer(cl_ctx, cl.mem_flags.READ_ONLY | cl.mem_flags.COPY_HOST_PTR, hostbuf=length)\n",
    "cl_result = cl.Buffer(cl_ctx, cl.mem_flags.WRITE_ONLY, result.nbytes)\n",
    "\n",
    "# execute the program\n",
    "cl_program.get_random_numbers(\n",
    "    cl_queue, (1,), None,\n",
    "    cl_seed,\n",
    "    cl_start,\n",
    "    cl_end,\n",
    "    cl_len,\n",
    "    cl_result)\n",
    "\n",
    "# get the results\n",
    "cl.enqueue_copy(cl_queue, result, cl_result)\n",
    "\n",
    "# print the results\n",
    "print(f\"Seed: {seed}\")\n",
    "print(f\"Result: {result}\")\n",
    "print(f\"Result String: {result.tobytes()}\")"
   ]
  },
  {
   "cell_type": "code",
   "execution_count": 231,
   "metadata": {},
   "outputs": [
    {
     "name": "stdout",
     "output_type": "stream",
     "text": [
      "Length: [6]\n",
      "Result: [ 53 110  62  70  37  85   0   0   0   0   0   0   0   0   0   0]\n",
      "Result String: b'5n>F%U\\x00\\x00\\x00\\x00\\x00\\x00\\x00\\x00\\x00\\x00'\n"
     ]
    }
   ],
   "source": [
    "# set up the variables to generate the random numbers\n",
    "seed = np.random.randint(0, np.iinfo(np.uint32).max, dtype=np.uint32)\n",
    "result = np.zeros(shape=16, dtype=np.uint8)\n",
    "length = np.zeros(shape=(1,), dtype=np.uint8)\n",
    "\n",
    "# allocate the memory for the variables on the device\n",
    "cl_seed = cl.Buffer(cl_ctx, cl.mem_flags.READ_ONLY | cl.mem_flags.COPY_HOST_PTR, hostbuf=seed)\n",
    "cl_result = cl.Buffer(cl_ctx, cl.mem_flags.WRITE_ONLY, result.nbytes)\n",
    "cl_len = cl.Buffer(cl_ctx, cl.mem_flags.WRITE_ONLY, length.nbytes)\n",
    "\n",
    "# execute the program\n",
    "cl_program.get_random_string(\n",
    "    cl_queue, (1,), None,\n",
    "    cl_seed,\n",
    "    cl_result,\n",
    "    cl_len)\n",
    "\n",
    "# get the results\n",
    "cl.enqueue_copy(cl_queue, length, cl_len)\n",
    "cl.enqueue_copy(cl_queue, result, cl_result)\n",
    "\n",
    "# print the results\n",
    "print(f\"Length: {length}\")\n",
    "print(f\"Result: {result}\")\n",
    "print(f\"Result String: {result.tobytes()}\")"
   ]
  },
  {
   "cell_type": "markdown",
   "metadata": {},
   "source": [
    "## Test get_single_hash_nonce"
   ]
  },
  {
   "cell_type": "code",
   "execution_count": 232,
   "metadata": {},
   "outputs": [
    {
     "name": "stdout",
     "output_type": "stream",
     "text": [
      "Seed: 3514623740\n",
      "Plaintext: this is a description of the latest block\n",
      "Nonce: [92 69 67 56 91  0  0  0  0  0  0  0  0  0  0  0]\n",
      "Nonce Length: 5\n",
      "Nonce String: \\EC8[\n",
      "Hash Output: [3100550853 1425789547 3885309443 1264630975 3494420282 1809378304\n",
      " 1014903885 1850468323]\n",
      "Hash Output string: b'c5a6ceb86bd2fb54031e95e7bfbc604b3a9f48d000ecd86b4d347e3ce3e74b6e'\n",
      "Correct result    : b'c5a6ceb86bd2fb54031e95e7bfbc604b3a9f48d000ecd86b4d347e3ce3e74b6e'\n"
     ]
    }
   ],
   "source": [
    "# set up the variables to generate the random numbers\n",
    "plaintext = 'this is a description of the latest block'\n",
    "plaintext_bytes = np.frombuffer(plaintext.encode('utf-8'), dtype=np.uint8)\n",
    "plaintext_length = np.int32(len(plaintext_bytes))\n",
    "\n",
    "seed = np.random.randint(0, np.iinfo(np.uint32).max, dtype=np.uint32)\n",
    "nonce = np.zeros(shape=16, dtype=np.uint8)\n",
    "nonce_len = np.zeros(shape=1, dtype=np.uint8)\n",
    "hash = np.zeros(8, dtype=np.uint32)\n",
    "\n",
    "# allocate the memory for the variables on the device\n",
    "cl_seed = cl.Buffer(cl_ctx, cl.mem_flags.READ_ONLY | cl.mem_flags.COPY_HOST_PTR, hostbuf=seed)\n",
    "cl_plaintext_bytes = cl.Buffer(cl_ctx, cl.mem_flags.READ_ONLY | cl.mem_flags.COPY_HOST_PTR, hostbuf=plaintext_bytes)\n",
    "cl_plaintext_length = cl.Buffer(cl_ctx, cl.mem_flags.READ_ONLY | cl.mem_flags.COPY_HOST_PTR, hostbuf=plaintext_length)\n",
    "cl_nonce = cl.Buffer(cl_ctx, cl.mem_flags.WRITE_ONLY, nonce.nbytes)\n",
    "cl_nonce_len = cl.Buffer(cl_ctx, cl.mem_flags.WRITE_ONLY, nonce_len.nbytes)\n",
    "cl_hash_output = cl.Buffer(cl_ctx, cl.mem_flags.WRITE_ONLY, hash_output.nbytes)\n",
    "\n",
    "# execute the program\n",
    "cl_program.get_single_hash_nonce(\n",
    "    cl_queue, (1,), None,\n",
    "    cl_seed,\n",
    "    cl_plaintext_bytes,\n",
    "    cl_plaintext_length,\n",
    "    cl_nonce,\n",
    "    cl_nonce_len,\n",
    "    cl_hash_output)\n",
    "\n",
    "# get the results\n",
    "cl.enqueue_copy(cl_queue, nonce, cl_nonce)\n",
    "cl.enqueue_copy(cl_queue, nonce_len, cl_nonce_len)\n",
    "cl.enqueue_copy(cl_queue, hash_output, cl_hash_output)\n",
    "\n",
    "nonce_str = nonce[:nonce_len[0]].tobytes().decode('UTF-8')\n",
    "\n",
    "# print the results\n",
    "print(\"Seed: %s\" % seed)\n",
    "print(\"Plaintext: %s\" % plaintext)\n",
    "print(\"Nonce: %s\" % nonce)\n",
    "print(\"Nonce Length: %s\" % nonce_len[0])\n",
    "print(\"Nonce String: %s\" % nonce_str)\n",
    "print(\"Hash Output: %s\" % hash_output)\n",
    "print(\"Hash Output string: %s\" % hexlify(hash_output))\n",
    "#print(\"No Nonce          : %s\" % hexlify(hashlib.sha256((plaintext).encode('utf-8')).digest()))\n",
    "print(\"Correct result    : %s\" % hexlify(hashlib.sha256((plaintext+nonce_str).encode('utf-8')).digest()))\n",
    "\n",
    "assert hexlify(hash_output) == hexlify(hashlib.sha256((plaintext+nonce_str).encode('utf-8')).digest())\n"
   ]
  },
  {
   "cell_type": "markdown",
   "metadata": {},
   "source": [
    "## Mine Nonce"
   ]
  },
  {
   "cell_type": "code",
   "execution_count": 233,
   "metadata": {},
   "outputs": [
    {
     "name": "stdout",
     "output_type": "stream",
     "text": [
      "   0: [15]  $OcpJ'LoC0#QLgk b'c51c2d9076929d03e9b24101f5f9fc1a0468057fecf3198fdf923a380cce419c'\n",
      "   1: [14]   \\=NW5gkO\\=MnD/ b'2e47f609c80039f8574718a6d4e10ca4721e0f7f6125a52481931a2fff720522'\n",
      "   2: [ 4]             UTH+ b'd7670504847a9e9c9a7496c307ad0c0194363b0d6cd1c87060ad3b4f1ff38f10'\n",
      "   3: [15]  #W5fdv:X;W=@5fd b'614bc57633414b775aca7c75367ac5ea886ef962f4176bf0cc381f8aa60786f6'\n",
      "   4: [ 6]           4&LhT@ b'7becbedcf2332807c1861789a4f1606ee6e5deb46331e761fe38e3811b7a7e92'\n",
      "   5: [ 4]             fe^% b'aa491f9788b520805daaaa92fb9f1744c65b6b79d56722276ae88aaec231bdae'\n",
      "   6: [13]    D=F}fdv;_3'K& b'eb64496dd8d541c3f90756f12aa011ce299e418ebcc2d66884da5f5053f9696c'\n",
      "   7: [12]     m[?Se$^,/|_+ b'c48e62ad311865b0ccf282f3c32229690304d4a2425872b49517011b9fb1459a'\n",
      "   8: [14]   |$^-6sEC8\\=NW6 b'8308f21da8c2e3e31ca9909920171a6abd602772cbde6712773e2f0bae9e28ef'\n",
      "   9: [13]    VSe$^,/}fdu5m b'9de848bec43f84be0072b0eb287c89a4367b9a236693c25f6b4ce9dd8487085e'\n",
      "  10: [ 6]           UN^%\\E b'c1ad3e93910fe78ed8eea057ab7e1eb849a3c19d42eb97a898cedf4807ba701e'\n",
      "  11: [ 5]            =F}fe b'e2b505c1a4a056e2379d2be84e2a77c7113408c83f1ba81f5b027483fedad20d'\n",
      "  12: [13]    &F~lUN]~kO]&? b'dea9be4e7a90d223099e4a4a652d487bdd01e8ba59a3b1e7be53fd6b9ced6914'\n",
      "  13: [12]     .C7UG,/|_,7U b'efc38236ed83c714913d5f8ca0ed648349a8d2b0e9574578c5eee9b8d0cacc31'\n",
      "  14: [ 7]          ,0#Pcv3 b'6bd0a8ccc84f255fab565c79ec22d51443733c8f5986e8334c8d5eb5bcdd893c'\n",
      "  15: [ 6]           E6zw|` b'69e6e01391b57310ea76ecc4b9074650c33b9bd63210d6b365c496ecc1643978'\n",
      "  16: [ 3]              ?Z8 b'f2f89ae29050fe72b45de1047650617722a3555a5c9059814f39eea137f190a6'\n",
      "  17: [11]      8b(XIy)A;W< b'4ff38af868247e879ca1e1e92eb156df517dcb21ce7c9442a05cad083123d142'\n",
      "  18: [ 7]          [>Mu4&M b'b3501ce0c90ea22e2d02013826d6d2fc9b25c4ada6620fb4be6a6ac1307a602c'\n",
      "  19: [15]  D0+G3 \\6zx#QLhS b'288906aecd08637d77987864113456b720914c7fc9248c2fbfdf268face9afb5'\n",
      "  20: [ 9]        Izq2r8coC b'7d7c319bfeca9a2442067d23bc80ab2e3e02d69096c0096810d6cad7d6c46ab3'\n",
      "  21: [15]  $W<VZ9a):K   !i b'e73a47e2d1e193fc4411b85cf005855b01ab309b296c93b0bfa5db56b95825bd'\n",
      "  22: [ 9]        I!Z2r8coC b'ebc5f30bda81d291b46c5af9ca2522213a782ae66f750712b611f401eceab403'\n",
      "  23: [15]  $W=@5fdu5mTO]&? b'7e57ac1e97456ebf3a6f5bfad007c77ff43558e89c60f76a5c4a5acbf4d21712'\n",
      "  24: [13]    u.;^-5mUUMt/} b'67e0a8f5f7cd61547f345199818f4ebfa9de1c5fe12151827dade258f67943d8'\n",
      "  25: [ 5]            ^%]-. b'4a521ae77ebfaaced511721f4a9496376f3f6b60f157b4b27188c01ef55b5f26'\n",
      "  26: [13]    e#W5gjfkH+N\"n b'a147d6a1e43556187f486ce71755f6d68f33adc3971282d06915a734d10351ca'\n",
      "  27: [ 3]              /$P b'caaf8bc3993f271137b7a5e27545bc3bb7cff78e8f9b7dbbe75970296473e601'\n",
      "  28: [10]       a\"h[117!hS b'8a7cb4bb9f9f0c82e186ab84f0347c8e2591087c0e1ee1bb90defda6eb60e20e'\n",
      "  29: [ 9]        J!b'S^4%c b'24a1e1c4c8e8be7a6162cd87c2b546e725bce76ec157e41d96e5bb67ac645f20'\n",
      "  30: [ 6]           3'Ln=? b'6e61aadeeff2473c07676ff6a57704e5aee60f940e7899f683430df4d064ccac'\n",
      "  31: [12]     -=G$W<VZ8[8c b'5877dcfd2224183ec5d2ca2bf49a9ff6920882e843960b23b806b7240b295b90'\n",
      "  32: [15]  D6t.4-=G%].4,6m b'c48b19d7ce0a1ae5ed5e82f0fe71067f10bd2c754a1bfc05358b3e06470ece1b'\n",
      "  33: [12]     >Mt/|`s?YPq9 b'9640a99c67e03c85b9dd09ea2f5625305400164f3a78bf30ae684afd77aa0916'\n",
      "  34: [ 2]               ); b'cdb3663e4b4ecf45f666daffa935a919670a525867636a2e7d0082abf14b97da'\n",
      "  35: [ 1]                S b'0486fe740a12e3b54c778665ddcc98a056b0f16570558f9dcf218de51b984d20'\n",
      "  36: [ 8]         C*:QLgjf b'cee0985fe15f10ca15997082a2259ff222fee351188827b9281318f236930109'\n",
      "  37: [12]     N] UF%UTG$VS b'48ff1c028882d2ff88fb3cc5e00e8cba1e0c13fe63c449f90d64438325584961'\n",
      "  38: [ 7]          kIs>TH+ b'90b69ca357e7252ae6c95f7930ef9472c709521cf08e6f97f128a1a2f8110d1c'\n",
      "  39: [15]  \"oK'S^4%cw|`t(J b'e68365da8db7e39a7ef92b3f57a451ea911adf255ac254e79ce6821314616707'\n",
      "  40: [ 7]          LoC0#QK b'5c124ea2187b80b19a8e2de2f4f7e2aa5afb642425dd6c79a5494faa1106c76e'\n",
      "  41: [ 1]                  b'd201930aceff8b5931eabb7176270916dd1aa44df59b1b6bc9c6dd08f67008ee'\n",
      "  42: [ 2]               hT b'1676269063fddb7f72345766f4f27f0a4817a146354f4250222c27043a5b56a9'\n",
      "  43: [15]  5fdv:X<^3 \\6{}l b'd3ad90fe2a5b573257af48239abc05ec254e8c09dbc5928f8536313989d0ac2e'\n",
      "  44: [14]   ]~lUN]~kO]&>F% b'475417e84483033d11fcd33056c047a4e710da8f405cf504462af3f0e7e5e6dc'\n",
      "  45: [ 7]          [?Se#W6 b'c36987d41eee173323ad9604b13d8d9b6728071cf5462eea0393de2d2c2772d0'\n",
      "  46: [14]   \\D>Ln=@4azx#QL b'04403e1a4792e8f60e3d5cd4ba762273953dc843baaffbf733b1a69ced727fc0'\n",
      "  47: [ 8]         TA;W<WD0 b'5d364b18046988b9eaa0d423aa5f4a19a76d03f3e3580e917739fe02a2d6eaf5'\n",
      "  48: [10]       @<WD/%VZ9a b'1c0140b724f5d8cdd586fb3a3aa0259f75138f896f2dbf872e91ac4d3d4907af'\n",
      "  49: [ 8]         R`zpI![8 b'19ba0c2e9346edaebfddb67654bd7dae4e23b808b5ac3db9f6c8357d207910a1'\n",
      "  50: [ 3]              pI! b'bc0a762e697b509ce5ea56c024ca06d15249071651cb155e2ba6b74e595fa0ce'\n",
      "  51: [10]       2r9hZ*:QLg b'3547e18755d604986b6004334e2d2b3a05c59b23045c59966595ed38d6b09977'\n",
      "  52: [11]      gq9b.C8\\>S_ b'ee13f67731e0210f2b2d68a3fdae04c30369ca8abab9c80486675ccdb9513066'\n",
      "  53: [10]       oJ!b'S_:YA b'239df52a26fff7c2b1c73b7ff9559f5f36318f3d00f795f87409f29a715068d7'\n",
      "  54: [ 9]        y)BAIy)BA b'60a09a2d3ad023d2b333e8e676d592a01e7d368c6a8468940dbc1153a3de644a'\n",
      "  55: [ 9]        zq3x*@;Pi b'f6611a79060a0acbb3393d12265457e2ef57c51fcab299a99ff63ab9fd22f343'\n",
      "  56: [ 1]                \" b'ea3367c3160e83d805a1814d4339ecc8457d994e5de9d7ceb001ba7d9ccdfe1c'\n",
      "  57: [ 9]        Z*:QKay02 b'9253a09c071e0998cd2d9b30191728e2814aa610394d991a1ba95e29b84445e0'\n",
      "  58: [ 8]         \"gq:Jx): b'77fd28eb06bc03ab4c8218f625c72d74e6aacd67bd5459b46c9329ffa5d16bf8'\n",
      "  59: [ 9]        y02y)A:QL b'f6a05cd2e7a662f8db5ebe9f514b78bd992bae2593dbff2b9abd62e693b22efc'\n",
      "  60: [ 8]         T@4`s?YO b'dd776a9e4592e4a3fcce911cccef75a265f74fa13e3ef687fb00c314d831d443'\n",
      "  61: [10]       _9oK&LhTA: b'28745339231b313d5265c04bc431df346e7886287996e8fa3bb293596a4fc241'\n",
      "  62: [16] Kay/,)3w$Pjgr?Se b'8778b1c0d01ea99928970c97322e18e6cdf5592e2bd101788dc3f77825012787'\n",
      "  63: [ 5]            ]'E<d b'a6d42efdef6c67ba3336437dd16374e5f1efb4be9f54cb5b8f74b941a771a606'\n"
     ]
    }
   ],
   "source": [
    "# set up the variables to generate the random numbers\n",
    "plaintext = 'this is a description of the latest block'\n",
    "plaintext_bytes = np.frombuffer(plaintext.encode('utf-8'), dtype=np.uint8)\n",
    "plaintext_length = np.int32(len(plaintext_bytes))\n",
    "\n",
    "seed = np.random.randint(0, np.iinfo(np.uint32).max, dtype=np.uint32)\n",
    "window_size = np.uint32(64)\n",
    "nonce = np.zeros(shape=16 * 64, dtype=np.uint8)\n",
    "nonce_len = np.zeros(shape=64, dtype=np.uint8)\n",
    "\n",
    "# allocate the memory for the variables on the device\n",
    "cl_seed = cl.Buffer(cl_ctx, cl.mem_flags.READ_ONLY | cl.mem_flags.COPY_HOST_PTR, hostbuf=seed)\n",
    "cl_window_size = cl.Buffer(cl_ctx, cl.mem_flags.READ_ONLY | cl.mem_flags.COPY_HOST_PTR, hostbuf=window_size)\n",
    "cl_plaintext_bytes = cl.Buffer(cl_ctx, cl.mem_flags.READ_ONLY | cl.mem_flags.COPY_HOST_PTR, hostbuf=plaintext_bytes)\n",
    "cl_plaintext_length = cl.Buffer(cl_ctx, cl.mem_flags.READ_ONLY | cl.mem_flags.COPY_HOST_PTR, hostbuf=plaintext_length)\n",
    "cl_nonce = cl.Buffer(cl_ctx, cl.mem_flags.WRITE_ONLY, nonce.nbytes)\n",
    "cl_nonce_len = cl.Buffer(cl_ctx, cl.mem_flags.WRITE_ONLY, nonce_len.nbytes)\n",
    "\n",
    "# execute the program\n",
    "cl_program.mine_nonce(\n",
    "    cl_queue, (1,), None,\n",
    "    cl_seed,\n",
    "    cl_window_size,\n",
    "    cl_plaintext_bytes,\n",
    "    cl_plaintext_length,\n",
    "    cl_nonce,\n",
    "    cl_nonce_len)\n",
    "\n",
    "# get the results\n",
    "cl.enqueue_copy(cl_queue, nonce, cl_nonce)\n",
    "cl.enqueue_copy(cl_queue, nonce_len, cl_nonce_len)\n",
    "\n",
    "# interpret the results\n",
    "for i in range(64):\n",
    "    nonce_str = nonce[i * 16:i * 16 + nonce_len[i]].tobytes().decode('UTF-8')\n",
    "    hash = hashlib.sha256((plaintext + nonce_str).encode('utf-8')).digest()\n",
    "\n",
    "    print(\"%4d: [%2d] %16s %64s\" % (i, nonce_len[i], nonce_str, hexlify(hash)))"
   ]
  }
 ],
 "metadata": {
  "kernelspec": {
   "display_name": "Python 3.8.9 ('topic_06': venv)",
   "language": "python",
   "name": "python3"
  },
  "language_info": {
   "codemirror_mode": {
    "name": "ipython",
    "version": 3
   },
   "file_extension": ".py",
   "mimetype": "text/x-python",
   "name": "python",
   "nbconvert_exporter": "python",
   "pygments_lexer": "ipython3",
   "version": "3.8.9"
  },
  "orig_nbformat": 4,
  "vscode": {
   "interpreter": {
    "hash": "d6e7d1cfb9682a6b3f36fcffd3bf2a22732d0bef5e29adf39b0e08d4365f17de"
   }
  }
 },
 "nbformat": 4,
 "nbformat_minor": 2
}
