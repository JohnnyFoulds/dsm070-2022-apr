{
 "cells": [
  {
   "cell_type": "markdown",
   "metadata": {},
   "source": [
    "# Verify Blocks\n",
    "\n",
    "Create a list of nodes that will verify blocks."
   ]
  },
  {
   "cell_type": "code",
   "execution_count": 4,
   "metadata": {},
   "outputs": [],
   "source": [
    "import sys\n",
    "from time import sleep\n",
    "import tornado\n",
    "from pqdm.processes import pqdm\n",
    "from tqdm.notebook import tqdm\n",
    "\n",
    "from miner import Miner\n",
    "from node import Node\n",
    "from connections import run_server, remote_connection"
   ]
  },
  {
   "cell_type": "code",
   "execution_count": 5,
   "metadata": {},
   "outputs": [],
   "source": [
    "listeners = [\n",
    "    '19427d686c5c70f98f24dd487ab32dc3dc015a15',\n",
    "    '8c5077187c173fa6ad8705c0989c7808d5cd2a4a',\n",
    "    '189b1805f47c314da4b316a9e8fd375aa2c746dc',\n",
    "    '7d9edff4947cae587e17e9df5ef95eb1de788d5d',\n",
    "    '1673d4c55a75ebb94699a55a1a2a1109dea62aa7',\n",
    "    'a8947aaaf4cc75821f9a0fd56f75b33cd4f124b2',\n",
    "    '0000000000000000000000000000000000000000',\n",
    "    '4c915ede75ac60331ea0d331c05d16151f395d48',\n",
    "    'a702e81c831980bdcfd8607e112f1adf719ad7a0',\n",
    "    'b5f62a7dbadb075d1ec0eee56dcb78025713b276',\n",
    "    '3e4671d8dcfac7d5f1269944e94f360c02f3149b',\n",
    "    'a5ee5e167e2445b3e6fb9f0245cd0769d8f822e1',\n",
    "]"
   ]
  },
  {
   "cell_type": "code",
   "execution_count": 6,
   "metadata": {},
   "outputs": [],
   "source": [
    "    address = listeners[0]\n",
    "    MINER_ADDRESS = bytes.fromhex(address)\n",
    "    REMOTE_NODES = ['ws://node.zimcoin.org:46030/']\n",
    "    database_path = f'./blocks_{address}.sqlite'\n",
    "\n",
    "    node = Node.start(database_path).proxy()"
   ]
  },
  {
   "cell_type": "code",
   "execution_count": 2,
   "metadata": {},
   "outputs": [
    {
     "data": {
      "application/vnd.jupyter.widget-view+json": {
       "model_id": "61cc2fbd44ed4ca2b619896e1dba6343",
       "version_major": 2,
       "version_minor": 0
      },
      "text/plain": [
       "QUEUEING TASKS | :   0%|          | 0/12 [00:00<?, ?it/s]"
      ]
     },
     "metadata": {},
     "output_type": "display_data"
    },
    {
     "name": "stdout",
     "output_type": "stream",
     "text": [
      "* Starting Listener: 19427d686c5c70f98f24dd487ab32dc3dc015a15\n",
      "* Starting Listener: 8c5077187c173fa6ad8705c0989c7808d5cd2a4a\n",
      "* Starting Listener: 189b1805f47c314da4b316a9e8fd375aa2c746dc\n",
      "* Starting Listener: 7d9edff4947cae587e17e9df5ef95eb1de788d5d\n",
      "* Starting Listener: 1673d4c55a75ebb94699a55a1a2a1109dea62aa7\n",
      "* Starting Listener: a8947aaaf4cc75821f9a0fd56f75b33cd4f124b2\n",
      "* Starting Listener: 0000000000000000000000000000000000000000\n",
      "* Starting Listener: 4c915ede75ac60331ea0d331c05d16151f395d48\n",
      "* Starting Listener: a702e81c831980bdcfd8607e112f1adf719ad7a0\n",
      "* Starting Listener: b5f62a7dbadb075d1ec0eee56dcb78025713b276\n",
      "* Starting Listener: 3e4671d8dcfac7d5f1269944e94f360c02f3149b\n",
      "* Starting Listener: a5ee5e167e2445b3e6fb9f0245cd0769d8f822e1"
     ]
    },
    {
     "data": {
      "application/vnd.jupyter.widget-view+json": {
       "model_id": "52f43fe26f6e4315ac6ae8ab888ede1e",
       "version_major": 2,
       "version_minor": 0
      },
      "text/plain": [
       "PROCESSING TASKS | :   0%|          | 0/12 [00:00<?, ?it/s]"
      ]
     },
     "metadata": {},
     "output_type": "display_data"
    },
    {
     "name": "stdout",
     "output_type": "stream",
     "text": [
      "\n",
      "nighty, night\n",
      "nighty, night\n",
      "nighty, night\n",
      "nighty, night\n",
      "nighty, night\n",
      "nighty, night\n",
      "nighty, night\n",
      "nighty, night\n",
      "nighty, night\n",
      "nighty, night\n",
      "nighty, night\n",
      "nighty, night\n"
     ]
    }
   ],
   "source": [
    "def listen(address):\n",
    "    print(f'* Starting Listener: {address}')\n",
    "\n",
    "    MINER_ADDRESS = bytes.fromhex(address)\n",
    "    REMOTE_NODES = ['ws://node.zimcoin.org:46030/']\n",
    "    database_path = f'./blocks_{address}.sqlite'\n",
    "\n",
    "    node = Node.start(database_path).proxy()\n",
    "    miner = Miner.start(node, MINER_ADDRESS).proxy()\n",
    "\n",
    "    for remote in REMOTE_NODES:\n",
    "        remote_connection(node, remote)\n",
    "\n",
    "    #while True:\n",
    "    summary: NodeStateSummary = node.state_summary().get()\n",
    "    print('nighty, night')\n",
    "    sleep(4*60)        \n",
    "\n",
    "    # sleep(10)\n",
    "    # tornado.ioloop.IOLoop.current().start()\n",
    "\n",
    "    # print('ready for sleep?')\n",
    "    # sleep(30)\n",
    "\n",
    "\n",
    "# start the listeners\n",
    "pqdm(listeners, listen, n_jobs=len(listeners))"
   ]
  }
 ],
 "metadata": {
  "kernelspec": {
   "display_name": "Python 3.10.4 64-bit",
   "language": "python",
   "name": "python3"
  },
  "language_info": {
   "codemirror_mode": {
    "name": "ipython",
    "version": 3
   },
   "file_extension": ".py",
   "mimetype": "text/x-python",
   "name": "python",
   "nbconvert_exporter": "python",
   "pygments_lexer": "ipython3",
   "version": "3.10.4"
  },
  "orig_nbformat": 4,
  "vscode": {
   "interpreter": {
    "hash": "949777d72b0d2535278d3dc13498b2535136f6dfe0678499012e853ee9abcab1"
   }
  }
 },
 "nbformat": 4,
 "nbformat_minor": 2
}
