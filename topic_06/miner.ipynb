{
 "cells": [
  {
   "cell_type": "markdown",
   "metadata": {},
   "source": [
    "# Miner Notebook\n",
    "\n",
    "This notebook is used for experimentation during the implementation of the Zimcoin miner component.\n",
    "\n",
    "## Web References\n",
    "\n",
    "- [OpenCL Scalar Data Types](https://registry.khronos.org/OpenCL/sdk/1.0/docs/man/xhtml/scalarDataTypes.html)"
   ]
  },
  {
   "cell_type": "code",
   "execution_count": 577,
   "metadata": {},
   "outputs": [],
   "source": [
    "import sys\n",
    "import logging\n",
    "import numpy as np\n",
    "import binascii\n",
    "import pyopencl as cl\n",
    "import miner\n",
    "import hashlib\n",
    "from miner import ZimcoinMiner\n",
    "from Library.opencl_information import opencl_information\n",
    "from blocks import Block, mine_block\n",
    "from transactions import Transaction\n",
    "\n",
    "from importlib import reload"
   ]
  },
  {
   "cell_type": "markdown",
   "metadata": {},
   "source": [
    "## Configure Logging"
   ]
  },
  {
   "cell_type": "code",
   "execution_count": 578,
   "metadata": {},
   "outputs": [],
   "source": [
    "logging.basicConfig(\n",
    "    format='%(asctime)s %(levelname)-8s %(message)s',\n",
    "    level=logging.INFO,\n",
    "    datefmt='%Y-%m-%d %H:%M:%S',\n",
    "        handlers=[\n",
    "        logging.FileHandler(\"miner_notebook.log\"),\n",
    "        logging.StreamHandler(sys.stdout)\n",
    "    ])"
   ]
  },
  {
   "cell_type": "markdown",
   "metadata": {},
   "source": [
    "## Show the available OpenCL Platforms"
   ]
  },
  {
   "cell_type": "code",
   "execution_count": 579,
   "metadata": {},
   "outputs": [
    {
     "name": "stdout",
     "output_type": "stream",
     "text": [
      "\n",
      "============================================================\n",
      "OpenCL Platforms and Devices\n",
      "============================================================\n",
      "Platform 0 - Name: NVIDIA CUDA\n",
      "Platform 0 - Vendor: NVIDIA Corporation\n",
      "Platform 0 - Version: OpenCL 3.0 CUDA 11.7.89\n",
      "Platform 0 - Profile: FULL_PROFILE\n",
      " --------------------------------------------------------\n",
      " Device - Name: NVIDIA GeForce RTX 3060\n",
      " Device - Type: ALL | GPU\n",
      " Device - Max Clock Speed: 1867 Mhz\n",
      " Device - Compute Units: 28\n",
      " Device - Local Memory: 48 KB\n",
      " Device - Constant Memory: 64 KB\n",
      " Device - Global Memory: 12 GB\n",
      " Device - Max Buffer/Image Size: 3011 MB\n",
      " Device - Max Work Group Size: 1024\n",
      "\n",
      "\n",
      "============================================================\n",
      "Platform 1 - Name: Portable Computing Language\n",
      "Platform 1 - Vendor: The pocl project\n",
      "Platform 1 - Version: OpenCL 1.2 pocl 1.6, None+Asserts, LLVM 9.0.1, RELOC, SLEEF, DISTRO, POCL_DEBUG\n",
      "Platform 1 - Profile: FULL_PROFILE\n",
      " --------------------------------------------------------\n",
      " Device - Name: pthread-AMD Ryzen 5 3600 6-Core Processor\n",
      " Device - Type: ALL | CPU\n",
      " Device - Max Clock Speed: 4208 Mhz\n",
      " Device - Compute Units: 12\n",
      " Device - Local Memory: 512 KB\n",
      " Device - Constant Memory: 512 KB\n",
      " Device - Global Memory: 14 GB\n",
      " Device - Max Buffer/Image Size: 4096 MB\n",
      " Device - Max Work Group Size: 4096\n",
      "\n",
      "\n"
     ]
    }
   ],
   "source": [
    "info = opencl_information()\n",
    "info.print_full_info()"
   ]
  },
  {
   "cell_type": "markdown",
   "metadata": {},
   "source": [
    "## Create the Miner"
   ]
  },
  {
   "cell_type": "code",
   "execution_count": 580,
   "metadata": {},
   "outputs": [
    {
     "name": "stdout",
     "output_type": "stream",
     "text": [
      "Threads: 28672\n"
     ]
    }
   ],
   "source": [
    "reload(miner)\n",
    "\n",
    "miner = ZimcoinMiner(0, 0)\n",
    "print('Threads:', miner.thread_count)"
   ]
  },
  {
   "cell_type": "markdown",
   "metadata": {},
   "source": [
    "## Calculate Hash Test\n",
    "\n",
    "The input data does not fit neatly into 32 byte blocks so some padding and un-padding will be needed."
   ]
  },
  {
   "cell_type": "markdown",
   "metadata": {},
   "source": [
    "### Bit Shifting Tests"
   ]
  },
  {
   "cell_type": "code",
   "execution_count": 581,
   "metadata": {},
   "outputs": [
    {
     "name": "stdout",
     "output_type": "stream",
     "text": [
      "n32: 4\n",
      "n32: 1\n"
     ]
    }
   ],
   "source": [
    "n32 = np.uint32(0)\n",
    "n8 = np.uint8(0)\n",
    "\n",
    "print('n32:', n32.nbytes)\n",
    "print('n32:', n8.nbytes)"
   ]
  },
  {
   "cell_type": "code",
   "execution_count": 582,
   "metadata": {},
   "outputs": [
    {
     "name": "stdout",
     "output_type": "stream",
     "text": [
      "nonce: 9223372036854775807\n",
      "Nonce Bytes: 8\n",
      "Nonce to Bytes : b'\\xff\\xff\\xff\\xff\\xff\\xff\\xff\\x7f'\n",
      "64 bit integers : [9223372036854775807]\n",
      "32 bit integers : [4294967295 2147483647]\n",
      "Integer Nonce: 9223372036854775807\n",
      "4294967295\n",
      "2147483647\n"
     ]
    }
   ],
   "source": [
    "nonce = np.ulonglong(np.iinfo(np.ulonglong).max  // 2)\n",
    "#nonce = np.ulonglong(5)\n",
    "\n",
    "print('nonce:', nonce)\n",
    "print('Nonce Bytes:', nonce.nbytes)\n",
    "print('Nonce to Bytes :', nonce.tobytes())\n",
    "\n",
    "print('64 bit integers :', np.frombuffer(nonce.tobytes(), dtype=np.uint64))\n",
    "print('32 bit integers :', np.frombuffer(nonce.tobytes(), dtype=np.uint32))\n",
    "\n",
    "\n",
    "int_nonce = int(nonce)\n",
    "print('Integer Nonce:', int_nonce)\n",
    "print(int_nonce & 0xFFFFFFFF)\n",
    "print(int_nonce >> 32)"
   ]
  },
  {
   "cell_type": "markdown",
   "metadata": {},
   "source": [
    "### Helper Functions to create test blocks "
   ]
  },
  {
   "cell_type": "code",
   "execution_count": 583,
   "metadata": {},
   "outputs": [],
   "source": [
    "def get_test_first_block() -> Block:\n",
    "    \"\"\"\n",
    "    Get a block representing the first in a chain for testing.\n",
    "    \"\"\"\n",
    "    return Block(\n",
    "            bytes.fromhex('0000000000000000000000000000000000000000000000000000000000000000'),\n",
    "            0,\n",
    "            bytes.fromhex('4f3ea27a7af06cbe53911d4fb9326730d435255a'),\n",
    "            [],\n",
    "            1626626569,\n",
    "            100000,\n",
    "            bytes.fromhex('0000193f7397d8ed1a4991d91f8b8d2e55eb56915e884d435de7bbf0b183f335'),\n",
    "            55419)\n",
    "\n",
    "def get_transactions_block() -> Block:\n",
    "    \"\"\"\n",
    "    Get a block with transactions for testing.\n",
    "    \"\"\"\n",
    "    return Block(\n",
    "            bytes.fromhex('0000193f7397d8ed1a4991d91f8b8d2e55eb56915e884d435de7bbf0b183f335'),\n",
    "            1,\n",
    "            bytes.fromhex('4f3ea27a7af06cbe53911d4fb9326730d435255a'),\n",
    "            [\n",
    "                Transaction(\n",
    "                    bytes.fromhex(\"9e09208d54c012c0844cf17cfbb175157516dc90\"),\n",
    "                    bytes.fromhex(\"4f3ea27a7af06cbe53911d4fb9326730d435255a\"),\n",
    "                    bytes.fromhex(\"3056301006072a8648ce3d020106052b8104000a034200041a719dc420fdbdeef447e90a6368b9486d4afbacd900f6d9d5f62692dfa9ecb695999af4fcf61bdc523021b3aef2b84344b7c4ba7d3a36efe2e5f3eff50e8c54\"),\n",
    "                    390,\n",
    "                    5,\n",
    "                    1,\n",
    "                    bytes.fromhex(\"3045022100fae9ab97090f2f0fb5715497e12a06438cbccc610bae2f9c019dfa5bdb40f0090220283f5498f22e17ac9ecf4c239d864811dd47cb0ccb8c3584794791fd171e6b90\"),\n",
    "                    bytes.fromhex(\"0cfd04ed0b2b279c12412687c770b1224c8bfed453292652694339ddade4d63a\")),\n",
    "            ],\n",
    "            1626626571,\n",
    "            100000,\n",
    "            bytes.fromhex('000071f1c701e06e5b91adb4289d6c5227b614bd4441748923826e5d0e8828da'),\n",
    "            83651)"
   ]
  },
  {
   "cell_type": "markdown",
   "metadata": {},
   "source": [
    "### Test First Block Manual Hashing"
   ]
  },
  {
   "cell_type": "code",
   "execution_count": 584,
   "metadata": {},
   "outputs": [
    {
     "name": "stdout",
     "output_type": "stream",
     "text": [
      "Input in 32-bit blocks: 19\n",
      "[         0          0          0          0          0          0\n",
      "          0          0 2057453135 3194810490 1327337811  812069561\n",
      " 1512388052 1626626569          0     100000          0          0\n",
      "          0]\n"
     ]
    }
   ],
   "source": [
    "# get the byte array to use for computing the hash\n",
    "first_block = get_test_first_block()\n",
    "first_block_bytes = first_block.to_bytes()\n",
    "\n",
    "# create a numpy array from the bytes\n",
    "first_block_data = np.frombuffer(first_block_bytes, dtype=np.uint32)\n",
    "print('Input in 32-bit blocks:', first_block_data.size)\n",
    "print(first_block_data)"
   ]
  },
  {
   "cell_type": "markdown",
   "metadata": {},
   "source": [
    "#### Test with uchar and nononce"
   ]
  },
  {
   "cell_type": "code",
   "execution_count": 585,
   "metadata": {},
   "outputs": [
    {
     "name": "stdout",
     "output_type": "stream",
     "text": [
      "Leading Zeros: 0\n",
      "CL result      : b'1e76c28ddacdd9e94dfdcc155cc1359aa797762bc2a0c5eaec41e5a24bbb1300'\n",
      "Correct result : b'1e76c28ddacdd9e94dfdcc155cc1359aa797762bc2a0c5eaec41e5a24bbb1300'\n"
     ]
    }
   ],
   "source": [
    "cl_ctx = miner.cl_context\n",
    "cl_program = miner.build_program()\n",
    "cl_queue = miner.cl_queue\n",
    "\n",
    "# the plaintext to hash\n",
    "first_block_bytes = first_block.to_bytes()\n",
    "plaintext_bytes = np.frombuffer(first_block_bytes, dtype=np.uint8)\n",
    "plaintext_length = np.int32(len(plaintext_bytes))\n",
    "\n",
    "\n",
    "# the hash output\n",
    "hash_output = np.zeros(8, dtype=np.uint32)\n",
    "leading_zeros = np.zeros(1, dtype=np.uint8)\n",
    "\n",
    "# allocate the memory for the variables on the device\n",
    "cl_plaintext_bytes = cl.Buffer(\n",
    "    cl_ctx,\n",
    "    cl.mem_flags.READ_ONLY | cl.mem_flags.COPY_HOST_PTR,\n",
    "    hostbuf=plaintext_bytes)\n",
    "\n",
    "cl_plaintext_length = cl.Buffer(\n",
    "    cl_ctx,\n",
    "    cl.mem_flags.READ_ONLY | cl.mem_flags.COPY_HOST_PTR,\n",
    "    hostbuf=plaintext_length)\n",
    "\n",
    "cl_hash_output = cl.Buffer(\n",
    "    cl_ctx,\n",
    "    cl.mem_flags.WRITE_ONLY,\n",
    "    hash_output.nbytes)\n",
    "\n",
    "cl_leading_zeros = cl.Buffer(\n",
    "    cl_ctx,\n",
    "    cl.mem_flags.WRITE_ONLY,\n",
    "    leading_zeros.nbytes)\n",
    "\n",
    "# execute the program\n",
    "cl_program.get_single_hash(\n",
    "    cl_queue, (1,), None,\n",
    "    cl_plaintext_bytes,\n",
    "    cl_plaintext_length,\n",
    "    cl_hash_output,\n",
    "    cl_leading_zeros)\n",
    "\n",
    "# get the results\n",
    "cl.enqueue_copy(cl_queue, hash_output, cl_hash_output)\n",
    "cl.enqueue_copy(cl_queue, leading_zeros, cl_leading_zeros)\n",
    "\n",
    "# print the results\n",
    "print(\"Leading Zeros: %d\" % leading_zeros[0])\n",
    "print(\"CL result      : %s\" % binascii.hexlify(hash_output))\n",
    "print(\"Correct result : %s\" % binascii.hexlify(hashlib.sha256(first_block_bytes).digest()))\n",
    "\n",
    "assert binascii.hexlify(hash_output) == binascii.hexlify(hashlib.sha256(first_block_bytes).digest())\n"
   ]
  },
  {
   "cell_type": "code",
   "execution_count": 586,
   "metadata": {},
   "outputs": [
    {
     "name": "stdout",
     "output_type": "stream",
     "text": [
      "[1058603008 3990394739 3650177306  781028127 2438392661 1129154654\n",
      " 4038846301  905151409 2057453135 3194810490 1327337811  812069561\n",
      " 1512388052 3976527116 2619812619 2267431186  582054087 3573451596\n",
      " 1378232659 3711517545  987161773 1626626571          0     100000\n",
      "          0          0          0]\n"
     ]
    }
   ],
   "source": [
    "# get the byte array to use for computing the hash for the second block\n",
    "second_block = get_transactions_block()\n",
    "second_block_bytes = second_block.to_bytes()\n",
    "\n",
    "# create a numpy array from the bytes\n",
    "second_block_data = np.frombuffer(second_block_bytes, dtype=np.uint32)\n",
    "print(second_block_data)"
   ]
  },
  {
   "cell_type": "code",
   "execution_count": 587,
   "metadata": {},
   "outputs": [
    {
     "name": "stdout",
     "output_type": "stream",
     "text": [
      "108\n",
      "b'\\x01\\x00\\x00\\x00\\x00\\x00\\x00\\x00'\n",
      "Output Nonce: 1\n",
      "Output Hash     : b'd984d9cff94241e6fbd14db48612fbd02cc196e52e43de5849a5c65c6a2571c2'\n",
      "Calculated Hash : b'4587d9b364952b6118490aee6e54935b01da93817b044361ad776b1bdbbca56c'\n"
     ]
    }
   ],
   "source": [
    "miner.build_program()\n",
    "\n",
    "block_bytes = second_block.to_bytes()\n",
    "block_data = np.frombuffer(block_bytes, dtype=np.uint32)\n",
    "\n",
    "# set the other variables to send to the kernel\n",
    "nonce = np.zeros(shape=1, dtype=np.ulonglong)\n",
    "input_len = np.int32(block_data.size) * 4 # length in bytes\n",
    "print(input_len)\n",
    "hash = np.zeros(8, dtype=np.uint32)\n",
    "\n",
    "# allocate the memory for the variables on the device\n",
    "cl_block_data = cl.Buffer(miner.cl_context, cl.mem_flags.READ_ONLY | cl.mem_flags.COPY_HOST_PTR, hostbuf=block_data)\n",
    "cl_input_len = cl.Buffer(miner.cl_context, cl.mem_flags.READ_ONLY | cl.mem_flags.COPY_HOST_PTR, hostbuf=input_len)\n",
    "cl_nonce = cl.Buffer(miner.cl_context, cl.mem_flags.WRITE_ONLY, nonce.nbytes)\n",
    "cl_hash = cl.Buffer(miner.cl_context, cl.mem_flags.WRITE_ONLY, hash.nbytes)\n",
    "\n",
    "miner.cl_program.get_hashed_nonce(\n",
    "    miner.cl_queue, (miner.cl_threads,), None,\n",
    "    cl_block_data,\n",
    "    cl_input_len,\n",
    "    cl_nonce,\n",
    "    cl_hash)\n",
    "\n",
    "# get the results\n",
    "cl.enqueue_copy(miner.cl_queue, nonce, cl_nonce)\n",
    "cl.enqueue_copy(miner.cl_queue, hash, cl_hash)\n",
    "\n",
    "\n",
    "# show the results\n",
    "calculated_hash = hashlib.sha256()\n",
    "calculated_hash.update(block_bytes)\n",
    "print(nonce[0].tobytes())\n",
    "calculated_hash.update(nonce[0].tobytes())    \n",
    "#calculated_hash.update(int(nonce[0]).to_bytes(8, byteorder='little', signed=False))    \n",
    "\n",
    "output_hash = hash.tobytes()\n",
    "\n",
    "print('Output Nonce:', nonce[0])\n",
    "print('Output Hash     :', binascii.hexlify(output_hash))\n",
    "print('Calculated Hash :', binascii.hexlify(calculated_hash.digest()))\n"
   ]
  }
 ],
 "metadata": {
  "kernelspec": {
   "display_name": "Python 3.10.4 64-bit",
   "language": "python",
   "name": "python3"
  },
  "language_info": {
   "codemirror_mode": {
    "name": "ipython",
    "version": 3
   },
   "file_extension": ".py",
   "mimetype": "text/x-python",
   "name": "python",
   "nbconvert_exporter": "python",
   "pygments_lexer": "ipython3",
   "version": "3.10.4"
  },
  "orig_nbformat": 4,
  "vscode": {
   "interpreter": {
    "hash": "949777d72b0d2535278d3dc13498b2535136f6dfe0678499012e853ee9abcab1"
   }
  }
 },
 "nbformat": 4,
 "nbformat_minor": 2
}
