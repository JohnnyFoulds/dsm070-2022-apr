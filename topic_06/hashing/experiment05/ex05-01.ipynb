{
 "cells": [
  {
   "cell_type": "markdown",
   "metadata": {},
   "source": [
    "# Experiment 05-01"
   ]
  },
  {
   "cell_type": "code",
   "execution_count": 1,
   "metadata": {},
   "outputs": [],
   "source": [
    "import numpy as np\n",
    "import hashlib\n",
    "from binascii import hexlify, unhexlify\n",
    "import pyopencl as cl\n",
    "from Library.opencl_information import opencl_information"
   ]
  },
  {
   "cell_type": "markdown",
   "metadata": {},
   "source": [
    "## Show the available Platforms"
   ]
  },
  {
   "cell_type": "code",
   "execution_count": 2,
   "metadata": {},
   "outputs": [
    {
     "name": "stdout",
     "output_type": "stream",
     "text": [
      "\n",
      "============================================================\n",
      "OpenCL Platforms and Devices\n",
      "============================================================\n",
      "Platform 0 - Name: Apple\n",
      "Platform 0 - Vendor: Apple\n",
      "Platform 0 - Version: OpenCL 1.2 (Apr 19 2022 18:44:25)\n",
      "Platform 0 - Profile: FULL_PROFILE\n",
      " --------------------------------------------------------\n",
      " Device - Name: Intel(R) Core(TM) i9-9880H CPU @ 2.30GHz\n",
      " Device - Type: ALL | CPU\n",
      " Device - Max Clock Speed: 2300 Mhz\n",
      " Device - Compute Units: 16\n",
      " Device - Local Memory: 32 KB\n",
      " Device - Constant Memory: 64 KB\n",
      " Device - Global Memory: 16 GB\n",
      " Device - Max Buffer/Image Size: 4096 MB\n",
      " Device - Max Work Group Size: 1024\n",
      "\n",
      "\n",
      " --------------------------------------------------------\n",
      " Device - Name: Intel(R) UHD Graphics 630\n",
      " Device - Type: ALL | GPU\n",
      " Device - Max Clock Speed: 1200 Mhz\n",
      " Device - Compute Units: 24\n",
      " Device - Local Memory: 64 KB\n",
      " Device - Constant Memory: 64 KB\n",
      " Device - Global Memory: 2 GB\n",
      " Device - Max Buffer/Image Size: 384 MB\n",
      " Device - Max Work Group Size: 256\n",
      "\n",
      "\n",
      " --------------------------------------------------------\n",
      " Device - Name: AMD Radeon Pro 5500M Compute Engine\n",
      " Device - Type: ALL | GPU\n",
      " Device - Max Clock Speed: 1450 Mhz\n",
      " Device - Compute Units: 24\n",
      " Device - Local Memory: 64 KB\n",
      " Device - Constant Memory: 64 KB\n",
      " Device - Global Memory: 4 GB\n",
      " Device - Max Buffer/Image Size: 1020 MB\n",
      " Device - Max Work Group Size: 256\n",
      "\n",
      "\n"
     ]
    }
   ],
   "source": [
    "info = opencl_information()\n",
    "info.print_full_info()"
   ]
  },
  {
   "cell_type": "markdown",
   "metadata": {},
   "source": [
    "## Configure the OpenCL Context"
   ]
  },
  {
   "cell_type": "code",
   "execution_count": 3,
   "metadata": {},
   "outputs": [],
   "source": [
    "platform_number = 0\n",
    "device_number = 2\n",
    "\n",
    "cl_devices = cl.get_platforms()[platform_number].get_devices()\n",
    "cl_ctx = cl.Context(cl_devices)\n",
    "cl_queue = cl.CommandQueue(cl_ctx, cl_devices[device_number])"
   ]
  },
  {
   "cell_type": "markdown",
   "metadata": {},
   "source": [
    "## Compile the Program"
   ]
  },
  {
   "cell_type": "code",
   "execution_count": 4,
   "metadata": {},
   "outputs": [],
   "source": [
    "def build_program(program_files : list, cl_ctx : cl.Context,\n",
    "        build_options=[]) -> cl.Program:\n",
    "    \"\"\"\n",
    "    Build a program from an OpenCL source file.\n",
    "\n",
    "    Parameters\n",
    "    ----------\n",
    "    program_files : list\n",
    "        The path to the OpenCL source files.\n",
    "    cl_ctx : pyopencl.Context\n",
    "        The context to build the program with.\n",
    "    build_options : list of str\n",
    "        The build options to use.\n",
    "\n",
    "    Returns\n",
    "    -------\n",
    "    pyopencl.Program\n",
    "    \"\"\"\n",
    "    program_source = ''\n",
    "\n",
    "    for cl_file in program_files:\n",
    "        with open(cl_file, 'r') as cl_file:\n",
    "            file_source = cl_file.read()\n",
    "            program_source += '\\n' + file_source\n",
    "\n",
    "    program_source = cl.Program(cl_ctx, program_source)\n",
    "    program = program_source.build(options=build_options)\n",
    "            \n",
    "    return program"
   ]
  },
  {
   "cell_type": "code",
   "execution_count": 5,
   "metadata": {},
   "outputs": [
    {
     "name": "stdout",
     "output_type": "stream",
     "text": [
      "Kernel Names: get_single_hash;get_random_string;get_single_hash_nonce;mine_eight;mine_nonce;hash_main;get_random_numbers\n"
     ]
    },
    {
     "name": "stderr",
     "output_type": "stream",
     "text": [
      "/Users/foulds/env/dsm070/lib/python3.8/site-packages/pyopencl/__init__.py:274: CompilerWarning: Non-empty compiler output encountered. Set the environment variable PYOPENCL_COMPILER_OUTPUT=1 to see more.\n",
      "  warn(\"Non-empty compiler output encountered. Set the \"\n"
     ]
    }
   ],
   "source": [
    "cl_program_files = [\n",
    "    'Library/worker/sha256.cl',\n",
    "    'Library/worker/zimcoin.cl',\n",
    "]\n",
    "\n",
    "cl_program = build_program(cl_program_files, cl_ctx)\n",
    "\n",
    "# show the kernel names\n",
    "program_kernel_names = cl_program.get_info(cl.program_info.KERNEL_NAMES)\n",
    "print(f\"Kernel Names: {program_kernel_names}\")"
   ]
  },
  {
   "cell_type": "markdown",
   "metadata": {},
   "source": [
    "## Initial Tests"
   ]
  },
  {
   "cell_type": "code",
   "execution_count": 6,
   "metadata": {},
   "outputs": [
    {
     "name": "stdout",
     "output_type": "stream",
     "text": [
      " sha256(2143d3c4d879d7497c8ca4690543ac99ec9fee4fd0aa3f1f7561f88cf0b0f92c)\n",
      "^ sha256(c0bb10795c2df1c79c4f952db2fee96454f49f559b3dd5fc73ff95420a24c9b9)\n",
      "^ sha256(cadc1b67d589015b79cecc811b22e2f0b52334600832580165b4cee63e15f7d0)\n",
      " =====================================================\n",
      " ccb9cef8d7d1c0c67d81536695eeff7e00000000000000000000000000000000\n"
     ]
    }
   ],
   "source": [
    "from hashlib import sha256\n",
    "from binascii import hexlify\n",
    "inputs = [\n",
    "b\"FOO-0x000000003B1BD2039\" + b\" \" * 53 + b\"\\xdd\\x3f\\xf4\\x6f\",\n",
    "b\"BAR-0x00000000307238E22\" + b\" \" * 53 + b\"\\xa8\\x0d\\xa3\\x23\",\n",
    "b\"FOOBAR-0x000000001BB6C4C9F\" + b\" \" * 50 + b\"\\xb0\\x1d\\x7c\\x21\"\n",
    "]\n",
    "h = [sha256(sha256(x).digest()).digest() for x in inputs]\n",
    "xor = bytes([h[0][i] ^ h[1][i] ^ h[2][i] for i in range(32)])\n",
    "print(' sha256({})'.format(sha256(inputs[0]).hexdigest()))\n",
    "print('^ sha256({})'.format(sha256(inputs[1]).hexdigest()))\n",
    "print('^ sha256({})'.format(sha256(inputs[2]).hexdigest()))\n",
    "print(' =====================================================')\n",
    "print(' {}'.format(hexlify(xor).decode()))"
   ]
  },
  {
   "cell_type": "markdown",
   "metadata": {},
   "source": [
    "### Single Hash"
   ]
  },
  {
   "cell_type": "code",
   "execution_count": 8,
   "metadata": {},
   "outputs": [
    {
     "name": "stdout",
     "output_type": "stream",
     "text": [
      "Plaintext: this is a description of the latest block*jTi0@!N{oOaQf\n",
      "Leading Zeros: 8\n",
      "CL result      : b'000000000a71c29b450284efe6325204d4f3b8867a25db00373fe5b90b0e8f57'\n",
      "Correct result : b'000000000a71c29b450284efe6325204d4f3b8867a25db00373fe5b90b0e8f57'\n",
      "CL output      : [         0 2613211402 4018405957   72495846 2260267988   14361978\n",
      " 3118808887 1468993035]\n",
      "CL output      : [  0   0   0   0  10 113 194 155  69   2 132 239 230  50  82   4 212 243\n",
      " 184 134 122  37 219   0  55  63 229 185  11  14 143  87]\n",
      "CL output      : b'\\x00\\x00\\x00\\x00\\nq\\xc2\\x9bE\\x02\\x84\\xef\\xe62R\\x04\\xd4\\xf3\\xb8\\x86z%\\xdb\\x007?\\xe5\\xb9\\x0b\\x0e\\x8fW'\n"
     ]
    }
   ],
   "source": [
    "# the plaintext to hash\n",
    "#plaintext = 'bells hel the quick brown fox jumps over the lazy dog 12356'\n",
    "#plaintext = '665782'\n",
    "#plaintext = 'this is a description of the latest block' + '395707976'\n",
    "#plaintext = '120Make America Great Again'\n",
    "plaintext = 'this is a description of the latest block*jTi0@!N{oOaQf'\n",
    "#plaintext = '69817Make America Great Again'\n",
    "plaintext_bytes = np.frombuffer(plaintext.encode('utf-8'), dtype=np.uint8)\n",
    "plaintext_length = np.int32(len(plaintext_bytes))\n",
    "\n",
    "# the hash output\n",
    "hash_output = np.zeros(8, dtype=np.uint32)\n",
    "leading_zeros = np.zeros(1, dtype=np.uint8)\n",
    "\n",
    "# allocate the memory for the variables on the device\n",
    "cl_plaintext_bytes = cl.Buffer(\n",
    "    cl_ctx,\n",
    "    cl.mem_flags.READ_ONLY | cl.mem_flags.COPY_HOST_PTR,\n",
    "    hostbuf=plaintext_bytes)\n",
    "\n",
    "cl_plaintext_length = cl.Buffer(\n",
    "    cl_ctx,\n",
    "    cl.mem_flags.READ_ONLY | cl.mem_flags.COPY_HOST_PTR,\n",
    "    hostbuf=plaintext_length)\n",
    "\n",
    "cl_hash_output = cl.Buffer(\n",
    "    cl_ctx,\n",
    "    cl.mem_flags.WRITE_ONLY,\n",
    "    hash_output.nbytes)\n",
    "\n",
    "cl_leading_zeros = cl.Buffer(\n",
    "    cl_ctx,\n",
    "    cl.mem_flags.WRITE_ONLY,\n",
    "    leading_zeros.nbytes)\n",
    "\n",
    "# execute the program\n",
    "cl_program.get_single_hash(\n",
    "    cl_queue, (1,), None,\n",
    "    cl_plaintext_bytes,\n",
    "    cl_plaintext_length,\n",
    "    cl_hash_output,\n",
    "    cl_leading_zeros)\n",
    "\n",
    "# get the results\n",
    "cl.enqueue_copy(cl_queue, hash_output, cl_hash_output)\n",
    "cl.enqueue_copy(cl_queue, leading_zeros, cl_leading_zeros)\n",
    "\n",
    "# print the results\n",
    "print(\"Plaintext: %s\" % plaintext)\n",
    "print(\"Leading Zeros: %d\" % leading_zeros[0])\n",
    "print(\"CL result      : %s\" % hexlify(hash_output))\n",
    "print(\"Correct result : %s\" % hexlify(hashlib.sha256(plaintext.encode('utf-8')).digest()))\n",
    "print(\"CL output      : %s\" % hash_output)\n",
    "print(\"CL output      : %s\" % np.frombuffer(hash_output, dtype=np.uint8))\n",
    "print(\"CL output      : %s\" % hash_output.tobytes())\n",
    "\n",
    "assert hexlify(hash_output) == hexlify(hashlib.sha256(plaintext.encode('utf-8')).digest())\n"
   ]
  },
  {
   "cell_type": "markdown",
   "metadata": {},
   "source": [
    "### Random String Generation"
   ]
  },
  {
   "cell_type": "code",
   "execution_count": 23,
   "metadata": {},
   "outputs": [
    {
     "name": "stdout",
     "output_type": "stream",
     "text": [
      "Seed: 2101148060\n",
      "Result: [ 74 108  47 113]\n",
      "Result String: b'Jl/q'\n"
     ]
    }
   ],
   "source": [
    "# set up the variables to generate the random numbers\n",
    "seed = np.random.randint(0, np.iinfo(np.uint32).max, dtype=np.uint32)\n",
    "start = np.uint8(32)\n",
    "end = np.uint8(126)\n",
    "length = np.uint32(4)\n",
    "result = np.zeros(length, dtype=np.uint8)\n",
    "\n",
    "# allocate the memory for the variables on the device\n",
    "cl_seed = cl.Buffer(cl_ctx, cl.mem_flags.READ_ONLY | cl.mem_flags.COPY_HOST_PTR, hostbuf=seed)\n",
    "cl_start = cl.Buffer(cl_ctx, cl.mem_flags.READ_ONLY | cl.mem_flags.COPY_HOST_PTR, hostbuf=start)\n",
    "cl_end = cl.Buffer(cl_ctx, cl.mem_flags.READ_ONLY | cl.mem_flags.COPY_HOST_PTR, hostbuf=end)\n",
    "cl_len = cl.Buffer(cl_ctx, cl.mem_flags.READ_ONLY | cl.mem_flags.COPY_HOST_PTR, hostbuf=length)\n",
    "cl_result = cl.Buffer(cl_ctx, cl.mem_flags.WRITE_ONLY, result.nbytes)\n",
    "\n",
    "# execute the program\n",
    "cl_program.get_random_numbers(\n",
    "    cl_queue, (1,), None,\n",
    "    cl_seed,\n",
    "    cl_start,\n",
    "    cl_end,\n",
    "    cl_len,\n",
    "    cl_result)\n",
    "\n",
    "# get the results\n",
    "cl.enqueue_copy(cl_queue, result, cl_result)\n",
    "\n",
    "# print the results\n",
    "print(f\"Seed: {seed}\")\n",
    "print(f\"Result: {result}\")\n",
    "print(f\"Result String: {result.tobytes()}\")"
   ]
  },
  {
   "cell_type": "code",
   "execution_count": 24,
   "metadata": {},
   "outputs": [
    {
     "name": "stdout",
     "output_type": "stream",
     "text": [
      "Length: [13]\n",
      "Result: [107  62  58 108  53 103  73 123  68 118 114  69 109   0 255  59]\n",
      "Result String: b'k>:l5gI{DvrEm\\x00\\xff;'\n"
     ]
    }
   ],
   "source": [
    "# set up the variables to generate the random numbers\n",
    "seed = np.random.randint(0, np.iinfo(np.uint32).max, dtype=np.uint32)\n",
    "result = np.zeros(shape=16, dtype=np.uint8)\n",
    "length = np.zeros(shape=(1,), dtype=np.uint8)\n",
    "\n",
    "# allocate the memory for the variables on the device\n",
    "cl_seed = cl.Buffer(cl_ctx, cl.mem_flags.READ_ONLY | cl.mem_flags.COPY_HOST_PTR, hostbuf=seed)\n",
    "cl_result = cl.Buffer(cl_ctx, cl.mem_flags.WRITE_ONLY, result.nbytes)\n",
    "cl_len = cl.Buffer(cl_ctx, cl.mem_flags.WRITE_ONLY, length.nbytes)\n",
    "\n",
    "# execute the program\n",
    "cl_program.get_random_string(\n",
    "    cl_queue, (1,), None,\n",
    "    cl_seed,\n",
    "    cl_result,\n",
    "    cl_len)\n",
    "\n",
    "# get the results\n",
    "cl.enqueue_copy(cl_queue, length, cl_len)\n",
    "cl.enqueue_copy(cl_queue, result, cl_result)\n",
    "\n",
    "# print the results\n",
    "print(f\"Length: {length}\")\n",
    "print(f\"Result: {result}\")\n",
    "print(f\"Result String: {result.tobytes()}\")"
   ]
  },
  {
   "cell_type": "markdown",
   "metadata": {},
   "source": [
    "## Test get_single_hash_nonce"
   ]
  },
  {
   "cell_type": "code",
   "execution_count": 25,
   "metadata": {},
   "outputs": [
    {
     "name": "stdout",
     "output_type": "stream",
     "text": [
      "Seed: 1015571135\n",
      "Plaintext: this is a description of the latest block\n",
      "Nonce: [ 55  73 123  90   0   0   0   0   0   0   0   0   0   0   0   0]\n",
      "Nonce Length: 4\n",
      "Nonce String: 7I{Z\n",
      "Hash Output: [1476689860 2603870842 1383715013 2497883987 4276640420  264520075\n",
      " 3754695946 2144851127]\n",
      "Hash Output string: b'c47f04587aea339bc5d0795253afe294a45ae8fe8b41c40f0a1dccdfb7d4d77f'\n",
      "Correct result    : b'c47f04587aea339bc5d0795253afe294a45ae8fe8b41c40f0a1dccdfb7d4d77f'\n"
     ]
    }
   ],
   "source": [
    "# set up the variables to generate the random numbers\n",
    "plaintext = 'this is a description of the latest block'\n",
    "plaintext_bytes = np.frombuffer(plaintext.encode('utf-8'), dtype=np.uint8)\n",
    "plaintext_length = np.int32(len(plaintext_bytes))\n",
    "\n",
    "seed = np.random.randint(0, np.iinfo(np.uint32).max, dtype=np.uint32)\n",
    "nonce = np.zeros(shape=16, dtype=np.uint8)\n",
    "nonce_len = np.zeros(shape=1, dtype=np.uint8)\n",
    "hash = np.zeros(8, dtype=np.uint32)\n",
    "\n",
    "# allocate the memory for the variables on the device\n",
    "cl_seed = cl.Buffer(cl_ctx, cl.mem_flags.READ_ONLY | cl.mem_flags.COPY_HOST_PTR, hostbuf=seed)\n",
    "cl_plaintext_bytes = cl.Buffer(cl_ctx, cl.mem_flags.READ_ONLY | cl.mem_flags.COPY_HOST_PTR, hostbuf=plaintext_bytes)\n",
    "cl_plaintext_length = cl.Buffer(cl_ctx, cl.mem_flags.READ_ONLY | cl.mem_flags.COPY_HOST_PTR, hostbuf=plaintext_length)\n",
    "cl_nonce = cl.Buffer(cl_ctx, cl.mem_flags.WRITE_ONLY, nonce.nbytes)\n",
    "cl_nonce_len = cl.Buffer(cl_ctx, cl.mem_flags.WRITE_ONLY, nonce_len.nbytes)\n",
    "cl_hash_output = cl.Buffer(cl_ctx, cl.mem_flags.WRITE_ONLY, hash_output.nbytes)\n",
    "\n",
    "# execute the program\n",
    "cl_program.get_single_hash_nonce(\n",
    "    cl_queue, (1,), None,\n",
    "    cl_seed,\n",
    "    cl_plaintext_bytes,\n",
    "    cl_plaintext_length,\n",
    "    cl_nonce,\n",
    "    cl_nonce_len,\n",
    "    cl_hash_output)\n",
    "\n",
    "# get the results\n",
    "cl.enqueue_copy(cl_queue, nonce, cl_nonce)\n",
    "cl.enqueue_copy(cl_queue, nonce_len, cl_nonce_len)\n",
    "cl.enqueue_copy(cl_queue, hash_output, cl_hash_output)\n",
    "\n",
    "nonce_str = nonce[:nonce_len[0]].tobytes().decode('UTF-8')\n",
    "\n",
    "# print the results\n",
    "print(\"Seed: %s\" % seed)\n",
    "print(\"Plaintext: %s\" % plaintext)\n",
    "print(\"Nonce: %s\" % nonce)\n",
    "print(\"Nonce Length: %s\" % nonce_len[0])\n",
    "print(\"Nonce String: %s\" % nonce_str)\n",
    "print(\"Hash Output: %s\" % hash_output)\n",
    "print(\"Hash Output string: %s\" % hexlify(hash_output))\n",
    "#print(\"No Nonce          : %s\" % hexlify(hashlib.sha256((plaintext).encode('utf-8')).digest()))\n",
    "print(\"Correct result    : %s\" % hexlify(hashlib.sha256((plaintext+nonce_str).encode('utf-8')).digest()))\n",
    "\n",
    "assert hexlify(hash_output) == hexlify(hashlib.sha256((plaintext+nonce_str).encode('utf-8')).digest())\n"
   ]
  },
  {
   "cell_type": "markdown",
   "metadata": {},
   "source": [
    "## Mine Nonce"
   ]
  },
  {
   "cell_type": "code",
   "execution_count": 26,
   "metadata": {},
   "outputs": [
    {
     "name": "stdout",
     "output_type": "stream",
     "text": [
      "   1: [11]      +Moe(Jl[}@b 031ea04cb7b51d8ad30adf257c5e2a71f647db0bbc3dc0d65e0c131cd5192fcd\n",
      "   2: [10]       \"o=_-zHU#p 00ae9ddbab577dfaf3973a9afd724c98ac666b5546954125a69961cac967558b\n",
      "   3: [ 5]            7b5]0 000441de0caf81c9912a40a9cbee83a9d76ff41cba6d311c0cf7f4ac34909596\n",
      "   4: [10]       oKxFs\"O|J_ 000066085472838f2f3c4992e930023f325811226055a35154eea6cd84bc6632\n"
     ]
    }
   ],
   "source": [
    "# set up the variables to generate the random numbers\n",
    "plaintext = 'this is a description of the latest block'\n",
    "plaintext_bytes = np.frombuffer(plaintext.encode('utf-8'), dtype=np.uint8)\n",
    "plaintext_length = np.int32(len(plaintext_bytes))\n",
    "\n",
    "seed = np.random.randint(0, np.iinfo(np.uint32).max, dtype=np.uint32)\n",
    "window_size = np.uint32(500000)\n",
    "nonce = np.zeros(shape=16 * 64, dtype=np.uint8)\n",
    "nonce_len = np.zeros(shape=64, dtype=np.uint8)\n",
    "\n",
    "# allocate the memory for the variables on the device\n",
    "cl_window_size = cl.Buffer(cl_ctx, cl.mem_flags.READ_ONLY | cl.mem_flags.COPY_HOST_PTR, hostbuf=window_size)\n",
    "cl_plaintext_bytes = cl.Buffer(cl_ctx, cl.mem_flags.READ_ONLY | cl.mem_flags.COPY_HOST_PTR, hostbuf=plaintext_bytes)\n",
    "cl_plaintext_length = cl.Buffer(cl_ctx, cl.mem_flags.READ_ONLY | cl.mem_flags.COPY_HOST_PTR, hostbuf=plaintext_length)\n",
    "cl_nonce = cl.Buffer(cl_ctx, cl.mem_flags.WRITE_ONLY, nonce.nbytes)\n",
    "cl_nonce_len = cl.Buffer(cl_ctx, cl.mem_flags.WRITE_ONLY, nonce_len.nbytes)\n",
    "\n",
    "zeros_found = {}\n",
    "\n",
    "keep_running = True\n",
    "while (keep_running):\n",
    "    seed = np.random.randint(0, np.iinfo(np.uint32).max, dtype=np.uint32)\n",
    "    cl_seed = cl.Buffer(cl_ctx, cl.mem_flags.READ_ONLY | cl.mem_flags.COPY_HOST_PTR, hostbuf=seed)\n",
    "\n",
    "    # execute the program\n",
    "    cl_program.mine_nonce(\n",
    "        cl_queue, (1,), None,\n",
    "        cl_seed,\n",
    "        cl_window_size,\n",
    "        cl_plaintext_bytes,\n",
    "        cl_plaintext_length,\n",
    "        cl_nonce,\n",
    "        cl_nonce_len)\n",
    "\n",
    "    # get the results\n",
    "    cl.enqueue_copy(cl_queue, nonce, cl_nonce)\n",
    "    cl.enqueue_copy(cl_queue, nonce_len, cl_nonce_len)\n",
    "\n",
    "    # interpret the results\n",
    "    for i in range(0, 64):\n",
    "        if nonce_len[i] > 0:\n",
    "            if (i not in zeros_found):\n",
    "                nonce_str = nonce[i * 16:i * 16 + nonce_len[i]].tobytes().decode('UTF-8')\n",
    "                zeros_found[i] = nonce_str\n",
    "                hash = hashlib.sha256((plaintext + nonce_str).encode('utf-8'))\n",
    "\n",
    "                print(\"%4d: [%2d] %16s %64s\" % (i, nonce_len[i], nonce_str, hash.hexdigest() if nonce_len[i] > 0 else ''))\n",
    "\n",
    "    keep_running = False"
   ]
  }
 ],
 "metadata": {
  "interpreter": {
   "hash": "7df413eebee551bb3fe92333337bcdc429cbfbbe1c6a605cf7db6555d9b28943"
  },
  "kernelspec": {
   "display_name": "Python 3.8.9 ('dsm070')",
   "language": "python",
   "name": "python3"
  },
  "language_info": {
   "codemirror_mode": {
    "name": "ipython",
    "version": 3
   },
   "file_extension": ".py",
   "mimetype": "text/x-python",
   "name": "python",
   "nbconvert_exporter": "python",
   "pygments_lexer": "ipython3",
   "version": "3.8.9"
  },
  "orig_nbformat": 4,
  "vscode": {
   "interpreter": {
    "hash": "7df413eebee551bb3fe92333337bcdc429cbfbbe1c6a605cf7db6555d9b28943"
   }
  }
 },
 "nbformat": 4,
 "nbformat_minor": 2
}
