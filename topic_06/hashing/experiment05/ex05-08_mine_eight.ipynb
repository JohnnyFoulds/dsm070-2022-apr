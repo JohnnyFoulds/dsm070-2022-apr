{
 "cells": [
  {
   "cell_type": "markdown",
   "metadata": {},
   "source": [
    "# Experiment 05-08"
   ]
  },
  {
   "cell_type": "code",
   "execution_count": 13,
   "metadata": {},
   "outputs": [],
   "source": [
    "import sys\n",
    "import numpy as np\n",
    "import hashlib\n",
    "from binascii import hexlify\n",
    "import pyopencl as cl\n",
    "from Library.opencl_information import opencl_information\n",
    "import logging\n",
    "from pqdm.threads import pqdm\n",
    "from tqdm.notebook import tqdm"
   ]
  },
  {
   "cell_type": "markdown",
   "metadata": {},
   "source": [
    "## Configure Logging"
   ]
  },
  {
   "cell_type": "code",
   "execution_count": 14,
   "metadata": {},
   "outputs": [
    {
     "name": "stdout",
     "output_type": "stream",
     "text": [
      "2022-07-13 14:40:43 INFO     Started\n"
     ]
    }
   ],
   "source": [
    "logging.basicConfig(\n",
    "    format='%(asctime)s %(levelname)-8s %(message)s',\n",
    "    level=logging.INFO,\n",
    "    datefmt='%Y-%m-%d %H:%M:%S',\n",
    "        handlers=[\n",
    "        logging.FileHandler(\"ex05_08.log\"),\n",
    "        logging.StreamHandler(sys.stdout)\n",
    "    ])\n",
    "\n",
    "logging.info(\"Started\")"
   ]
  },
  {
   "cell_type": "markdown",
   "metadata": {},
   "source": [
    "## Show the available Platforms"
   ]
  },
  {
   "cell_type": "code",
   "execution_count": 15,
   "metadata": {},
   "outputs": [
    {
     "name": "stdout",
     "output_type": "stream",
     "text": [
      "\n",
      "============================================================\n",
      "OpenCL Platforms and Devices\n",
      "============================================================\n",
      "Platform 0 - Name: Apple\n",
      "Platform 0 - Vendor: Apple\n",
      "Platform 0 - Version: OpenCL 1.2 (Apr 19 2022 18:44:25)\n",
      "Platform 0 - Profile: FULL_PROFILE\n",
      " --------------------------------------------------------\n",
      " Device - Name: Intel(R) Core(TM) i9-9880H CPU @ 2.30GHz\n",
      " Device - Type: ALL | CPU\n",
      " Device - Max Clock Speed: 2300 Mhz\n",
      " Device - Compute Units: 16\n",
      " Device - Local Memory: 32 KB\n",
      " Device - Constant Memory: 64 KB\n",
      " Device - Global Memory: 16 GB\n",
      " Device - Max Buffer/Image Size: 4096 MB\n",
      " Device - Max Work Group Size: 1024\n",
      "\n",
      "\n",
      " --------------------------------------------------------\n",
      " Device - Name: Intel(R) UHD Graphics 630\n",
      " Device - Type: ALL | GPU\n",
      " Device - Max Clock Speed: 1200 Mhz\n",
      " Device - Compute Units: 24\n",
      " Device - Local Memory: 64 KB\n",
      " Device - Constant Memory: 64 KB\n",
      " Device - Global Memory: 2 GB\n",
      " Device - Max Buffer/Image Size: 384 MB\n",
      " Device - Max Work Group Size: 256\n",
      "\n",
      "\n",
      " --------------------------------------------------------\n",
      " Device - Name: AMD Radeon Pro 5500M Compute Engine\n",
      " Device - Type: ALL | GPU\n",
      " Device - Max Clock Speed: 1450 Mhz\n",
      " Device - Compute Units: 24\n",
      " Device - Local Memory: 64 KB\n",
      " Device - Constant Memory: 64 KB\n",
      " Device - Global Memory: 4 GB\n",
      " Device - Max Buffer/Image Size: 1020 MB\n",
      " Device - Max Work Group Size: 256\n",
      "\n",
      "\n"
     ]
    }
   ],
   "source": [
    "info = opencl_information()\n",
    "info.print_full_info()"
   ]
  },
  {
   "cell_type": "markdown",
   "metadata": {},
   "source": [
    "## Configure the OpenCL Context"
   ]
  },
  {
   "cell_type": "code",
   "execution_count": null,
   "metadata": {},
   "outputs": [
    {
     "ename": "",
     "evalue": "",
     "output_type": "error",
     "traceback": [
      "\u001b[1;31mCanceled future for execute_request message before replies were done"
     ]
    },
    {
     "ename": "",
     "evalue": "",
     "output_type": "error",
     "traceback": [
      "\u001b[1;31mThe Kernel crashed while executing code in the the current cell or a previous cell. Please review the code in the cell(s) to identify a possible cause of the failure. Click <a href='https://aka.ms/vscodeJupyterKernelCrash'>here</a> for more info. View Jupyter <a href='command:jupyter.viewOutput'>log</a> for further details."
     ]
    }
   ],
   "source": [
    "platform_number = 0\n",
    "device_number = 2\n",
    "\n",
    "cl_devices = cl.get_platforms()[platform_number].get_devices()\n",
    "cl_ctx = cl.Context(cl_devices)\n",
    "cl_queue = cl.CommandQueue(cl_ctx, cl_devices[device_number])"
   ]
  },
  {
   "cell_type": "code",
   "execution_count": null,
   "metadata": {},
   "outputs": [
    {
     "name": "stdout",
     "output_type": "stream",
     "text": [
      "Max Compute Units: 24\n",
      "Max Compute Units: 256\n",
      "Threads: 6144\n"
     ]
    }
   ],
   "source": [
    "cl_device = cl_devices[device_number]\n",
    "\n",
    "cl_threads = cl_device.max_compute_units * cl_device.max_work_group_size\n",
    "if cl_device.type & 4 == 0:\n",
    "    cl_threads = cl_devices.max_work_group_size\n",
    "\n",
    "print('Max Compute Units:', cl_device.max_compute_units)\n",
    "print('Max Compute Units:', cl_device.max_work_group_size)\n",
    "print('Threads:', cl_threads)"
   ]
  },
  {
   "cell_type": "markdown",
   "metadata": {},
   "source": [
    "## Compile the Program"
   ]
  },
  {
   "cell_type": "code",
   "execution_count": null,
   "metadata": {},
   "outputs": [],
   "source": [
    "def build_program(program_files : list, cl_ctx : cl.Context,\n",
    "        build_options=[]) -> cl.Program:\n",
    "    \"\"\"\n",
    "    Build a program from an OpenCL source file.\n",
    "\n",
    "    Parameters\n",
    "    ----------\n",
    "    program_files : list\n",
    "        The path to the OpenCL source files.\n",
    "    cl_ctx : pyopencl.Context\n",
    "        The context to build the program with.\n",
    "    build_options : list of str\n",
    "        The build options to use.\n",
    "\n",
    "    Returns\n",
    "    -------\n",
    "    pyopencl.Program\n",
    "    \"\"\"\n",
    "    program_source = ''\n",
    "\n",
    "    for cl_file in program_files:\n",
    "        with open(cl_file, 'r') as cl_file:\n",
    "            file_source = cl_file.read()\n",
    "            program_source += '\\n' + file_source\n",
    "\n",
    "    program_source = cl.Program(cl_ctx, program_source)\n",
    "    program = program_source.build(options=build_options)\n",
    "            \n",
    "    return program"
   ]
  },
  {
   "cell_type": "code",
   "execution_count": null,
   "metadata": {},
   "outputs": [
    {
     "name": "stdout",
     "output_type": "stream",
     "text": [
      "Kernel Names: get_single_hash;get_random_string;get_single_hash_nonce;mine_eight;mine_nonce;hash_main;mine_eight_sequential;get_random_numbers\n"
     ]
    },
    {
     "name": "stderr",
     "output_type": "stream",
     "text": [
      "/Users/foulds/env/dsm070/lib/python3.8/site-packages/pyopencl/__init__.py:274: CompilerWarning: Non-empty compiler output encountered. Set the environment variable PYOPENCL_COMPILER_OUTPUT=1 to see more.\n",
      "  warn(\"Non-empty compiler output encountered. Set the \"\n"
     ]
    }
   ],
   "source": [
    "cl_program_files = [\n",
    "    'Library/worker/sha256.cl',\n",
    "    'Library/worker/zimcoin.cl',\n",
    "]\n",
    "\n",
    "cl_program = build_program(cl_program_files, cl_ctx)\n",
    "\n",
    "# show the kernel names\n",
    "program_kernel_names = cl_program.get_info(cl.program_info.KERNEL_NAMES)\n",
    "print(f\"Kernel Names: {program_kernel_names}\")"
   ]
  },
  {
   "cell_type": "markdown",
   "metadata": {},
   "source": [
    "## Mine Nonce"
   ]
  },
  {
   "cell_type": "code",
   "execution_count": null,
   "metadata": {},
   "outputs": [],
   "source": [
    "max_nonce = 16\n",
    "max_output_size = 255"
   ]
  },
  {
   "cell_type": "code",
   "execution_count": null,
   "metadata": {},
   "outputs": [],
   "source": [
    "def display_output(zeros_found : dict, nonce : np.ndarray,\n",
    "                   nonce_len : np.ndarray, plaintext : str, prefix : str) -> None:\n",
    "    \"\"\"\n",
    "    Display the output generated by the OpenCL Kernel.\n",
    "    \"\"\"\n",
    "    for i in range(0, max_output_size):\n",
    "        if nonce_len[i] > 0:\n",
    "            nonce_str = prefix + nonce[i * max_nonce:i * max_nonce + nonce_len[i]].tobytes().decode('UTF-8')\n",
    "            zeros_found[i] = nonce_str\n",
    "            hash = hashlib.sha256((plaintext + nonce_str).encode('utf-8'))\n",
    "\n",
    "            logging.info(\"%4d: [%2d] %20s %64s\" % (i, nonce_len[i], nonce_str, hash.hexdigest() if nonce_len[i] > 0 else ''))"
   ]
  },
  {
   "cell_type": "code",
   "execution_count": null,
   "metadata": {},
   "outputs": [
    {
     "name": "stdout",
     "output_type": "stream",
     "text": [
      "18446744073709551615\n",
      "18446744073709551615\n",
      "20\n"
     ]
    }
   ],
   "source": [
    "print(np.iinfo(np.unsignedinteger).max)\n",
    "print(np.iinfo(np.ulonglong).max)\n",
    "print(len(str(np.iinfo(np.ulonglong).max)))"
   ]
  },
  {
   "cell_type": "code",
   "execution_count": null,
   "metadata": {},
   "outputs": [],
   "source": [
    "#cl_threads = (cl_threads // 2)\n",
    "cl_threads = 10"
   ]
  },
  {
   "cell_type": "code",
   "execution_count": null,
   "metadata": {},
   "outputs": [
    {
     "name": "stdout",
     "output_type": "stream",
     "text": [
      "2022-07-13 14:40:23 INFO     build program: kernel 'mine_eight_sequential' was part of a lengthy source build resulting from a binary cache miss (7.22 s)\n",
      "2022-07-13 14:40:34 INFO        3: [ 2]                   \u0000\u0000 e49fc93861a2c463d4d7fa7858fc52a34f856147d72b98eae2e311612b6e8257\n",
      "2022-07-13 14:40:34 INFO        4: [ 2]                   \u0000\u0000 e49fc93861a2c463d4d7fa7858fc52a34f856147d72b98eae2e311612b6e8257\n",
      "2022-07-13 14:40:34 INFO        5: [ 2]                   \u0000\u0000 e49fc93861a2c463d4d7fa7858fc52a34f856147d72b98eae2e311612b6e8257\n",
      "2022-07-13 14:40:34 INFO        6: [ 2]                   \u0000\u0000 e49fc93861a2c463d4d7fa7858fc52a34f856147d72b98eae2e311612b6e8257\n",
      "2022-07-13 14:40:34 INFO        7: [ 2]                   \u0000\u0000 e49fc93861a2c463d4d7fa7858fc52a34f856147d72b98eae2e311612b6e8257\n",
      "2022-07-13 14:40:34 INFO        8: [ 2]                   \u0000\u0000 e49fc93861a2c463d4d7fa7858fc52a34f856147d72b98eae2e311612b6e8257\n",
      "2022-07-13 14:40:34 INFO        9: [ 2]                   \u0000\u0000 e49fc93861a2c463d4d7fa7858fc52a34f856147d72b98eae2e311612b6e8257\n",
      "2022-07-13 14:40:34 INFO       10: [ 2]                   \u0000\u0000 e49fc93861a2c463d4d7fa7858fc52a34f856147d72b98eae2e311612b6e8257\n",
      "2022-07-13 14:40:34 INFO       11: [ 2]                   \u0000\u0000 e49fc93861a2c463d4d7fa7858fc52a34f856147d72b98eae2e311612b6e8257\n",
      "2022-07-13 14:40:34 INFO       12: [ 2]                   \u0000\u0000 e49fc93861a2c463d4d7fa7858fc52a34f856147d72b98eae2e311612b6e8257\n",
      "2022-07-13 14:40:34 INFO       13: [ 2]                   \u0000\u0000 e49fc93861a2c463d4d7fa7858fc52a34f856147d72b98eae2e311612b6e8257\n",
      "2022-07-13 14:40:34 INFO       14: [ 2]                   \u0000\u0000 e49fc93861a2c463d4d7fa7858fc52a34f856147d72b98eae2e311612b6e8257\n",
      "2022-07-13 14:40:34 INFO       15: [ 2]                   \u0000\u0000 e49fc93861a2c463d4d7fa7858fc52a34f856147d72b98eae2e311612b6e8257\n",
      "2022-07-13 14:40:34 INFO       19: [ 2]                   \u0000\u0000 e49fc93861a2c463d4d7fa7858fc52a34f856147d72b98eae2e311612b6e8257\n",
      "2022-07-13 14:40:34 INFO       20: [ 2]                   \u0000\u0000 e49fc93861a2c463d4d7fa7858fc52a34f856147d72b98eae2e311612b6e8257\n",
      "2022-07-13 14:40:34 INFO       21: [ 2]                   \u0000\u0000 e49fc93861a2c463d4d7fa7858fc52a34f856147d72b98eae2e311612b6e8257\n",
      "2022-07-13 14:40:34 INFO       22: [ 2]                   \u0000\u0000 e49fc93861a2c463d4d7fa7858fc52a34f856147d72b98eae2e311612b6e8257\n",
      "2022-07-13 14:40:34 INFO       23: [ 2]                   \u0000\u0000 e49fc93861a2c463d4d7fa7858fc52a34f856147d72b98eae2e311612b6e8257\n",
      "2022-07-13 14:40:34 INFO       24: [ 2]                   \u0000\u0000 e49fc93861a2c463d4d7fa7858fc52a34f856147d72b98eae2e311612b6e8257\n",
      "2022-07-13 14:40:34 INFO       25: [ 2]                   \u0000\u0000 e49fc93861a2c463d4d7fa7858fc52a34f856147d72b98eae2e311612b6e8257\n",
      "2022-07-13 14:40:34 INFO       26: [ 2]                   \u0000\u0000 e49fc93861a2c463d4d7fa7858fc52a34f856147d72b98eae2e311612b6e8257\n",
      "2022-07-13 14:40:34 INFO       27: [ 2]                   \u0000\u0000 e49fc93861a2c463d4d7fa7858fc52a34f856147d72b98eae2e311612b6e8257\n",
      "2022-07-13 14:40:34 INFO       28: [ 2]                   \u0000\u0000 e49fc93861a2c463d4d7fa7858fc52a34f856147d72b98eae2e311612b6e8257\n",
      "2022-07-13 14:40:34 INFO       29: [ 2]                   \u0000\u0000 e49fc93861a2c463d4d7fa7858fc52a34f856147d72b98eae2e311612b6e8257\n",
      "2022-07-13 14:40:34 INFO       30: [ 2]                   \u0000\u0000 e49fc93861a2c463d4d7fa7858fc52a34f856147d72b98eae2e311612b6e8257\n",
      "2022-07-13 14:40:34 INFO       31: [ 2]                   \u0000\u0000 e49fc93861a2c463d4d7fa7858fc52a34f856147d72b98eae2e311612b6e8257\n",
      "2022-07-13 14:40:34 INFO       35: [ 2]                   \u0000\u0000 e49fc93861a2c463d4d7fa7858fc52a34f856147d72b98eae2e311612b6e8257\n",
      "2022-07-13 14:40:34 INFO       36: [ 2]                   \u0000\u0000 e49fc93861a2c463d4d7fa7858fc52a34f856147d72b98eae2e311612b6e8257\n",
      "2022-07-13 14:40:34 INFO       37: [ 2]                   \u0000\u0000 e49fc93861a2c463d4d7fa7858fc52a34f856147d72b98eae2e311612b6e8257\n",
      "2022-07-13 14:40:34 INFO       38: [ 2]                   \u0000\u0000 e49fc93861a2c463d4d7fa7858fc52a34f856147d72b98eae2e311612b6e8257\n",
      "2022-07-13 14:40:34 INFO       39: [ 2]                   \u0000\u0000 e49fc93861a2c463d4d7fa7858fc52a34f856147d72b98eae2e311612b6e8257\n",
      "2022-07-13 14:40:34 INFO       40: [ 2]                   \u0000\u0000 e49fc93861a2c463d4d7fa7858fc52a34f856147d72b98eae2e311612b6e8257\n",
      "2022-07-13 14:40:34 INFO       41: [ 2]                   \u0000\u0000 e49fc93861a2c463d4d7fa7858fc52a34f856147d72b98eae2e311612b6e8257\n",
      "2022-07-13 14:40:34 INFO       42: [ 2]                   \u0000\u0000 e49fc93861a2c463d4d7fa7858fc52a34f856147d72b98eae2e311612b6e8257\n",
      "2022-07-13 14:40:34 INFO       43: [ 2]                   \u0000\u0000 e49fc93861a2c463d4d7fa7858fc52a34f856147d72b98eae2e311612b6e8257\n",
      "2022-07-13 14:40:34 INFO       44: [ 2]                   \u0000\u0000 e49fc93861a2c463d4d7fa7858fc52a34f856147d72b98eae2e311612b6e8257\n",
      "2022-07-13 14:40:34 INFO       45: [ 2]                   \u0000\u0000 e49fc93861a2c463d4d7fa7858fc52a34f856147d72b98eae2e311612b6e8257\n",
      "2022-07-13 14:40:34 INFO       46: [ 2]                   \u0000\u0000 e49fc93861a2c463d4d7fa7858fc52a34f856147d72b98eae2e311612b6e8257\n",
      "2022-07-13 14:40:34 INFO       47: [ 2]                   \u0000\u0000 e49fc93861a2c463d4d7fa7858fc52a34f856147d72b98eae2e311612b6e8257\n",
      "2022-07-13 14:40:34 INFO       51: [ 2]                   \u0000\u0000 e49fc93861a2c463d4d7fa7858fc52a34f856147d72b98eae2e311612b6e8257\n",
      "2022-07-13 14:40:34 INFO       52: [ 2]                   \u0000\u0000 e49fc93861a2c463d4d7fa7858fc52a34f856147d72b98eae2e311612b6e8257\n",
      "2022-07-13 14:40:34 INFO       53: [ 2]                   \u0000\u0000 e49fc93861a2c463d4d7fa7858fc52a34f856147d72b98eae2e311612b6e8257\n",
      "2022-07-13 14:40:34 INFO       54: [ 2]                   \u0000\u0000 e49fc93861a2c463d4d7fa7858fc52a34f856147d72b98eae2e311612b6e8257\n",
      "2022-07-13 14:40:34 INFO       55: [ 2]                   \u0000\u0000 e49fc93861a2c463d4d7fa7858fc52a34f856147d72b98eae2e311612b6e8257\n",
      "2022-07-13 14:40:34 INFO       56: [ 2]                   \u0000\u0000 e49fc93861a2c463d4d7fa7858fc52a34f856147d72b98eae2e311612b6e8257\n",
      "2022-07-13 14:40:34 INFO       57: [ 2]                   \u0000\u0000 e49fc93861a2c463d4d7fa7858fc52a34f856147d72b98eae2e311612b6e8257\n",
      "2022-07-13 14:40:34 INFO       58: [ 2]                   \u0000\u0000 e49fc93861a2c463d4d7fa7858fc52a34f856147d72b98eae2e311612b6e8257\n",
      "2022-07-13 14:40:34 INFO       59: [ 2]                   \u0000\u0000 e49fc93861a2c463d4d7fa7858fc52a34f856147d72b98eae2e311612b6e8257\n",
      "2022-07-13 14:40:34 INFO       60: [ 2]                   \u0000\u0000 e49fc93861a2c463d4d7fa7858fc52a34f856147d72b98eae2e311612b6e8257\n",
      "2022-07-13 14:40:34 INFO       61: [ 2]                   \u0000\u0000 e49fc93861a2c463d4d7fa7858fc52a34f856147d72b98eae2e311612b6e8257\n",
      "2022-07-13 14:40:34 INFO       62: [ 2]                   \u0000\u0000 e49fc93861a2c463d4d7fa7858fc52a34f856147d72b98eae2e311612b6e8257\n",
      "2022-07-13 14:40:34 INFO       63: [ 2]                   \u0000\u0000 e49fc93861a2c463d4d7fa7858fc52a34f856147d72b98eae2e311612b6e8257\n",
      "2022-07-13 14:40:34 INFO       67: [ 2]                   \u0000\u0000 e49fc93861a2c463d4d7fa7858fc52a34f856147d72b98eae2e311612b6e8257\n",
      "2022-07-13 14:40:34 INFO       68: [ 2]                   \u0000\u0000 e49fc93861a2c463d4d7fa7858fc52a34f856147d72b98eae2e311612b6e8257\n",
      "2022-07-13 14:40:34 INFO       69: [ 2]                   \u0000\u0000 e49fc93861a2c463d4d7fa7858fc52a34f856147d72b98eae2e311612b6e8257\n",
      "2022-07-13 14:40:34 INFO       70: [ 2]                   \u0000\u0000 e49fc93861a2c463d4d7fa7858fc52a34f856147d72b98eae2e311612b6e8257\n",
      "2022-07-13 14:40:34 INFO       71: [ 2]                   \u0000\u0000 e49fc93861a2c463d4d7fa7858fc52a34f856147d72b98eae2e311612b6e8257\n",
      "2022-07-13 14:40:34 INFO       72: [ 2]                   \u0000\u0000 e49fc93861a2c463d4d7fa7858fc52a34f856147d72b98eae2e311612b6e8257\n",
      "2022-07-13 14:40:34 INFO       73: [ 2]                   \u0000\u0000 e49fc93861a2c463d4d7fa7858fc52a34f856147d72b98eae2e311612b6e8257\n",
      "2022-07-13 14:40:34 INFO       74: [ 2]                   \u0000\u0000 e49fc93861a2c463d4d7fa7858fc52a34f856147d72b98eae2e311612b6e8257\n",
      "2022-07-13 14:40:34 INFO       75: [ 2]                   \u0000\u0000 e49fc93861a2c463d4d7fa7858fc52a34f856147d72b98eae2e311612b6e8257\n",
      "2022-07-13 14:40:34 INFO       76: [ 2]                   \u0000\u0000 e49fc93861a2c463d4d7fa7858fc52a34f856147d72b98eae2e311612b6e8257\n",
      "2022-07-13 14:40:34 INFO       77: [ 2]                   \u0000\u0000 e49fc93861a2c463d4d7fa7858fc52a34f856147d72b98eae2e311612b6e8257\n",
      "2022-07-13 14:40:34 INFO       78: [ 2]                   \u0000\u0000 e49fc93861a2c463d4d7fa7858fc52a34f856147d72b98eae2e311612b6e8257\n",
      "2022-07-13 14:40:34 INFO       79: [ 2]                   \u0000\u0000 e49fc93861a2c463d4d7fa7858fc52a34f856147d72b98eae2e311612b6e8257\n",
      "2022-07-13 14:40:34 INFO       83: [ 2]                   \u0000\u0000 e49fc93861a2c463d4d7fa7858fc52a34f856147d72b98eae2e311612b6e8257\n",
      "2022-07-13 14:40:34 INFO       84: [ 2]                   \u0000\u0000 e49fc93861a2c463d4d7fa7858fc52a34f856147d72b98eae2e311612b6e8257\n",
      "2022-07-13 14:40:34 INFO       85: [ 2]                   \u0000\u0000 e49fc93861a2c463d4d7fa7858fc52a34f856147d72b98eae2e311612b6e8257\n",
      "2022-07-13 14:40:34 INFO       86: [ 2]                   \u0000\u0000 e49fc93861a2c463d4d7fa7858fc52a34f856147d72b98eae2e311612b6e8257\n",
      "2022-07-13 14:40:34 INFO       87: [ 2]                   \u0000\u0000 e49fc93861a2c463d4d7fa7858fc52a34f856147d72b98eae2e311612b6e8257\n",
      "2022-07-13 14:40:34 INFO       88: [ 2]                   \u0000\u0000 e49fc93861a2c463d4d7fa7858fc52a34f856147d72b98eae2e311612b6e8257\n",
      "2022-07-13 14:40:34 INFO       89: [ 2]                   \u0000\u0000 e49fc93861a2c463d4d7fa7858fc52a34f856147d72b98eae2e311612b6e8257\n",
      "2022-07-13 14:40:34 INFO       90: [ 3]                  \u0000\u0000\u0000 4c8d35ac2e9ae9d96e7276eed49cf277827534a9141ec76463dd3c5192a6ba60\n",
      "2022-07-13 14:40:34 INFO       91: [ 3]                  \u0000\u0000\u0000 4c8d35ac2e9ae9d96e7276eed49cf277827534a9141ec76463dd3c5192a6ba60\n",
      "2022-07-13 14:40:34 INFO       92: [ 3]                  \u0000\u0000\u0000 4c8d35ac2e9ae9d96e7276eed49cf277827534a9141ec76463dd3c5192a6ba60\n",
      "2022-07-13 14:40:34 INFO       93: [ 3]                  \u0000\u0000\u0000 4c8d35ac2e9ae9d96e7276eed49cf277827534a9141ec76463dd3c5192a6ba60\n",
      "2022-07-13 14:40:34 INFO       94: [ 3]                  \u0000\u0000\u0000 4c8d35ac2e9ae9d96e7276eed49cf277827534a9141ec76463dd3c5192a6ba60\n",
      "2022-07-13 14:40:34 INFO       95: [ 3]                  \u0000\u0000\u0000 4c8d35ac2e9ae9d96e7276eed49cf277827534a9141ec76463dd3c5192a6ba60\n",
      "2022-07-13 14:40:34 INFO       99: [ 3]                  \u0000\u0000\u0000 4c8d35ac2e9ae9d96e7276eed49cf277827534a9141ec76463dd3c5192a6ba60\n",
      "2022-07-13 14:40:34 INFO      100: [ 3]                  \u0000\u0000\u0000 4c8d35ac2e9ae9d96e7276eed49cf277827534a9141ec76463dd3c5192a6ba60\n",
      "2022-07-13 14:40:34 INFO      101: [ 3]                  \u0000\u0000\u0000 4c8d35ac2e9ae9d96e7276eed49cf277827534a9141ec76463dd3c5192a6ba60\n",
      "2022-07-13 14:40:34 INFO      102: [ 3]                  \u0000\u0000\u0000 4c8d35ac2e9ae9d96e7276eed49cf277827534a9141ec76463dd3c5192a6ba60\n",
      "2022-07-13 14:40:34 INFO      103: [ 3]                  \u0000\u0000\u0000 4c8d35ac2e9ae9d96e7276eed49cf277827534a9141ec76463dd3c5192a6ba60\n",
      "2022-07-13 14:40:34 INFO      104: [ 3]                  \u0000\u0000\u0000 4c8d35ac2e9ae9d96e7276eed49cf277827534a9141ec76463dd3c5192a6ba60\n",
      "2022-07-13 14:40:34 INFO      105: [ 3]                  \u0000\u0000\u0000 4c8d35ac2e9ae9d96e7276eed49cf277827534a9141ec76463dd3c5192a6ba60\n",
      "2022-07-13 14:40:34 INFO      106: [ 3]                  \u0000\u0000\u0000 4c8d35ac2e9ae9d96e7276eed49cf277827534a9141ec76463dd3c5192a6ba60\n",
      "2022-07-13 14:40:34 INFO      107: [ 3]                  \u0000\u0000\u0000 4c8d35ac2e9ae9d96e7276eed49cf277827534a9141ec76463dd3c5192a6ba60\n",
      "2022-07-13 14:40:34 INFO      108: [ 3]                  \u0000\u0000\u0000 4c8d35ac2e9ae9d96e7276eed49cf277827534a9141ec76463dd3c5192a6ba60\n",
      "2022-07-13 14:40:34 INFO      109: [ 3]                  \u0000\u0000\u0000 4c8d35ac2e9ae9d96e7276eed49cf277827534a9141ec76463dd3c5192a6ba60\n",
      "2022-07-13 14:40:34 INFO      110: [ 3]                  \u0000\u0000\u0000 4c8d35ac2e9ae9d96e7276eed49cf277827534a9141ec76463dd3c5192a6ba60\n",
      "2022-07-13 14:40:34 INFO      111: [ 3]                  \u0000\u0000\u0000 4c8d35ac2e9ae9d96e7276eed49cf277827534a9141ec76463dd3c5192a6ba60\n",
      "2022-07-13 14:40:34 INFO      115: [ 3]                  \u0000\u0000\u0000 4c8d35ac2e9ae9d96e7276eed49cf277827534a9141ec76463dd3c5192a6ba60\n",
      "2022-07-13 14:40:34 INFO      116: [ 3]                  \u0000\u0000\u0000 4c8d35ac2e9ae9d96e7276eed49cf277827534a9141ec76463dd3c5192a6ba60\n",
      "2022-07-13 14:40:34 INFO      117: [ 3]                  \u0000\u0000\u0000 4c8d35ac2e9ae9d96e7276eed49cf277827534a9141ec76463dd3c5192a6ba60\n",
      "2022-07-13 14:40:34 INFO      118: [ 3]                  \u0000\u0000\u0000 4c8d35ac2e9ae9d96e7276eed49cf277827534a9141ec76463dd3c5192a6ba60\n",
      "2022-07-13 14:40:34 INFO      119: [ 3]                  \u0000\u0000\u0000 4c8d35ac2e9ae9d96e7276eed49cf277827534a9141ec76463dd3c5192a6ba60\n",
      "2022-07-13 14:40:34 INFO      120: [ 3]                  \u0000\u0000\u0000 4c8d35ac2e9ae9d96e7276eed49cf277827534a9141ec76463dd3c5192a6ba60\n",
      "2022-07-13 14:40:34 INFO      121: [ 3]                  \u0000\u0000\u0000 4c8d35ac2e9ae9d96e7276eed49cf277827534a9141ec76463dd3c5192a6ba60\n",
      "2022-07-13 14:40:34 INFO      122: [ 3]                  \u0000\u0000\u0000 4c8d35ac2e9ae9d96e7276eed49cf277827534a9141ec76463dd3c5192a6ba60\n",
      "2022-07-13 14:40:34 INFO      123: [ 3]                  \u0000\u0000\u0000 4c8d35ac2e9ae9d96e7276eed49cf277827534a9141ec76463dd3c5192a6ba60\n",
      "2022-07-13 14:40:34 INFO      124: [ 3]                  \u0000\u0000\u0000 4c8d35ac2e9ae9d96e7276eed49cf277827534a9141ec76463dd3c5192a6ba60\n",
      "2022-07-13 14:40:34 INFO      125: [ 3]                  \u0000\u0000\u0000 4c8d35ac2e9ae9d96e7276eed49cf277827534a9141ec76463dd3c5192a6ba60\n",
      "2022-07-13 14:40:34 INFO      126: [ 3]                  \u0000\u0000\u0000 4c8d35ac2e9ae9d96e7276eed49cf277827534a9141ec76463dd3c5192a6ba60\n",
      "2022-07-13 14:40:34 INFO      127: [ 3]                  \u0000\u0000\u0000 4c8d35ac2e9ae9d96e7276eed49cf277827534a9141ec76463dd3c5192a6ba60\n",
      "2022-07-13 14:40:34 INFO      131: [ 3]                  \u0000\u0000\u0000 4c8d35ac2e9ae9d96e7276eed49cf277827534a9141ec76463dd3c5192a6ba60\n",
      "2022-07-13 14:40:34 INFO      132: [ 3]                  \u0000\u0000\u0000 4c8d35ac2e9ae9d96e7276eed49cf277827534a9141ec76463dd3c5192a6ba60\n",
      "2022-07-13 14:40:34 INFO      133: [ 3]                  \u0000\u0000\u0000 4c8d35ac2e9ae9d96e7276eed49cf277827534a9141ec76463dd3c5192a6ba60\n",
      "2022-07-13 14:40:34 INFO      134: [ 3]                  \u0000\u0000\u0000 4c8d35ac2e9ae9d96e7276eed49cf277827534a9141ec76463dd3c5192a6ba60\n",
      "2022-07-13 14:40:34 INFO      135: [ 3]                  \u0000\u0000\u0000 4c8d35ac2e9ae9d96e7276eed49cf277827534a9141ec76463dd3c5192a6ba60\n",
      "2022-07-13 14:40:34 INFO      136: [ 3]                  \u0000\u0000\u0000 4c8d35ac2e9ae9d96e7276eed49cf277827534a9141ec76463dd3c5192a6ba60\n",
      "2022-07-13 14:40:34 INFO      137: [ 3]                  \u0000\u0000\u0000 4c8d35ac2e9ae9d96e7276eed49cf277827534a9141ec76463dd3c5192a6ba60\n",
      "2022-07-13 14:40:34 INFO      138: [ 3]                  \u0000\u0000\u0000 4c8d35ac2e9ae9d96e7276eed49cf277827534a9141ec76463dd3c5192a6ba60\n",
      "2022-07-13 14:40:34 INFO      139: [ 3]                  \u0000\u0000\u0000 4c8d35ac2e9ae9d96e7276eed49cf277827534a9141ec76463dd3c5192a6ba60\n",
      "2022-07-13 14:40:34 INFO      140: [ 3]                  \u0000\u0000\u0000 4c8d35ac2e9ae9d96e7276eed49cf277827534a9141ec76463dd3c5192a6ba60\n",
      "2022-07-13 14:40:34 INFO      141: [ 3]                  \u0000\u0000\u0000 4c8d35ac2e9ae9d96e7276eed49cf277827534a9141ec76463dd3c5192a6ba60\n",
      "2022-07-13 14:40:34 INFO      142: [ 3]                  \u0000\u0000\u0000 4c8d35ac2e9ae9d96e7276eed49cf277827534a9141ec76463dd3c5192a6ba60\n",
      "2022-07-13 14:40:34 INFO      143: [ 3]                  \u0000\u0000\u0000 4c8d35ac2e9ae9d96e7276eed49cf277827534a9141ec76463dd3c5192a6ba60\n",
      "2022-07-13 14:40:34 INFO      147: [ 3]                  \u0000\u0000\u0000 4c8d35ac2e9ae9d96e7276eed49cf277827534a9141ec76463dd3c5192a6ba60\n",
      "2022-07-13 14:40:34 INFO      148: [ 3]                  \u0000\u0000\u0000 4c8d35ac2e9ae9d96e7276eed49cf277827534a9141ec76463dd3c5192a6ba60\n",
      "2022-07-13 14:40:34 INFO      149: [ 3]                  \u0000\u0000\u0000 4c8d35ac2e9ae9d96e7276eed49cf277827534a9141ec76463dd3c5192a6ba60\n",
      "2022-07-13 14:40:34 INFO      150: [ 3]                  \u0000\u0000\u0000 4c8d35ac2e9ae9d96e7276eed49cf277827534a9141ec76463dd3c5192a6ba60\n",
      "2022-07-13 14:40:34 INFO      151: [ 3]                  \u0000\u0000\u0000 4c8d35ac2e9ae9d96e7276eed49cf277827534a9141ec76463dd3c5192a6ba60\n",
      "2022-07-13 14:40:34 INFO      152: [ 3]                  \u0000\u0000\u0000 4c8d35ac2e9ae9d96e7276eed49cf277827534a9141ec76463dd3c5192a6ba60\n",
      "2022-07-13 14:40:34 INFO      153: [ 3]                  \u0000\u0000\u0000 4c8d35ac2e9ae9d96e7276eed49cf277827534a9141ec76463dd3c5192a6ba60\n",
      "2022-07-13 14:40:34 INFO      154: [ 3]                  \u0000\u0000\u0000 4c8d35ac2e9ae9d96e7276eed49cf277827534a9141ec76463dd3c5192a6ba60\n",
      "2022-07-13 14:40:34 INFO      155: [ 3]                  \u0000\u0000\u0000 4c8d35ac2e9ae9d96e7276eed49cf277827534a9141ec76463dd3c5192a6ba60\n",
      "2022-07-13 14:40:34 INFO      156: [ 3]                  \u0000\u0000\u0000 4c8d35ac2e9ae9d96e7276eed49cf277827534a9141ec76463dd3c5192a6ba60\n",
      "2022-07-13 14:40:34 INFO      157: [ 3]                  \u0000\u0000\u0000 4c8d35ac2e9ae9d96e7276eed49cf277827534a9141ec76463dd3c5192a6ba60\n",
      "2022-07-13 14:40:34 INFO      158: [ 3]                  \u0000\u0000\u0000 4c8d35ac2e9ae9d96e7276eed49cf277827534a9141ec76463dd3c5192a6ba60\n",
      "2022-07-13 14:40:34 INFO      159: [ 3]                  \u0000\u0000\u0000 4c8d35ac2e9ae9d96e7276eed49cf277827534a9141ec76463dd3c5192a6ba60\n",
      "2022-07-13 14:40:34 INFO      163: [ 3]                  \u0000\u0000\u0000 4c8d35ac2e9ae9d96e7276eed49cf277827534a9141ec76463dd3c5192a6ba60\n",
      "2022-07-13 14:40:34 INFO      164: [ 3]                  \u0000\u0000\u0000 4c8d35ac2e9ae9d96e7276eed49cf277827534a9141ec76463dd3c5192a6ba60\n",
      "2022-07-13 14:40:34 INFO      165: [ 3]                  \u0000\u0000\u0000 4c8d35ac2e9ae9d96e7276eed49cf277827534a9141ec76463dd3c5192a6ba60\n",
      "2022-07-13 14:40:34 INFO      166: [ 3]                  \u0000\u0000\u0000 4c8d35ac2e9ae9d96e7276eed49cf277827534a9141ec76463dd3c5192a6ba60\n",
      "2022-07-13 14:40:34 INFO      167: [ 3]                  \u0000\u0000\u0000 4c8d35ac2e9ae9d96e7276eed49cf277827534a9141ec76463dd3c5192a6ba60\n",
      "2022-07-13 14:40:34 INFO      168: [ 3]                  \u0000\u0000\u0000 4c8d35ac2e9ae9d96e7276eed49cf277827534a9141ec76463dd3c5192a6ba60\n",
      "2022-07-13 14:40:34 INFO      169: [ 3]                  \u0000\u0000\u0000 4c8d35ac2e9ae9d96e7276eed49cf277827534a9141ec76463dd3c5192a6ba60\n",
      "2022-07-13 14:40:34 INFO      170: [ 3]                  \u0000\u0000\u0000 4c8d35ac2e9ae9d96e7276eed49cf277827534a9141ec76463dd3c5192a6ba60\n",
      "2022-07-13 14:40:34 INFO      171: [ 3]                  \u0000\u0000\u0000 4c8d35ac2e9ae9d96e7276eed49cf277827534a9141ec76463dd3c5192a6ba60\n",
      "2022-07-13 14:40:34 INFO      172: [ 3]                  \u0000\u0000\u0000 4c8d35ac2e9ae9d96e7276eed49cf277827534a9141ec76463dd3c5192a6ba60\n",
      "2022-07-13 14:40:34 INFO      173: [ 3]                  \u0000\u0000\u0000 4c8d35ac2e9ae9d96e7276eed49cf277827534a9141ec76463dd3c5192a6ba60\n",
      "2022-07-13 14:40:34 INFO      174: [ 3]                  \u0000\u0000\u0000 4c8d35ac2e9ae9d96e7276eed49cf277827534a9141ec76463dd3c5192a6ba60\n",
      "2022-07-13 14:40:34 INFO      175: [ 3]                  \u0000\u0000\u0000 4c8d35ac2e9ae9d96e7276eed49cf277827534a9141ec76463dd3c5192a6ba60\n",
      "2022-07-13 14:40:34 INFO      179: [ 3]                  \u0000\u0000\u0000 4c8d35ac2e9ae9d96e7276eed49cf277827534a9141ec76463dd3c5192a6ba60\n",
      "2022-07-13 14:40:34 INFO      180: [ 3]                  \u0000\u0000\u0000 4c8d35ac2e9ae9d96e7276eed49cf277827534a9141ec76463dd3c5192a6ba60\n",
      "2022-07-13 14:40:34 INFO      181: [ 3]                  \u0000\u0000\u0000 4c8d35ac2e9ae9d96e7276eed49cf277827534a9141ec76463dd3c5192a6ba60\n",
      "2022-07-13 14:40:34 INFO      182: [ 3]                  \u0000\u0000\u0000 4c8d35ac2e9ae9d96e7276eed49cf277827534a9141ec76463dd3c5192a6ba60\n",
      "2022-07-13 14:40:34 INFO      183: [ 3]                  \u0000\u0000\u0000 4c8d35ac2e9ae9d96e7276eed49cf277827534a9141ec76463dd3c5192a6ba60\n",
      "2022-07-13 14:40:34 INFO      184: [ 3]                  \u0000\u0000\u0000 4c8d35ac2e9ae9d96e7276eed49cf277827534a9141ec76463dd3c5192a6ba60\n",
      "2022-07-13 14:40:34 INFO      185: [ 3]                  \u0000\u0000\u0000 4c8d35ac2e9ae9d96e7276eed49cf277827534a9141ec76463dd3c5192a6ba60\n",
      "2022-07-13 14:40:34 INFO      186: [ 3]                  \u0000\u0000\u0000 4c8d35ac2e9ae9d96e7276eed49cf277827534a9141ec76463dd3c5192a6ba60\n",
      "2022-07-13 14:40:34 INFO      187: [ 3]                  \u0000\u0000\u0000 4c8d35ac2e9ae9d96e7276eed49cf277827534a9141ec76463dd3c5192a6ba60\n",
      "2022-07-13 14:40:34 INFO      188: [ 3]                  \u0000\u0000\u0000 4c8d35ac2e9ae9d96e7276eed49cf277827534a9141ec76463dd3c5192a6ba60\n",
      "2022-07-13 14:40:34 INFO      189: [ 3]                  \u0000\u0000\u0000 4c8d35ac2e9ae9d96e7276eed49cf277827534a9141ec76463dd3c5192a6ba60\n",
      "2022-07-13 14:40:34 INFO      190: [ 3]                  \u0000\u0000\u0000 4c8d35ac2e9ae9d96e7276eed49cf277827534a9141ec76463dd3c5192a6ba60\n",
      "2022-07-13 14:40:34 INFO      191: [ 3]                  \u0000\u0000\u0000 4c8d35ac2e9ae9d96e7276eed49cf277827534a9141ec76463dd3c5192a6ba60\n",
      "2022-07-13 14:40:34 INFO      195: [ 3]                  \u0000\u0000\u0000 4c8d35ac2e9ae9d96e7276eed49cf277827534a9141ec76463dd3c5192a6ba60\n",
      "2022-07-13 14:40:34 INFO      196: [ 3]                  \u0000\u0000\u0000 4c8d35ac2e9ae9d96e7276eed49cf277827534a9141ec76463dd3c5192a6ba60\n",
      "2022-07-13 14:40:34 INFO      197: [ 3]                  \u0000\u0000\u0000 4c8d35ac2e9ae9d96e7276eed49cf277827534a9141ec76463dd3c5192a6ba60\n",
      "2022-07-13 14:40:34 INFO      198: [ 3]                  \u0000\u0000\u0000 4c8d35ac2e9ae9d96e7276eed49cf277827534a9141ec76463dd3c5192a6ba60\n",
      "2022-07-13 14:40:34 INFO      199: [ 3]                  \u0000\u0000\u0000 4c8d35ac2e9ae9d96e7276eed49cf277827534a9141ec76463dd3c5192a6ba60\n",
      "2022-07-13 14:40:34 INFO      200: [ 3]                  \u0000\u0000\u0000 4c8d35ac2e9ae9d96e7276eed49cf277827534a9141ec76463dd3c5192a6ba60\n",
      "2022-07-13 14:40:34 INFO      201: [ 3]                  \u0000\u0000\u0000 4c8d35ac2e9ae9d96e7276eed49cf277827534a9141ec76463dd3c5192a6ba60\n",
      "2022-07-13 14:40:34 INFO      202: [ 3]                  \u0000\u0000\u0000 4c8d35ac2e9ae9d96e7276eed49cf277827534a9141ec76463dd3c5192a6ba60\n",
      "2022-07-13 14:40:34 INFO      203: [ 3]                  \u0000\u0000\u0000 4c8d35ac2e9ae9d96e7276eed49cf277827534a9141ec76463dd3c5192a6ba60\n",
      "2022-07-13 14:40:34 INFO      204: [ 3]                  \u0000\u0000\u0000 4c8d35ac2e9ae9d96e7276eed49cf277827534a9141ec76463dd3c5192a6ba60\n",
      "2022-07-13 14:40:34 INFO      205: [ 3]                  \u0000\u0000\u0000 4c8d35ac2e9ae9d96e7276eed49cf277827534a9141ec76463dd3c5192a6ba60\n",
      "2022-07-13 14:40:34 INFO      206: [ 3]                  \u0000\u0000\u0000 4c8d35ac2e9ae9d96e7276eed49cf277827534a9141ec76463dd3c5192a6ba60\n",
      "2022-07-13 14:40:34 INFO      207: [ 3]                  \u0000\u0000\u0000 4c8d35ac2e9ae9d96e7276eed49cf277827534a9141ec76463dd3c5192a6ba60\n",
      "2022-07-13 14:40:34 INFO      211: [ 3]                  \u0000\u0000\u0000 4c8d35ac2e9ae9d96e7276eed49cf277827534a9141ec76463dd3c5192a6ba60\n",
      "2022-07-13 14:40:34 INFO      212: [ 3]                  \u0000\u0000\u0000 4c8d35ac2e9ae9d96e7276eed49cf277827534a9141ec76463dd3c5192a6ba60\n",
      "2022-07-13 14:40:34 INFO      213: [ 3]                  \u0000\u0000\u0000 4c8d35ac2e9ae9d96e7276eed49cf277827534a9141ec76463dd3c5192a6ba60\n",
      "2022-07-13 14:40:34 INFO      214: [ 3]                  \u0000\u0000\u0000 4c8d35ac2e9ae9d96e7276eed49cf277827534a9141ec76463dd3c5192a6ba60\n",
      "2022-07-13 14:40:34 INFO      215: [ 3]                  \u0000\u0000\u0000 4c8d35ac2e9ae9d96e7276eed49cf277827534a9141ec76463dd3c5192a6ba60\n",
      "2022-07-13 14:40:34 INFO      216: [ 3]                  \u0000\u0000\u0000 4c8d35ac2e9ae9d96e7276eed49cf277827534a9141ec76463dd3c5192a6ba60\n",
      "2022-07-13 14:40:34 INFO      217: [ 3]                  \u0000\u0000\u0000 4c8d35ac2e9ae9d96e7276eed49cf277827534a9141ec76463dd3c5192a6ba60\n",
      "2022-07-13 14:40:34 INFO      218: [ 3]                  \u0000\u0000\u0000 4c8d35ac2e9ae9d96e7276eed49cf277827534a9141ec76463dd3c5192a6ba60\n",
      "2022-07-13 14:40:34 INFO      219: [ 3]                  \u0000\u0000\u0000 4c8d35ac2e9ae9d96e7276eed49cf277827534a9141ec76463dd3c5192a6ba60\n",
      "2022-07-13 14:40:34 INFO      220: [ 3]                  \u0000\u0000\u0000 4c8d35ac2e9ae9d96e7276eed49cf277827534a9141ec76463dd3c5192a6ba60\n",
      "2022-07-13 14:40:34 INFO      221: [ 3]                  \u0000\u0000\u0000 4c8d35ac2e9ae9d96e7276eed49cf277827534a9141ec76463dd3c5192a6ba60\n",
      "2022-07-13 14:40:34 INFO      222: [ 3]                  \u0000\u0000\u0000 4c8d35ac2e9ae9d96e7276eed49cf277827534a9141ec76463dd3c5192a6ba60\n",
      "2022-07-13 14:40:34 INFO      223: [ 3]                  \u0000\u0000\u0000 4c8d35ac2e9ae9d96e7276eed49cf277827534a9141ec76463dd3c5192a6ba60\n",
      "2022-07-13 14:40:34 INFO      227: [ 3]                  \u0000\u0000\u0000 4c8d35ac2e9ae9d96e7276eed49cf277827534a9141ec76463dd3c5192a6ba60\n",
      "2022-07-13 14:40:34 INFO      228: [ 3]                  \u0000\u0000\u0000 4c8d35ac2e9ae9d96e7276eed49cf277827534a9141ec76463dd3c5192a6ba60\n",
      "2022-07-13 14:40:34 INFO      229: [ 3]                  \u0000\u0000\u0000 4c8d35ac2e9ae9d96e7276eed49cf277827534a9141ec76463dd3c5192a6ba60\n",
      "2022-07-13 14:40:34 INFO      230: [ 3]                  \u0000\u0000\u0000 4c8d35ac2e9ae9d96e7276eed49cf277827534a9141ec76463dd3c5192a6ba60\n",
      "2022-07-13 14:40:34 INFO      231: [ 3]                  \u0000\u0000\u0000 4c8d35ac2e9ae9d96e7276eed49cf277827534a9141ec76463dd3c5192a6ba60\n",
      "2022-07-13 14:40:34 INFO      232: [ 3]                  \u0000\u0000\u0000 4c8d35ac2e9ae9d96e7276eed49cf277827534a9141ec76463dd3c5192a6ba60\n",
      "2022-07-13 14:40:34 INFO      233: [ 3]                  \u0000\u0000\u0000 4c8d35ac2e9ae9d96e7276eed49cf277827534a9141ec76463dd3c5192a6ba60\n",
      "2022-07-13 14:40:34 INFO      234: [ 3]                  \u0000\u0000\u0000 4c8d35ac2e9ae9d96e7276eed49cf277827534a9141ec76463dd3c5192a6ba60\n",
      "2022-07-13 14:40:34 INFO      235: [ 3]                  \u0000\u0000\u0000 4c8d35ac2e9ae9d96e7276eed49cf277827534a9141ec76463dd3c5192a6ba60\n",
      "2022-07-13 14:40:34 INFO      236: [ 3]                  \u0000\u0000\u0000 4c8d35ac2e9ae9d96e7276eed49cf277827534a9141ec76463dd3c5192a6ba60\n",
      "2022-07-13 14:40:34 INFO      237: [ 3]                  \u0000\u0000\u0000 4c8d35ac2e9ae9d96e7276eed49cf277827534a9141ec76463dd3c5192a6ba60\n",
      "2022-07-13 14:40:34 INFO      238: [ 3]                  \u0000\u0000\u0000 4c8d35ac2e9ae9d96e7276eed49cf277827534a9141ec76463dd3c5192a6ba60\n",
      "2022-07-13 14:40:34 INFO      239: [ 3]                  \u0000\u0000\u0000 4c8d35ac2e9ae9d96e7276eed49cf277827534a9141ec76463dd3c5192a6ba60\n",
      "2022-07-13 14:40:34 INFO      243: [ 3]                  \u0000\u0000\u0000 4c8d35ac2e9ae9d96e7276eed49cf277827534a9141ec76463dd3c5192a6ba60\n",
      "2022-07-13 14:40:34 INFO      244: [ 3]                  \u0000\u0000\u0000 4c8d35ac2e9ae9d96e7276eed49cf277827534a9141ec76463dd3c5192a6ba60\n",
      "2022-07-13 14:40:34 INFO      245: [ 3]                  \u0000\u0000\u0000 4c8d35ac2e9ae9d96e7276eed49cf277827534a9141ec76463dd3c5192a6ba60\n",
      "2022-07-13 14:40:34 INFO      246: [ 3]                  \u0000\u0000\u0000 4c8d35ac2e9ae9d96e7276eed49cf277827534a9141ec76463dd3c5192a6ba60\n",
      "2022-07-13 14:40:34 INFO      247: [ 3]                  \u0000\u0000\u0000 4c8d35ac2e9ae9d96e7276eed49cf277827534a9141ec76463dd3c5192a6ba60\n",
      "2022-07-13 14:40:34 INFO      248: [ 3]                  \u0000\u0000\u0000 4c8d35ac2e9ae9d96e7276eed49cf277827534a9141ec76463dd3c5192a6ba60\n",
      "2022-07-13 14:40:34 INFO      249: [ 3]                  \u0000\u0000\u0000 4c8d35ac2e9ae9d96e7276eed49cf277827534a9141ec76463dd3c5192a6ba60\n",
      "2022-07-13 14:40:34 INFO      250: [ 3]                  \u0000\u0000\u0000 4c8d35ac2e9ae9d96e7276eed49cf277827534a9141ec76463dd3c5192a6ba60\n",
      "2022-07-13 14:40:34 INFO      251: [ 3]                  \u0000\u0000\u0000 4c8d35ac2e9ae9d96e7276eed49cf277827534a9141ec76463dd3c5192a6ba60\n",
      "2022-07-13 14:40:34 INFO      252: [ 3]                  \u0000\u0000\u0000 4c8d35ac2e9ae9d96e7276eed49cf277827534a9141ec76463dd3c5192a6ba60\n",
      "2022-07-13 14:40:34 INFO      253: [ 3]                  \u0000\u0000\u0000 4c8d35ac2e9ae9d96e7276eed49cf277827534a9141ec76463dd3c5192a6ba60\n",
      "2022-07-13 14:40:34 INFO      254: [ 3]                  \u0000\u0000\u0000 4c8d35ac2e9ae9d96e7276eed49cf277827534a9141ec76463dd3c5192a6ba60\n",
      "2022-07-13 14:40:34 INFO     Iteration Complete.\n"
     ]
    }
   ],
   "source": [
    "postfix = \"\"\n",
    "base_text = 'this is a description of the latest block'\n",
    "plaintext = base_text + postfix\n",
    "plaintext_bytes = np.frombuffer(plaintext.encode('utf-8'), dtype=np.uint8)\n",
    "plaintext_length = np.int32(len(plaintext_bytes))\n",
    "cl_plaintext_bytes = cl.Buffer(cl_ctx, cl.mem_flags.READ_ONLY | cl.mem_flags.COPY_HOST_PTR, hostbuf=plaintext_bytes)\n",
    "cl_plaintext_length = cl.Buffer(cl_ctx, cl.mem_flags.READ_ONLY | cl.mem_flags.COPY_HOST_PTR, hostbuf=plaintext_length)\n",
    "\n",
    "# set up the variables to generate the random numbers\n",
    "seed = np.ulonglong(0)\n",
    "window_size = np.uint32(1234560)\n",
    "nonce = np.zeros(shape=max_nonce * max_output_size, dtype=np.uint8)\n",
    "nonce_len = np.zeros(shape=max_output_size, dtype=np.uint8)\n",
    "last_nonce = np.zeros(shape=cl_threads, dtype=np.ulonglong)\n",
    "\n",
    "# allocate the memory for the variables on the device\n",
    "cl_window_size = cl.Buffer(cl_ctx, cl.mem_flags.READ_ONLY | cl.mem_flags.COPY_HOST_PTR, hostbuf=window_size)\n",
    "cl_nonce = cl.Buffer(cl_ctx, cl.mem_flags.WRITE_ONLY, nonce.nbytes)\n",
    "cl_nonce_len = cl.Buffer(cl_ctx, cl.mem_flags.WRITE_ONLY, nonce_len.nbytes)\n",
    "cl_last_nonce = cl.Buffer(cl_ctx, cl.mem_flags.WRITE_ONLY, last_nonce.nbytes)\n",
    "\n",
    "zeros_found = {}\n",
    "\n",
    "keep_running = True\n",
    "while (keep_running):\n",
    "    seed = np.ulonglong(10)\n",
    "    cl_seed = cl.Buffer(cl_ctx, cl.mem_flags.READ_ONLY | cl.mem_flags.COPY_HOST_PTR, hostbuf=seed)\n",
    "\n",
    "    # execute the program\n",
    "    cl_program.mine_eight_sequential(\n",
    "        cl_queue, (cl_threads,), None,\n",
    "        cl_seed,\n",
    "        cl_window_size,\n",
    "        cl_plaintext_bytes,\n",
    "        cl_plaintext_length,\n",
    "        cl_nonce,\n",
    "        cl_nonce_len,\n",
    "        cl_last_nonce\n",
    "    )\n",
    "\n",
    "    # get the results\n",
    "    cl.enqueue_copy(cl_queue, nonce, cl_nonce)\n",
    "    cl.enqueue_copy(cl_queue, nonce_len, cl_nonce_len)\n",
    "    cl.enqueue_copy(cl_queue, last_nonce, cl_last_nonce)\n",
    "\n",
    "    # display the last nonce tried for each thread\n",
    "    # for i in range(0, cl_threads):\n",
    "    #     logging.info(\"Thread %d: %d\" % (i, last_nonce[i]))\n",
    "\n",
    "    # display the results\n",
    "    display_output(zeros_found, nonce, nonce_len, base_text, postfix)\n",
    "    logging.info('Iteration Complete.')\n",
    "\n",
    "    keep_running = False"
   ]
  },
  {
   "cell_type": "code",
   "execution_count": 12,
   "metadata": {},
   "outputs": [
    {
     "name": "stdout",
     "output_type": "stream",
     "text": [
      "{0: 6, 1: 5, 2: 4, 3: 3, 4: 2, 5: 1}\n",
      "{5: 6, 4: 5, 3: 4, 2: 3, 1: 2, 0: 1}\n"
     ]
    }
   ],
   "source": [
    "input_buffer = {}\n",
    "nonce = {}\n",
    "nonce_len = 0\n",
    "seed = 123456\n",
    "\n",
    "while (seed > 0):\n",
    "    nonce_len += 1\n",
    "    input_buffer[nonce_len - 1] = (seed % 10)\n",
    "    seed = seed // 10\n",
    "\n",
    "print(input_buffer)\n",
    "\n",
    "for i in range(0, nonce_len):\n",
    "    nonce[nonce_len-1 - i] = input_buffer[i]\n",
    "\n",
    "for i in range(0, nonce_len):\n",
    "    print(nonce[i])\n",
    "    "
   ]
  }
 ],
 "metadata": {
  "interpreter": {
   "hash": "7df413eebee551bb3fe92333337bcdc429cbfbbe1c6a605cf7db6555d9b28943"
  },
  "kernelspec": {
   "display_name": "Python 3.8.9 ('dsm070')",
   "language": "python",
   "name": "python3"
  },
  "language_info": {
   "codemirror_mode": {
    "name": "ipython",
    "version": 3
   },
   "file_extension": ".py",
   "mimetype": "text/x-python",
   "name": "python",
   "nbconvert_exporter": "python",
   "pygments_lexer": "ipython3",
   "version": "3.8.9"
  },
  "orig_nbformat": 4,
  "vscode": {
   "interpreter": {
    "hash": "e25eda4915c6c09f3ef64934ec380f7ec3b1f46c3bb61f6f1ca0b69bf49eada9"
   }
  }
 },
 "nbformat": 4,
 "nbformat_minor": 2
}
