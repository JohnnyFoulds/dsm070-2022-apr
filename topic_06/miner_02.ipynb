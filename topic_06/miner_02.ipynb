{
 "cells": [
  {
   "cell_type": "markdown",
   "metadata": {},
   "source": [
    "# Miner Notebook : 02\n",
    "\n",
    "This notebook is used for experimentation during the implementation of the Zimcoin miner component."
   ]
  },
  {
   "cell_type": "code",
   "execution_count": 1,
   "metadata": {},
   "outputs": [],
   "source": [
    "import binascii\n",
    "import miner\n",
    "from miner import ZimcoinMiner\n",
    "from Library.opencl_information import opencl_information\n",
    "from blocks import Block, mine_block\n",
    "from transactions import Transaction\n",
    "\n",
    "from importlib import reload"
   ]
  },
  {
   "cell_type": "markdown",
   "metadata": {},
   "source": [
    "## Helper Functions to create test blocks "
   ]
  },
  {
   "cell_type": "code",
   "execution_count": 2,
   "metadata": {},
   "outputs": [],
   "source": [
    "def get_test_first_block() -> Block:\n",
    "    \"\"\"\n",
    "    Get a block representing the first in a chain for testing.\n",
    "    \"\"\"\n",
    "    return Block(\n",
    "            bytes.fromhex('0000000000000000000000000000000000000000000000000000000000000000'),\n",
    "            0,\n",
    "            bytes.fromhex('4f3ea27a7af06cbe53911d4fb9326730d435255a'),\n",
    "            [],\n",
    "            1626626569,\n",
    "            100000000,\n",
    "            bytes.fromhex('0000193f7397d8ed1a4991d91f8b8d2e55eb56915e884d435de7bbf0b183f335'),\n",
    "            55419)\n",
    "\n",
    "def get_transactions_block() -> Block:\n",
    "    \"\"\"\n",
    "    Get a block with transactions for testing.\n",
    "    \"\"\"\n",
    "    return Block(\n",
    "            bytes.fromhex('0000193f7397d8ed1a4991d91f8b8d2e55eb56915e884d435de7bbf0b183f335'),\n",
    "            1,\n",
    "            bytes.fromhex('4f3ea27a7af06cbe53911d4fb9326730d435255a'),\n",
    "            [\n",
    "                Transaction(\n",
    "                    bytes.fromhex(\"9e09208d54c012c0844cf17cfbb175157516dc90\"),\n",
    "                    bytes.fromhex(\"4f3ea27a7af06cbe53911d4fb9326730d435255a\"),\n",
    "                    bytes.fromhex(\"3056301006072a8648ce3d020106052b8104000a034200041a719dc420fdbdeef447e90a6368b9486d4afbacd900f6d9d5f62692dfa9ecb695999af4fcf61bdc523021b3aef2b84344b7c4ba7d3a36efe2e5f3eff50e8c54\"),\n",
    "                    390,\n",
    "                    5,\n",
    "                    1,\n",
    "                    bytes.fromhex(\"3045022100fae9ab97090f2f0fb5715497e12a06438cbccc610bae2f9c019dfa5bdb40f0090220283f5498f22e17ac9ecf4c239d864811dd47cb0ccb8c3584794791fd171e6b90\"),\n",
    "                    bytes.fromhex(\"0cfd04ed0b2b279c12412687c770b1224c8bfed453292652694339ddade4d63a\")),\n",
    "            ],\n",
    "            1626626571,\n",
    "            1000000000,\n",
    "            bytes.fromhex('000071f1c701e06e5b91adb4289d6c5227b614bd4441748923826e5d0e8828da'),\n",
    "            83651)"
   ]
  },
  {
   "cell_type": "markdown",
   "metadata": {},
   "source": [
    "## Show the available OpenCL Platforms"
   ]
  },
  {
   "cell_type": "code",
   "execution_count": 3,
   "metadata": {},
   "outputs": [
    {
     "name": "stdout",
     "output_type": "stream",
     "text": [
      "\n",
      "============================================================\n",
      "OpenCL Platforms and Devices\n",
      "============================================================\n",
      "Platform 0 - Name: NVIDIA CUDA\n",
      "Platform 0 - Vendor: NVIDIA Corporation\n",
      "Platform 0 - Version: OpenCL 3.0 CUDA 11.7.89\n",
      "Platform 0 - Profile: FULL_PROFILE\n",
      " --------------------------------------------------------\n",
      " Device - Name: NVIDIA GeForce RTX 3060\n",
      " Device - Type: ALL | GPU\n",
      " Device - Max Clock Speed: 1867 Mhz\n",
      " Device - Compute Units: 28\n",
      " Device - Local Memory: 48 KB\n",
      " Device - Constant Memory: 64 KB\n",
      " Device - Global Memory: 12 GB\n",
      " Device - Max Buffer/Image Size: 3011 MB\n",
      " Device - Max Work Group Size: 1024\n",
      "\n",
      "\n",
      "============================================================\n",
      "Platform 1 - Name: Portable Computing Language\n",
      "Platform 1 - Vendor: The pocl project\n",
      "Platform 1 - Version: OpenCL 1.2 pocl 1.6, None+Asserts, LLVM 9.0.1, RELOC, SLEEF, DISTRO, POCL_DEBUG\n",
      "Platform 1 - Profile: FULL_PROFILE\n",
      " --------------------------------------------------------\n",
      " Device - Name: pthread-AMD Ryzen 5 3600 6-Core Processor\n",
      " Device - Type: ALL | CPU\n",
      " Device - Max Clock Speed: 4208 Mhz\n",
      " Device - Compute Units: 12\n",
      " Device - Local Memory: 512 KB\n",
      " Device - Constant Memory: 512 KB\n",
      " Device - Global Memory: 14 GB\n",
      " Device - Max Buffer/Image Size: 4096 MB\n",
      " Device - Max Work Group Size: 4096\n",
      "\n",
      "\n"
     ]
    }
   ],
   "source": [
    "info = opencl_information()\n",
    "info.print_full_info()"
   ]
  },
  {
   "cell_type": "markdown",
   "metadata": {},
   "source": [
    "## Create the Miner"
   ]
  },
  {
   "cell_type": "code",
   "execution_count": 4,
   "metadata": {},
   "outputs": [
    {
     "name": "stdout",
     "output_type": "stream",
     "text": [
      "Threads: 28672\n"
     ]
    }
   ],
   "source": [
    "reload(miner)\n",
    "\n",
    "zimcoin_miner = ZimcoinMiner(0, 0)\n",
    "print('Threads:', zimcoin_miner.thread_count)"
   ]
  },
  {
   "cell_type": "code",
   "execution_count": 5,
   "metadata": {},
   "outputs": [],
   "source": [
    "def mine_block(miner : ZimcoinMiner, block : Block) -> int:\n",
    "    \"\"\"\n",
    "    Mine a block.\n",
    "\n",
    "    Parameters\n",
    "    ----------\n",
    "    block : Block\n",
    "\n",
    "    Returns\n",
    "    -------\n",
    "    int\n",
    "        The nonce for the block.\n",
    "    \"\"\"\n",
    "    return miner.mine(\n",
    "        block.previous,\n",
    "        block.height,\n",
    "        block.miner,\n",
    "        block.transactions,\n",
    "        block.timestamp,\n",
    "        block.difficulty)"
   ]
  },
  {
   "cell_type": "markdown",
   "metadata": {},
   "source": [
    "## Mine the first block"
   ]
  },
  {
   "cell_type": "code",
   "execution_count": 6,
   "metadata": {},
   "outputs": [
    {
     "name": "stdout",
     "output_type": "stream",
     "text": [
      "Nonce    : 22273193404\n",
      "Target   : b'0000002af31dc4611873bf3f70834acdae9f0f4f534f5d60585a5f1c1a3ced1b'\n",
      "Block ID : b'00000019a10edf91e1d75eec93991ba7f5cdb2ae0646bcd9958e08664181a1ba'\n"
     ]
    }
   ],
   "source": [
    "# calculate the nonce\n",
    "first_block = get_test_first_block()\n",
    "first_nonce = mine_block(zimcoin_miner, first_block)\n",
    "\n",
    "# update the block with the nonce\n",
    "first_block.nonce = first_nonce\n",
    "\n",
    "print('Nonce    :', first_nonce)\n",
    "print('Target   :', binascii.hexlify(first_block.calculate_target().to_bytes(32, 'big')))\n",
    "print('Block ID :', binascii.hexlify(first_block.calculate_block_id()))\n"
   ]
  },
  {
   "cell_type": "markdown",
   "metadata": {},
   "source": [
    "## Mine the second block"
   ]
  },
  {
   "cell_type": "code",
   "execution_count": 7,
   "metadata": {},
   "outputs": [
    {
     "name": "stdout",
     "output_type": "stream",
     "text": [
      "Nonce    : 26137320674\n",
      "Target   : b'000000044b82fa09b5a52cb98b405447c4a98187eebb22f008d5d64f9c394ae9'\n",
      "Block ID : b'00000001e728e0248875cafb767fa5caaf1d9ee625c870718897fd95c70a0885'\n"
     ]
    }
   ],
   "source": [
    "# calculate the nonce\n",
    "second_block = get_transactions_block()\n",
    "second_nonce = mine_block(zimcoin_miner, second_block)\n",
    "\n",
    "# update the block with the nonce\n",
    "second_block.nonce = second_nonce\n",
    "\n",
    "print('Nonce    :', second_nonce)\n",
    "print('Target   :', binascii.hexlify(second_block.calculate_target().to_bytes(32, 'big')))\n",
    "print('Block ID :', binascii.hexlify(second_block.calculate_block_id()))\n"
   ]
  }
 ],
 "metadata": {
  "kernelspec": {
   "display_name": "Python 3.10.4 64-bit",
   "language": "python",
   "name": "python3"
  },
  "language_info": {
   "codemirror_mode": {
    "name": "ipython",
    "version": 3
   },
   "file_extension": ".py",
   "mimetype": "text/x-python",
   "name": "python",
   "nbconvert_exporter": "python",
   "pygments_lexer": "ipython3",
   "version": "3.10.4"
  },
  "orig_nbformat": 4,
  "vscode": {
   "interpreter": {
    "hash": "949777d72b0d2535278d3dc13498b2535136f6dfe0678499012e853ee9abcab1"
   }
  }
 },
 "nbformat": 4,
 "nbformat_minor": 2
}
