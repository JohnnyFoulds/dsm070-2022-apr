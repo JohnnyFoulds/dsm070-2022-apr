{
 "cells": [
  {
   "cell_type": "markdown",
   "metadata": {},
   "source": [
    "# Experiment 05-07"
   ]
  },
  {
   "cell_type": "code",
   "execution_count": 1,
   "metadata": {},
   "outputs": [],
   "source": [
    "import sys\n",
    "import numpy as np\n",
    "import hashlib\n",
    "from binascii import hexlify\n",
    "import pyopencl as cl\n",
    "from Library.opencl_information import opencl_information\n",
    "import logging\n",
    "from pqdm.threads import pqdm\n",
    "from tqdm.notebook import tqdm"
   ]
  },
  {
   "cell_type": "markdown",
   "metadata": {},
   "source": [
    "## Configure Logging"
   ]
  },
  {
   "cell_type": "code",
   "execution_count": 2,
   "metadata": {},
   "outputs": [
    {
     "name": "stdout",
     "output_type": "stream",
     "text": [
      "2022-07-13 15:46:14 INFO     Started\n"
     ]
    }
   ],
   "source": [
    "logging.basicConfig(\n",
    "    format='%(asctime)s %(levelname)-8s %(message)s',\n",
    "    level=logging.INFO,\n",
    "    datefmt='%Y-%m-%d %H:%M:%S',\n",
    "        handlers=[\n",
    "        logging.FileHandler(\"ex05_07.log\"),\n",
    "        logging.StreamHandler(sys.stdout)\n",
    "    ])\n",
    "\n",
    "logging.info(\"Started\")"
   ]
  },
  {
   "cell_type": "markdown",
   "metadata": {},
   "source": [
    "## Show the available Platforms"
   ]
  },
  {
   "cell_type": "code",
   "execution_count": 3,
   "metadata": {},
   "outputs": [
    {
     "name": "stdout",
     "output_type": "stream",
     "text": [
      "\n",
      "============================================================\n",
      "OpenCL Platforms and Devices\n",
      "============================================================\n",
      "Platform 0 - Name: AMD Accelerated Parallel Processing\n",
      "Platform 0 - Vendor: Advanced Micro Devices, Inc.\n",
      "Platform 0 - Version: OpenCL 2.1 AMD-APP (3354.13)\n",
      "Platform 0 - Profile: FULL_PROFILE\n",
      " --------------------------------------------------------\n",
      " Device - Name: gfx1010:xnack-\n",
      " Device - Type: ALL | GPU\n",
      " Device - Max Clock Speed: 1675 Mhz\n",
      " Device - Compute Units: 18\n",
      " Device - Local Memory: 64 KB\n",
      " Device - Constant Memory: 6893568 KB\n",
      " Device - Global Memory: 8 GB\n",
      " Device - Max Buffer/Image Size: 6732 MB\n",
      " Device - Max Work Group Size: 256\n",
      "\n",
      "\n",
      " --------------------------------------------------------\n",
      " Device - Name: gfx1010:xnack-\n",
      " Device - Type: ALL | GPU\n",
      " Device - Max Clock Speed: 1815 Mhz\n",
      " Device - Compute Units: 20\n",
      " Device - Local Memory: 64 KB\n",
      " Device - Constant Memory: 6893568 KB\n",
      " Device - Global Memory: 8 GB\n",
      " Device - Max Buffer/Image Size: 6732 MB\n",
      " Device - Max Work Group Size: 256\n",
      "\n",
      "\n"
     ]
    }
   ],
   "source": [
    "info = opencl_information()\n",
    "info.print_full_info()"
   ]
  },
  {
   "cell_type": "markdown",
   "metadata": {},
   "source": [
    "## Configure the OpenCL Context"
   ]
  },
  {
   "cell_type": "code",
   "execution_count": 4,
   "metadata": {},
   "outputs": [],
   "source": [
    "platform_number = 0\n",
    "device_number = 1\n",
    "\n",
    "cl_devices = cl.get_platforms()[platform_number].get_devices()\n",
    "cl_ctx = cl.Context(cl_devices)\n",
    "cl_queue = cl.CommandQueue(cl_ctx, cl_devices[device_number])"
   ]
  },
  {
   "cell_type": "code",
   "execution_count": 5,
   "metadata": {},
   "outputs": [
    {
     "name": "stdout",
     "output_type": "stream",
     "text": [
      "Max Compute Units: 20\n",
      "Max Compute Units: 256\n",
      "Threads: 5120\n"
     ]
    }
   ],
   "source": [
    "cl_device = cl_devices[device_number]\n",
    "\n",
    "cl_threads = cl_device.max_compute_units * cl_device.max_work_group_size\n",
    "if cl_device.type & 4 == 0:\n",
    "    cl_threads = cl_devices.max_work_group_size\n",
    "\n",
    "print('Max Compute Units:', cl_device.max_compute_units)\n",
    "print('Max Compute Units:', cl_device.max_work_group_size)\n",
    "print('Threads:', cl_threads)"
   ]
  },
  {
   "cell_type": "markdown",
   "metadata": {},
   "source": [
    "## Compile the Program"
   ]
  },
  {
   "cell_type": "code",
   "execution_count": 6,
   "metadata": {},
   "outputs": [],
   "source": [
    "def build_program(program_files : list, cl_ctx : cl.Context,\n",
    "        build_options=[]) -> cl.Program:\n",
    "    \"\"\"\n",
    "    Build a program from an OpenCL source file.\n",
    "\n",
    "    Parameters\n",
    "    ----------\n",
    "    program_files : list\n",
    "        The path to the OpenCL source files.\n",
    "    cl_ctx : pyopencl.Context\n",
    "        The context to build the program with.\n",
    "    build_options : list of str\n",
    "        The build options to use.\n",
    "\n",
    "    Returns\n",
    "    -------\n",
    "    pyopencl.Program\n",
    "    \"\"\"\n",
    "    program_source = ''\n",
    "\n",
    "    for cl_file in program_files:\n",
    "        with open(cl_file, 'r') as cl_file:\n",
    "            file_source = cl_file.read()\n",
    "            program_source += '\\n' + file_source\n",
    "\n",
    "    program_source = cl.Program(cl_ctx, program_source)\n",
    "    program = program_source.build(options=build_options)\n",
    "            \n",
    "    return program"
   ]
  },
  {
   "cell_type": "code",
   "execution_count": 7,
   "metadata": {},
   "outputs": [
    {
     "name": "stderr",
     "output_type": "stream",
     "text": [
      "c:\\Users\\johnny\\env\\dsm070\\lib\\site-packages\\pyopencl\\__init__.py:274: CompilerWarning: Non-empty compiler output encountered. Set the environment variable PYOPENCL_COMPILER_OUTPUT=1 to see more.\n",
      "  warn(\"Non-empty compiler output encountered. Set the \"\n"
     ]
    },
    {
     "name": "stdout",
     "output_type": "stream",
     "text": [
      "Kernel Names: get_random_numbers;mine_eight;get_random_string;get_single_hash_nonce;get_single_hash;hash_main;mine_eight_sequential;mine_nonce\n"
     ]
    }
   ],
   "source": [
    "cl_program_files = [\n",
    "    'Library/worker/sha256.cl',\n",
    "    'Library/worker/zimcoin.cl',\n",
    "]\n",
    "\n",
    "cl_program = build_program(cl_program_files, cl_ctx)\n",
    "\n",
    "# show the kernel names\n",
    "program_kernel_names = cl_program.get_info(cl.program_info.KERNEL_NAMES)\n",
    "print(f\"Kernel Names: {program_kernel_names}\")"
   ]
  },
  {
   "cell_type": "markdown",
   "metadata": {},
   "source": [
    "## Mine Nonce"
   ]
  },
  {
   "cell_type": "code",
   "execution_count": 8,
   "metadata": {},
   "outputs": [],
   "source": [
    "max_nonce = 16"
   ]
  },
  {
   "cell_type": "code",
   "execution_count": 9,
   "metadata": {},
   "outputs": [],
   "source": [
    "def display_output(zeros_found : dict, nonce : np.ndarray,\n",
    "                   nonce_len : np.ndarray, plaintext : str, prefix : str) -> None:\n",
    "    \"\"\"\n",
    "    Display the output generated by the OpenCL Kernel.\n",
    "    \"\"\"\n",
    "    for i in range(0, 64):\n",
    "        if nonce_len[i] > 0:\n",
    "            nonce_str = prefix + nonce[i * max_nonce:i * max_nonce + nonce_len[i]].tobytes().decode('UTF-8')\n",
    "            zeros_found[i] = nonce_str\n",
    "            hash = hashlib.sha256((plaintext + nonce_str).encode('utf-8'))\n",
    "\n",
    "            logging.info(\"%4d: [%2d] %32s %64s\" % (i, len(nonce_str), nonce_str, hash.hexdigest() if nonce_len[i] > 0 else ''))"
   ]
  },
  {
   "cell_type": "code",
   "execution_count": 10,
   "metadata": {},
   "outputs": [
    {
     "name": "stdout",
     "output_type": "stream",
     "text": [
      "2022-07-13 15:46:16 INFO     build program: kernel 'mine_eight' was part of a lengthy cache retrieval (0.48 s)\n",
      "2022-07-13 15:47:03 INFO     Iteration complete.\n",
      "2022-07-13 15:47:50 INFO        0: [22]           FOULDS-9`u4>\"O3q#KIffl 000000008603c923b421b5ac2caffd06fc0bd076b605b92a01adc36564d8d610\n",
      "2022-07-13 15:47:50 INFO     Iteration complete.\n",
      "2022-07-13 15:48:37 INFO     Iteration complete.\n",
      "2022-07-13 15:49:24 INFO        0: [12]                     FOULDS-zKH&U 000000002d1b1f66411ba7872c7b5171220129253a670abdda228317b98be26e\n",
      "2022-07-13 15:49:24 INFO     Iteration complete.\n",
      "2022-07-13 15:50:11 INFO        0: [15]                  FOULDS-@d*]:E7j 00000000200f836f68161694fd45b7640f5750af7e192f9e061fd56a1f8dca60\n",
      "2022-07-13 15:50:11 INFO     Iteration complete.\n",
      "2022-07-13 15:50:58 INFO        0: [12]                     FOULDS-cHzyy 00000000d6920e44c98c25c40132444e2098023904bf20fc9230e8e882462325\n",
      "2022-07-13 15:50:58 INFO     Iteration complete.\n",
      "2022-07-13 15:51:46 INFO        0: [17]                FOULDS-/fKEsLivmg 00000000c67d67c4160601ccb132adc777f259ff10824ab066679158f8c0f71d\n",
      "2022-07-13 15:51:46 INFO     Iteration complete.\n",
      "2022-07-13 15:52:33 INFO        0: [23]          FOULDS-H\\%nD^! ].kqr-[h 00000000fbf55e56ab0448606486d7a1e09383b55f357ee2b7bbd16d5274f205\n",
      "2022-07-13 15:52:33 INFO     Iteration complete.\n",
      "2022-07-13 15:53:20 INFO     Iteration complete.\n",
      "2022-07-13 15:54:07 INFO        0: [21]            FOULDS-iv/yY3jmj%.iCA 00000000b22643f69e1ddcd382a41ffe0f95a86ed097c892f7a54b1db57a818f\n",
      "2022-07-13 15:54:07 INFO     Iteration complete.\n",
      "2022-07-13 15:54:54 INFO     Iteration complete.\n",
      "2022-07-13 15:55:41 INFO        0: [20]             FOULDS-6kKwbZQJ;FV\"x 000000005841744e7af2f6386e031cc2ba21326e6a6fcef0ffcd8e64b0ada462\n",
      "2022-07-13 15:55:41 INFO     Iteration complete.\n",
      "2022-07-13 15:56:28 INFO        0: [14]                   FOULDS-,MZ;yF8 00000000a50f4e9bf2296b0b8c5dbc84b2b69e7c82986de43d64c2c12d9b8e88\n",
      "2022-07-13 15:56:28 INFO     Iteration complete.\n",
      "2022-07-13 15:57:16 INFO        0: [16]                 FOULDS-0.>'Qw3P} 00000000ef5fb37855270e2b25150f9a38d9545de6bd76d800aa8922c42d2197\n",
      "2022-07-13 15:57:16 INFO     Iteration complete.\n",
      "2022-07-13 15:58:03 INFO        0: [22]           FOULDS-FICJHAUXx`<13G< 00000000f89917d87a9d89dea51c7b17d39ce238afb6a6696210c6dec4a1a1e4\n",
      "2022-07-13 15:58:03 INFO     Iteration complete.\n",
      "2022-07-13 15:58:50 INFO        0: [20]             FOULDS-&d~XC,a+qajbk 0000000035f0875374aa4d619a3f348370ac008e94c2fa729c6db90b21e1cc94\n",
      "2022-07-13 15:58:50 INFO     Iteration complete.\n",
      "2022-07-13 15:59:37 INFO        0: [18]               FOULDS-RI^(=Mepb>C 0000000062253308f220bacc54bb3a1ac206310dff5a0325331fa719ddbd063c\n",
      "2022-07-13 15:59:37 INFO     Iteration complete.\n",
      "2022-07-13 16:00:24 INFO        0: [15]                  FOULDS-0En$4?kf 00000000082a3acafa9202bf5a093caf3ba58bbfcdc2a57bb4905b855eed1012\n",
      "2022-07-13 16:00:24 INFO     Iteration complete.\n",
      "2022-07-13 16:01:11 INFO     Iteration complete.\n",
      "2022-07-13 16:01:58 INFO     Iteration complete.\n",
      "2022-07-13 16:02:46 INFO        0: [16]                 FOULDS-eXIZ0\"sqh 000000001499c82fba8447e4e93ae2d79e46ba9608664abd0c1bd99f19252db2\n",
      "2022-07-13 16:02:46 INFO     Iteration complete.\n",
      "2022-07-13 16:03:33 INFO        0: [16]                 FOULDS-h]x`qsF-z 000000004819e171c1caf69cfdf893bb77b711948efadbf71615a0b4333296eb\n",
      "2022-07-13 16:03:33 INFO     Iteration complete.\n",
      "2022-07-13 16:04:20 INFO        0: [20]             FOULDS-*yXi'Pr0JxE:` 000000005f60b487ecc22644bd499f9c83896c86f3d2b6f4aae7122e6fa3a437\n",
      "2022-07-13 16:04:20 INFO     Iteration complete.\n",
      "2022-07-13 16:05:07 INFO        0: [19]              FOULDS-(J1(|2rt#LYf 00000000ee0e28b09788d5f57c295058dbb2357bbe710fce060b483a90648601\n",
      "2022-07-13 16:05:07 INFO     Iteration complete.\n",
      "2022-07-13 16:05:54 INFO        0: [16]                 FOULDS-)[AfhTaI{ 00000000e53086bec6a2440b7897b30863dfff7080cd91c8ce8681276b6c0b1d\n",
      "2022-07-13 16:05:54 INFO     Iteration complete.\n",
      "2022-07-13 16:06:41 INFO     Iteration complete.\n",
      "2022-07-13 16:07:29 INFO        0: [20]             FOULDS-g0$'3!7D}vLmt 000000000410b990db87d1c4a28a12295d4ba7f52c184df159919a7d01f9bb6b\n",
      "2022-07-13 16:07:29 INFO     Iteration complete.\n",
      "2022-07-13 16:08:16 INFO        0: [22]           FOULDS-\"93qb=Pq9kcW,mP 000000005f656aae0675491f6040053094f1a56e76534ebc4553bcdb6894df54\n",
      "2022-07-13 16:08:16 INFO     Iteration complete.\n",
      "2022-07-13 16:09:03 INFO     Iteration complete.\n",
      "2022-07-13 16:09:50 INFO        0: [20]             FOULDS-[8}osxe6;K7Q\" 00000000be658e208bb18efa7dd2ed501809221fb5e541ee560ba63e239cbe9a\n",
      "2022-07-13 16:09:50 INFO     Iteration complete.\n",
      "2022-07-13 16:10:37 INFO        0: [14]                   FOULDS-*LaT+qb 00000000bef709841f860cd17b2ea8ee06bb9568836ed96300a682e4b244af05\n",
      "2022-07-13 16:10:37 INFO     Iteration complete.\n",
      "2022-07-13 16:11:24 INFO     Iteration complete.\n",
      "2022-07-13 16:12:11 INFO     Iteration complete.\n",
      "2022-07-13 16:12:59 INFO        0: [17]                FOULDS-S5~9:ua^uh 00000000c28ecc0b7e0455b42988bae996307037fe188ae7ff1ff909d7fc8176\n",
      "2022-07-13 16:12:59 INFO     Iteration complete.\n",
      "2022-07-13 16:13:46 INFO        0: [20]             FOULDS-g0$'3!7D}vLmt 000000000410b990db87d1c4a28a12295d4ba7f52c184df159919a7d01f9bb6b\n",
      "2022-07-13 16:13:46 INFO     Iteration complete.\n",
      "2022-07-13 16:14:33 INFO        0: [22]           FOULDS-:;L9`\"K!k9`uFEj 00000000fba910c3a3cffe146a744dc627598cac6b4ef24fed28873a92c0fdc6\n",
      "2022-07-13 16:14:33 INFO     Iteration complete.\n",
      "2022-07-13 16:15:20 INFO     Iteration complete.\n",
      "2022-07-13 16:16:07 INFO        0: [19]              FOULDS-P]Jj(7GKors[ 0000000070d096d4e514ccd5059e3d9b1cadf2de80c5afd2179335301e584fb1\n",
      "2022-07-13 16:16:07 INFO     Iteration complete.\n",
      "2022-07-13 16:16:54 INFO     Iteration complete.\n",
      "2022-07-13 16:17:41 INFO        0: [21]            FOULDS-0k`W|dy*!BlS|v 000000004ac78da86cd615cd41fefc062f409276e2c55dba380030e20c14d8c6\n",
      "2022-07-13 16:17:41 INFO     Iteration complete.\n",
      "2022-07-13 16:18:29 INFO        0: [16]                 FOULDS-$yA}kjVf' 0000000030892026c4659da8e2bda7a5c90ff861583d83a8fb1e8bd5a58dd39f\n",
      "2022-07-13 16:18:29 INFO     Iteration complete.\n",
      "2022-07-13 16:19:16 INFO        0: [19]              FOULDS-P]Jj(7GKors[ 0000000070d096d4e514ccd5059e3d9b1cadf2de80c5afd2179335301e584fb1\n",
      "2022-07-13 16:19:16 INFO     Iteration complete.\n",
      "2022-07-13 16:20:03 INFO        0: [18]               FOULDS-)25.(=Y %pv 00000000ab752fc2b6617f2b747d2f3e609ed7e7f032796efe95585de3af253f\n",
      "2022-07-13 16:20:03 INFO     Iteration complete.\n",
      "2022-07-13 16:20:50 INFO        0: [21]            FOULDS-B4D\"Zd!THyBw`\\ 00000000d658e637e3d2c1ff9e487df5626cbf998158b164b5577a83afdb2fd9\n",
      "2022-07-13 16:20:50 INFO     Iteration complete.\n",
      "2022-07-13 16:21:37 INFO     Iteration complete.\n"
     ]
    }
   ],
   "source": [
    "postfix = \"FOULDS-\"\n",
    "base_text = 'this is a description of the latest block'\n",
    "plaintext = base_text + postfix\n",
    "plaintext_bytes = np.frombuffer(plaintext.encode('utf-8'), dtype=np.uint8)\n",
    "plaintext_length = np.int32(len(plaintext_bytes))\n",
    "cl_plaintext_bytes = cl.Buffer(cl_ctx, cl.mem_flags.READ_ONLY | cl.mem_flags.COPY_HOST_PTR, hostbuf=plaintext_bytes)\n",
    "cl_plaintext_length = cl.Buffer(cl_ctx, cl.mem_flags.READ_ONLY | cl.mem_flags.COPY_HOST_PTR, hostbuf=plaintext_length)\n",
    "\n",
    "# set up the variables to generate the random numbers\n",
    "seed = np.random.randint(0, np.iinfo(np.uint32).max, dtype=np.uint32)\n",
    "window_size = np.uint32(3000000)\n",
    "nonce = np.zeros(shape=max_nonce * 64, dtype=np.uint8)\n",
    "nonce_len = np.zeros(shape=64, dtype=np.uint8)\n",
    "#hash_count = np.zeros(shape=1, dtype=np.uint32)\n",
    "\n",
    "# allocate the memory for the variables on the device\n",
    "cl_window_size = cl.Buffer(cl_ctx, cl.mem_flags.READ_ONLY | cl.mem_flags.COPY_HOST_PTR, hostbuf=window_size)\n",
    "cl_nonce = cl.Buffer(cl_ctx, cl.mem_flags.WRITE_ONLY, nonce.nbytes)\n",
    "cl_nonce_len = cl.Buffer(cl_ctx, cl.mem_flags.WRITE_ONLY, nonce_len.nbytes)\n",
    "#cl_hash_count = cl.Buffer(cl_ctx, cl.mem_flags.WRITE_ONLY, hash_count.nbytes)\n",
    "\n",
    "zeros_found = {}\n",
    "\n",
    "keep_running = True\n",
    "while (keep_running):\n",
    "    seed = np.random.randint(0, np.iinfo(np.uint32).max, dtype=np.uint32)\n",
    "    cl_seed = cl.Buffer(cl_ctx, cl.mem_flags.READ_ONLY | cl.mem_flags.COPY_HOST_PTR, hostbuf=seed)\n",
    "\n",
    "    # execute the program\n",
    "    cl_program.mine_eight(\n",
    "        cl_queue, (cl_threads,), None,\n",
    "        cl_seed,\n",
    "        cl_window_size,\n",
    "        cl_plaintext_bytes,\n",
    "        cl_plaintext_length,\n",
    "        cl_nonce,\n",
    "        cl_nonce_len,\n",
    "    #    cl_hash_count\n",
    "    )\n",
    "\n",
    "    # get the results\n",
    "    cl.enqueue_copy(cl_queue, nonce, cl_nonce)\n",
    "    cl.enqueue_copy(cl_queue, nonce_len, cl_nonce_len)\n",
    "    #cl.enqueue_copy(cl_queue, hash_count, cl_hash_count)\n",
    "\n",
    "    # display the results\n",
    "    #print('Hash Count:', hash_count[0])\n",
    "    display_output(zeros_found, nonce, nonce_len, base_text, postfix)\n",
    "\n",
    "    keep_running = True\n",
    "    logging.info('Iteration complete.')"
   ]
  },
  {
   "cell_type": "code",
   "execution_count": null,
   "metadata": {},
   "outputs": [],
   "source": [
    "# def find_zeros(i : int) -> list:\n",
    "#     \"\"\"\n",
    "#     Find the zeros in the zeros_found dictionary.\n",
    "#     \"\"\"\n",
    "#     output = []\n",
    "\n",
    "#     iterations = 1000000\n",
    "#     min_len = 6\n",
    "#     nonce = i * iterations\n",
    "\n",
    "#     for k in range(1, iterations):\n",
    "#         hash = hashlib.sha256((plaintext+str(nonce)).encode('utf-8')).hexdigest()\n",
    "#         zeros = len(hash) - len(hash.lstrip('0'))\n",
    "#         if zeros > min_len:\n",
    "#             output.append('%16d %s\\n' % (nonce, hash))\n",
    "\n",
    "#         nonce += 1\n",
    "\n",
    "#     return output   \n",
    "\n",
    "# plaintext = 'this is a description of the latest block'\n",
    "# n_jobs=256\n",
    "# results = pqdm(range(n_jobs), function=find_zeros, n_jobs=n_jobs, argument_type='iterator')\n",
    "# for result in results:\n",
    "#     if len(result) > 0:\n",
    "#         print(result)\n"
   ]
  }
 ],
 "metadata": {
  "kernelspec": {
   "display_name": "Python 3.8.10 ('dsm070')",
   "language": "python",
   "name": "python3"
  },
  "language_info": {
   "codemirror_mode": {
    "name": "ipython",
    "version": 3
   },
   "file_extension": ".py",
   "mimetype": "text/x-python",
   "name": "python",
   "nbconvert_exporter": "python",
   "pygments_lexer": "ipython3",
   "version": "3.8.10"
  },
  "orig_nbformat": 4,
  "vscode": {
   "interpreter": {
    "hash": "e25eda4915c6c09f3ef64934ec380f7ec3b1f46c3bb61f6f1ca0b69bf49eada9"
   }
  }
 },
 "nbformat": 4,
 "nbformat_minor": 2
}
