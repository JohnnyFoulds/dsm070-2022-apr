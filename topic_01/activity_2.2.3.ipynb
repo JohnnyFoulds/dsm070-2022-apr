{
 "cells": [
  {
   "cell_type": "markdown",
   "metadata": {},
   "source": [
    "# 2.2.3 Activity: Hashing in Python"
   ]
  },
  {
   "cell_type": "markdown",
   "metadata": {},
   "source": [
    "## Import Libraries"
   ]
  },
  {
   "cell_type": "code",
   "execution_count": 4,
   "metadata": {},
   "outputs": [],
   "source": [
    "import hashlib"
   ]
  },
  {
   "cell_type": "markdown",
   "metadata": {},
   "source": [
    "## Hash Name"
   ]
  },
  {
   "cell_type": "code",
   "execution_count": 5,
   "metadata": {},
   "outputs": [],
   "source": [
    "# set the string to perform the hash on\n",
    "my_name = 'Johannes Foulds'"
   ]
  },
  {
   "cell_type": "code",
   "execution_count": 6,
   "metadata": {},
   "outputs": [
    {
     "ename": "TypeError",
     "evalue": "Strings must be encoded before hashing",
     "output_type": "error",
     "traceback": [
      "\u001b[0;31m---------------------------------------------------------------------------\u001b[0m",
      "\u001b[0;31mTypeError\u001b[0m                                 Traceback (most recent call last)",
      "\u001b[1;32m/workspaces/dsm070-2022-apr/topic_01/activity_2.2.3.ipynb Cell 6'\u001b[0m in \u001b[0;36m<cell line: 2>\u001b[0;34m()\u001b[0m\n\u001b[1;32m      <a href='vscode-notebook-cell://dev-container%2B2f55736572732f666f756c64732f636f64652f64736d3037302d323032322d617072/workspaces/dsm070-2022-apr/topic_01/activity_2.2.3.ipynb#ch0000006vscode-remote?line=0'>1</a>\u001b[0m \u001b[39m# try to hash the string without encoding it\u001b[39;00m\n\u001b[0;32m----> <a href='vscode-notebook-cell://dev-container%2B2f55736572732f666f756c64732f636f64652f64736d3037302d323032322d617072/workspaces/dsm070-2022-apr/topic_01/activity_2.2.3.ipynb#ch0000006vscode-remote?line=1'>2</a>\u001b[0m hashlib\u001b[39m.\u001b[39;49msha256(my_name)\n",
      "\u001b[0;31mTypeError\u001b[0m: Strings must be encoded before hashing"
     ]
    }
   ],
   "source": [
    "# try to hash the string without encoding it\n",
    "hashlib.sha256(my_name)"
   ]
  },
  {
   "cell_type": "code",
   "execution_count": 9,
   "metadata": {},
   "outputs": [
    {
     "name": "stdout",
     "output_type": "stream",
     "text": [
      "<class 'bytes'>\n",
      "b'Johannes Foulds'\n"
     ]
    }
   ],
   "source": [
    "# encode the name\n",
    "encoded_name = my_name.encode()\n",
    "\n",
    "# print the type and value\n",
    "print(type(encoded_name))\n",
    "print(encoded_name)"
   ]
  },
  {
   "cell_type": "code",
   "execution_count": 13,
   "metadata": {},
   "outputs": [
    {
     "name": "stdout",
     "output_type": "stream",
     "text": [
      "<class '_hashlib.HASH'>\n",
      "<sha256 _hashlib.HASH object @ 0x7f0e3f5ec950>\n"
     ]
    }
   ],
   "source": [
    "# hash the name\n",
    "hashed_name = hashlib.sha256(encoded_name)\n",
    "\n",
    "# print the type and value\n",
    "print(type(hashed_name))\n",
    "print(hashed_name)"
   ]
  },
  {
   "cell_type": "code",
   "execution_count": 18,
   "metadata": {},
   "outputs": [
    {
     "name": "stdout",
     "output_type": "stream",
     "text": [
      "<class 'str'>\n",
      "8cf96946ca5f6c59d9dbf9a9c41f8d4790521482bc2eb0600d33750f4fa04512\n"
     ]
    }
   ],
   "source": [
    "# get the digest has a hexadecimal string\n",
    "hex_digest = hashed_name.hexdigest()\n",
    "\n",
    "# print the type and value\n",
    "print(type(hex_digest))\n",
    "print(hex_digest)"
   ]
  },
  {
   "cell_type": "markdown",
   "metadata": {},
   "source": [
    "## Quiz"
   ]
  },
  {
   "cell_type": "code",
   "execution_count": 21,
   "metadata": {},
   "outputs": [
    {
     "data": {
      "text/plain": [
       "'c40b3894223bebdbb58540a0998ad5f7b2a2e7f7805ab71259c2cff510aadb39'"
      ]
     },
     "execution_count": 21,
     "metadata": {},
     "output_type": "execute_result"
    }
   ],
   "source": [
    "hashlib.sha256('this is for the quiz on lecture 2'.encode()).hexdigest()"
   ]
  }
 ],
 "metadata": {
  "interpreter": {
   "hash": "949777d72b0d2535278d3dc13498b2535136f6dfe0678499012e853ee9abcab1"
  },
  "kernelspec": {
   "display_name": "Python 3.9.12 64-bit",
   "language": "python",
   "name": "python3"
  },
  "language_info": {
   "codemirror_mode": {
    "name": "ipython",
    "version": 3
   },
   "file_extension": ".py",
   "mimetype": "text/x-python",
   "name": "python",
   "nbconvert_exporter": "python",
   "pygments_lexer": "ipython3",
   "version": "3.10.4"
  },
  "orig_nbformat": 4
 },
 "nbformat": 4,
 "nbformat_minor": 2
}
