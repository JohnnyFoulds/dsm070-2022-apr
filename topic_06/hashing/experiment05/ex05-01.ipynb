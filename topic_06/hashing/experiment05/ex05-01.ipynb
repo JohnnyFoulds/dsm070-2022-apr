{
 "cells": [
  {
   "cell_type": "markdown",
   "metadata": {},
   "source": [
    "# Experiment 05-01"
   ]
  },
  {
   "cell_type": "code",
   "execution_count": 170,
   "metadata": {},
   "outputs": [],
   "source": [
    "import numpy as np\n",
    "import hashlib\n",
    "from binascii import hexlify\n",
    "import pyopencl as cl\n",
    "from Library.opencl_information import opencl_information"
   ]
  },
  {
   "cell_type": "markdown",
   "metadata": {},
   "source": [
    "## Show the available Platforms"
   ]
  },
  {
   "cell_type": "code",
   "execution_count": 171,
   "metadata": {},
   "outputs": [
    {
     "name": "stdout",
     "output_type": "stream",
     "text": [
      "\n",
      "============================================================\n",
      "OpenCL Platforms and Devices\n",
      "============================================================\n",
      "Platform 0 - Name: Apple\n",
      "Platform 0 - Vendor: Apple\n",
      "Platform 0 - Version: OpenCL 1.2 (Apr 19 2022 18:44:44)\n",
      "Platform 0 - Profile: FULL_PROFILE\n",
      " --------------------------------------------------------\n",
      " Device - Name: Apple M1\n",
      " Device - Type: ALL | GPU\n",
      " Device - Max Clock Speed: 1000 Mhz\n",
      " Device - Compute Units: 8\n",
      " Device - Local Memory: 32 KB\n",
      " Device - Constant Memory: 1048576 KB\n",
      " Device - Global Memory: 5 GB\n",
      " Device - Max Buffer/Image Size: 1024 MB\n",
      " Device - Max Work Group Size: 256\n",
      "\n",
      "\n"
     ]
    }
   ],
   "source": [
    "info = opencl_information()\n",
    "info.print_full_info()"
   ]
  },
  {
   "cell_type": "markdown",
   "metadata": {},
   "source": [
    "## Configure the OpenCL Context"
   ]
  },
  {
   "cell_type": "code",
   "execution_count": 172,
   "metadata": {},
   "outputs": [],
   "source": [
    "platform_number = 0\n",
    "device_number = 0\n",
    "\n",
    "cl_devices = cl.get_platforms()[platform_number].get_devices()\n",
    "cl_ctx = cl.Context(cl_devices)\n",
    "cl_queue = cl.CommandQueue(cl_ctx, cl_devices[device_number])"
   ]
  },
  {
   "cell_type": "markdown",
   "metadata": {},
   "source": [
    "## Compile the Program"
   ]
  },
  {
   "cell_type": "code",
   "execution_count": 173,
   "metadata": {},
   "outputs": [],
   "source": [
    "def build_program(program_files : list, cl_ctx : cl.Context,\n",
    "        build_options=[]) -> cl.Program:\n",
    "    \"\"\"\n",
    "    Build a program from an OpenCL source file.\n",
    "\n",
    "    Parameters\n",
    "    ----------\n",
    "    program_files : list\n",
    "        The path to the OpenCL source files.\n",
    "    cl_ctx : pyopencl.Context\n",
    "        The context to build the program with.\n",
    "    build_options : list of str\n",
    "        The build options to use.\n",
    "\n",
    "    Returns\n",
    "    -------\n",
    "    pyopencl.Program\n",
    "    \"\"\"\n",
    "    program_source = ''\n",
    "\n",
    "    for cl_file in program_files:\n",
    "        with open(cl_file, 'r') as cl_file:\n",
    "            file_source = cl_file.read()\n",
    "            program_source += '\\n' + file_source\n",
    "\n",
    "    program_source = cl.Program(cl_ctx, program_source)\n",
    "    program = program_source.build(options=build_options)\n",
    "            \n",
    "    return program"
   ]
  },
  {
   "cell_type": "code",
   "execution_count": 174,
   "metadata": {},
   "outputs": [
    {
     "name": "stdout",
     "output_type": "stream",
     "text": [
      "Kernel Names: hash_main;get_single_hash;get_random_numbers;get_random_string;get_single_hash_nonce\n"
     ]
    }
   ],
   "source": [
    "cl_program_files = [\n",
    "    'Library/worker/sha256.cl',\n",
    "    'Library/worker/zimcoin.cl',\n",
    "]\n",
    "\n",
    "cl_program = build_program(cl_program_files, cl_ctx)\n",
    "\n",
    "# show the kernel names\n",
    "program_kernel_names = cl_program.get_info(cl.program_info.KERNEL_NAMES)\n",
    "print(f\"Kernel Names: {program_kernel_names}\")"
   ]
  },
  {
   "cell_type": "markdown",
   "metadata": {},
   "source": [
    "## Initial Tests"
   ]
  },
  {
   "cell_type": "markdown",
   "metadata": {},
   "source": [
    "### Single Hash"
   ]
  },
  {
   "cell_type": "code",
   "execution_count": 175,
   "metadata": {},
   "outputs": [
    {
     "name": "stdout",
     "output_type": "stream",
     "text": [
      "Plaintext: this is a description of the latest block395707976\n",
      "CL result      : b'0000000053d18bbf3e8293e6a3bacda6e35ee7715e6353bf55a86cb9c3b4167b'\n",
      "Correct result : b'0000000053d18bbf3e8293e6a3bacda6e35ee7715e6353bf55a86cb9c3b4167b'\n",
      "CL output      : [         0 3213611347 3868426814 2798500515 1910988515 3209913182\n",
      " 3110905941 2065085635]\n"
     ]
    }
   ],
   "source": [
    "# the plaintext to hash\n",
    "#plaintext = 'bells hel the quick brown fox jumps over the lazy dog 12356'\n",
    "plaintext = 'this is a description of the latest block' + '395707976'\n",
    "plaintext_bytes = np.frombuffer(plaintext.encode('utf-8'), dtype=np.uint8)\n",
    "plaintext_length = np.int32(len(plaintext_bytes))\n",
    "\n",
    "# the hash output\n",
    "hash_output = np.zeros(8, dtype=np.uint32)\n",
    "\n",
    "# allocate the memory for the variables on the device\n",
    "cl_plaintext_bytes = cl.Buffer(\n",
    "    cl_ctx,\n",
    "    cl.mem_flags.READ_ONLY | cl.mem_flags.COPY_HOST_PTR,\n",
    "    hostbuf=plaintext_bytes)\n",
    "\n",
    "cl_plaintext_length = cl.Buffer(\n",
    "    cl_ctx,\n",
    "    cl.mem_flags.READ_ONLY | cl.mem_flags.COPY_HOST_PTR,\n",
    "    hostbuf=plaintext_length)\n",
    "\n",
    "cl_hash_output = cl.Buffer(\n",
    "    cl_ctx,\n",
    "    cl.mem_flags.WRITE_ONLY,\n",
    "    hash_output.nbytes)\n",
    "\n",
    "# execute the program\n",
    "cl_program.get_single_hash(\n",
    "    cl_queue, (1,), None,\n",
    "    cl_plaintext_bytes,\n",
    "    cl_plaintext_length,\n",
    "    cl_hash_output)\n",
    "\n",
    "# get the results\n",
    "cl.enqueue_copy(cl_queue, hash_output, cl_hash_output)\n",
    "\n",
    "# print the results\n",
    "print(\"Plaintext: %s\" % plaintext)\n",
    "print(\"CL result      : %s\" % hexlify(hash_output))\n",
    "print(\"Correct result : %s\" % hexlify(hashlib.sha256(plaintext.encode('utf-8')).digest()))\n",
    "print(\"CL output      : %s\" % hash_output)\n",
    "\n",
    "assert hexlify(hash_output) == hexlify(hashlib.sha256(plaintext.encode('utf-8')).digest())\n"
   ]
  },
  {
   "cell_type": "markdown",
   "metadata": {},
   "source": [
    "### Random String Generation"
   ]
  },
  {
   "cell_type": "code",
   "execution_count": 176,
   "metadata": {},
   "outputs": [
    {
     "name": "stdout",
     "output_type": "stream",
     "text": [
      "Seed: 1277229578\n",
      "Result: [ 71  44  47 125]\n",
      "Result String: b'G,/}'\n"
     ]
    }
   ],
   "source": [
    "# set up the variables to generate the random numbers\n",
    "seed = np.random.randint(0, np.iinfo(np.uint32).max, dtype=np.uint32)\n",
    "start = np.uint8(32)\n",
    "end = np.uint8(126)\n",
    "length = np.uint32(4)\n",
    "result = np.zeros(length, dtype=np.uint8)\n",
    "\n",
    "# allocate the memory for the variables on the device\n",
    "cl_seed = cl.Buffer(cl_ctx, cl.mem_flags.READ_ONLY | cl.mem_flags.COPY_HOST_PTR, hostbuf=seed)\n",
    "cl_start = cl.Buffer(cl_ctx, cl.mem_flags.READ_ONLY | cl.mem_flags.COPY_HOST_PTR, hostbuf=start)\n",
    "cl_end = cl.Buffer(cl_ctx, cl.mem_flags.READ_ONLY | cl.mem_flags.COPY_HOST_PTR, hostbuf=end)\n",
    "cl_len = cl.Buffer(cl_ctx, cl.mem_flags.READ_ONLY | cl.mem_flags.COPY_HOST_PTR, hostbuf=length)\n",
    "cl_result = cl.Buffer(cl_ctx, cl.mem_flags.WRITE_ONLY, result.nbytes)\n",
    "\n",
    "# execute the program\n",
    "cl_program.get_random_numbers(\n",
    "    cl_queue, (1,), None,\n",
    "    cl_seed,\n",
    "    cl_start,\n",
    "    cl_end,\n",
    "    cl_len,\n",
    "    cl_result)\n",
    "\n",
    "# get the results\n",
    "cl.enqueue_copy(cl_queue, result, cl_result)\n",
    "\n",
    "# print the results\n",
    "print(f\"Seed: {seed}\")\n",
    "print(f\"Result: {result}\")\n",
    "print(f\"Result String: {result.tobytes()}\")"
   ]
  },
  {
   "cell_type": "code",
   "execution_count": 177,
   "metadata": {},
   "outputs": [
    {
     "name": "stdout",
     "output_type": "stream",
     "text": [
      "Length: [12]\n",
      "Result: [ 32  33 104  84  64  53 103 107  79  92  62  84   0   0   0   0]\n",
      "Result String: b' !hT@5gkO\\\\>T\\x00\\x00\\x00\\x00'\n"
     ]
    }
   ],
   "source": [
    "# set up the variables to generate the random numbers\n",
    "seed = np.random.randint(0, np.iinfo(np.uint32).max, dtype=np.uint32)\n",
    "result = np.zeros(shape=16, dtype=np.uint8)\n",
    "length = np.zeros(shape=(1,), dtype=np.uint8)\n",
    "\n",
    "# allocate the memory for the variables on the device\n",
    "cl_seed = cl.Buffer(cl_ctx, cl.mem_flags.READ_ONLY | cl.mem_flags.COPY_HOST_PTR, hostbuf=seed)\n",
    "cl_result = cl.Buffer(cl_ctx, cl.mem_flags.WRITE_ONLY, result.nbytes)\n",
    "cl_len = cl.Buffer(cl_ctx, cl.mem_flags.WRITE_ONLY, length.nbytes)\n",
    "\n",
    "# execute the program\n",
    "cl_program.get_random_string(\n",
    "    cl_queue, (1,), None,\n",
    "    cl_seed,\n",
    "    cl_result,\n",
    "    cl_len)\n",
    "\n",
    "# get the results\n",
    "cl.enqueue_copy(cl_queue, length, cl_len)\n",
    "cl.enqueue_copy(cl_queue, result, cl_result)\n",
    "\n",
    "# print the results\n",
    "print(f\"Length: {length}\")\n",
    "print(f\"Result: {result}\")\n",
    "print(f\"Result String: {result.tobytes()}\")"
   ]
  },
  {
   "cell_type": "markdown",
   "metadata": {},
   "source": [
    "## Test get_single_hash_nonce"
   ]
  },
  {
   "cell_type": "code",
   "execution_count": 178,
   "metadata": {},
   "outputs": [
    {
     "name": "stdout",
     "output_type": "stream",
     "text": [
      "Seed: 1484029365\n",
      "Plaintext: this is a description of the latest block\n",
      "Nonce: [38 69  0  0  0  0  0  0  0  0  0  0  0  0  0  0]\n",
      "Nonce Length: 2\n",
      "Nonce String: &E\n",
      "Hash Output: [2290695762  422520507 3408130140 1217032290 3932659453 1858261943\n",
      " 3702261654  358009833]\n",
      "Hash Output string: b'523e8988bb262f195cf023cb62708a48fd9e67eab7d3c26e9607acdce9cb5615'\n",
      "Correct result    : b'523e8988bb262f195cf023cb62708a48fd9e67eab7d3c26e9607acdce9cb5615'\n"
     ]
    }
   ],
   "source": [
    "# set up the variables to generate the random numbers\n",
    "plaintext = 'this is a description of the latest block'\n",
    "plaintext_bytes = np.frombuffer(plaintext.encode('utf-8'), dtype=np.uint8)\n",
    "plaintext_length = np.int32(len(plaintext_bytes))\n",
    "\n",
    "seed = np.random.randint(0, np.iinfo(np.uint32).max, dtype=np.uint32)\n",
    "nonce = np.zeros(shape=16, dtype=np.uint8)\n",
    "nonce_len = np.zeros(shape=1, dtype=np.uint8)\n",
    "hash = np.zeros(8, dtype=np.uint32)\n",
    "\n",
    "# allocate the memory for the variables on the device\n",
    "cl_seed = cl.Buffer(cl_ctx, cl.mem_flags.READ_ONLY | cl.mem_flags.COPY_HOST_PTR, hostbuf=seed)\n",
    "cl_plaintext_bytes = cl.Buffer(cl_ctx, cl.mem_flags.READ_ONLY | cl.mem_flags.COPY_HOST_PTR, hostbuf=plaintext_bytes)\n",
    "cl_plaintext_length = cl.Buffer(cl_ctx, cl.mem_flags.READ_ONLY | cl.mem_flags.COPY_HOST_PTR, hostbuf=plaintext_length)\n",
    "cl_nonce = cl.Buffer(cl_ctx, cl.mem_flags.WRITE_ONLY, nonce.nbytes)\n",
    "cl_nonce_len = cl.Buffer(cl_ctx, cl.mem_flags.WRITE_ONLY, nonce_len.nbytes)\n",
    "cl_hash_output = cl.Buffer(cl_ctx, cl.mem_flags.WRITE_ONLY, hash_output.nbytes)\n",
    "\n",
    "# execute the program\n",
    "cl_program.get_single_hash_nonce(\n",
    "    cl_queue, (1,), None,\n",
    "    cl_seed,\n",
    "    cl_plaintext_bytes,\n",
    "    cl_plaintext_length,\n",
    "    cl_nonce,\n",
    "    cl_nonce_len,\n",
    "    cl_hash_output)\n",
    "\n",
    "# get the results\n",
    "cl.enqueue_copy(cl_queue, nonce, cl_nonce)\n",
    "cl.enqueue_copy(cl_queue, nonce_len, cl_nonce_len)\n",
    "cl.enqueue_copy(cl_queue, hash_output, cl_hash_output)\n",
    "\n",
    "nonce_str = nonce[:nonce_len[0]].tobytes().decode('UTF-8')\n",
    "\n",
    "# print the results\n",
    "print(\"Seed: %s\" % seed)\n",
    "print(\"Plaintext: %s\" % plaintext)\n",
    "print(\"Nonce: %s\" % nonce)\n",
    "print(\"Nonce Length: %s\" % nonce_len[0])\n",
    "print(\"Nonce String: %s\" % nonce_str)\n",
    "print(\"Hash Output: %s\" % hash_output)\n",
    "print(\"Hash Output string: %s\" % hexlify(hash_output))\n",
    "#print(\"No Nonce          : %s\" % hexlify(hashlib.sha256((plaintext).encode('utf-8')).digest()))\n",
    "print(\"Correct result    : %s\" % hexlify(hashlib.sha256((plaintext+nonce_str).encode('utf-8')).digest()))\n",
    "\n",
    "assert hexlify(hash_output) == hexlify(hashlib.sha256((plaintext+nonce_str).encode('utf-8')).digest())\n"
   ]
  }
 ],
 "metadata": {
  "kernelspec": {
   "display_name": "Python 3.8.9 ('topic_06': venv)",
   "language": "python",
   "name": "python3"
  },
  "language_info": {
   "codemirror_mode": {
    "name": "ipython",
    "version": 3
   },
   "file_extension": ".py",
   "mimetype": "text/x-python",
   "name": "python",
   "nbconvert_exporter": "python",
   "pygments_lexer": "ipython3",
   "version": "3.8.9"
  },
  "orig_nbformat": 4,
  "vscode": {
   "interpreter": {
    "hash": "d6e7d1cfb9682a6b3f36fcffd3bf2a22732d0bef5e29adf39b0e08d4365f17de"
   }
  }
 },
 "nbformat": 4,
 "nbformat_minor": 2
}
