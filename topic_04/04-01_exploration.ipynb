{
 "cells": [
  {
   "cell_type": "markdown",
   "metadata": {},
   "source": [
    "# Initial Experimentation\n",
    "\n",
    "## Web References\n",
    "\n",
    "### Bitcoin Address\n",
    "\n",
    "- [Bitcoin Address](https://learnmeabitcoin.com/technical/address)\n",
    "- [Bitcoin Checksum](https://learnmeabitcoin.com/technical/checksum)\n",
    "- [How do I check the checksum of a Bitcoin address?](https://bitcoin.stackexchange.com/questions/32353/how-do-i-check-the-checksum-of-a-bitcoin-address)\n",
    "- [Base58Check encoding](https://en.bitcoin.it/wiki/Base58Check_encoding#Creating_a_Base58Check_string)"
   ]
  },
  {
   "cell_type": "code",
   "execution_count": 144,
   "metadata": {},
   "outputs": [],
   "source": [
    "import unittest\n",
    "from cryptography.hazmat.primitives import hashes"
   ]
  },
  {
   "cell_type": "markdown",
   "metadata": {},
   "source": [
    "## Transaction Class"
   ]
  },
  {
   "cell_type": "code",
   "execution_count": 145,
   "metadata": {},
   "outputs": [],
   "source": [
    "class TestTransaction(unittest.TestCase):\n",
    "    def setUp(self):\n",
    "        self.tx = Transaction(\n",
    "            sender_hash=bytearray(20),\n",
    "            recipient_hash=bytearray(20),\n",
    "            sender_public_key=hashes.Hash(hashes.SHA256()),\n",
    "            amount=1,\n",
    "            fee=1,\n",
    "            nonce=1,\n",
    "            signature=None,\n",
    "            txid=None)\n",
    "\n",
    "    def test_verify_sender_hash(self):\n",
    "        \"\"\"\n",
    "        Test that the sender_hash is verified correctly.\n",
    "        \"\"\"\n",
    "        # test a valid hash\n",
    "        self.tx.sender_hash = bytearray(20)\n",
    "        self.tx.verify(\n",
    "            sender_balance=1,\n",
    "            sender_previous_nonce=1)            \n",
    "\n",
    "        # test an invalid hash\n",
    "        self.tx.sender_hash = bytearray(b'thequickbrownfox')\n",
    "        with self.assertRaises(ValueError):\n",
    "            self.tx.verify(\n",
    "                sender_balance=1,\n",
    "                sender_previous_nonce=1)\n",
    "\n",
    "    def test_verify_recipient_hash(self):\n",
    "        \"\"\"\n",
    "        Test that the recipient_hash is verified correctly.\n",
    "        \"\"\"\n",
    "        # test a valid hash\n",
    "        self.tx.recipient_hash = bytearray(20)\n",
    "        self.tx.verify(\n",
    "            sender_balance=1,\n",
    "            sender_previous_nonce=1)            \n",
    "\n",
    "        # test an invalid hash\n",
    "        self.tx.recipient_hash = bytearray(b'thequickbrownfox')\n",
    "        with self.assertRaises(ValueError):\n",
    "            self.tx.verify(\n",
    "                sender_balance=1,\n",
    "                sender_previous_nonce=1)\n",
    "\n",
    "    def test_verify_amount(self):\n",
    "        \"\"\"\n",
    "        Test that the amount is verified correctly.\n",
    "        \"\"\"\n",
    "        # test a valid hash\n",
    "        self.tx.amount = 50\n",
    "        self.tx.verify(\n",
    "            sender_balance=100,\n",
    "            sender_previous_nonce=1)     \n",
    "\n",
    "        # the amount should be a whole number\n",
    "        self.tx.amount = 50.1\n",
    "        with self.assertRaises(ValueError):\n",
    "            self.tx.verify(\n",
    "                sender_balance=100,\n",
    "                sender_previous_nonce=1)\n",
    "\n",
    "        # the amount should be between 1 and sender_balance\n",
    "        self.tx.amount = 0\n",
    "        with self.assertRaises(ValueError):\n",
    "            self.tx.verify(\n",
    "                sender_balance=100,\n",
    "                sender_previous_nonce=1)\n",
    "\n",
    "        self.tx.amount = -10\n",
    "        with self.assertRaises(ValueError):\n",
    "            self.tx.verify(\n",
    "                sender_balance=100,\n",
    "                sender_previous_nonce=1)   \n",
    "\n",
    "        self.tx.amount = 101\n",
    "        with self.assertRaises(ValueError):\n",
    "            self.tx.verify(\n",
    "                sender_balance=100,\n",
    "                sender_previous_nonce=1)                               "
   ]
  },
  {
   "cell_type": "code",
   "execution_count": 146,
   "metadata": {},
   "outputs": [
    {
     "name": "stderr",
     "output_type": "stream",
     "text": [
      "test_verify_amount (__main__.TestTransaction)\n",
      "Test that the amount is verified correctly. ... ERROR\n",
      "test_verify_recipient_hash (__main__.TestTransaction)\n",
      "Test that the recipient_hash is verified correctly. ... ERROR\n",
      "test_verify_sender_hash (__main__.TestTransaction)\n",
      "Test that the sender_hash is verified correctly. ... ERROR\n",
      "\n",
      "======================================================================\n",
      "ERROR: test_verify_amount (__main__.TestTransaction)\n",
      "Test that the amount is verified correctly.\n",
      "----------------------------------------------------------------------\n",
      "Traceback (most recent call last):\n",
      "  File \"/tmp/ipykernel_19813/804464372.py\", line 53, in test_verify_amount\n",
      "    self.tx.verify(\n",
      "  File \"/tmp/ipykernel_19813/1072120782.py\", line 22, in verify\n",
      "    if self.amount.is_integer() == False:\n",
      "AttributeError: 'int' object has no attribute 'is_integer'\n",
      "\n",
      "======================================================================\n",
      "ERROR: test_verify_recipient_hash (__main__.TestTransaction)\n",
      "Test that the recipient_hash is verified correctly.\n",
      "----------------------------------------------------------------------\n",
      "Traceback (most recent call last):\n",
      "  File \"/tmp/ipykernel_19813/804464372.py\", line 36, in test_verify_recipient_hash\n",
      "    self.tx.verify(\n",
      "  File \"/tmp/ipykernel_19813/1072120782.py\", line 22, in verify\n",
      "    if self.amount.is_integer() == False:\n",
      "AttributeError: 'int' object has no attribute 'is_integer'\n",
      "\n",
      "======================================================================\n",
      "ERROR: test_verify_sender_hash (__main__.TestTransaction)\n",
      "Test that the sender_hash is verified correctly.\n",
      "----------------------------------------------------------------------\n",
      "Traceback (most recent call last):\n",
      "  File \"/tmp/ipykernel_19813/804464372.py\", line 19, in test_verify_sender_hash\n",
      "    self.tx.verify(\n",
      "  File \"/tmp/ipykernel_19813/1072120782.py\", line 22, in verify\n",
      "    if self.amount.is_integer() == False:\n",
      "AttributeError: 'int' object has no attribute 'is_integer'\n",
      "\n",
      "----------------------------------------------------------------------\n",
      "Ran 3 tests in 0.005s\n",
      "\n",
      "FAILED (errors=3)\n"
     ]
    },
    {
     "data": {
      "text/plain": [
       "<unittest.main.TestProgram at 0xffff879e07f0>"
      ]
     },
     "execution_count": 146,
     "metadata": {},
     "output_type": "execute_result"
    }
   ],
   "source": [
    "class Transaction:\n",
    "    def __init__(self, sender_hash:bytes, recipient_hash:bytes, sender_public_key:bytes, amount:int, fee:int, nonce:int, signature, txid):\n",
    "        self.sender_hash = sender_hash\n",
    "        self.recipient_hash = recipient_hash\n",
    "        self.sender_public_key = sender_public_key\n",
    "        self.amount = amount\n",
    "        self.fee = fee\n",
    "        self.nonce = nonce\n",
    "        self.signature = signature\n",
    "        self.txid = txid\n",
    "        #self.hash = self.calculate_hash()\n",
    "\n",
    "    def verify(self, sender_balance:int, sender_previous_nonce:int):\n",
    "        if len(self.sender_hash) != 20:\n",
    "            raise ValueError('Invalid sender hash')\n",
    "        if len(self.recipient_hash) != 20:\n",
    "            raise ValueError('Invalid recipient hash')\n",
    "        if self.amount < 1:\n",
    "            raise ValueError('Invalid amount')\n",
    "        if self.amount > sender_balance:\n",
    "            raise ValueError('Insufficient funds')\n",
    "        if float(self.amount).is_integer() == False:\n",
    "            raise ValueError('The amount should be a whole number')\n",
    "\n",
    "unittest.main(argv=['ignored', '-v'], exit=False)"
   ]
  },
  {
   "cell_type": "code",
   "execution_count": 147,
   "metadata": {},
   "outputs": [
    {
     "data": {
      "text/plain": [
       "bytes"
      ]
     },
     "execution_count": 147,
     "metadata": {},
     "output_type": "execute_result"
    }
   ],
   "source": [
    "a_bytes = bytes('a', 'utf-8')\n",
    "type(a_bytes)"
   ]
  }
 ],
 "metadata": {
  "kernelspec": {
   "display_name": "Python 3.10.4 64-bit",
   "language": "python",
   "name": "python3"
  },
  "language_info": {
   "codemirror_mode": {
    "name": "ipython",
    "version": 3
   },
   "file_extension": ".py",
   "mimetype": "text/x-python",
   "name": "python",
   "nbconvert_exporter": "python",
   "pygments_lexer": "ipython3",
   "version": "3.10.4"
  },
  "orig_nbformat": 4,
  "vscode": {
   "interpreter": {
    "hash": "949777d72b0d2535278d3dc13498b2535136f6dfe0678499012e853ee9abcab1"
   }
  }
 },
 "nbformat": 4,
 "nbformat_minor": 2
}
